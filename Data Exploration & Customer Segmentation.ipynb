{
 "cells": [
  {
   "cell_type": "markdown",
   "metadata": {
    "toc": true
   },
   "source": [
    "<h1>Table of Contents<span class=\"tocSkip\"></span></h1>\n",
    "<div class=\"toc\"><ul class=\"toc-item\"><li><span><a href=\"#Basic-Data-Exploration\" data-toc-modified-id=\"Basic-Data-Exploration-1\"><span class=\"toc-item-num\">1&nbsp;&nbsp;</span>Basic Data Exploration</a></span><ul class=\"toc-item\"><li><ul class=\"toc-item\"><li><ul class=\"toc-item\"><li><span><a href=\"#ONLINE-Dataset\" data-toc-modified-id=\"ONLINE-Dataset-1.0.0.1\"><span class=\"toc-item-num\">1.0.0.1&nbsp;&nbsp;</span>ONLINE Dataset</a></span></li><li><span><a href=\"#ORDER-Dataset\" data-toc-modified-id=\"ORDER-Dataset-1.0.0.2\"><span class=\"toc-item-num\">1.0.0.2&nbsp;&nbsp;</span>ORDER Dataset</a></span></li></ul></li></ul></li></ul></li><li><span><a href=\"#Data-Preparation-&amp;-Feature-Engineering\" data-toc-modified-id=\"Data-Preparation-&amp;-Feature-Engineering-2\"><span class=\"toc-item-num\">2&nbsp;&nbsp;</span>Data Preparation &amp; Feature Engineering</a></span><ul class=\"toc-item\"><li><span><a href=\"#Log-Transformation-of-skewed-features\" data-toc-modified-id=\"Log-Transformation-of-skewed-features-2.1\"><span class=\"toc-item-num\">2.1&nbsp;&nbsp;</span>Log Transformation of skewed features</a></span></li><li><span><a href=\"#Scaling-the-data\" data-toc-modified-id=\"Scaling-the-data-2.2\"><span class=\"toc-item-num\">2.2&nbsp;&nbsp;</span>Scaling the data</a></span></li></ul></li><li><span><a href=\"#Modeling--K-means\" data-toc-modified-id=\"Modeling--K-means-3\"><span class=\"toc-item-num\">3&nbsp;&nbsp;</span>Modeling- K means</a></span><ul class=\"toc-item\"><li><span><a href=\"#Defining-Model\" data-toc-modified-id=\"Defining-Model-3.1\"><span class=\"toc-item-num\">3.1&nbsp;&nbsp;</span>Defining Model</a></span></li><li><span><a href=\"#Elbow-graph-to-choose-number-of-clusters\" data-toc-modified-id=\"Elbow-graph-to-choose-number-of-clusters-3.2\"><span class=\"toc-item-num\">3.2&nbsp;&nbsp;</span>Elbow graph to choose number of clusters</a></span></li><li><span><a href=\"#Cluster-Scores\" data-toc-modified-id=\"Cluster-Scores-3.3\"><span class=\"toc-item-num\">3.3&nbsp;&nbsp;</span>Cluster Scores</a></span></li></ul></li></ul></div>"
   ]
  },
  {
   "cell_type": "code",
   "execution_count": 5,
   "metadata": {
    "ExecuteTime": {
     "end_time": "2019-07-28T17:45:54.777631Z",
     "start_time": "2019-07-28T17:45:54.767713Z"
    }
   },
   "outputs": [],
   "source": [
    "import pandas as pd\n",
    "from pandas import DataFrame, Series\n",
    "import matplotlib.pyplot as plt\n",
    "import numpy as np\n",
    "import seaborn as sns; sns.set()\n",
    "%matplotlib inline\n",
    "from sklearn import metrics\n",
    "from datetime import datetime\n",
    "from sklearn import preprocessing\n",
    "from sklearn.preprocessing import StandardScaler\n",
    "from sklearn.metrics import silhouette_score\n",
    "from sklearn.cluster import KMeans\n",
    "import datetime as dt\n",
    "from sklearn.manifold import TSNE"
   ]
  },
  {
   "cell_type": "code",
   "execution_count": 6,
   "metadata": {
    "ExecuteTime": {
     "end_time": "2019-07-28T17:45:57.612149Z",
     "start_time": "2019-07-28T17:45:55.187433Z"
    }
   },
   "outputs": [],
   "source": [
    "online = pd.read_csv('online.csv', dtype={'session':'int64', 'visitor':'int64' }, parse_dates=['dt'])\n",
    "order = pd.read_csv('order.csv',parse_dates=['orderdate'])\n",
    "\n",
    "online.sort_values(by = ['dt'], inplace =True)\n",
    "order.sort_values(by = ['orderdate'], inplace =True)"
   ]
  },
  {
   "cell_type": "code",
   "execution_count": 7,
   "metadata": {
    "ExecuteTime": {
     "end_time": "2019-07-28T17:46:23.603791Z",
     "start_time": "2019-07-28T17:46:23.589995Z"
    }
   },
   "outputs": [
    {
     "data": {
      "text/html": [
       "<div>\n",
       "<style scoped>\n",
       "    .dataframe tbody tr th:only-of-type {\n",
       "        vertical-align: middle;\n",
       "    }\n",
       "\n",
       "    .dataframe tbody tr th {\n",
       "        vertical-align: top;\n",
       "    }\n",
       "\n",
       "    .dataframe thead th {\n",
       "        text-align: right;\n",
       "    }\n",
       "</style>\n",
       "<table border=\"1\" class=\"dataframe\">\n",
       "  <thead>\n",
       "    <tr style=\"text-align: right;\">\n",
       "      <th></th>\n",
       "      <th>custno</th>\n",
       "      <th>ordno</th>\n",
       "      <th>orderdate</th>\n",
       "      <th>prodcat2</th>\n",
       "      <th>prodcat1</th>\n",
       "      <th>revenue</th>\n",
       "    </tr>\n",
       "  </thead>\n",
       "  <tbody>\n",
       "    <tr>\n",
       "      <th>172053</th>\n",
       "      <td>67913</td>\n",
       "      <td>143380</td>\n",
       "      <td>2016-01-01 05:05:14</td>\n",
       "      <td>38.0</td>\n",
       "      <td>5</td>\n",
       "      <td>139.77</td>\n",
       "    </tr>\n",
       "    <tr>\n",
       "      <th>55927</th>\n",
       "      <td>10880</td>\n",
       "      <td>15272</td>\n",
       "      <td>2016-01-01 06:34:56</td>\n",
       "      <td>4.0</td>\n",
       "      <td>2</td>\n",
       "      <td>147.51</td>\n",
       "    </tr>\n",
       "  </tbody>\n",
       "</table>\n",
       "</div>"
      ],
      "text/plain": [
       "        custno   ordno           orderdate  prodcat2  prodcat1  revenue\n",
       "172053   67913  143380 2016-01-01 05:05:14      38.0         5   139.77\n",
       "55927    10880   15272 2016-01-01 06:34:56       4.0         2   147.51"
      ]
     },
     "execution_count": 7,
     "metadata": {},
     "output_type": "execute_result"
    }
   ],
   "source": [
    "order.head(2)"
   ]
  },
  {
   "cell_type": "code",
   "execution_count": 8,
   "metadata": {
    "ExecuteTime": {
     "end_time": "2019-07-28T17:47:50.473944Z",
     "start_time": "2019-07-28T17:47:50.463497Z"
    }
   },
   "outputs": [
    {
     "data": {
      "text/html": [
       "<div>\n",
       "<style scoped>\n",
       "    .dataframe tbody tr th:only-of-type {\n",
       "        vertical-align: middle;\n",
       "    }\n",
       "\n",
       "    .dataframe tbody tr th {\n",
       "        vertical-align: top;\n",
       "    }\n",
       "\n",
       "    .dataframe thead th {\n",
       "        text-align: right;\n",
       "    }\n",
       "</style>\n",
       "<table border=\"1\" class=\"dataframe\">\n",
       "  <thead>\n",
       "    <tr style=\"text-align: right;\">\n",
       "      <th></th>\n",
       "      <th>session</th>\n",
       "      <th>visitor</th>\n",
       "      <th>dt</th>\n",
       "      <th>custno</th>\n",
       "      <th>category</th>\n",
       "      <th>event1</th>\n",
       "      <th>event2</th>\n",
       "    </tr>\n",
       "  </thead>\n",
       "  <tbody>\n",
       "    <tr>\n",
       "      <th>461633</th>\n",
       "      <td>1599047</td>\n",
       "      <td>258187</td>\n",
       "      <td>2016-01-01 00:00:08</td>\n",
       "      <td>36112</td>\n",
       "      <td>3</td>\n",
       "      <td>NaN</td>\n",
       "      <td>7</td>\n",
       "    </tr>\n",
       "    <tr>\n",
       "      <th>26704</th>\n",
       "      <td>284812</td>\n",
       "      <td>419022</td>\n",
       "      <td>2016-01-01 00:01:47</td>\n",
       "      <td>68246</td>\n",
       "      <td>1</td>\n",
       "      <td>NaN</td>\n",
       "      <td>7</td>\n",
       "    </tr>\n",
       "  </tbody>\n",
       "</table>\n",
       "</div>"
      ],
      "text/plain": [
       "        session  visitor                  dt  custno  category  event1  event2\n",
       "461633  1599047   258187 2016-01-01 00:00:08   36112         3     NaN       7\n",
       "26704    284812   419022 2016-01-01 00:01:47   68246         1     NaN       7"
      ]
     },
     "execution_count": 8,
     "metadata": {},
     "output_type": "execute_result"
    }
   ],
   "source": [
    "online.head(2)"
   ]
  },
  {
   "cell_type": "markdown",
   "metadata": {},
   "source": [
    "# Basic Data Exploration"
   ]
  },
  {
   "cell_type": "markdown",
   "metadata": {},
   "source": [
    "#### ONLINE Dataset\n",
    "- Data ranges from 2016-01-01 to 2017-12-31\n",
    "- event1 has 10 unique values\n",
    "- event2 has 10 unique values\n",
    "- 3 category : 3,2,1\n",
    "- Dataset has 954774 values\n",
    "- has 57584 unique custno\n",
    "- has 259950 unique visitor\n",
    "- has 850235 unique session"
   ]
  },
  {
   "cell_type": "markdown",
   "metadata": {
    "ExecuteTime": {
     "end_time": "2019-07-29T01:36:47.233511Z",
     "start_time": "2019-07-29T01:36:24.616Z"
    }
   },
   "source": [
    "#### ORDER Dataset\n",
    "- Data ranges from 2016-01-01 to 2019-01-02\n",
    "- 6 prodcat1: 1,2,3,4,5,7\n",
    "- has 252 prodcat2\n",
    "- revenue ranges from 0 to 150, mean~75, std dev~43\n",
    "- Dataset has 263278 values\n",
    "- has 70264 unique custno\n",
    "- has 149717 unique ordno"
   ]
  },
  {
   "cell_type": "code",
   "execution_count": 176,
   "metadata": {
    "ExecuteTime": {
     "end_time": "2019-07-29T02:38:14.819832Z",
     "start_time": "2019-07-29T02:38:14.490402Z"
    }
   },
   "outputs": [
    {
     "data": {
      "text/plain": [
       "<matplotlib.axes._subplots.AxesSubplot at 0x1a2d108f28>"
      ]
     },
     "execution_count": 176,
     "metadata": {},
     "output_type": "execute_result"
    },
    {
     "data": {
      "image/png": "[encoded data removed]",
      "text/plain": [
       "<Figure size 432x288 with 1 Axes>"
      ]
     },
     "metadata": {
      "needs_background": "light"
     },
     "output_type": "display_data"
    }
   ],
   "source": [
    "sns.countplot(online['event1'])"
   ]
  },
  {
   "cell_type": "code",
   "execution_count": 177,
   "metadata": {
    "ExecuteTime": {
     "end_time": "2019-07-29T02:38:15.653223Z",
     "start_time": "2019-07-29T02:38:15.359703Z"
    }
   },
   "outputs": [
    {
     "data": {
      "text/plain": [
       "<matplotlib.axes._subplots.AxesSubplot at 0x1a2b28bf98>"
      ]
     },
     "execution_count": 177,
     "metadata": {},
     "output_type": "execute_result"
    },
    {
     "data": {
      "image/png": "[encoded data removed]",
      "text/plain": [
       "<Figure size 432x288 with 1 Axes>"
      ]
     },
     "metadata": {
      "needs_background": "light"
     },
     "output_type": "display_data"
    }
   ],
   "source": [
    "sns.countplot(online['event2'])"
   ]
  },
  {
   "cell_type": "code",
   "execution_count": 178,
   "metadata": {
    "ExecuteTime": {
     "end_time": "2019-07-29T02:38:16.601037Z",
     "start_time": "2019-07-29T02:38:16.376387Z"
    }
   },
   "outputs": [
    {
     "data": {
      "text/plain": [
       "Text(0.5, 1.0, 'revenue per prodcat1')"
      ]
     },
     "execution_count": 178,
     "metadata": {},
     "output_type": "execute_result"
    },
    {
     "data": {
      "image/png": "[encoded data removed]",
      "text/plain": [
       "<Figure size 432x288 with 1 Axes>"
      ]
     },
     "metadata": {
      "needs_background": "light"
     },
     "output_type": "display_data"
    }
   ],
   "source": [
    "ax = sns.barplot(x=order.groupby(['prodcat1']).revenue.sum().keys(), y=order.groupby(['prodcat1']).revenue.sum().values)\n",
    "plt.title(\"revenue per prodcat1\")\n"
   ]
  },
  {
   "cell_type": "code",
   "execution_count": 179,
   "metadata": {
    "ExecuteTime": {
     "end_time": "2019-07-29T02:38:18.701537Z",
     "start_time": "2019-07-29T02:38:18.508516Z"
    }
   },
   "outputs": [
    {
     "data": {
      "image/png": "[encoded data removed]",
      "text/plain": [
       "<Figure size 432x288 with 1 Axes>"
      ]
     },
     "metadata": {
      "needs_background": "light"
     },
     "output_type": "display_data"
    }
   ],
   "source": [
    "prodcat1_2_ = order[['prodcat1', 'prodcat2']].drop_duplicates()\n",
    "#prodcat1_2_.groupby(['prodcat1']).prodcat2.count()\n",
    "ax= sns.barplot(prodcat1_2_['prodcat1'].value_counts().keys(), prodcat1_2_['prodcat1'].value_counts().values)\n",
    "plt.title(\"procat2 per prodcat1\")\n",
    "plt.ylabel('# of prodcat2', fontsize=12)\n",
    "plt.xlabel('Prodcat1', fontsize=12)\n",
    "plt.show()"
   ]
  },
  {
   "cell_type": "code",
   "execution_count": 180,
   "metadata": {
    "ExecuteTime": {
     "end_time": "2019-07-29T02:38:20.847956Z",
     "start_time": "2019-07-29T02:38:20.609373Z"
    }
   },
   "outputs": [
    {
     "data": {
      "image/png": "[encoded data removed]",
      "text/plain": [
       "<Figure size 432x288 with 1 Axes>"
      ]
     },
     "metadata": {
      "needs_background": "light"
     },
     "output_type": "display_data"
    }
   ],
   "source": [
    "## Top customer in terms of number orders\n",
    "x = order['custno'].value_counts()\n",
    "sns.distplot(x.values, bins = 10);"
   ]
  },
  {
   "cell_type": "code",
   "execution_count": 181,
   "metadata": {
    "ExecuteTime": {
     "end_time": "2019-07-29T02:38:21.642704Z",
     "start_time": "2019-07-29T02:38:21.344488Z"
    }
   },
   "outputs": [
    {
     "data": {
      "image/png": "[encoded data removed]",
      "text/plain": [
       "<Figure size 432x288 with 1 Axes>"
      ]
     },
     "metadata": {
      "needs_background": "light"
     },
     "output_type": "display_data"
    }
   ],
   "source": [
    "x_top100 = order['custno'].value_counts()[:1000]\n",
    "sns.distplot(x_top100.values, bins = 50);"
   ]
  },
  {
   "cell_type": "code",
   "execution_count": 182,
   "metadata": {
    "ExecuteTime": {
     "end_time": "2019-07-29T02:38:23.533771Z",
     "start_time": "2019-07-29T02:38:23.529029Z"
    }
   },
   "outputs": [],
   "source": [
    "def missing_data(data):\n",
    "    missing_df = data.isnull().sum(axis=0).reset_index()\n",
    "    missing_df.columns = ['column_name', 'missing_count']\n",
    "    missing_df = missing_df.loc[missing_df['missing_count']>0]\n",
    "    missing_df['percentage_missing']= missing_df['missing_count']/len(data)\n",
    "    return missing_df"
   ]
  },
  {
   "cell_type": "code",
   "execution_count": 183,
   "metadata": {
    "ExecuteTime": {
     "end_time": "2019-07-29T02:38:24.113212Z",
     "start_time": "2019-07-29T02:38:23.892511Z"
    }
   },
   "outputs": [
    {
     "data": {
      "text/html": [
       "<div>\n",
       "<style scoped>\n",
       "    .dataframe tbody tr th:only-of-type {\n",
       "        vertical-align: middle;\n",
       "    }\n",
       "\n",
       "    .dataframe tbody tr th {\n",
       "        vertical-align: top;\n",
       "    }\n",
       "\n",
       "    .dataframe thead th {\n",
       "        text-align: right;\n",
       "    }\n",
       "</style>\n",
       "<table border=\"1\" class=\"dataframe\">\n",
       "  <thead>\n",
       "    <tr style=\"text-align: right;\">\n",
       "      <th></th>\n",
       "      <th>column_name</th>\n",
       "      <th>missing_count</th>\n",
       "      <th>percentage_missing</th>\n",
       "    </tr>\n",
       "  </thead>\n",
       "  <tbody>\n",
       "    <tr>\n",
       "      <th>3</th>\n",
       "      <td>prodcat2</td>\n",
       "      <td>1823</td>\n",
       "      <td>0.006924</td>\n",
       "    </tr>\n",
       "  </tbody>\n",
       "</table>\n",
       "</div>"
      ],
      "text/plain": [
       "  column_name  missing_count  percentage_missing\n",
       "3    prodcat2           1823            0.006924"
      ]
     },
     "execution_count": 183,
     "metadata": {},
     "output_type": "execute_result"
    }
   ],
   "source": [
    "missing_data(order) "
   ]
  },
  {
   "cell_type": "code",
   "execution_count": 184,
   "metadata": {
    "ExecuteTime": {
     "end_time": "2019-07-29T02:38:24.705094Z",
     "start_time": "2019-07-29T02:38:24.413023Z"
    }
   },
   "outputs": [
    {
     "data": {
      "text/html": [
       "<div>\n",
       "<style scoped>\n",
       "    .dataframe tbody tr th:only-of-type {\n",
       "        vertical-align: middle;\n",
       "    }\n",
       "\n",
       "    .dataframe tbody tr th {\n",
       "        vertical-align: top;\n",
       "    }\n",
       "\n",
       "    .dataframe thead th {\n",
       "        text-align: right;\n",
       "    }\n",
       "</style>\n",
       "<table border=\"1\" class=\"dataframe\">\n",
       "  <thead>\n",
       "    <tr style=\"text-align: right;\">\n",
       "      <th></th>\n",
       "      <th>column_name</th>\n",
       "      <th>missing_count</th>\n",
       "      <th>percentage_missing</th>\n",
       "    </tr>\n",
       "  </thead>\n",
       "  <tbody>\n",
       "    <tr>\n",
       "      <th>5</th>\n",
       "      <td>event1</td>\n",
       "      <td>789846</td>\n",
       "      <td>0.82726</td>\n",
       "    </tr>\n",
       "  </tbody>\n",
       "</table>\n",
       "</div>"
      ],
      "text/plain": [
       "  column_name  missing_count  percentage_missing\n",
       "5      event1         789846             0.82726"
      ]
     },
     "execution_count": 184,
     "metadata": {},
     "output_type": "execute_result"
    }
   ],
   "source": [
    "missing_data(online) ## since 82% data is missing for event1, hence drop event1"
   ]
  },
  {
   "cell_type": "code",
   "execution_count": null,
   "metadata": {},
   "outputs": [],
   "source": []
  },
  {
   "cell_type": "markdown",
   "metadata": {},
   "source": [
    "# Data Preparation & Feature Engineering"
   ]
  },
  {
   "cell_type": "markdown",
   "metadata": {},
   "source": [
    "1) Filter Order data for the same timeline as Online data\n",
    "<br>\n",
    "2) Derive features from order data: recency, customer_age (i.e. first order date), monetary, prodcat1 distinct count, prodcat2 distinct count\n",
    "<br>\n",
    "3) Derive features from online data: days from last online event, event frequency\n",
    "<br>\n",
    "4) Merge order and online faetures at index level (which is custno)"
   ]
  },
  {
   "cell_type": "code",
   "execution_count": 147,
   "metadata": {
    "ExecuteTime": {
     "end_time": "2019-07-29T01:29:28.873819Z",
     "start_time": "2019-07-29T01:29:04.164364Z"
    }
   },
   "outputs": [
    {
     "name": "stderr",
     "output_type": "stream",
     "text": [
      "/anaconda3/lib/python3.7/site-packages/ipykernel_launcher.py:12: SettingWithCopyWarning: \n",
      "A value is trying to be set on a copy of a slice from a DataFrame.\n",
      "Try using .loc[row_indexer,col_indexer] = value instead\n",
      "\n",
      "See the caveats in the documentation: http://pandas.pydata.org/pandas-docs/stable/indexing.html#indexing-view-versus-copy\n",
      "  if sys.path[0] == '':\n"
     ]
    }
   ],
   "source": [
    "# get last date of online data\n",
    "end_date = online['dt'].max()\n",
    "\n",
    "order_16_17 = order[order['orderdate']<= end_date]\n",
    "# # Filter 1-year data range from original df\n",
    "# start_date = end_date - pd.to_timedelta(364, unit='d')\n",
    "# df_rfm = df[(df['Date'] >= start_date) & (df['Date'] <= end_date)]\n",
    "\n",
    "# Create hypothetical snapshot date\n",
    "snapshot_date = end_date + dt.timedelta(days=1)\n",
    "\n",
    "order_16_17['orderdate_dup'] = order_16_17['orderdate'] \n",
    "# Calculate Recency, Frequency and Monetary value for each customer\n",
    "df_rfm = order_16_17.groupby(['custno']).agg({\n",
    "    'orderdate': lambda x: (snapshot_date - x.max()).days, ## date of last order\n",
    "    'orderdate_dup': lambda x: (snapshot_date - x.min()).days, ## date of first order\n",
    "    'ordno': pd.Series.nunique,\n",
    "    'revenue': 'sum',\n",
    "    'prodcat1': pd.Series.nunique})\n",
    "\n",
    "# Rename the columns\n",
    "df_rfm.rename(columns={'orderdate': 'Recency',\n",
    "                       'orderdate_dup': 'cust_age',\n",
    "                       'ordno': 'Frequency',\n",
    "                       'revenue': 'MonetaryValue',\n",
    "                       'prodcat1': 'prodcat1_distinct_cnt'}, inplace=True)\n"
   ]
  },
  {
   "cell_type": "code",
   "execution_count": 148,
   "metadata": {
    "ExecuteTime": {
     "end_time": "2019-07-29T01:29:28.901343Z",
     "start_time": "2019-07-29T01:29:28.876019Z"
    }
   },
   "outputs": [
    {
     "name": "stdout",
     "output_type": "stream",
     "text": [
      "48819\n",
      "48819\n"
     ]
    },
    {
     "data": {
      "text/html": [
       "<div>\n",
       "<style scoped>\n",
       "    .dataframe tbody tr th:only-of-type {\n",
       "        vertical-align: middle;\n",
       "    }\n",
       "\n",
       "    .dataframe tbody tr th {\n",
       "        vertical-align: top;\n",
       "    }\n",
       "\n",
       "    .dataframe thead th {\n",
       "        text-align: right;\n",
       "    }\n",
       "</style>\n",
       "<table border=\"1\" class=\"dataframe\">\n",
       "  <thead>\n",
       "    <tr style=\"text-align: right;\">\n",
       "      <th></th>\n",
       "      <th>Recency</th>\n",
       "      <th>cust_age</th>\n",
       "      <th>Frequency</th>\n",
       "      <th>MonetaryValue</th>\n",
       "      <th>prodcat1_distinct_cnt</th>\n",
       "    </tr>\n",
       "    <tr>\n",
       "      <th>custno</th>\n",
       "      <th></th>\n",
       "      <th></th>\n",
       "      <th></th>\n",
       "      <th></th>\n",
       "      <th></th>\n",
       "    </tr>\n",
       "  </thead>\n",
       "  <tbody>\n",
       "    <tr>\n",
       "      <th>1</th>\n",
       "      <td>203</td>\n",
       "      <td>203</td>\n",
       "      <td>1</td>\n",
       "      <td>8.35</td>\n",
       "      <td>1</td>\n",
       "    </tr>\n",
       "    <tr>\n",
       "      <th>2</th>\n",
       "      <td>244</td>\n",
       "      <td>706</td>\n",
       "      <td>5</td>\n",
       "      <td>426.11</td>\n",
       "      <td>2</td>\n",
       "    </tr>\n",
       "  </tbody>\n",
       "</table>\n",
       "</div>"
      ],
      "text/plain": [
       "        Recency  cust_age  Frequency  MonetaryValue  prodcat1_distinct_cnt\n",
       "custno                                                                    \n",
       "1           203       203          1           8.35                      1\n",
       "2           244       706          5         426.11                      2"
      ]
     },
     "execution_count": 148,
     "metadata": {},
     "output_type": "execute_result"
    }
   ],
   "source": [
    "print (len(order_16_17['custno'].unique()))\n",
    "print (len(df_rfm))\n",
    "df_rfm.head(2)"
   ]
  },
  {
   "cell_type": "code",
   "execution_count": 149,
   "metadata": {
    "ExecuteTime": {
     "end_time": "2019-07-29T01:29:28.995259Z",
     "start_time": "2019-07-29T01:29:28.904768Z"
    }
   },
   "outputs": [
    {
     "data": {
      "text/html": [
       "<div>\n",
       "<style scoped>\n",
       "    .dataframe tbody tr th:only-of-type {\n",
       "        vertical-align: middle;\n",
       "    }\n",
       "\n",
       "    .dataframe tbody tr th {\n",
       "        vertical-align: top;\n",
       "    }\n",
       "\n",
       "    .dataframe thead th {\n",
       "        text-align: right;\n",
       "    }\n",
       "</style>\n",
       "<table border=\"1\" class=\"dataframe\">\n",
       "  <thead>\n",
       "    <tr style=\"text-align: right;\">\n",
       "      <th></th>\n",
       "      <th>event_frequency</th>\n",
       "    </tr>\n",
       "    <tr>\n",
       "      <th>custno</th>\n",
       "      <th></th>\n",
       "    </tr>\n",
       "  </thead>\n",
       "  <tbody>\n",
       "    <tr>\n",
       "      <th>6</th>\n",
       "      <td>11</td>\n",
       "    </tr>\n",
       "    <tr>\n",
       "      <th>7</th>\n",
       "      <td>9</td>\n",
       "    </tr>\n",
       "  </tbody>\n",
       "</table>\n",
       "</div>"
      ],
      "text/plain": [
       "        event_frequency\n",
       "custno                 \n",
       "6                    11\n",
       "7                     9"
      ]
     },
     "execution_count": 149,
     "metadata": {},
     "output_type": "execute_result"
    }
   ],
   "source": [
    "## Derive feature from online data \n",
    "\n",
    "online_rfm = online.groupby(['custno']).agg({'event2': 'count'})\n",
    "online_rfm.rename(columns={'event2': 'event_frequency'}, inplace=True)\n",
    "online_rfm.head(2)\n"
   ]
  },
  {
   "cell_type": "code",
   "execution_count": 150,
   "metadata": {
    "ExecuteTime": {
     "end_time": "2019-07-29T01:29:29.061228Z",
     "start_time": "2019-07-29T01:29:29.002881Z"
    }
   },
   "outputs": [
    {
     "name": "stdout",
     "output_type": "stream",
     "text": [
      "48819\n",
      "48819\n"
     ]
    },
    {
     "data": {
      "text/html": [
       "<div>\n",
       "<style scoped>\n",
       "    .dataframe tbody tr th:only-of-type {\n",
       "        vertical-align: middle;\n",
       "    }\n",
       "\n",
       "    .dataframe tbody tr th {\n",
       "        vertical-align: top;\n",
       "    }\n",
       "\n",
       "    .dataframe thead th {\n",
       "        text-align: right;\n",
       "    }\n",
       "</style>\n",
       "<table border=\"1\" class=\"dataframe\">\n",
       "  <thead>\n",
       "    <tr style=\"text-align: right;\">\n",
       "      <th></th>\n",
       "      <th>Recency</th>\n",
       "      <th>cust_age</th>\n",
       "      <th>Frequency</th>\n",
       "      <th>MonetaryValue</th>\n",
       "      <th>prodcat1_distinct_cnt</th>\n",
       "      <th>event_frequency</th>\n",
       "    </tr>\n",
       "    <tr>\n",
       "      <th>custno</th>\n",
       "      <th></th>\n",
       "      <th></th>\n",
       "      <th></th>\n",
       "      <th></th>\n",
       "      <th></th>\n",
       "      <th></th>\n",
       "    </tr>\n",
       "  </thead>\n",
       "  <tbody>\n",
       "    <tr>\n",
       "      <th>1</th>\n",
       "      <td>203</td>\n",
       "      <td>203</td>\n",
       "      <td>1</td>\n",
       "      <td>8.35</td>\n",
       "      <td>1</td>\n",
       "      <td>NaN</td>\n",
       "    </tr>\n",
       "    <tr>\n",
       "      <th>2</th>\n",
       "      <td>244</td>\n",
       "      <td>706</td>\n",
       "      <td>5</td>\n",
       "      <td>426.11</td>\n",
       "      <td>2</td>\n",
       "      <td>NaN</td>\n",
       "    </tr>\n",
       "  </tbody>\n",
       "</table>\n",
       "</div>"
      ],
      "text/plain": [
       "        Recency  cust_age  Frequency  MonetaryValue  prodcat1_distinct_cnt  \\\n",
       "custno                                                                       \n",
       "1           203       203          1           8.35                      1   \n",
       "2           244       706          5         426.11                      2   \n",
       "\n",
       "        event_frequency  \n",
       "custno                   \n",
       "1                   NaN  \n",
       "2                   NaN  "
      ]
     },
     "execution_count": 150,
     "metadata": {},
     "output_type": "execute_result"
    }
   ],
   "source": [
    "# Merge online and order data features\n",
    "final_rfm = pd.merge(df_rfm, online_rfm, how = 'left', left_index=True, right_index=True)\n",
    "print (len(df_rfm))\n",
    "print (len(final_rfm))\n",
    "final_rfm.head(2)"
   ]
  },
  {
   "cell_type": "code",
   "execution_count": 151,
   "metadata": {
    "ExecuteTime": {
     "end_time": "2019-07-29T01:29:29.094263Z",
     "start_time": "2019-07-29T01:29:29.066759Z"
    }
   },
   "outputs": [
    {
     "data": {
      "text/html": [
       "<div>\n",
       "<style scoped>\n",
       "    .dataframe tbody tr th:only-of-type {\n",
       "        vertical-align: middle;\n",
       "    }\n",
       "\n",
       "    .dataframe tbody tr th {\n",
       "        vertical-align: top;\n",
       "    }\n",
       "\n",
       "    .dataframe thead th {\n",
       "        text-align: right;\n",
       "    }\n",
       "</style>\n",
       "<table border=\"1\" class=\"dataframe\">\n",
       "  <thead>\n",
       "    <tr style=\"text-align: right;\">\n",
       "      <th></th>\n",
       "      <th>Recency</th>\n",
       "      <th>cust_age</th>\n",
       "      <th>Frequency</th>\n",
       "      <th>MonetaryValue</th>\n",
       "      <th>prodcat1_distinct_cnt</th>\n",
       "      <th>event_frequency</th>\n",
       "    </tr>\n",
       "    <tr>\n",
       "      <th>custno</th>\n",
       "      <th></th>\n",
       "      <th></th>\n",
       "      <th></th>\n",
       "      <th></th>\n",
       "      <th></th>\n",
       "      <th></th>\n",
       "    </tr>\n",
       "  </thead>\n",
       "  <tbody>\n",
       "    <tr>\n",
       "      <th>1</th>\n",
       "      <td>203</td>\n",
       "      <td>203</td>\n",
       "      <td>1</td>\n",
       "      <td>8.35</td>\n",
       "      <td>1</td>\n",
       "      <td>0.0</td>\n",
       "    </tr>\n",
       "    <tr>\n",
       "      <th>2</th>\n",
       "      <td>244</td>\n",
       "      <td>706</td>\n",
       "      <td>5</td>\n",
       "      <td>426.11</td>\n",
       "      <td>2</td>\n",
       "      <td>0.0</td>\n",
       "    </tr>\n",
       "  </tbody>\n",
       "</table>\n",
       "</div>"
      ],
      "text/plain": [
       "        Recency  cust_age  Frequency  MonetaryValue  prodcat1_distinct_cnt  \\\n",
       "custno                                                                       \n",
       "1           203       203          1           8.35                      1   \n",
       "2           244       706          5         426.11                      2   \n",
       "\n",
       "        event_frequency  \n",
       "custno                   \n",
       "1                   0.0  \n",
       "2                   0.0  "
      ]
     },
     "execution_count": 151,
     "metadata": {},
     "output_type": "execute_result"
    }
   ],
   "source": [
    "# Impute missing values\n",
    "final_rfm['event_frequency'].fillna(0, inplace = True)\n",
    "final_rfm.head(2)"
   ]
  },
  {
   "cell_type": "code",
   "execution_count": 152,
   "metadata": {
    "ExecuteTime": {
     "end_time": "2019-07-29T01:29:29.111882Z",
     "start_time": "2019-07-29T01:29:29.097374Z"
    }
   },
   "outputs": [],
   "source": [
    "from scipy import stats\n",
    "\n",
    "def target_var_info(data, target_var_name):\n",
    "    description = data[target_var_name].describe()\n",
    "\n",
    "    sns.distplot(data.loc[:,target_var_name])\n",
    "    \n",
    "    fig = plt.figure()\n",
    "    #res = stats.probplot(data.loc[:,target_var_name], plot=plt)\n",
    "    \n",
    "    skewness = (data.loc[:,target_var_name].skew())\n",
    "    kurtosis = (data.loc[:,target_var_name].kurt())\n",
    "    \n",
    "    return plt.show(), fig.show(), description,  skewness, kurtosis "
   ]
  },
  {
   "cell_type": "code",
   "execution_count": 153,
   "metadata": {
    "ExecuteTime": {
     "end_time": "2019-07-29T01:29:30.977910Z",
     "start_time": "2019-07-29T01:29:29.114890Z"
    }
   },
   "outputs": [
    {
     "data": {
      "image/png": "[encoded data removed]",
      "text/plain": [
       "<Figure size 432x288 with 1 Axes>"
      ]
     },
     "metadata": {
      "needs_background": "light"
     },
     "output_type": "display_data"
    },
    {
     "data": {
      "text/plain": [
       "<Figure size 432x288 with 0 Axes>"
      ]
     },
     "metadata": {},
     "output_type": "display_data"
    },
    {
     "name": "stderr",
     "output_type": "stream",
     "text": [
      "/anaconda3/lib/python3.7/site-packages/matplotlib/figure.py:445: UserWarning: Matplotlib is currently using module://ipykernel.pylab.backend_inline, which is a non-GUI backend, so cannot show the figure.\n",
      "  % get_backend())\n"
     ]
    },
    {
     "data": {
      "image/png": "[encoded data removed]",
      "text/plain": [
       "<Figure size 432x288 with 1 Axes>"
      ]
     },
     "metadata": {
      "needs_background": "light"
     },
     "output_type": "display_data"
    },
    {
     "data": {
      "text/plain": [
       "<Figure size 432x288 with 0 Axes>"
      ]
     },
     "metadata": {},
     "output_type": "display_data"
    },
    {
     "name": "stderr",
     "output_type": "stream",
     "text": [
      "/anaconda3/lib/python3.7/site-packages/matplotlib/figure.py:445: UserWarning: Matplotlib is currently using module://ipykernel.pylab.backend_inline, which is a non-GUI backend, so cannot show the figure.\n",
      "  % get_backend())\n"
     ]
    },
    {
     "data": {
      "image/png": "[encoded data removed]",
      "text/plain": [
       "<Figure size 432x288 with 1 Axes>"
      ]
     },
     "metadata": {
      "needs_background": "light"
     },
     "output_type": "display_data"
    },
    {
     "data": {
      "text/plain": [
       "<Figure size 432x288 with 0 Axes>"
      ]
     },
     "metadata": {},
     "output_type": "display_data"
    },
    {
     "name": "stderr",
     "output_type": "stream",
     "text": [
      "/anaconda3/lib/python3.7/site-packages/matplotlib/figure.py:445: UserWarning: Matplotlib is currently using module://ipykernel.pylab.backend_inline, which is a non-GUI backend, so cannot show the figure.\n",
      "  % get_backend())\n"
     ]
    },
    {
     "data": {
      "image/png": "[encoded data removed]",
      "text/plain": [
       "<Figure size 432x288 with 1 Axes>"
      ]
     },
     "metadata": {
      "needs_background": "light"
     },
     "output_type": "display_data"
    },
    {
     "data": {
      "text/plain": [
       "<Figure size 432x288 with 0 Axes>"
      ]
     },
     "metadata": {},
     "output_type": "display_data"
    },
    {
     "name": "stderr",
     "output_type": "stream",
     "text": [
      "/anaconda3/lib/python3.7/site-packages/matplotlib/figure.py:445: UserWarning: Matplotlib is currently using module://ipykernel.pylab.backend_inline, which is a non-GUI backend, so cannot show the figure.\n",
      "  % get_backend())\n"
     ]
    },
    {
     "data": {
      "image/png": "[encoded data removed]",
      "text/plain": [
       "<Figure size 432x288 with 1 Axes>"
      ]
     },
     "metadata": {
      "needs_background": "light"
     },
     "output_type": "display_data"
    },
    {
     "data": {
      "text/plain": [
       "<Figure size 432x288 with 0 Axes>"
      ]
     },
     "metadata": {},
     "output_type": "display_data"
    },
    {
     "name": "stderr",
     "output_type": "stream",
     "text": [
      "/anaconda3/lib/python3.7/site-packages/matplotlib/figure.py:445: UserWarning: Matplotlib is currently using module://ipykernel.pylab.backend_inline, which is a non-GUI backend, so cannot show the figure.\n",
      "  % get_backend())\n"
     ]
    },
    {
     "data": {
      "image/png": "[encoded data removed]",
      "text/plain": [
       "<Figure size 432x288 with 1 Axes>"
      ]
     },
     "metadata": {
      "needs_background": "light"
     },
     "output_type": "display_data"
    },
    {
     "data": {
      "text/plain": [
       "<Figure size 432x288 with 0 Axes>"
      ]
     },
     "metadata": {},
     "output_type": "display_data"
    },
    {
     "name": "stderr",
     "output_type": "stream",
     "text": [
      "/anaconda3/lib/python3.7/site-packages/matplotlib/figure.py:445: UserWarning: Matplotlib is currently using module://ipykernel.pylab.backend_inline, which is a non-GUI backend, so cannot show the figure.\n",
      "  % get_backend())\n"
     ]
    }
   ],
   "source": [
    "for var in final_rfm.columns:\n",
    "    target_var_info(final_rfm, var)\n"
   ]
  },
  {
   "cell_type": "code",
   "execution_count": 154,
   "metadata": {
    "ExecuteTime": {
     "end_time": "2019-07-29T01:29:31.789744Z",
     "start_time": "2019-07-29T01:29:30.981553Z"
    }
   },
   "outputs": [
    {
     "data": {
      "image/png": "[encoded data removed]",
      "text/plain": [
       "<Figure size 648x648 with 3 Axes>"
      ]
     },
     "metadata": {
      "needs_background": "light"
     },
     "output_type": "display_data"
    }
   ],
   "source": [
    "plt.figure(figsize=(9, 9))\n",
    "\n",
    "plt.subplot(3, 1, 1)\n",
    "sns.distplot(np.log(df_rfm['Recency']));\n",
    "\n",
    "plt.subplot(3, 1, 2)\n",
    "sns.distplot(np.log(df_rfm['Frequency']));\n",
    "\n",
    "plt.subplot(3, 1, 3)\n",
    "sns.distplot(np.log(df_rfm['MonetaryValue']));\n"
   ]
  },
  {
   "cell_type": "markdown",
   "metadata": {},
   "source": [
    "## Log Transformation of skewed features"
   ]
  },
  {
   "cell_type": "code",
   "execution_count": 158,
   "metadata": {
    "ExecuteTime": {
     "end_time": "2019-07-29T01:31:34.527248Z",
     "start_time": "2019-07-29T01:31:34.504335Z"
    }
   },
   "outputs": [
    {
     "data": {
      "text/html": [
       "<div>\n",
       "<style scoped>\n",
       "    .dataframe tbody tr th:only-of-type {\n",
       "        vertical-align: middle;\n",
       "    }\n",
       "\n",
       "    .dataframe tbody tr th {\n",
       "        vertical-align: top;\n",
       "    }\n",
       "\n",
       "    .dataframe thead th {\n",
       "        text-align: right;\n",
       "    }\n",
       "</style>\n",
       "<table border=\"1\" class=\"dataframe\">\n",
       "  <thead>\n",
       "    <tr style=\"text-align: right;\">\n",
       "      <th></th>\n",
       "      <th>Recency</th>\n",
       "      <th>cust_age</th>\n",
       "      <th>Frequency</th>\n",
       "      <th>MonetaryValue</th>\n",
       "      <th>prodcat1_distinct_cnt</th>\n",
       "      <th>event_frequency</th>\n",
       "    </tr>\n",
       "    <tr>\n",
       "      <th>custno</th>\n",
       "      <th></th>\n",
       "      <th></th>\n",
       "      <th></th>\n",
       "      <th></th>\n",
       "      <th></th>\n",
       "      <th></th>\n",
       "    </tr>\n",
       "  </thead>\n",
       "  <tbody>\n",
       "    <tr>\n",
       "      <th>1</th>\n",
       "      <td>5.313206</td>\n",
       "      <td>5.313206</td>\n",
       "      <td>0.000000</td>\n",
       "      <td>2.122262</td>\n",
       "      <td>1</td>\n",
       "      <td>0.0</td>\n",
       "    </tr>\n",
       "    <tr>\n",
       "      <th>2</th>\n",
       "      <td>5.497168</td>\n",
       "      <td>6.559615</td>\n",
       "      <td>1.609438</td>\n",
       "      <td>6.054698</td>\n",
       "      <td>2</td>\n",
       "      <td>0.0</td>\n",
       "    </tr>\n",
       "  </tbody>\n",
       "</table>\n",
       "</div>"
      ],
      "text/plain": [
       "         Recency  cust_age  Frequency  MonetaryValue  prodcat1_distinct_cnt  \\\n",
       "custno                                                                        \n",
       "1       5.313206  5.313206   0.000000       2.122262                      1   \n",
       "2       5.497168  6.559615   1.609438       6.054698                      2   \n",
       "\n",
       "        event_frequency  \n",
       "custno                   \n",
       "1                   0.0  \n",
       "2                   0.0  "
      ]
     },
     "execution_count": 158,
     "metadata": {},
     "output_type": "execute_result"
    }
   ],
   "source": [
    "# Log transformation to deal with skewness\n",
    "df_rfm_log = final_rfm.copy()\n",
    "df_rfm_log['Recency'] = np.log(df_rfm_log['Recency'] )\n",
    "df_rfm_log['Frequency'] = np.log(df_rfm_log['Frequency'] )\n",
    "df_rfm_log['MonetaryValue'] = np.log(df_rfm_log['MonetaryValue'] )\n",
    "df_rfm_log['cust_age'] = np.log(df_rfm_log['cust_age'] )\n",
    "#df_rfm_log['event_frequency'] = np.log(df_rfm_log['event_frequency'] )\n",
    "\n",
    "df_rfm_log.head(2)"
   ]
  },
  {
   "cell_type": "markdown",
   "metadata": {
    "ExecuteTime": {
     "end_time": "2019-07-29T02:39:56.678101Z",
     "start_time": "2019-07-29T02:39:56.675248Z"
    }
   },
   "source": [
    "## Scaling the data"
   ]
  },
  {
   "cell_type": "code",
   "execution_count": 159,
   "metadata": {
    "ExecuteTime": {
     "end_time": "2019-07-29T01:31:43.083078Z",
     "start_time": "2019-07-29T01:31:43.014560Z"
    }
   },
   "outputs": [
    {
     "name": "stderr",
     "output_type": "stream",
     "text": [
      "/anaconda3/lib/python3.7/site-packages/sklearn/preprocessing/data.py:645: DataConversionWarning: Data with input dtype int64, float64 were all converted to float64 by StandardScaler.\n",
      "  return self.partial_fit(X, y)\n",
      "/anaconda3/lib/python3.7/site-packages/ipykernel_launcher.py:4: DataConversionWarning: Data with input dtype int64, float64 were all converted to float64 by StandardScaler.\n",
      "  after removing the cwd from sys.path.\n"
     ]
    },
    {
     "data": {
      "text/html": [
       "<div>\n",
       "<style scoped>\n",
       "    .dataframe tbody tr th:only-of-type {\n",
       "        vertical-align: middle;\n",
       "    }\n",
       "\n",
       "    .dataframe tbody tr th {\n",
       "        vertical-align: top;\n",
       "    }\n",
       "\n",
       "    .dataframe thead th {\n",
       "        text-align: right;\n",
       "    }\n",
       "</style>\n",
       "<table border=\"1\" class=\"dataframe\">\n",
       "  <thead>\n",
       "    <tr style=\"text-align: right;\">\n",
       "      <th></th>\n",
       "      <th>Recency</th>\n",
       "      <th>cust_age</th>\n",
       "      <th>Frequency</th>\n",
       "      <th>MonetaryValue</th>\n",
       "      <th>prodcat1_distinct_cnt</th>\n",
       "      <th>event_frequency</th>\n",
       "    </tr>\n",
       "  </thead>\n",
       "  <tbody>\n",
       "    <tr>\n",
       "      <th>count</th>\n",
       "      <td>48819.000</td>\n",
       "      <td>48819.000</td>\n",
       "      <td>48819.000</td>\n",
       "      <td>48819.000</td>\n",
       "      <td>48819.000</td>\n",
       "      <td>48819.000</td>\n",
       "    </tr>\n",
       "    <tr>\n",
       "      <th>mean</th>\n",
       "      <td>-0.000</td>\n",
       "      <td>-0.000</td>\n",
       "      <td>-0.000</td>\n",
       "      <td>-0.000</td>\n",
       "      <td>0.000</td>\n",
       "      <td>-0.000</td>\n",
       "    </tr>\n",
       "    <tr>\n",
       "      <th>std</th>\n",
       "      <td>1.000</td>\n",
       "      <td>1.000</td>\n",
       "      <td>1.000</td>\n",
       "      <td>1.000</td>\n",
       "      <td>1.000</td>\n",
       "      <td>1.000</td>\n",
       "    </tr>\n",
       "    <tr>\n",
       "      <th>min</th>\n",
       "      <td>-5.656</td>\n",
       "      <td>-9.536</td>\n",
       "      <td>-0.305</td>\n",
       "      <td>-8.041</td>\n",
       "      <td>-0.463</td>\n",
       "      <td>-0.599</td>\n",
       "    </tr>\n",
       "    <tr>\n",
       "      <th>25%</th>\n",
       "      <td>-0.353</td>\n",
       "      <td>-0.655</td>\n",
       "      <td>-0.305</td>\n",
       "      <td>-0.439</td>\n",
       "      <td>-0.463</td>\n",
       "      <td>-0.516</td>\n",
       "    </tr>\n",
       "    <tr>\n",
       "      <th>50%</th>\n",
       "      <td>0.201</td>\n",
       "      <td>0.392</td>\n",
       "      <td>-0.305</td>\n",
       "      <td>0.046</td>\n",
       "      <td>-0.463</td>\n",
       "      <td>-0.311</td>\n",
       "    </tr>\n",
       "    <tr>\n",
       "      <th>75%</th>\n",
       "      <td>0.726</td>\n",
       "      <td>0.833</td>\n",
       "      <td>-0.305</td>\n",
       "      <td>0.513</td>\n",
       "      <td>0.612</td>\n",
       "      <td>0.101</td>\n",
       "    </tr>\n",
       "    <tr>\n",
       "      <th>max</th>\n",
       "      <td>0.963</td>\n",
       "      <td>1.134</td>\n",
       "      <td>7.581</td>\n",
       "      <td>4.491</td>\n",
       "      <td>4.909</td>\n",
       "      <td>34.562</td>\n",
       "    </tr>\n",
       "  </tbody>\n",
       "</table>\n",
       "</div>"
      ],
      "text/plain": [
       "         Recency   cust_age  Frequency  MonetaryValue  prodcat1_distinct_cnt  \\\n",
       "count  48819.000  48819.000  48819.000      48819.000              48819.000   \n",
       "mean      -0.000     -0.000     -0.000         -0.000                  0.000   \n",
       "std        1.000      1.000      1.000          1.000                  1.000   \n",
       "min       -5.656     -9.536     -0.305         -8.041                 -0.463   \n",
       "25%       -0.353     -0.655     -0.305         -0.439                 -0.463   \n",
       "50%        0.201      0.392     -0.305          0.046                 -0.463   \n",
       "75%        0.726      0.833     -0.305          0.513                  0.612   \n",
       "max        0.963      1.134      7.581          4.491                  4.909   \n",
       "\n",
       "       event_frequency  \n",
       "count        48819.000  \n",
       "mean            -0.000  \n",
       "std              1.000  \n",
       "min             -0.599  \n",
       "25%             -0.516  \n",
       "50%             -0.311  \n",
       "75%              0.101  \n",
       "max             34.562  "
      ]
     },
     "execution_count": 159,
     "metadata": {},
     "output_type": "execute_result"
    }
   ],
   "source": [
    "# Scaling data\n",
    "scaler = StandardScaler()\n",
    "scaler.fit(df_rfm_log)\n",
    "final_rfm = scaler.transform(df_rfm_log)\n",
    "\n",
    "final_rfm = pd.DataFrame(final_rfm, index=df_rfm_log.index, columns=df_rfm_log.columns)\n",
    "\n",
    "# Check result after standardising\n",
    "final_rfm.describe().round(3)"
   ]
  },
  {
   "cell_type": "code",
   "execution_count": 160,
   "metadata": {
    "ExecuteTime": {
     "end_time": "2019-07-29T01:31:48.819280Z",
     "start_time": "2019-07-29T01:31:48.814175Z"
    }
   },
   "outputs": [
    {
     "data": {
      "text/plain": [
       "Index(['Recency', 'cust_age', 'Frequency', 'MonetaryValue',\n",
       "       'prodcat1_distinct_cnt', 'event_frequency'],\n",
       "      dtype='object')"
      ]
     },
     "execution_count": 160,
     "metadata": {},
     "output_type": "execute_result"
    }
   ],
   "source": [
    "final_rfm.columns"
   ]
  },
  {
   "cell_type": "markdown",
   "metadata": {},
   "source": [
    "# Modeling- K means"
   ]
  },
  {
   "cell_type": "markdown",
   "metadata": {},
   "source": [
    "## Defining Model"
   ]
  },
  {
   "cell_type": "code",
   "execution_count": 161,
   "metadata": {
    "ExecuteTime": {
     "end_time": "2019-07-29T01:31:50.810748Z",
     "start_time": "2019-07-29T01:31:50.802340Z"
    }
   },
   "outputs": [],
   "source": [
    "def optimal_kmeans(dataset, start=2, end=9):\n",
    "    '''\n",
    "    Calculate the optimal number of kmeans\n",
    "    \n",
    "    INPUT:\n",
    "        dataset : dataframe. Dataset for k-means to fit\n",
    "        start : int. Starting range of kmeans to test\n",
    "        end : int. Ending range of kmeans to test\n",
    "    OUTPUT:\n",
    "        Values and line plot of Silhouette Score.\n",
    "    '''\n",
    "    \n",
    "    # Create empty lists to store values for plotting graphs\n",
    "    n_clu = []\n",
    "    km_ss = []\n",
    "\n",
    "    # Create a for loop to find optimal n_clusters\n",
    "    for n_clusters in range(start, end):\n",
    "\n",
    "        # Create cluster labels\n",
    "        kmeans = KMeans(n_clusters=n_clusters)\n",
    "        labels = kmeans.fit_predict(dataset)\n",
    "\n",
    "        # Calcualte model performance\n",
    "        silhouette_avg = round(silhouette_score(dataset, labels, random_state=1), 3)\n",
    "\n",
    "        # Append score to lists\n",
    "        km_ss.append(silhouette_avg)\n",
    "        n_clu.append(n_clusters)\n",
    "\n",
    "        print(\"No. Clusters: {}, Silhouette Score: {}, Change from Previous Cluster: {}\".format(\n",
    "            n_clusters, \n",
    "            silhouette_avg, \n",
    "            (km_ss[n_clusters - start] - km_ss[n_clusters - start - 1]).round(3)))\n",
    "\n",
    "        # Plot graph at the end of loop\n",
    "        if n_clusters == end - 1:\n",
    "            plt.figure(figsize=(6.47,3))\n",
    "\n",
    "            plt.title('Silhouette Score')\n",
    "            sns.pointplot(x=n_clu, y=km_ss)\n",
    "            plt.savefig('silhouette_score.png', format='png', dpi=1000)\n",
    "            plt.tight_layout()\n",
    "            plt.show()\n"
   ]
  },
  {
   "cell_type": "markdown",
   "metadata": {},
   "source": [
    "## Elbow graph to choose number of clusters"
   ]
  },
  {
   "cell_type": "code",
   "execution_count": 162,
   "metadata": {
    "ExecuteTime": {
     "end_time": "2019-07-29T01:36:44.087903Z",
     "start_time": "2019-07-29T01:31:52.305612Z"
    },
    "scrolled": true
   },
   "outputs": [
    {
     "name": "stdout",
     "output_type": "stream",
     "text": [
      "No. Clusters: 2, Silhouette Score: 0.621, Change from Previous Cluster: 0.0\n",
      "No. Clusters: 3, Silhouette Score: 0.329, Change from Previous Cluster: -0.292\n",
      "No. Clusters: 4, Silhouette Score: 0.349, Change from Previous Cluster: 0.02\n",
      "No. Clusters: 5, Silhouette Score: 0.327, Change from Previous Cluster: -0.022\n",
      "No. Clusters: 6, Silhouette Score: 0.325, Change from Previous Cluster: -0.002\n",
      "No. Clusters: 7, Silhouette Score: 0.294, Change from Previous Cluster: -0.031\n",
      "No. Clusters: 8, Silhouette Score: 0.301, Change from Previous Cluster: 0.007\n"
     ]
    },
    {
     "data": {
      "image/png": "[encoded data removed]",
      "text/plain": [
       "<Figure size 465.84x216 with 1 Axes>"
      ]
     },
     "metadata": {
      "needs_background": "light"
     },
     "output_type": "display_data"
    }
   ],
   "source": [
    "optimal_kmeans(final_rfm, start=2, end=9)"
   ]
  },
  {
   "cell_type": "code",
   "execution_count": 163,
   "metadata": {
    "ExecuteTime": {
     "end_time": "2019-07-29T01:36:44.098849Z",
     "start_time": "2019-07-29T01:36:44.091741Z"
    }
   },
   "outputs": [],
   "source": [
    "def kmeans(df, clusters_number):\n",
    "    '''\n",
    "    Implement k-means clustering on dataset\n",
    "    \n",
    "    INPUT:\n",
    "        dataset : dataframe. Dataset for k-means to fit.\n",
    "        clusters_number : int. Number of clusters to form.\n",
    "    OUTPUT:\n",
    "        Cluster results and t-SNE visualisation of clusters.\n",
    "    '''\n",
    "    \n",
    "    kmeans = KMeans(n_clusters = clusters_number, random_state = 1)\n",
    "    kmeans.fit(df)\n",
    "\n",
    "    # Extract cluster labels\n",
    "    cluster_labels = kmeans.labels_\n",
    "        \n",
    "    # Create a cluster label column in original dataset\n",
    "    df_new = df.assign(Cluster = cluster_labels)\n",
    "    return df_new, cluster_labels\n"
   ]
  },
  {
   "cell_type": "code",
   "execution_count": 164,
   "metadata": {
    "ExecuteTime": {
     "end_time": "2019-07-29T01:36:47.061276Z",
     "start_time": "2019-07-29T01:36:44.102510Z"
    }
   },
   "outputs": [],
   "source": [
    "df_rfm_k3 = kmeans(final_rfm, 3)\n",
    "df_rfm_k4 = kmeans(final_rfm, 4)\n",
    "df_rfm_k5 = kmeans(final_rfm, 5)"
   ]
  },
  {
   "cell_type": "code",
   "execution_count": 175,
   "metadata": {
    "ExecuteTime": {
     "end_time": "2019-07-29T02:37:56.911708Z",
     "start_time": "2019-07-29T02:37:56.899233Z"
    }
   },
   "outputs": [
    {
     "data": {
      "text/html": [
       "<div>\n",
       "<style scoped>\n",
       "    .dataframe tbody tr th:only-of-type {\n",
       "        vertical-align: middle;\n",
       "    }\n",
       "\n",
       "    .dataframe tbody tr th {\n",
       "        vertical-align: top;\n",
       "    }\n",
       "\n",
       "    .dataframe thead th {\n",
       "        text-align: right;\n",
       "    }\n",
       "</style>\n",
       "<table border=\"1\" class=\"dataframe\">\n",
       "  <thead>\n",
       "    <tr style=\"text-align: right;\">\n",
       "      <th></th>\n",
       "      <th>Recency</th>\n",
       "      <th>cust_age</th>\n",
       "      <th>Frequency</th>\n",
       "      <th>MonetaryValue</th>\n",
       "      <th>prodcat1_distinct_cnt</th>\n",
       "      <th>event_frequency</th>\n",
       "      <th>Cluster</th>\n",
       "    </tr>\n",
       "    <tr>\n",
       "      <th>custno</th>\n",
       "      <th></th>\n",
       "      <th></th>\n",
       "      <th></th>\n",
       "      <th></th>\n",
       "      <th></th>\n",
       "      <th></th>\n",
       "      <th></th>\n",
       "    </tr>\n",
       "  </thead>\n",
       "  <tbody>\n",
       "    <tr>\n",
       "      <th>1</th>\n",
       "      <td>-0.322928</td>\n",
       "      <td>-0.938966</td>\n",
       "      <td>-0.304590</td>\n",
       "      <td>-2.317135</td>\n",
       "      <td>-0.462799</td>\n",
       "      <td>-0.598592</td>\n",
       "      <td>3</td>\n",
       "    </tr>\n",
       "    <tr>\n",
       "      <th>2</th>\n",
       "      <td>-0.138285</td>\n",
       "      <td>1.077802</td>\n",
       "      <td>2.118961</td>\n",
       "      <td>1.028735</td>\n",
       "      <td>0.611644</td>\n",
       "      <td>-0.598592</td>\n",
       "      <td>0</td>\n",
       "    </tr>\n",
       "    <tr>\n",
       "      <th>3</th>\n",
       "      <td>-0.010966</td>\n",
       "      <td>-0.128439</td>\n",
       "      <td>2.393508</td>\n",
       "      <td>1.269428</td>\n",
       "      <td>-0.462799</td>\n",
       "      <td>-0.598592</td>\n",
       "      <td>3</td>\n",
       "    </tr>\n",
       "    <tr>\n",
       "      <th>4</th>\n",
       "      <td>-0.884614</td>\n",
       "      <td>-1.080480</td>\n",
       "      <td>2.625634</td>\n",
       "      <td>0.855344</td>\n",
       "      <td>-0.462799</td>\n",
       "      <td>-0.598592</td>\n",
       "      <td>3</td>\n",
       "    </tr>\n",
       "    <tr>\n",
       "      <th>5</th>\n",
       "      <td>0.942211</td>\n",
       "      <td>1.100560</td>\n",
       "      <td>-0.304590</td>\n",
       "      <td>-0.289604</td>\n",
       "      <td>-0.462799</td>\n",
       "      <td>-0.598592</td>\n",
       "      <td>0</td>\n",
       "    </tr>\n",
       "  </tbody>\n",
       "</table>\n",
       "</div>"
      ],
      "text/plain": [
       "         Recency  cust_age  Frequency  MonetaryValue  prodcat1_distinct_cnt  \\\n",
       "custno                                                                        \n",
       "1      -0.322928 -0.938966  -0.304590      -2.317135              -0.462799   \n",
       "2      -0.138285  1.077802   2.118961       1.028735               0.611644   \n",
       "3      -0.010966 -0.128439   2.393508       1.269428              -0.462799   \n",
       "4      -0.884614 -1.080480   2.625634       0.855344              -0.462799   \n",
       "5       0.942211  1.100560  -0.304590      -0.289604              -0.462799   \n",
       "\n",
       "        event_frequency  Cluster  \n",
       "custno                            \n",
       "1             -0.598592        3  \n",
       "2             -0.598592        0  \n",
       "3             -0.598592        3  \n",
       "4             -0.598592        3  \n",
       "5             -0.598592        0  "
      ]
     },
     "execution_count": 175,
     "metadata": {},
     "output_type": "execute_result"
    }
   ],
   "source": [
    "df_rfm_k4[0].head()"
   ]
  },
  {
   "cell_type": "markdown",
   "metadata": {},
   "source": [
    "## Cluster Scores"
   ]
  },
  {
   "cell_type": "code",
   "execution_count": 172,
   "metadata": {
    "ExecuteTime": {
     "end_time": "2019-07-29T02:18:46.961993Z",
     "start_time": "2019-07-29T02:18:46.957431Z"
    }
   },
   "outputs": [],
   "source": [
    "def rfm_values(df):\n",
    "    '''\n",
    "    Calcualte average RFM values and size for each cluster\n",
    "\n",
    "    '''\n",
    "    df_new = df.groupby(['Cluster']).agg({\n",
    "        'Recency': 'mean',\n",
    "        'Frequency': 'mean',\n",
    "        'cust_age': 'mean',\n",
    "        'prodcat1_distinct_cnt': 'mean',\n",
    "        'MonetaryValue': ['mean', 'count'],\n",
    "        'event_frequency': 'mean'\n",
    "    })\n",
    "    \n",
    "    return df_new\n",
    "\n"
   ]
  },
  {
   "cell_type": "code",
   "execution_count": 173,
   "metadata": {
    "ExecuteTime": {
     "end_time": "2019-07-29T02:18:47.478237Z",
     "start_time": "2019-07-29T02:18:47.442520Z"
    }
   },
   "outputs": [
    {
     "data": {
      "text/html": [
       "<div>\n",
       "<style scoped>\n",
       "    .dataframe tbody tr th:only-of-type {\n",
       "        vertical-align: middle;\n",
       "    }\n",
       "\n",
       "    .dataframe tbody tr th {\n",
       "        vertical-align: top;\n",
       "    }\n",
       "\n",
       "    .dataframe thead tr th {\n",
       "        text-align: left;\n",
       "    }\n",
       "\n",
       "    .dataframe thead tr:last-of-type th {\n",
       "        text-align: right;\n",
       "    }\n",
       "</style>\n",
       "<table border=\"1\" class=\"dataframe\">\n",
       "  <thead>\n",
       "    <tr>\n",
       "      <th></th>\n",
       "      <th>Recency</th>\n",
       "      <th>Frequency</th>\n",
       "      <th>cust_age</th>\n",
       "      <th>prodcat1_distinct_cnt</th>\n",
       "      <th colspan=\"2\" halign=\"left\">MonetaryValue</th>\n",
       "      <th>event_frequency</th>\n",
       "    </tr>\n",
       "    <tr>\n",
       "      <th></th>\n",
       "      <th>mean</th>\n",
       "      <th>mean</th>\n",
       "      <th>mean</th>\n",
       "      <th>mean</th>\n",
       "      <th>mean</th>\n",
       "      <th>count</th>\n",
       "      <th>mean</th>\n",
       "    </tr>\n",
       "    <tr>\n",
       "      <th>Cluster</th>\n",
       "      <th></th>\n",
       "      <th></th>\n",
       "      <th></th>\n",
       "      <th></th>\n",
       "      <th></th>\n",
       "      <th></th>\n",
       "      <th></th>\n",
       "    </tr>\n",
       "  </thead>\n",
       "  <tbody>\n",
       "    <tr>\n",
       "      <th>0</th>\n",
       "      <td>-0.443686</td>\n",
       "      <td>-0.248510</td>\n",
       "      <td>-1.036713</td>\n",
       "      <td>-0.200944</td>\n",
       "      <td>-0.098835</td>\n",
       "      <td>18846</td>\n",
       "      <td>-0.029745</td>\n",
       "    </tr>\n",
       "    <tr>\n",
       "      <th>1</th>\n",
       "      <td>0.644384</td>\n",
       "      <td>-0.257396</td>\n",
       "      <td>0.646309</td>\n",
       "      <td>-0.227528</td>\n",
       "      <td>-0.192937</td>\n",
       "      <td>26410</td>\n",
       "      <td>-0.015473</td>\n",
       "    </tr>\n",
       "    <tr>\n",
       "      <th>2</th>\n",
       "      <td>-2.429547</td>\n",
       "      <td>3.222349</td>\n",
       "      <td>0.692918</td>\n",
       "      <td>2.749371</td>\n",
       "      <td>1.952882</td>\n",
       "      <td>3563</td>\n",
       "      <td>0.272023</td>\n",
       "    </tr>\n",
       "  </tbody>\n",
       "</table>\n",
       "</div>"
      ],
      "text/plain": [
       "          Recency Frequency  cust_age prodcat1_distinct_cnt MonetaryValue  \\\n",
       "             mean      mean      mean                  mean          mean   \n",
       "Cluster                                                                     \n",
       "0       -0.443686 -0.248510 -1.036713             -0.200944     -0.098835   \n",
       "1        0.644384 -0.257396  0.646309             -0.227528     -0.192937   \n",
       "2       -2.429547  3.222349  0.692918              2.749371      1.952882   \n",
       "\n",
       "               event_frequency  \n",
       "         count            mean  \n",
       "Cluster                         \n",
       "0        18846       -0.029745  \n",
       "1        26410       -0.015473  \n",
       "2         3563        0.272023  "
      ]
     },
     "execution_count": 173,
     "metadata": {},
     "output_type": "execute_result"
    }
   ],
   "source": [
    "rfm_values(df_rfm_k3[0])"
   ]
  },
  {
   "cell_type": "code",
   "execution_count": 174,
   "metadata": {
    "ExecuteTime": {
     "end_time": "2019-07-29T02:18:48.077993Z",
     "start_time": "2019-07-29T02:18:48.044003Z"
    }
   },
   "outputs": [
    {
     "data": {
      "text/html": [
       "<div>\n",
       "<style scoped>\n",
       "    .dataframe tbody tr th:only-of-type {\n",
       "        vertical-align: middle;\n",
       "    }\n",
       "\n",
       "    .dataframe tbody tr th {\n",
       "        vertical-align: top;\n",
       "    }\n",
       "\n",
       "    .dataframe thead tr th {\n",
       "        text-align: left;\n",
       "    }\n",
       "\n",
       "    .dataframe thead tr:last-of-type th {\n",
       "        text-align: right;\n",
       "    }\n",
       "</style>\n",
       "<table border=\"1\" class=\"dataframe\">\n",
       "  <thead>\n",
       "    <tr>\n",
       "      <th></th>\n",
       "      <th>Recency</th>\n",
       "      <th>Frequency</th>\n",
       "      <th>cust_age</th>\n",
       "      <th>prodcat1_distinct_cnt</th>\n",
       "      <th colspan=\"2\" halign=\"left\">MonetaryValue</th>\n",
       "      <th>event_frequency</th>\n",
       "    </tr>\n",
       "    <tr>\n",
       "      <th></th>\n",
       "      <th>mean</th>\n",
       "      <th>mean</th>\n",
       "      <th>mean</th>\n",
       "      <th>mean</th>\n",
       "      <th>mean</th>\n",
       "      <th>count</th>\n",
       "      <th>mean</th>\n",
       "    </tr>\n",
       "    <tr>\n",
       "      <th>Cluster</th>\n",
       "      <th></th>\n",
       "      <th></th>\n",
       "      <th></th>\n",
       "      <th></th>\n",
       "      <th></th>\n",
       "      <th></th>\n",
       "      <th></th>\n",
       "    </tr>\n",
       "  </thead>\n",
       "  <tbody>\n",
       "    <tr>\n",
       "      <th>0</th>\n",
       "      <td>0.646233</td>\n",
       "      <td>-0.256690</td>\n",
       "      <td>0.649020</td>\n",
       "      <td>-0.233360</td>\n",
       "      <td>-0.193601</td>\n",
       "      <td>25180</td>\n",
       "      <td>-0.179594</td>\n",
       "    </tr>\n",
       "    <tr>\n",
       "      <th>1</th>\n",
       "      <td>-2.431845</td>\n",
       "      <td>3.224983</td>\n",
       "      <td>0.692551</td>\n",
       "      <td>2.754776</td>\n",
       "      <td>1.954359</td>\n",
       "      <td>3549</td>\n",
       "      <td>0.245145</td>\n",
       "    </tr>\n",
       "    <tr>\n",
       "      <th>2</th>\n",
       "      <td>0.214953</td>\n",
       "      <td>-0.259005</td>\n",
       "      <td>-0.026953</td>\n",
       "      <td>-0.100481</td>\n",
       "      <td>-0.152958</td>\n",
       "      <td>2147</td>\n",
       "      <td>3.287739</td>\n",
       "    </tr>\n",
       "    <tr>\n",
       "      <th>3</th>\n",
       "      <td>-0.451599</td>\n",
       "      <td>-0.246667</td>\n",
       "      <td>-1.044547</td>\n",
       "      <td>-0.205371</td>\n",
       "      <td>-0.096570</td>\n",
       "      <td>17943</td>\n",
       "      <td>-0.189858</td>\n",
       "    </tr>\n",
       "  </tbody>\n",
       "</table>\n",
       "</div>"
      ],
      "text/plain": [
       "          Recency Frequency  cust_age prodcat1_distinct_cnt MonetaryValue  \\\n",
       "             mean      mean      mean                  mean          mean   \n",
       "Cluster                                                                     \n",
       "0        0.646233 -0.256690  0.649020             -0.233360     -0.193601   \n",
       "1       -2.431845  3.224983  0.692551              2.754776      1.954359   \n",
       "2        0.214953 -0.259005 -0.026953             -0.100481     -0.152958   \n",
       "3       -0.451599 -0.246667 -1.044547             -0.205371     -0.096570   \n",
       "\n",
       "               event_frequency  \n",
       "         count            mean  \n",
       "Cluster                         \n",
       "0        25180       -0.179594  \n",
       "1         3549        0.245145  \n",
       "2         2147        3.287739  \n",
       "3        17943       -0.189858  "
      ]
     },
     "execution_count": 174,
     "metadata": {},
     "output_type": "execute_result"
    }
   ],
   "source": [
    "rfm_values(df_rfm_k4[0])"
   ]
  },
  {
   "cell_type": "code",
   "execution_count": 170,
   "metadata": {
    "ExecuteTime": {
     "end_time": "2019-07-29T02:18:39.622557Z",
     "start_time": "2019-07-29T01:38:12.962599Z"
    }
   },
   "outputs": [
    {
     "data": {
      "image/png": "[encoded data removed]",
      "text/plain": [
       "<Figure size 432x288 with 1 Axes>"
      ]
     },
     "metadata": {
      "needs_background": "light"
     },
     "output_type": "display_data"
    }
   ],
   "source": [
    "model = TSNE(random_state=1)\n",
    "transformed = model.fit_transform(final_rfm)\n",
    "\n",
    "# Plot t-SNE\n",
    "plt.title('Flattened Graph of {} Clusters'.format(4))\n",
    "sns.scatterplot(x=transformed[:,0], y=transformed[:,1], hue=cluster_labels, style=cluster_labels, palette=\"Set1\")\n",
    "plt.savefig('Cluster.png', format='png', dpi=1000)\n"
   ]
  },
  {
   "cell_type": "code",
   "execution_count": null,
   "metadata": {},
   "outputs": [],
   "source": []
  },
  {
   "cell_type": "code",
   "execution_count": null,
   "metadata": {},
   "outputs": [],
   "source": []
  }
 ],
 "metadata": {
  "kernelspec": {
   "display_name": "Python 3",
   "language": "python",
   "name": "python3"
  },
  "language_info": {
   "codemirror_mode": {
    "name": "ipython",
    "version": 3
   },
   "file_extension": ".py",
   "mimetype": "text/x-python",
   "name": "python",
   "nbconvert_exporter": "python",
   "pygments_lexer": "ipython3",
   "version": "3.7.3"
  },
  "toc": {
   "base_numbering": 1,
   "nav_menu": {},
   "number_sections": true,
   "sideBar": true,
   "skip_h1_title": false,
   "title_cell": "Table of Contents",
   "title_sidebar": "Contents",
   "toc_cell": true,
   "toc_position": {},
   "toc_section_display": true,
   "toc_window_display": true
  }
 },
 "nbformat": 4,
 "nbformat_minor": 2
}
