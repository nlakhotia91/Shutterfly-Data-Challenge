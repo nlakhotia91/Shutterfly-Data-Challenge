{
 "cells": [
  {
   "cell_type": "markdown",
   "metadata": {
    "toc": true
   },
   "source": [
    "<h1>Table of Contents<span class=\"tocSkip\"></span></h1>\n",
    "<div class=\"toc\"><ul class=\"toc-item\"><li><span><a href=\"#Import-Modules\" data-toc-modified-id=\"Import-Modules-1\"><span class=\"toc-item-num\">1&nbsp;&nbsp;</span>Import Modules</a></span></li><li><span><a href=\"#Load-Order-Dataset\" data-toc-modified-id=\"Load-Order-Dataset-2\"><span class=\"toc-item-num\">2&nbsp;&nbsp;</span>Load Order Dataset</a></span></li><li><span><a href=\"#Data-Preparation\" data-toc-modified-id=\"Data-Preparation-3\"><span class=\"toc-item-num\">3&nbsp;&nbsp;</span>Data Preparation</a></span><ul class=\"toc-item\"><li><span><a href=\"#Data-1-:-custno,-procat2,-prodcat2_count\" data-toc-modified-id=\"Data-1-:-custno,-procat2,-prodcat2_count-3.1\"><span class=\"toc-item-num\">3.1&nbsp;&nbsp;</span>Data 1 : custno, procat2, prodcat2_count</a></span></li><li><span><a href=\"#Data-2-:-custno,-procat2,-purchase_dummy\" data-toc-modified-id=\"Data-2-:-custno,-procat2,-purchase_dummy-3.2\"><span class=\"toc-item-num\">3.2&nbsp;&nbsp;</span>Data 2 : custno, procat2, purchase_dummy</a></span></li><li><span><a href=\"#Data-3-:-custno,-procat2,-prodcat2_scaled_count\" data-toc-modified-id=\"Data-3-:-custno,-procat2,-prodcat2_scaled_count-3.3\"><span class=\"toc-item-num\">3.3&nbsp;&nbsp;</span>Data 3 : custno, procat2, prodcat2_scaled_count</a></span></li></ul></li><li><span><a href=\"#Split-Train-and-Test-set\" data-toc-modified-id=\"Split-Train-and-Test-set-4\"><span class=\"toc-item-num\">4&nbsp;&nbsp;</span>Split Train and Test set</a></span></li><li><span><a href=\"#Define-Models\" data-toc-modified-id=\"Define-Models-5\"><span class=\"toc-item-num\">5&nbsp;&nbsp;</span>Define Models</a></span><ul class=\"toc-item\"><li><span><a href=\"#Baseline--:-(Based-on-Popularity)\" data-toc-modified-id=\"Baseline--:-(Based-on-Popularity)-5.1\"><span class=\"toc-item-num\">5.1&nbsp;&nbsp;</span>Baseline  : (Based on Popularity)</a></span><ul class=\"toc-item\"><li><span><a href=\"#Using-purchase-count-data-(Data-1)\" data-toc-modified-id=\"Using-purchase-count-data-(Data-1)-5.1.1\"><span class=\"toc-item-num\">5.1.1&nbsp;&nbsp;</span>Using purchase count data (Data 1)</a></span></li><li><span><a href=\"#Using-dummy-data-(Data-2)\" data-toc-modified-id=\"Using-dummy-data-(Data-2)-5.1.2\"><span class=\"toc-item-num\">5.1.2&nbsp;&nbsp;</span>Using dummy data (Data 2)</a></span></li><li><span><a href=\"#Using-scaled-count-normalised-data-(Data-3)\" data-toc-modified-id=\"Using-scaled-count-normalised-data-(Data-3)-5.1.3\"><span class=\"toc-item-num\">5.1.3&nbsp;&nbsp;</span>Using scaled count normalised data (Data 3)</a></span></li></ul></li><li><span><a href=\"#Collaborative-Filtering-Model-1:-(Based-on-Cosine-Similarity)\" data-toc-modified-id=\"Collaborative-Filtering-Model-1:-(Based-on-Cosine-Similarity)-5.2\"><span class=\"toc-item-num\">5.2&nbsp;&nbsp;</span>Collaborative Filtering Model 1: (Based on Cosine Similarity)</a></span><ul class=\"toc-item\"><li><span><a href=\"#Using-purchase-count-data-(Data-1)\" data-toc-modified-id=\"Using-purchase-count-data-(Data-1)-5.2.1\"><span class=\"toc-item-num\">5.2.1&nbsp;&nbsp;</span>Using purchase count data (Data 1)</a></span></li><li><span><a href=\"#Using-dummy-data-(Data-2)\" data-toc-modified-id=\"Using-dummy-data-(Data-2)-5.2.2\"><span class=\"toc-item-num\">5.2.2&nbsp;&nbsp;</span>Using dummy data (Data 2)</a></span></li><li><span><a href=\"#Using-scaled-count-normalised-data-(Data-3)\" data-toc-modified-id=\"Using-scaled-count-normalised-data-(Data-3)-5.2.3\"><span class=\"toc-item-num\">5.2.3&nbsp;&nbsp;</span>Using scaled count normalised data (Data 3)</a></span></li></ul></li><li><span><a href=\"#Collaborative-Filtering-Model-2:-(Based-on-Pearson-Similarity)\" data-toc-modified-id=\"Collaborative-Filtering-Model-2:-(Based-on-Pearson-Similarity)-5.3\"><span class=\"toc-item-num\">5.3&nbsp;&nbsp;</span>Collaborative Filtering Model 2: (Based on Pearson Similarity)</a></span><ul class=\"toc-item\"><li><span><a href=\"#Using-purchase-count-data-(Data-1)\" data-toc-modified-id=\"Using-purchase-count-data-(Data-1)-5.3.1\"><span class=\"toc-item-num\">5.3.1&nbsp;&nbsp;</span>Using purchase count data (Data 1)</a></span></li><li><span><a href=\"#Using-dummy-data-(Data-2)\" data-toc-modified-id=\"Using-dummy-data-(Data-2)-5.3.2\"><span class=\"toc-item-num\">5.3.2&nbsp;&nbsp;</span>Using dummy data (Data 2)</a></span></li><li><span><a href=\"#Using-scaled-count-normalised-data-(Data-3)\" data-toc-modified-id=\"Using-scaled-count-normalised-data-(Data-3)-5.3.3\"><span class=\"toc-item-num\">5.3.3&nbsp;&nbsp;</span>Using scaled count normalised data (Data 3)</a></span></li></ul></li></ul></li><li><span><a href=\"#Model-Evaluation\" data-toc-modified-id=\"Model-Evaluation-6\"><span class=\"toc-item-num\">6&nbsp;&nbsp;</span>Model Evaluation</a></span></li><li><span><a href=\"#Final-Output\" data-toc-modified-id=\"Final-Output-7\"><span class=\"toc-item-num\">7&nbsp;&nbsp;</span>Final Output</a></span></li></ul></div>"
   ]
  },
  {
   "cell_type": "markdown",
   "metadata": {},
   "source": [
    "# Import Modules"
   ]
  },
  {
   "cell_type": "code",
   "execution_count": 49,
   "metadata": {
    "ExecuteTime": {
     "end_time": "2019-07-27T23:00:18.167413Z",
     "start_time": "2019-07-27T23:00:18.107332Z"
    }
   },
   "outputs": [
    {
     "name": "stderr",
     "output_type": "stream",
     "text": [
      "/Users/Manocha/anaconda3/lib/python3.6/site-packages/sklearn/cross_validation.py:41: DeprecationWarning: This module was deprecated in version 0.18 in favor of the model_selection module into which all the refactored classes and functions are moved. Also note that the interface of the new CV iterators are different from that of this module. This module will be removed in 0.20.\n",
      "  \"This module will be removed in 0.20.\", DeprecationWarning)\n"
     ]
    }
   ],
   "source": [
    "import pandas as pd\n",
    "import numpy as np\n",
    "import time\n",
    "import turicreate as tc\n",
    "from sklearn.cross_validation import train_test_split"
   ]
  },
  {
   "cell_type": "markdown",
   "metadata": {},
   "source": [
    "# Load Order Dataset"
   ]
  },
  {
   "cell_type": "code",
   "execution_count": 68,
   "metadata": {
    "ExecuteTime": {
     "end_time": "2019-07-27T02:01:25.749383Z",
     "start_time": "2019-07-27T02:01:23.325059Z"
    }
   },
   "outputs": [
    {
     "data": {
      "text/html": [
       "<div>\n",
       "<style scoped>\n",
       "    .dataframe tbody tr th:only-of-type {\n",
       "        vertical-align: middle;\n",
       "    }\n",
       "\n",
       "    .dataframe tbody tr th {\n",
       "        vertical-align: top;\n",
       "    }\n",
       "\n",
       "    .dataframe thead th {\n",
       "        text-align: right;\n",
       "    }\n",
       "</style>\n",
       "<table border=\"1\" class=\"dataframe\">\n",
       "  <thead>\n",
       "    <tr style=\"text-align: right;\">\n",
       "      <th></th>\n",
       "      <th>custno</th>\n",
       "      <th>ordno</th>\n",
       "      <th>orderdate</th>\n",
       "      <th>prodcat2</th>\n",
       "      <th>prodcat1</th>\n",
       "      <th>revenue</th>\n",
       "    </tr>\n",
       "  </thead>\n",
       "  <tbody>\n",
       "    <tr>\n",
       "      <th>172053</th>\n",
       "      <td>67913</td>\n",
       "      <td>143380</td>\n",
       "      <td>2016-01-01 05:05:14</td>\n",
       "      <td>38</td>\n",
       "      <td>5</td>\n",
       "      <td>139.77</td>\n",
       "    </tr>\n",
       "    <tr>\n",
       "      <th>55927</th>\n",
       "      <td>10880</td>\n",
       "      <td>15272</td>\n",
       "      <td>2016-01-01 06:34:56</td>\n",
       "      <td>4</td>\n",
       "      <td>2</td>\n",
       "      <td>147.51</td>\n",
       "    </tr>\n",
       "  </tbody>\n",
       "</table>\n",
       "</div>"
      ],
      "text/plain": [
       "       custno   ordno           orderdate prodcat2  prodcat1  revenue\n",
       "172053  67913  143380 2016-01-01 05:05:14       38         5   139.77\n",
       "55927   10880   15272 2016-01-01 06:34:56        4         2   147.51"
      ]
     },
     "execution_count": 68,
     "metadata": {},
     "output_type": "execute_result"
    }
   ],
   "source": [
    "order = pd.read_csv('order.csv',parse_dates=['orderdate'], dtype={'custno': str,'prodcat2': str })\n",
    "order.sort_values(by = ['orderdate'], inplace =True)\n",
    "\n",
    "order.head(2)"
   ]
  },
  {
   "cell_type": "code",
   "execution_count": null,
   "metadata": {},
   "outputs": [],
   "source": []
  },
  {
   "cell_type": "markdown",
   "metadata": {
    "ExecuteTime": {
     "end_time": "2019-07-27T02:21:00.444805Z",
     "start_time": "2019-07-27T02:21:00.432256Z"
    }
   },
   "source": [
    "# Data Preparation"
   ]
  },
  {
   "cell_type": "code",
   "execution_count": 229,
   "metadata": {},
   "outputs": [
    {
     "name": "stdout",
     "output_type": "stream",
     "text": [
      "70264\n",
      "68614\n"
     ]
    }
   ],
   "source": [
    "order1 = order.dropna(axis=0, subset=['prodcat2'])\n",
    "print (len(order['custno'].unique()))\n",
    "print (len(order1['custno'].unique())) ## Lost customer whose prodcat2 information was missing"
   ]
  },
  {
   "cell_type": "code",
   "execution_count": 230,
   "metadata": {},
   "outputs": [],
   "source": [
    "## Distinct combination of prodcat1 prodcat2"
   ]
  },
  {
   "cell_type": "code",
   "execution_count": 231,
   "metadata": {},
   "outputs": [
    {
     "name": "stdout",
     "output_type": "stream",
     "text": [
      "252\n"
     ]
    },
    {
     "data": {
      "text/html": [
       "<div>\n",
       "<style scoped>\n",
       "    .dataframe tbody tr th:only-of-type {\n",
       "        vertical-align: middle;\n",
       "    }\n",
       "\n",
       "    .dataframe tbody tr th {\n",
       "        vertical-align: top;\n",
       "    }\n",
       "\n",
       "    .dataframe thead th {\n",
       "        text-align: right;\n",
       "    }\n",
       "</style>\n",
       "<table border=\"1\" class=\"dataframe\">\n",
       "  <thead>\n",
       "    <tr style=\"text-align: right;\">\n",
       "      <th></th>\n",
       "      <th>prodcat1</th>\n",
       "      <th>prodcat2</th>\n",
       "    </tr>\n",
       "  </thead>\n",
       "  <tbody>\n",
       "    <tr>\n",
       "      <th>0</th>\n",
       "      <td>1</td>\n",
       "      <td>107</td>\n",
       "    </tr>\n",
       "    <tr>\n",
       "      <th>1</th>\n",
       "      <td>1</td>\n",
       "      <td>109</td>\n",
       "    </tr>\n",
       "    <tr>\n",
       "      <th>2</th>\n",
       "      <td>1</td>\n",
       "      <td>11</td>\n",
       "    </tr>\n",
       "    <tr>\n",
       "      <th>3</th>\n",
       "      <td>1</td>\n",
       "      <td>12</td>\n",
       "    </tr>\n",
       "    <tr>\n",
       "      <th>4</th>\n",
       "      <td>1</td>\n",
       "      <td>125</td>\n",
       "    </tr>\n",
       "  </tbody>\n",
       "</table>\n",
       "</div>"
      ],
      "text/plain": [
       "   prodcat1 prodcat2\n",
       "0         1      107\n",
       "1         1      109\n",
       "2         1       11\n",
       "3         1       12\n",
       "4         1      125"
      ]
     },
     "execution_count": 231,
     "metadata": {},
     "output_type": "execute_result"
    }
   ],
   "source": [
    "prod_cat1_cat2=order1.groupby(['prodcat1', 'prodcat2']).size().reset_index()\n",
    "prod_cat1_cat2=prod_cat1_cat2[['prodcat1', 'prodcat2']]\n",
    "print (len(prod_cat1_cat2))\n",
    "prod_cat1_cat2.head()"
   ]
  },
  {
   "cell_type": "code",
   "execution_count": 232,
   "metadata": {},
   "outputs": [
    {
     "data": {
      "text/html": [
       "<div>\n",
       "<style scoped>\n",
       "    .dataframe tbody tr th:only-of-type {\n",
       "        vertical-align: middle;\n",
       "    }\n",
       "\n",
       "    .dataframe tbody tr th {\n",
       "        vertical-align: top;\n",
       "    }\n",
       "\n",
       "    .dataframe thead th {\n",
       "        text-align: right;\n",
       "    }\n",
       "</style>\n",
       "<table border=\"1\" class=\"dataframe\">\n",
       "  <thead>\n",
       "    <tr style=\"text-align: right;\">\n",
       "      <th></th>\n",
       "      <th>prodcat1</th>\n",
       "      <th>prodcat2</th>\n",
       "    </tr>\n",
       "  </thead>\n",
       "  <tbody>\n",
       "    <tr>\n",
       "      <th>172</th>\n",
       "      <td>3</td>\n",
       "      <td>96</td>\n",
       "    </tr>\n",
       "    <tr>\n",
       "      <th>250</th>\n",
       "      <td>7</td>\n",
       "      <td>96</td>\n",
       "    </tr>\n",
       "  </tbody>\n",
       "</table>\n",
       "</div>"
      ],
      "text/plain": [
       "     prodcat1 prodcat2\n",
       "172         3       96\n",
       "250         7       96"
      ]
     },
     "execution_count": 232,
     "metadata": {},
     "output_type": "execute_result"
    }
   ],
   "source": [
    "prod_cat1_cat2[prod_cat1_cat2['prodcat2']=='96']"
   ]
  },
  {
   "cell_type": "markdown",
   "metadata": {},
   "source": [
    "## Data 1 : custno, procat2, prodcat2_count"
   ]
  },
  {
   "cell_type": "code",
   "execution_count": 153,
   "metadata": {},
   "outputs": [
    {
     "name": "stdout",
     "output_type": "stream",
     "text": [
      "# of unique custno/procat2 orders: 180697\n"
     ]
    },
    {
     "data": {
      "text/html": [
       "<div>\n",
       "<style scoped>\n",
       "    .dataframe tbody tr th:only-of-type {\n",
       "        vertical-align: middle;\n",
       "    }\n",
       "\n",
       "    .dataframe tbody tr th {\n",
       "        vertical-align: top;\n",
       "    }\n",
       "\n",
       "    .dataframe thead th {\n",
       "        text-align: right;\n",
       "    }\n",
       "</style>\n",
       "<table border=\"1\" class=\"dataframe\">\n",
       "  <thead>\n",
       "    <tr style=\"text-align: right;\">\n",
       "      <th></th>\n",
       "      <th>custno</th>\n",
       "      <th>prodcat2</th>\n",
       "      <th>prodcat2_count</th>\n",
       "    </tr>\n",
       "  </thead>\n",
       "  <tbody>\n",
       "    <tr>\n",
       "      <th>0</th>\n",
       "      <td>10</td>\n",
       "      <td>2</td>\n",
       "      <td>1</td>\n",
       "    </tr>\n",
       "    <tr>\n",
       "      <th>1</th>\n",
       "      <td>10</td>\n",
       "      <td>3</td>\n",
       "      <td>1</td>\n",
       "    </tr>\n",
       "    <tr>\n",
       "      <th>2</th>\n",
       "      <td>100</td>\n",
       "      <td>11</td>\n",
       "      <td>5</td>\n",
       "    </tr>\n",
       "    <tr>\n",
       "      <th>3</th>\n",
       "      <td>100</td>\n",
       "      <td>138</td>\n",
       "      <td>1</td>\n",
       "    </tr>\n",
       "    <tr>\n",
       "      <th>4</th>\n",
       "      <td>100</td>\n",
       "      <td>2</td>\n",
       "      <td>3</td>\n",
       "    </tr>\n",
       "  </tbody>\n",
       "</table>\n",
       "</div>"
      ],
      "text/plain": [
       "  custno prodcat2  prodcat2_count\n",
       "0     10        2               1\n",
       "1     10        3               1\n",
       "2    100       11               5\n",
       "3    100      138               1\n",
       "4    100        2               3"
      ]
     },
     "execution_count": 153,
     "metadata": {},
     "output_type": "execute_result"
    }
   ],
   "source": [
    "order_count = order1.groupby(['custno', 'prodcat2'])['prodcat2'].count()\n",
    "order_count = order_count.reset_index(name = 'prodcat2_count')\n",
    "print ('# of unique custno/procat2 orders: %d' % len(order_count))\n",
    "order_count.head(5)"
   ]
  },
  {
   "cell_type": "markdown",
   "metadata": {},
   "source": [
    "## Data 2 : custno, procat2, purchase_dummy"
   ]
  },
  {
   "cell_type": "code",
   "execution_count": 154,
   "metadata": {
    "ExecuteTime": {
     "end_time": "2019-07-27T21:51:05.898089Z",
     "start_time": "2019-07-27T21:51:05.764156Z"
    }
   },
   "outputs": [
    {
     "data": {
      "text/html": [
       "<div>\n",
       "<style scoped>\n",
       "    .dataframe tbody tr th:only-of-type {\n",
       "        vertical-align: middle;\n",
       "    }\n",
       "\n",
       "    .dataframe tbody tr th {\n",
       "        vertical-align: top;\n",
       "    }\n",
       "\n",
       "    .dataframe thead th {\n",
       "        text-align: right;\n",
       "    }\n",
       "</style>\n",
       "<table border=\"1\" class=\"dataframe\">\n",
       "  <thead>\n",
       "    <tr style=\"text-align: right;\">\n",
       "      <th></th>\n",
       "      <th>custno</th>\n",
       "      <th>prodcat2</th>\n",
       "      <th>prodcat2_count</th>\n",
       "      <th>purchase_dummy</th>\n",
       "    </tr>\n",
       "  </thead>\n",
       "  <tbody>\n",
       "    <tr>\n",
       "      <th>0</th>\n",
       "      <td>10</td>\n",
       "      <td>2</td>\n",
       "      <td>1</td>\n",
       "      <td>1</td>\n",
       "    </tr>\n",
       "    <tr>\n",
       "      <th>1</th>\n",
       "      <td>10</td>\n",
       "      <td>3</td>\n",
       "      <td>1</td>\n",
       "      <td>1</td>\n",
       "    </tr>\n",
       "    <tr>\n",
       "      <th>2</th>\n",
       "      <td>100</td>\n",
       "      <td>11</td>\n",
       "      <td>5</td>\n",
       "      <td>1</td>\n",
       "    </tr>\n",
       "    <tr>\n",
       "      <th>3</th>\n",
       "      <td>100</td>\n",
       "      <td>138</td>\n",
       "      <td>1</td>\n",
       "      <td>1</td>\n",
       "    </tr>\n",
       "    <tr>\n",
       "      <th>4</th>\n",
       "      <td>100</td>\n",
       "      <td>2</td>\n",
       "      <td>3</td>\n",
       "      <td>1</td>\n",
       "    </tr>\n",
       "  </tbody>\n",
       "</table>\n",
       "</div>"
      ],
      "text/plain": [
       "  custno prodcat2  prodcat2_count  purchase_dummy\n",
       "0     10        2               1               1\n",
       "1     10        3               1               1\n",
       "2    100       11               5               1\n",
       "3    100      138               1               1\n",
       "4    100        2               3               1"
      ]
     },
     "execution_count": 154,
     "metadata": {},
     "output_type": "execute_result"
    }
   ],
   "source": [
    "## Create dummy data\n",
    "def create_data_dummy(data):\n",
    "    data_dummy = data.copy()\n",
    "    data_dummy['purchase_dummy'] = 1\n",
    "    return data_dummy\n",
    "order_dummy = create_data_dummy(order_count)\n",
    "order_dummy.head()"
   ]
  },
  {
   "cell_type": "markdown",
   "metadata": {},
   "source": [
    "## Data 3 : custno, procat2, prodcat2_scaled_count"
   ]
  },
  {
   "cell_type": "code",
   "execution_count": 155,
   "metadata": {},
   "outputs": [
    {
     "data": {
      "text/html": [
       "<div>\n",
       "<style scoped>\n",
       "    .dataframe tbody tr th:only-of-type {\n",
       "        vertical-align: middle;\n",
       "    }\n",
       "\n",
       "    .dataframe tbody tr th {\n",
       "        vertical-align: top;\n",
       "    }\n",
       "\n",
       "    .dataframe thead th {\n",
       "        text-align: right;\n",
       "    }\n",
       "</style>\n",
       "<table border=\"1\" class=\"dataframe\">\n",
       "  <thead>\n",
       "    <tr style=\"text-align: right;\">\n",
       "      <th>prodcat2</th>\n",
       "      <th>10</th>\n",
       "      <th>100</th>\n",
       "      <th>101</th>\n",
       "      <th>102</th>\n",
       "      <th>103</th>\n",
       "      <th>104</th>\n",
       "      <th>105</th>\n",
       "      <th>106</th>\n",
       "      <th>107</th>\n",
       "      <th>108</th>\n",
       "      <th>...</th>\n",
       "      <th>90</th>\n",
       "      <th>91</th>\n",
       "      <th>92</th>\n",
       "      <th>93</th>\n",
       "      <th>94</th>\n",
       "      <th>95</th>\n",
       "      <th>96</th>\n",
       "      <th>97</th>\n",
       "      <th>98</th>\n",
       "      <th>99</th>\n",
       "    </tr>\n",
       "    <tr>\n",
       "      <th>custno</th>\n",
       "      <th></th>\n",
       "      <th></th>\n",
       "      <th></th>\n",
       "      <th></th>\n",
       "      <th></th>\n",
       "      <th></th>\n",
       "      <th></th>\n",
       "      <th></th>\n",
       "      <th></th>\n",
       "      <th></th>\n",
       "      <th></th>\n",
       "      <th></th>\n",
       "      <th></th>\n",
       "      <th></th>\n",
       "      <th></th>\n",
       "      <th></th>\n",
       "      <th></th>\n",
       "      <th></th>\n",
       "      <th></th>\n",
       "      <th></th>\n",
       "      <th></th>\n",
       "    </tr>\n",
       "  </thead>\n",
       "  <tbody>\n",
       "    <tr>\n",
       "      <th>10</th>\n",
       "      <td>NaN</td>\n",
       "      <td>NaN</td>\n",
       "      <td>NaN</td>\n",
       "      <td>NaN</td>\n",
       "      <td>NaN</td>\n",
       "      <td>NaN</td>\n",
       "      <td>NaN</td>\n",
       "      <td>NaN</td>\n",
       "      <td>NaN</td>\n",
       "      <td>NaN</td>\n",
       "      <td>...</td>\n",
       "      <td>NaN</td>\n",
       "      <td>NaN</td>\n",
       "      <td>NaN</td>\n",
       "      <td>NaN</td>\n",
       "      <td>NaN</td>\n",
       "      <td>NaN</td>\n",
       "      <td>NaN</td>\n",
       "      <td>NaN</td>\n",
       "      <td>NaN</td>\n",
       "      <td>NaN</td>\n",
       "    </tr>\n",
       "    <tr>\n",
       "      <th>100</th>\n",
       "      <td>NaN</td>\n",
       "      <td>NaN</td>\n",
       "      <td>NaN</td>\n",
       "      <td>NaN</td>\n",
       "      <td>NaN</td>\n",
       "      <td>NaN</td>\n",
       "      <td>NaN</td>\n",
       "      <td>NaN</td>\n",
       "      <td>NaN</td>\n",
       "      <td>NaN</td>\n",
       "      <td>...</td>\n",
       "      <td>NaN</td>\n",
       "      <td>NaN</td>\n",
       "      <td>NaN</td>\n",
       "      <td>2.0</td>\n",
       "      <td>NaN</td>\n",
       "      <td>NaN</td>\n",
       "      <td>NaN</td>\n",
       "      <td>NaN</td>\n",
       "      <td>NaN</td>\n",
       "      <td>NaN</td>\n",
       "    </tr>\n",
       "  </tbody>\n",
       "</table>\n",
       "<p>2 rows × 251 columns</p>\n",
       "</div>"
      ],
      "text/plain": [
       "prodcat2  10  100  101  102  103  104  105  106  107  108 ...  90  91  92  \\\n",
       "custno                                                    ...               \n",
       "10       NaN  NaN  NaN  NaN  NaN  NaN  NaN  NaN  NaN  NaN ... NaN NaN NaN   \n",
       "100      NaN  NaN  NaN  NaN  NaN  NaN  NaN  NaN  NaN  NaN ... NaN NaN NaN   \n",
       "\n",
       "prodcat2   93  94  95  96  97  98  99  \n",
       "custno                                 \n",
       "10        NaN NaN NaN NaN NaN NaN NaN  \n",
       "100       2.0 NaN NaN NaN NaN NaN NaN  \n",
       "\n",
       "[2 rows x 251 columns]"
      ]
     },
     "execution_count": 155,
     "metadata": {},
     "output_type": "execute_result"
    }
   ],
   "source": [
    "## Normalize item values across users\n",
    "order_matrix = pd.pivot_table(order_count, values='prodcat2_count', index='custno', columns='prodcat2')\n",
    "order_matrix.head(2)"
   ]
  },
  {
   "cell_type": "code",
   "execution_count": 156,
   "metadata": {
    "ExecuteTime": {
     "end_time": "2019-07-27T22:58:26.223587Z",
     "start_time": "2019-07-27T22:58:25.958472Z"
    }
   },
   "outputs": [
    {
     "name": "stdout",
     "output_type": "stream",
     "text": [
      "(68614, 251)\n"
     ]
    },
    {
     "data": {
      "text/html": [
       "<div>\n",
       "<style scoped>\n",
       "    .dataframe tbody tr th:only-of-type {\n",
       "        vertical-align: middle;\n",
       "    }\n",
       "\n",
       "    .dataframe tbody tr th {\n",
       "        vertical-align: top;\n",
       "    }\n",
       "\n",
       "    .dataframe thead th {\n",
       "        text-align: right;\n",
       "    }\n",
       "</style>\n",
       "<table border=\"1\" class=\"dataframe\">\n",
       "  <thead>\n",
       "    <tr style=\"text-align: right;\">\n",
       "      <th>prodcat2</th>\n",
       "      <th>10</th>\n",
       "      <th>100</th>\n",
       "      <th>101</th>\n",
       "      <th>102</th>\n",
       "      <th>103</th>\n",
       "      <th>104</th>\n",
       "      <th>105</th>\n",
       "      <th>106</th>\n",
       "      <th>107</th>\n",
       "      <th>108</th>\n",
       "      <th>...</th>\n",
       "      <th>90</th>\n",
       "      <th>91</th>\n",
       "      <th>92</th>\n",
       "      <th>93</th>\n",
       "      <th>94</th>\n",
       "      <th>95</th>\n",
       "      <th>96</th>\n",
       "      <th>97</th>\n",
       "      <th>98</th>\n",
       "      <th>99</th>\n",
       "    </tr>\n",
       "    <tr>\n",
       "      <th>custno</th>\n",
       "      <th></th>\n",
       "      <th></th>\n",
       "      <th></th>\n",
       "      <th></th>\n",
       "      <th></th>\n",
       "      <th></th>\n",
       "      <th></th>\n",
       "      <th></th>\n",
       "      <th></th>\n",
       "      <th></th>\n",
       "      <th></th>\n",
       "      <th></th>\n",
       "      <th></th>\n",
       "      <th></th>\n",
       "      <th></th>\n",
       "      <th></th>\n",
       "      <th></th>\n",
       "      <th></th>\n",
       "      <th></th>\n",
       "      <th></th>\n",
       "      <th></th>\n",
       "    </tr>\n",
       "  </thead>\n",
       "  <tbody>\n",
       "    <tr>\n",
       "      <th>10</th>\n",
       "      <td>NaN</td>\n",
       "      <td>NaN</td>\n",
       "      <td>NaN</td>\n",
       "      <td>NaN</td>\n",
       "      <td>NaN</td>\n",
       "      <td>NaN</td>\n",
       "      <td>NaN</td>\n",
       "      <td>NaN</td>\n",
       "      <td>NaN</td>\n",
       "      <td>NaN</td>\n",
       "      <td>...</td>\n",
       "      <td>NaN</td>\n",
       "      <td>NaN</td>\n",
       "      <td>NaN</td>\n",
       "      <td>NaN</td>\n",
       "      <td>NaN</td>\n",
       "      <td>NaN</td>\n",
       "      <td>NaN</td>\n",
       "      <td>NaN</td>\n",
       "      <td>NaN</td>\n",
       "      <td>NaN</td>\n",
       "    </tr>\n",
       "    <tr>\n",
       "      <th>100</th>\n",
       "      <td>NaN</td>\n",
       "      <td>NaN</td>\n",
       "      <td>NaN</td>\n",
       "      <td>NaN</td>\n",
       "      <td>NaN</td>\n",
       "      <td>NaN</td>\n",
       "      <td>NaN</td>\n",
       "      <td>NaN</td>\n",
       "      <td>NaN</td>\n",
       "      <td>NaN</td>\n",
       "      <td>...</td>\n",
       "      <td>NaN</td>\n",
       "      <td>NaN</td>\n",
       "      <td>NaN</td>\n",
       "      <td>0.333333</td>\n",
       "      <td>NaN</td>\n",
       "      <td>NaN</td>\n",
       "      <td>NaN</td>\n",
       "      <td>NaN</td>\n",
       "      <td>NaN</td>\n",
       "      <td>NaN</td>\n",
       "    </tr>\n",
       "    <tr>\n",
       "      <th>1000</th>\n",
       "      <td>NaN</td>\n",
       "      <td>NaN</td>\n",
       "      <td>NaN</td>\n",
       "      <td>NaN</td>\n",
       "      <td>NaN</td>\n",
       "      <td>NaN</td>\n",
       "      <td>NaN</td>\n",
       "      <td>NaN</td>\n",
       "      <td>NaN</td>\n",
       "      <td>NaN</td>\n",
       "      <td>...</td>\n",
       "      <td>NaN</td>\n",
       "      <td>NaN</td>\n",
       "      <td>NaN</td>\n",
       "      <td>NaN</td>\n",
       "      <td>NaN</td>\n",
       "      <td>NaN</td>\n",
       "      <td>NaN</td>\n",
       "      <td>NaN</td>\n",
       "      <td>NaN</td>\n",
       "      <td>NaN</td>\n",
       "    </tr>\n",
       "    <tr>\n",
       "      <th>10000</th>\n",
       "      <td>NaN</td>\n",
       "      <td>NaN</td>\n",
       "      <td>NaN</td>\n",
       "      <td>NaN</td>\n",
       "      <td>NaN</td>\n",
       "      <td>NaN</td>\n",
       "      <td>NaN</td>\n",
       "      <td>NaN</td>\n",
       "      <td>NaN</td>\n",
       "      <td>NaN</td>\n",
       "      <td>...</td>\n",
       "      <td>NaN</td>\n",
       "      <td>NaN</td>\n",
       "      <td>NaN</td>\n",
       "      <td>NaN</td>\n",
       "      <td>NaN</td>\n",
       "      <td>NaN</td>\n",
       "      <td>NaN</td>\n",
       "      <td>NaN</td>\n",
       "      <td>NaN</td>\n",
       "      <td>NaN</td>\n",
       "    </tr>\n",
       "  </tbody>\n",
       "</table>\n",
       "<p>4 rows × 251 columns</p>\n",
       "</div>"
      ],
      "text/plain": [
       "prodcat2  10  100  101  102  103  104  105  106  107  108 ...  90  91  92  \\\n",
       "custno                                                    ...               \n",
       "10       NaN  NaN  NaN  NaN  NaN  NaN  NaN  NaN  NaN  NaN ... NaN NaN NaN   \n",
       "100      NaN  NaN  NaN  NaN  NaN  NaN  NaN  NaN  NaN  NaN ... NaN NaN NaN   \n",
       "1000     NaN  NaN  NaN  NaN  NaN  NaN  NaN  NaN  NaN  NaN ... NaN NaN NaN   \n",
       "10000    NaN  NaN  NaN  NaN  NaN  NaN  NaN  NaN  NaN  NaN ... NaN NaN NaN   \n",
       "\n",
       "prodcat2        93  94  95  96  97  98  99  \n",
       "custno                                      \n",
       "10             NaN NaN NaN NaN NaN NaN NaN  \n",
       "100       0.333333 NaN NaN NaN NaN NaN NaN  \n",
       "1000           NaN NaN NaN NaN NaN NaN NaN  \n",
       "10000          NaN NaN NaN NaN NaN NaN NaN  \n",
       "\n",
       "[4 rows x 251 columns]"
      ]
     },
     "execution_count": 156,
     "metadata": {},
     "output_type": "execute_result"
    }
   ],
   "source": [
    "order_matrix_norm = (order_matrix-order_matrix.min())/(order_matrix.max()-order_matrix.min())\n",
    "print(order_matrix_norm.shape)\n",
    "order_matrix_norm.head(4)"
   ]
  },
  {
   "cell_type": "code",
   "execution_count": 157,
   "metadata": {
    "ExecuteTime": {
     "end_time": "2019-07-27T21:53:19.271651Z",
     "start_time": "2019-07-27T21:53:19.039845Z"
    }
   },
   "outputs": [
    {
     "name": "stdout",
     "output_type": "stream",
     "text": [
      "(180319, 3)\n"
     ]
    },
    {
     "data": {
      "text/html": [
       "<div>\n",
       "<style scoped>\n",
       "    .dataframe tbody tr th:only-of-type {\n",
       "        vertical-align: middle;\n",
       "    }\n",
       "\n",
       "    .dataframe tbody tr th {\n",
       "        vertical-align: top;\n",
       "    }\n",
       "\n",
       "    .dataframe thead th {\n",
       "        text-align: right;\n",
       "    }\n",
       "</style>\n",
       "<table border=\"1\" class=\"dataframe\">\n",
       "  <thead>\n",
       "    <tr style=\"text-align: right;\">\n",
       "      <th></th>\n",
       "      <th>custno</th>\n",
       "      <th>prodcat2</th>\n",
       "      <th>prodcat2_scaled_count</th>\n",
       "    </tr>\n",
       "  </thead>\n",
       "  <tbody>\n",
       "    <tr>\n",
       "      <th>242</th>\n",
       "      <td>10217</td>\n",
       "      <td>10</td>\n",
       "      <td>0.0</td>\n",
       "    </tr>\n",
       "    <tr>\n",
       "      <th>245</th>\n",
       "      <td>1022</td>\n",
       "      <td>10</td>\n",
       "      <td>0.0</td>\n",
       "    </tr>\n",
       "    <tr>\n",
       "      <th>246</th>\n",
       "      <td>10220</td>\n",
       "      <td>10</td>\n",
       "      <td>0.0</td>\n",
       "    </tr>\n",
       "    <tr>\n",
       "      <th>272</th>\n",
       "      <td>10244</td>\n",
       "      <td>10</td>\n",
       "      <td>0.0</td>\n",
       "    </tr>\n",
       "    <tr>\n",
       "      <th>366</th>\n",
       "      <td>10329</td>\n",
       "      <td>10</td>\n",
       "      <td>0.0</td>\n",
       "    </tr>\n",
       "  </tbody>\n",
       "</table>\n",
       "</div>"
      ],
      "text/plain": [
       "    custno prodcat2  prodcat2_scaled_count\n",
       "242  10217       10                    0.0\n",
       "245   1022       10                    0.0\n",
       "246  10220       10                    0.0\n",
       "272  10244       10                    0.0\n",
       "366  10329       10                    0.0"
      ]
     },
     "execution_count": 157,
     "metadata": {},
     "output_type": "execute_result"
    }
   ],
   "source": [
    "# create a table for input to the modeling\n",
    "\n",
    "d = order_matrix_norm.reset_index()\n",
    "d.index.names = ['prodcat2_scaled_count']\n",
    "order_norm = pd.melt(d, id_vars=['custno'], value_name='prodcat2_scaled_count').dropna()\n",
    "print(order_norm.shape)\n",
    "order_norm.head()"
   ]
  },
  {
   "cell_type": "markdown",
   "metadata": {},
   "source": [
    "# Split Train and Test set"
   ]
  },
  {
   "cell_type": "code",
   "execution_count": 158,
   "metadata": {},
   "outputs": [],
   "source": [
    "def split_data(data):\n",
    "    '''\n",
    "    Splits dataset into training and test set.\n",
    "    \n",
    "    Args:\n",
    "        data (pandas.DataFrame)\n",
    "        \n",
    "    Returns\n",
    "        train_data (tc.SFrame)\n",
    "        test_data (tc.SFrame)\n",
    "    '''\n",
    "    train, test = train_test_split(data, test_size = .1)\n",
    "    train_data = tc.SFrame(train)\n",
    "    test_data = tc.SFrame(test)\n",
    "    return train_data, test_data"
   ]
  },
  {
   "cell_type": "code",
   "execution_count": 233,
   "metadata": {},
   "outputs": [],
   "source": [
    "train_count, test_count = split_data(order_count)\n",
    "train_dummy, test_dummy = split_data(order_dummy)\n",
    "train_norm, test_norm = split_data(order_norm)"
   ]
  },
  {
   "cell_type": "markdown",
   "metadata": {},
   "source": [
    "# Define Models"
   ]
  },
  {
   "cell_type": "code",
   "execution_count": 234,
   "metadata": {},
   "outputs": [],
   "source": [
    "# constant variables to define field names include:\n",
    "user_id = 'custno'\n",
    "item_id = 'prodcat2'\n",
    "users_to_recommend = list(order1['custno'].unique())\n",
    "n_rec = 15 # number of items to recommend\n",
    "n_display = 20 # to display the first few rows in an output dataset"
   ]
  },
  {
   "cell_type": "code",
   "execution_count": 235,
   "metadata": {},
   "outputs": [],
   "source": [
    "def model(train_data, name, user_id, item_id, target, users_to_recommend, n_rec, n_display):\n",
    "    if name == 'popularity':\n",
    "        model = tc.popularity_recommender.create(train_data, \n",
    "                                                    user_id=user_id, \n",
    "                                                    item_id=item_id, \n",
    "                                                    target=target)\n",
    "    elif name == 'cosine':\n",
    "        model = tc.item_similarity_recommender.create(train_data, \n",
    "                                                    user_id=user_id, \n",
    "                                                    item_id=item_id, \n",
    "                                                    target=target, \n",
    "                                                    similarity_type='cosine')\n",
    "    elif name == 'pearson':\n",
    "        model = tc.item_similarity_recommender.create(train_data, \n",
    "                                                    user_id=user_id, \n",
    "                                                    item_id=item_id, \n",
    "                                                    target=target, \n",
    "                                                    similarity_type='pearson')\n",
    "        \n",
    "    recom = model.recommend(users=users_to_recommend, k=n_rec)\n",
    "    recom.print_rows(n_display)\n",
    "    return model"
   ]
  },
  {
   "cell_type": "markdown",
   "metadata": {},
   "source": [
    "##  Baseline  : (Based on Popularity)"
   ]
  },
  {
   "cell_type": "markdown",
   "metadata": {},
   "source": [
    "### Using purchase count data (Data 1)"
   ]
  },
  {
   "cell_type": "code",
   "execution_count": 236,
   "metadata": {},
   "outputs": [
    {
     "data": {
      "text/html": [
       "<pre>Preparing data set.</pre>"
      ],
      "text/plain": [
       "Preparing data set."
      ]
     },
     "metadata": {},
     "output_type": "display_data"
    },
    {
     "data": {
      "text/html": [
       "<pre>    Data has 162627 observations with 65740 users and 249 items.</pre>"
      ],
      "text/plain": [
       "    Data has 162627 observations with 65740 users and 249 items."
      ]
     },
     "metadata": {},
     "output_type": "display_data"
    },
    {
     "data": {
      "text/html": [
       "<pre>    Data prepared in: 0.449157s</pre>"
      ],
      "text/plain": [
       "    Data prepared in: 0.449157s"
      ]
     },
     "metadata": {},
     "output_type": "display_data"
    },
    {
     "data": {
      "text/html": [
       "<pre>162627 observations to process; with 249 unique items.</pre>"
      ],
      "text/plain": [
       "162627 observations to process; with 249 unique items."
      ]
     },
     "metadata": {},
     "output_type": "display_data"
    },
    {
     "data": {
      "text/html": [
       "<pre>recommendations finished on 1000/68614 queries. users per second: 42660.3</pre>"
      ],
      "text/plain": [
       "recommendations finished on 1000/68614 queries. users per second: 42660.3"
      ]
     },
     "metadata": {},
     "output_type": "display_data"
    },
    {
     "data": {
      "text/html": [
       "<pre>recommendations finished on 2000/68614 queries. users per second: 68115.3</pre>"
      ],
      "text/plain": [
       "recommendations finished on 2000/68614 queries. users per second: 68115.3"
      ]
     },
     "metadata": {},
     "output_type": "display_data"
    },
    {
     "data": {
      "text/html": [
       "<pre>recommendations finished on 3000/68614 queries. users per second: 88628.9</pre>"
      ],
      "text/plain": [
       "recommendations finished on 3000/68614 queries. users per second: 88628.9"
      ]
     },
     "metadata": {},
     "output_type": "display_data"
    },
    {
     "data": {
      "text/html": [
       "<pre>recommendations finished on 4000/68614 queries. users per second: 103263</pre>"
      ],
      "text/plain": [
       "recommendations finished on 4000/68614 queries. users per second: 103263"
      ]
     },
     "metadata": {},
     "output_type": "display_data"
    },
    {
     "data": {
      "text/html": [
       "<pre>recommendations finished on 5000/68614 queries. users per second: 105966</pre>"
      ],
      "text/plain": [
       "recommendations finished on 5000/68614 queries. users per second: 105966"
      ]
     },
     "metadata": {},
     "output_type": "display_data"
    },
    {
     "data": {
      "text/html": [
       "<pre>recommendations finished on 6000/68614 queries. users per second: 107461</pre>"
      ],
      "text/plain": [
       "recommendations finished on 6000/68614 queries. users per second: 107461"
      ]
     },
     "metadata": {},
     "output_type": "display_data"
    },
    {
     "data": {
      "text/html": [
       "<pre>recommendations finished on 7000/68614 queries. users per second: 103845</pre>"
      ],
      "text/plain": [
       "recommendations finished on 7000/68614 queries. users per second: 103845"
      ]
     },
     "metadata": {},
     "output_type": "display_data"
    },
    {
     "data": {
      "text/html": [
       "<pre>recommendations finished on 8000/68614 queries. users per second: 109625</pre>"
      ],
      "text/plain": [
       "recommendations finished on 8000/68614 queries. users per second: 109625"
      ]
     },
     "metadata": {},
     "output_type": "display_data"
    },
    {
     "data": {
      "text/html": [
       "<pre>recommendations finished on 9000/68614 queries. users per second: 109632</pre>"
      ],
      "text/plain": [
       "recommendations finished on 9000/68614 queries. users per second: 109632"
      ]
     },
     "metadata": {},
     "output_type": "display_data"
    },
    {
     "data": {
      "text/html": [
       "<pre>recommendations finished on 10000/68614 queries. users per second: 108327</pre>"
      ],
      "text/plain": [
       "recommendations finished on 10000/68614 queries. users per second: 108327"
      ]
     },
     "metadata": {},
     "output_type": "display_data"
    },
    {
     "data": {
      "text/html": [
       "<pre>recommendations finished on 11000/68614 queries. users per second: 113557</pre>"
      ],
      "text/plain": [
       "recommendations finished on 11000/68614 queries. users per second: 113557"
      ]
     },
     "metadata": {},
     "output_type": "display_data"
    },
    {
     "data": {
      "text/html": [
       "<pre>recommendations finished on 12000/68614 queries. users per second: 115724</pre>"
      ],
      "text/plain": [
       "recommendations finished on 12000/68614 queries. users per second: 115724"
      ]
     },
     "metadata": {},
     "output_type": "display_data"
    },
    {
     "data": {
      "text/html": [
       "<pre>recommendations finished on 13000/68614 queries. users per second: 116782</pre>"
      ],
      "text/plain": [
       "recommendations finished on 13000/68614 queries. users per second: 116782"
      ]
     },
     "metadata": {},
     "output_type": "display_data"
    },
    {
     "data": {
      "text/html": [
       "<pre>recommendations finished on 14000/68614 queries. users per second: 118170</pre>"
      ],
      "text/plain": [
       "recommendations finished on 14000/68614 queries. users per second: 118170"
      ]
     },
     "metadata": {},
     "output_type": "display_data"
    },
    {
     "data": {
      "text/html": [
       "<pre>recommendations finished on 15000/68614 queries. users per second: 121061</pre>"
      ],
      "text/plain": [
       "recommendations finished on 15000/68614 queries. users per second: 121061"
      ]
     },
     "metadata": {},
     "output_type": "display_data"
    },
    {
     "data": {
      "text/html": [
       "<pre>recommendations finished on 16000/68614 queries. users per second: 123136</pre>"
      ],
      "text/plain": [
       "recommendations finished on 16000/68614 queries. users per second: 123136"
      ]
     },
     "metadata": {},
     "output_type": "display_data"
    },
    {
     "data": {
      "text/html": [
       "<pre>recommendations finished on 17000/68614 queries. users per second: 122612</pre>"
      ],
      "text/plain": [
       "recommendations finished on 17000/68614 queries. users per second: 122612"
      ]
     },
     "metadata": {},
     "output_type": "display_data"
    },
    {
     "data": {
      "text/html": [
       "<pre>recommendations finished on 18000/68614 queries. users per second: 123880</pre>"
      ],
      "text/plain": [
       "recommendations finished on 18000/68614 queries. users per second: 123880"
      ]
     },
     "metadata": {},
     "output_type": "display_data"
    },
    {
     "data": {
      "text/html": [
       "<pre>recommendations finished on 19000/68614 queries. users per second: 126488</pre>"
      ],
      "text/plain": [
       "recommendations finished on 19000/68614 queries. users per second: 126488"
      ]
     },
     "metadata": {},
     "output_type": "display_data"
    },
    {
     "data": {
      "text/html": [
       "<pre>recommendations finished on 20000/68614 queries. users per second: 124891</pre>"
      ],
      "text/plain": [
       "recommendations finished on 20000/68614 queries. users per second: 124891"
      ]
     },
     "metadata": {},
     "output_type": "display_data"
    },
    {
     "data": {
      "text/html": [
       "<pre>recommendations finished on 21000/68614 queries. users per second: 124874</pre>"
      ],
      "text/plain": [
       "recommendations finished on 21000/68614 queries. users per second: 124874"
      ]
     },
     "metadata": {},
     "output_type": "display_data"
    },
    {
     "data": {
      "text/html": [
       "<pre>recommendations finished on 22000/68614 queries. users per second: 125714</pre>"
      ],
      "text/plain": [
       "recommendations finished on 22000/68614 queries. users per second: 125714"
      ]
     },
     "metadata": {},
     "output_type": "display_data"
    },
    {
     "data": {
      "text/html": [
       "<pre>recommendations finished on 23000/68614 queries. users per second: 127721</pre>"
      ],
      "text/plain": [
       "recommendations finished on 23000/68614 queries. users per second: 127721"
      ]
     },
     "metadata": {},
     "output_type": "display_data"
    },
    {
     "data": {
      "text/html": [
       "<pre>recommendations finished on 24000/68614 queries. users per second: 129022</pre>"
      ],
      "text/plain": [
       "recommendations finished on 24000/68614 queries. users per second: 129022"
      ]
     },
     "metadata": {},
     "output_type": "display_data"
    },
    {
     "data": {
      "text/html": [
       "<pre>recommendations finished on 25000/68614 queries. users per second: 129106</pre>"
      ],
      "text/plain": [
       "recommendations finished on 25000/68614 queries. users per second: 129106"
      ]
     },
     "metadata": {},
     "output_type": "display_data"
    },
    {
     "data": {
      "text/html": [
       "<pre>recommendations finished on 26000/68614 queries. users per second: 130340</pre>"
      ],
      "text/plain": [
       "recommendations finished on 26000/68614 queries. users per second: 130340"
      ]
     },
     "metadata": {},
     "output_type": "display_data"
    },
    {
     "data": {
      "text/html": [
       "<pre>recommendations finished on 27000/68614 queries. users per second: 131967</pre>"
      ],
      "text/plain": [
       "recommendations finished on 27000/68614 queries. users per second: 131967"
      ]
     },
     "metadata": {},
     "output_type": "display_data"
    },
    {
     "data": {
      "text/html": [
       "<pre>recommendations finished on 28000/68614 queries. users per second: 132834</pre>"
      ],
      "text/plain": [
       "recommendations finished on 28000/68614 queries. users per second: 132834"
      ]
     },
     "metadata": {},
     "output_type": "display_data"
    },
    {
     "data": {
      "text/html": [
       "<pre>recommendations finished on 29000/68614 queries. users per second: 130459</pre>"
      ],
      "text/plain": [
       "recommendations finished on 29000/68614 queries. users per second: 130459"
      ]
     },
     "metadata": {},
     "output_type": "display_data"
    },
    {
     "data": {
      "text/html": [
       "<pre>recommendations finished on 30000/68614 queries. users per second: 130920</pre>"
      ],
      "text/plain": [
       "recommendations finished on 30000/68614 queries. users per second: 130920"
      ]
     },
     "metadata": {},
     "output_type": "display_data"
    },
    {
     "data": {
      "text/html": [
       "<pre>recommendations finished on 31000/68614 queries. users per second: 130434</pre>"
      ],
      "text/plain": [
       "recommendations finished on 31000/68614 queries. users per second: 130434"
      ]
     },
     "metadata": {},
     "output_type": "display_data"
    },
    {
     "data": {
      "text/html": [
       "<pre>recommendations finished on 32000/68614 queries. users per second: 129989</pre>"
      ],
      "text/plain": [
       "recommendations finished on 32000/68614 queries. users per second: 129989"
      ]
     },
     "metadata": {},
     "output_type": "display_data"
    },
    {
     "data": {
      "text/html": [
       "<pre>recommendations finished on 33000/68614 queries. users per second: 129875</pre>"
      ],
      "text/plain": [
       "recommendations finished on 33000/68614 queries. users per second: 129875"
      ]
     },
     "metadata": {},
     "output_type": "display_data"
    },
    {
     "data": {
      "text/html": [
       "<pre>recommendations finished on 34000/68614 queries. users per second: 127368</pre>"
      ],
      "text/plain": [
       "recommendations finished on 34000/68614 queries. users per second: 127368"
      ]
     },
     "metadata": {},
     "output_type": "display_data"
    },
    {
     "data": {
      "text/html": [
       "<pre>recommendations finished on 35000/68614 queries. users per second: 128654</pre>"
      ],
      "text/plain": [
       "recommendations finished on 35000/68614 queries. users per second: 128654"
      ]
     },
     "metadata": {},
     "output_type": "display_data"
    },
    {
     "data": {
      "text/html": [
       "<pre>recommendations finished on 36000/68614 queries. users per second: 127732</pre>"
      ],
      "text/plain": [
       "recommendations finished on 36000/68614 queries. users per second: 127732"
      ]
     },
     "metadata": {},
     "output_type": "display_data"
    },
    {
     "data": {
      "text/html": [
       "<pre>recommendations finished on 37000/68614 queries. users per second: 122820</pre>"
      ],
      "text/plain": [
       "recommendations finished on 37000/68614 queries. users per second: 122820"
      ]
     },
     "metadata": {},
     "output_type": "display_data"
    },
    {
     "data": {
      "text/html": [
       "<pre>recommendations finished on 38000/68614 queries. users per second: 122508</pre>"
      ],
      "text/plain": [
       "recommendations finished on 38000/68614 queries. users per second: 122508"
      ]
     },
     "metadata": {},
     "output_type": "display_data"
    },
    {
     "data": {
      "text/html": [
       "<pre>recommendations finished on 39000/68614 queries. users per second: 122046</pre>"
      ],
      "text/plain": [
       "recommendations finished on 39000/68614 queries. users per second: 122046"
      ]
     },
     "metadata": {},
     "output_type": "display_data"
    },
    {
     "data": {
      "text/html": [
       "<pre>recommendations finished on 40000/68614 queries. users per second: 122880</pre>"
      ],
      "text/plain": [
       "recommendations finished on 40000/68614 queries. users per second: 122880"
      ]
     },
     "metadata": {},
     "output_type": "display_data"
    },
    {
     "data": {
      "text/html": [
       "<pre>recommendations finished on 41000/68614 queries. users per second: 122137</pre>"
      ],
      "text/plain": [
       "recommendations finished on 41000/68614 queries. users per second: 122137"
      ]
     },
     "metadata": {},
     "output_type": "display_data"
    },
    {
     "data": {
      "text/html": [
       "<pre>recommendations finished on 42000/68614 queries. users per second: 122796</pre>"
      ],
      "text/plain": [
       "recommendations finished on 42000/68614 queries. users per second: 122796"
      ]
     },
     "metadata": {},
     "output_type": "display_data"
    },
    {
     "data": {
      "text/html": [
       "<pre>recommendations finished on 43000/68614 queries. users per second: 121661</pre>"
      ],
      "text/plain": [
       "recommendations finished on 43000/68614 queries. users per second: 121661"
      ]
     },
     "metadata": {},
     "output_type": "display_data"
    },
    {
     "data": {
      "text/html": [
       "<pre>recommendations finished on 44000/68614 queries. users per second: 121258</pre>"
      ],
      "text/plain": [
       "recommendations finished on 44000/68614 queries. users per second: 121258"
      ]
     },
     "metadata": {},
     "output_type": "display_data"
    },
    {
     "data": {
      "text/html": [
       "<pre>recommendations finished on 45000/68614 queries. users per second: 122257</pre>"
      ],
      "text/plain": [
       "recommendations finished on 45000/68614 queries. users per second: 122257"
      ]
     },
     "metadata": {},
     "output_type": "display_data"
    },
    {
     "data": {
      "text/html": [
       "<pre>recommendations finished on 46000/68614 queries. users per second: 121074</pre>"
      ],
      "text/plain": [
       "recommendations finished on 46000/68614 queries. users per second: 121074"
      ]
     },
     "metadata": {},
     "output_type": "display_data"
    },
    {
     "data": {
      "text/html": [
       "<pre>recommendations finished on 47000/68614 queries. users per second: 122098</pre>"
      ],
      "text/plain": [
       "recommendations finished on 47000/68614 queries. users per second: 122098"
      ]
     },
     "metadata": {},
     "output_type": "display_data"
    },
    {
     "data": {
      "text/html": [
       "<pre>recommendations finished on 48000/68614 queries. users per second: 122783</pre>"
      ],
      "text/plain": [
       "recommendations finished on 48000/68614 queries. users per second: 122783"
      ]
     },
     "metadata": {},
     "output_type": "display_data"
    },
    {
     "data": {
      "text/html": [
       "<pre>recommendations finished on 49000/68614 queries. users per second: 123082</pre>"
      ],
      "text/plain": [
       "recommendations finished on 49000/68614 queries. users per second: 123082"
      ]
     },
     "metadata": {},
     "output_type": "display_data"
    },
    {
     "data": {
      "text/html": [
       "<pre>recommendations finished on 50000/68614 queries. users per second: 122622</pre>"
      ],
      "text/plain": [
       "recommendations finished on 50000/68614 queries. users per second: 122622"
      ]
     },
     "metadata": {},
     "output_type": "display_data"
    },
    {
     "data": {
      "text/html": [
       "<pre>recommendations finished on 51000/68614 queries. users per second: 118069</pre>"
      ],
      "text/plain": [
       "recommendations finished on 51000/68614 queries. users per second: 118069"
      ]
     },
     "metadata": {},
     "output_type": "display_data"
    },
    {
     "data": {
      "text/html": [
       "<pre>recommendations finished on 52000/68614 queries. users per second: 116264</pre>"
      ],
      "text/plain": [
       "recommendations finished on 52000/68614 queries. users per second: 116264"
      ]
     },
     "metadata": {},
     "output_type": "display_data"
    },
    {
     "data": {
      "text/html": [
       "<pre>recommendations finished on 53000/68614 queries. users per second: 116751</pre>"
      ],
      "text/plain": [
       "recommendations finished on 53000/68614 queries. users per second: 116751"
      ]
     },
     "metadata": {},
     "output_type": "display_data"
    },
    {
     "data": {
      "text/html": [
       "<pre>recommendations finished on 54000/68614 queries. users per second: 117374</pre>"
      ],
      "text/plain": [
       "recommendations finished on 54000/68614 queries. users per second: 117374"
      ]
     },
     "metadata": {},
     "output_type": "display_data"
    },
    {
     "data": {
      "text/html": [
       "<pre>recommendations finished on 55000/68614 queries. users per second: 117455</pre>"
      ],
      "text/plain": [
       "recommendations finished on 55000/68614 queries. users per second: 117455"
      ]
     },
     "metadata": {},
     "output_type": "display_data"
    },
    {
     "data": {
      "text/html": [
       "<pre>recommendations finished on 56000/68614 queries. users per second: 117958</pre>"
      ],
      "text/plain": [
       "recommendations finished on 56000/68614 queries. users per second: 117958"
      ]
     },
     "metadata": {},
     "output_type": "display_data"
    },
    {
     "data": {
      "text/html": [
       "<pre>recommendations finished on 57000/68614 queries. users per second: 118682</pre>"
      ],
      "text/plain": [
       "recommendations finished on 57000/68614 queries. users per second: 118682"
      ]
     },
     "metadata": {},
     "output_type": "display_data"
    },
    {
     "data": {
      "text/html": [
       "<pre>recommendations finished on 58000/68614 queries. users per second: 119499</pre>"
      ],
      "text/plain": [
       "recommendations finished on 58000/68614 queries. users per second: 119499"
      ]
     },
     "metadata": {},
     "output_type": "display_data"
    },
    {
     "data": {
      "text/html": [
       "<pre>recommendations finished on 59000/68614 queries. users per second: 120091</pre>"
      ],
      "text/plain": [
       "recommendations finished on 59000/68614 queries. users per second: 120091"
      ]
     },
     "metadata": {},
     "output_type": "display_data"
    },
    {
     "data": {
      "text/html": [
       "<pre>recommendations finished on 60000/68614 queries. users per second: 120963</pre>"
      ],
      "text/plain": [
       "recommendations finished on 60000/68614 queries. users per second: 120963"
      ]
     },
     "metadata": {},
     "output_type": "display_data"
    },
    {
     "data": {
      "text/html": [
       "<pre>recommendations finished on 61000/68614 queries. users per second: 121693</pre>"
      ],
      "text/plain": [
       "recommendations finished on 61000/68614 queries. users per second: 121693"
      ]
     },
     "metadata": {},
     "output_type": "display_data"
    },
    {
     "data": {
      "text/html": [
       "<pre>recommendations finished on 62000/68614 queries. users per second: 122391</pre>"
      ],
      "text/plain": [
       "recommendations finished on 62000/68614 queries. users per second: 122391"
      ]
     },
     "metadata": {},
     "output_type": "display_data"
    },
    {
     "data": {
      "text/html": [
       "<pre>recommendations finished on 63000/68614 queries. users per second: 122985</pre>"
      ],
      "text/plain": [
       "recommendations finished on 63000/68614 queries. users per second: 122985"
      ]
     },
     "metadata": {},
     "output_type": "display_data"
    },
    {
     "data": {
      "text/html": [
       "<pre>recommendations finished on 64000/68614 queries. users per second: 123908</pre>"
      ],
      "text/plain": [
       "recommendations finished on 64000/68614 queries. users per second: 123908"
      ]
     },
     "metadata": {},
     "output_type": "display_data"
    },
    {
     "data": {
      "text/html": [
       "<pre>recommendations finished on 65000/68614 queries. users per second: 124776</pre>"
      ],
      "text/plain": [
       "recommendations finished on 65000/68614 queries. users per second: 124776"
      ]
     },
     "metadata": {},
     "output_type": "display_data"
    },
    {
     "data": {
      "text/html": [
       "<pre>recommendations finished on 66000/68614 queries. users per second: 125069</pre>"
      ],
      "text/plain": [
       "recommendations finished on 66000/68614 queries. users per second: 125069"
      ]
     },
     "metadata": {},
     "output_type": "display_data"
    },
    {
     "data": {
      "text/html": [
       "<pre>recommendations finished on 67000/68614 queries. users per second: 125524</pre>"
      ],
      "text/plain": [
       "recommendations finished on 67000/68614 queries. users per second: 125524"
      ]
     },
     "metadata": {},
     "output_type": "display_data"
    },
    {
     "data": {
      "text/html": [
       "<pre>recommendations finished on 68000/68614 queries. users per second: 126037</pre>"
      ],
      "text/plain": [
       "recommendations finished on 68000/68614 queries. users per second: 126037"
      ]
     },
     "metadata": {},
     "output_type": "display_data"
    },
    {
     "name": "stdout",
     "output_type": "stream",
     "text": [
      "+--------+----------+--------------------+------+\n",
      "| custno | prodcat2 |       score        | rank |\n",
      "+--------+----------+--------------------+------+\n",
      "| 67913  |   237    |        3.0         |  1   |\n",
      "| 67913  |   217    |        3.0         |  2   |\n",
      "| 67913  |   235    |        2.5         |  3   |\n",
      "| 67913  |    96    | 2.0288461538461537 |  4   |\n",
      "| 67913  |    9     | 1.7293654399515372 |  5   |\n",
      "| 67913  |    14    | 1.701086956521739  |  6   |\n",
      "| 67913  |    3     | 1.6981400688863375 |  7   |\n",
      "| 67913  |    28    | 1.6509009009009008 |  8   |\n",
      "| 67913  |    39    | 1.6283676703645007 |  9   |\n",
      "| 67913  |    30    | 1.6162538026944806 |  10  |\n",
      "| 67913  |    88    | 1.588235294117647  |  11  |\n",
      "| 67913  |    25    | 1.5765864332603938 |  12  |\n",
      "| 67913  |    86    | 1.5714285714285714 |  13  |\n",
      "| 67913  |   214    | 1.5636363636363637 |  14  |\n",
      "| 67913  |    27    |  1.55734504636408  |  15  |\n",
      "| 10880  |   237    |        3.0         |  1   |\n",
      "| 10880  |   217    |        3.0         |  2   |\n",
      "| 10880  |   235    |        2.5         |  3   |\n",
      "| 10880  |    96    | 2.0288461538461537 |  4   |\n",
      "| 10880  |    38    | 1.9703036369703035 |  5   |\n",
      "+--------+----------+--------------------+------+\n",
      "[1029210 rows x 4 columns]\n",
      "\n"
     ]
    }
   ],
   "source": [
    "name = 'popularity'\n",
    "target = 'prodcat2_count'\n",
    "popularity = model(train_count, name, user_id, item_id, target, users_to_recommend, n_rec, n_display)"
   ]
  },
  {
   "cell_type": "markdown",
   "metadata": {},
   "source": [
    "### Using dummy data (Data 2)"
   ]
  },
  {
   "cell_type": "code",
   "execution_count": 237,
   "metadata": {},
   "outputs": [
    {
     "data": {
      "text/html": [
       "<pre>Warning: Ignoring columns prodcat2_count;</pre>"
      ],
      "text/plain": [
       "Warning: Ignoring columns prodcat2_count;"
      ]
     },
     "metadata": {},
     "output_type": "display_data"
    },
    {
     "data": {
      "text/html": [
       "<pre>    To use these columns in scoring predictions, use a model that allows the use of additional features.</pre>"
      ],
      "text/plain": [
       "    To use these columns in scoring predictions, use a model that allows the use of additional features."
      ]
     },
     "metadata": {},
     "output_type": "display_data"
    },
    {
     "data": {
      "text/html": [
       "<pre>Preparing data set.</pre>"
      ],
      "text/plain": [
       "Preparing data set."
      ]
     },
     "metadata": {},
     "output_type": "display_data"
    },
    {
     "data": {
      "text/html": [
       "<pre>    Data has 162627 observations with 65735 users and 250 items.</pre>"
      ],
      "text/plain": [
       "    Data has 162627 observations with 65735 users and 250 items."
      ]
     },
     "metadata": {},
     "output_type": "display_data"
    },
    {
     "data": {
      "text/html": [
       "<pre>    Data prepared in: 0.319197s</pre>"
      ],
      "text/plain": [
       "    Data prepared in: 0.319197s"
      ]
     },
     "metadata": {},
     "output_type": "display_data"
    },
    {
     "data": {
      "text/html": [
       "<pre>162627 observations to process; with 250 unique items.</pre>"
      ],
      "text/plain": [
       "162627 observations to process; with 250 unique items."
      ]
     },
     "metadata": {},
     "output_type": "display_data"
    },
    {
     "data": {
      "text/html": [
       "<pre>recommendations finished on 1000/68614 queries. users per second: 38494.1</pre>"
      ],
      "text/plain": [
       "recommendations finished on 1000/68614 queries. users per second: 38494.1"
      ]
     },
     "metadata": {},
     "output_type": "display_data"
    },
    {
     "data": {
      "text/html": [
       "<pre>recommendations finished on 2000/68614 queries. users per second: 63889.6</pre>"
      ],
      "text/plain": [
       "recommendations finished on 2000/68614 queries. users per second: 63889.6"
      ]
     },
     "metadata": {},
     "output_type": "display_data"
    },
    {
     "data": {
      "text/html": [
       "<pre>recommendations finished on 3000/68614 queries. users per second: 81092</pre>"
      ],
      "text/plain": [
       "recommendations finished on 3000/68614 queries. users per second: 81092"
      ]
     },
     "metadata": {},
     "output_type": "display_data"
    },
    {
     "data": {
      "text/html": [
       "<pre>recommendations finished on 4000/68614 queries. users per second: 93329.3</pre>"
      ],
      "text/plain": [
       "recommendations finished on 4000/68614 queries. users per second: 93329.3"
      ]
     },
     "metadata": {},
     "output_type": "display_data"
    },
    {
     "data": {
      "text/html": [
       "<pre>recommendations finished on 5000/68614 queries. users per second: 105285</pre>"
      ],
      "text/plain": [
       "recommendations finished on 5000/68614 queries. users per second: 105285"
      ]
     },
     "metadata": {},
     "output_type": "display_data"
    },
    {
     "data": {
      "text/html": [
       "<pre>recommendations finished on 6000/68614 queries. users per second: 114364</pre>"
      ],
      "text/plain": [
       "recommendations finished on 6000/68614 queries. users per second: 114364"
      ]
     },
     "metadata": {},
     "output_type": "display_data"
    },
    {
     "data": {
      "text/html": [
       "<pre>recommendations finished on 7000/68614 queries. users per second: 117944</pre>"
      ],
      "text/plain": [
       "recommendations finished on 7000/68614 queries. users per second: 117944"
      ]
     },
     "metadata": {},
     "output_type": "display_data"
    },
    {
     "data": {
      "text/html": [
       "<pre>recommendations finished on 8000/68614 queries. users per second: 124318</pre>"
      ],
      "text/plain": [
       "recommendations finished on 8000/68614 queries. users per second: 124318"
      ]
     },
     "metadata": {},
     "output_type": "display_data"
    },
    {
     "data": {
      "text/html": [
       "<pre>recommendations finished on 9000/68614 queries. users per second: 130492</pre>"
      ],
      "text/plain": [
       "recommendations finished on 9000/68614 queries. users per second: 130492"
      ]
     },
     "metadata": {},
     "output_type": "display_data"
    },
    {
     "data": {
      "text/html": [
       "<pre>recommendations finished on 10000/68614 queries. users per second: 134295</pre>"
      ],
      "text/plain": [
       "recommendations finished on 10000/68614 queries. users per second: 134295"
      ]
     },
     "metadata": {},
     "output_type": "display_data"
    },
    {
     "data": {
      "text/html": [
       "<pre>recommendations finished on 11000/68614 queries. users per second: 134824</pre>"
      ],
      "text/plain": [
       "recommendations finished on 11000/68614 queries. users per second: 134824"
      ]
     },
     "metadata": {},
     "output_type": "display_data"
    },
    {
     "data": {
      "text/html": [
       "<pre>recommendations finished on 12000/68614 queries. users per second: 137939</pre>"
      ],
      "text/plain": [
       "recommendations finished on 12000/68614 queries. users per second: 137939"
      ]
     },
     "metadata": {},
     "output_type": "display_data"
    },
    {
     "data": {
      "text/html": [
       "<pre>recommendations finished on 13000/68614 queries. users per second: 141679</pre>"
      ],
      "text/plain": [
       "recommendations finished on 13000/68614 queries. users per second: 141679"
      ]
     },
     "metadata": {},
     "output_type": "display_data"
    },
    {
     "data": {
      "text/html": [
       "<pre>recommendations finished on 14000/68614 queries. users per second: 144187</pre>"
      ],
      "text/plain": [
       "recommendations finished on 14000/68614 queries. users per second: 144187"
      ]
     },
     "metadata": {},
     "output_type": "display_data"
    },
    {
     "data": {
      "text/html": [
       "<pre>recommendations finished on 15000/68614 queries. users per second: 144272</pre>"
      ],
      "text/plain": [
       "recommendations finished on 15000/68614 queries. users per second: 144272"
      ]
     },
     "metadata": {},
     "output_type": "display_data"
    },
    {
     "data": {
      "text/html": [
       "<pre>recommendations finished on 16000/68614 queries. users per second: 146280</pre>"
      ],
      "text/plain": [
       "recommendations finished on 16000/68614 queries. users per second: 146280"
      ]
     },
     "metadata": {},
     "output_type": "display_data"
    },
    {
     "data": {
      "text/html": [
       "<pre>recommendations finished on 17000/68614 queries. users per second: 148581</pre>"
      ],
      "text/plain": [
       "recommendations finished on 17000/68614 queries. users per second: 148581"
      ]
     },
     "metadata": {},
     "output_type": "display_data"
    },
    {
     "data": {
      "text/html": [
       "<pre>recommendations finished on 18000/68614 queries. users per second: 151281</pre>"
      ],
      "text/plain": [
       "recommendations finished on 18000/68614 queries. users per second: 151281"
      ]
     },
     "metadata": {},
     "output_type": "display_data"
    },
    {
     "data": {
      "text/html": [
       "<pre>recommendations finished on 19000/68614 queries. users per second: 149123</pre>"
      ],
      "text/plain": [
       "recommendations finished on 19000/68614 queries. users per second: 149123"
      ]
     },
     "metadata": {},
     "output_type": "display_data"
    },
    {
     "data": {
      "text/html": [
       "<pre>recommendations finished on 20000/68614 queries. users per second: 151327</pre>"
      ],
      "text/plain": [
       "recommendations finished on 20000/68614 queries. users per second: 151327"
      ]
     },
     "metadata": {},
     "output_type": "display_data"
    },
    {
     "data": {
      "text/html": [
       "<pre>recommendations finished on 21000/68614 queries. users per second: 153195</pre>"
      ],
      "text/plain": [
       "recommendations finished on 21000/68614 queries. users per second: 153195"
      ]
     },
     "metadata": {},
     "output_type": "display_data"
    },
    {
     "data": {
      "text/html": [
       "<pre>recommendations finished on 22000/68614 queries. users per second: 156580</pre>"
      ],
      "text/plain": [
       "recommendations finished on 22000/68614 queries. users per second: 156580"
      ]
     },
     "metadata": {},
     "output_type": "display_data"
    },
    {
     "data": {
      "text/html": [
       "<pre>recommendations finished on 23000/68614 queries. users per second: 159273</pre>"
      ],
      "text/plain": [
       "recommendations finished on 23000/68614 queries. users per second: 159273"
      ]
     },
     "metadata": {},
     "output_type": "display_data"
    },
    {
     "data": {
      "text/html": [
       "<pre>recommendations finished on 24000/68614 queries. users per second: 161172</pre>"
      ],
      "text/plain": [
       "recommendations finished on 24000/68614 queries. users per second: 161172"
      ]
     },
     "metadata": {},
     "output_type": "display_data"
    },
    {
     "data": {
      "text/html": [
       "<pre>recommendations finished on 25000/68614 queries. users per second: 164109</pre>"
      ],
      "text/plain": [
       "recommendations finished on 25000/68614 queries. users per second: 164109"
      ]
     },
     "metadata": {},
     "output_type": "display_data"
    },
    {
     "data": {
      "text/html": [
       "<pre>recommendations finished on 26000/68614 queries. users per second: 165863</pre>"
      ],
      "text/plain": [
       "recommendations finished on 26000/68614 queries. users per second: 165863"
      ]
     },
     "metadata": {},
     "output_type": "display_data"
    },
    {
     "data": {
      "text/html": [
       "<pre>recommendations finished on 27000/68614 queries. users per second: 165598</pre>"
      ],
      "text/plain": [
       "recommendations finished on 27000/68614 queries. users per second: 165598"
      ]
     },
     "metadata": {},
     "output_type": "display_data"
    },
    {
     "data": {
      "text/html": [
       "<pre>recommendations finished on 28000/68614 queries. users per second: 163692</pre>"
      ],
      "text/plain": [
       "recommendations finished on 28000/68614 queries. users per second: 163692"
      ]
     },
     "metadata": {},
     "output_type": "display_data"
    },
    {
     "data": {
      "text/html": [
       "<pre>recommendations finished on 29000/68614 queries. users per second: 163755</pre>"
      ],
      "text/plain": [
       "recommendations finished on 29000/68614 queries. users per second: 163755"
      ]
     },
     "metadata": {},
     "output_type": "display_data"
    },
    {
     "data": {
      "text/html": [
       "<pre>recommendations finished on 30000/68614 queries. users per second: 161530</pre>"
      ],
      "text/plain": [
       "recommendations finished on 30000/68614 queries. users per second: 161530"
      ]
     },
     "metadata": {},
     "output_type": "display_data"
    },
    {
     "data": {
      "text/html": [
       "<pre>recommendations finished on 31000/68614 queries. users per second: 161176</pre>"
      ],
      "text/plain": [
       "recommendations finished on 31000/68614 queries. users per second: 161176"
      ]
     },
     "metadata": {},
     "output_type": "display_data"
    },
    {
     "data": {
      "text/html": [
       "<pre>recommendations finished on 32000/68614 queries. users per second: 161509</pre>"
      ],
      "text/plain": [
       "recommendations finished on 32000/68614 queries. users per second: 161509"
      ]
     },
     "metadata": {},
     "output_type": "display_data"
    },
    {
     "data": {
      "text/html": [
       "<pre>recommendations finished on 33000/68614 queries. users per second: 163321</pre>"
      ],
      "text/plain": [
       "recommendations finished on 33000/68614 queries. users per second: 163321"
      ]
     },
     "metadata": {},
     "output_type": "display_data"
    },
    {
     "data": {
      "text/html": [
       "<pre>recommendations finished on 34000/68614 queries. users per second: 160693</pre>"
      ],
      "text/plain": [
       "recommendations finished on 34000/68614 queries. users per second: 160693"
      ]
     },
     "metadata": {},
     "output_type": "display_data"
    },
    {
     "data": {
      "text/html": [
       "<pre>recommendations finished on 35000/68614 queries. users per second: 162091</pre>"
      ],
      "text/plain": [
       "recommendations finished on 35000/68614 queries. users per second: 162091"
      ]
     },
     "metadata": {},
     "output_type": "display_data"
    },
    {
     "data": {
      "text/html": [
       "<pre>recommendations finished on 36000/68614 queries. users per second: 161078</pre>"
      ],
      "text/plain": [
       "recommendations finished on 36000/68614 queries. users per second: 161078"
      ]
     },
     "metadata": {},
     "output_type": "display_data"
    },
    {
     "data": {
      "text/html": [
       "<pre>recommendations finished on 37000/68614 queries. users per second: 147764</pre>"
      ],
      "text/plain": [
       "recommendations finished on 37000/68614 queries. users per second: 147764"
      ]
     },
     "metadata": {},
     "output_type": "display_data"
    },
    {
     "data": {
      "text/html": [
       "<pre>recommendations finished on 38000/68614 queries. users per second: 144884</pre>"
      ],
      "text/plain": [
       "recommendations finished on 38000/68614 queries. users per second: 144884"
      ]
     },
     "metadata": {},
     "output_type": "display_data"
    },
    {
     "data": {
      "text/html": [
       "<pre>recommendations finished on 39000/68614 queries. users per second: 145808</pre>"
      ],
      "text/plain": [
       "recommendations finished on 39000/68614 queries. users per second: 145808"
      ]
     },
     "metadata": {},
     "output_type": "display_data"
    },
    {
     "data": {
      "text/html": [
       "<pre>recommendations finished on 40000/68614 queries. users per second: 145335</pre>"
      ],
      "text/plain": [
       "recommendations finished on 40000/68614 queries. users per second: 145335"
      ]
     },
     "metadata": {},
     "output_type": "display_data"
    },
    {
     "data": {
      "text/html": [
       "<pre>recommendations finished on 41000/68614 queries. users per second: 145513</pre>"
      ],
      "text/plain": [
       "recommendations finished on 41000/68614 queries. users per second: 145513"
      ]
     },
     "metadata": {},
     "output_type": "display_data"
    },
    {
     "data": {
      "text/html": [
       "<pre>recommendations finished on 42000/68614 queries. users per second: 146665</pre>"
      ],
      "text/plain": [
       "recommendations finished on 42000/68614 queries. users per second: 146665"
      ]
     },
     "metadata": {},
     "output_type": "display_data"
    },
    {
     "data": {
      "text/html": [
       "<pre>recommendations finished on 43000/68614 queries. users per second: 148154</pre>"
      ],
      "text/plain": [
       "recommendations finished on 43000/68614 queries. users per second: 148154"
      ]
     },
     "metadata": {},
     "output_type": "display_data"
    },
    {
     "data": {
      "text/html": [
       "<pre>recommendations finished on 44000/68614 queries. users per second: 148981</pre>"
      ],
      "text/plain": [
       "recommendations finished on 44000/68614 queries. users per second: 148981"
      ]
     },
     "metadata": {},
     "output_type": "display_data"
    },
    {
     "data": {
      "text/html": [
       "<pre>recommendations finished on 45000/68614 queries. users per second: 150177</pre>"
      ],
      "text/plain": [
       "recommendations finished on 45000/68614 queries. users per second: 150177"
      ]
     },
     "metadata": {},
     "output_type": "display_data"
    },
    {
     "data": {
      "text/html": [
       "<pre>recommendations finished on 46000/68614 queries. users per second: 151257</pre>"
      ],
      "text/plain": [
       "recommendations finished on 46000/68614 queries. users per second: 151257"
      ]
     },
     "metadata": {},
     "output_type": "display_data"
    },
    {
     "data": {
      "text/html": [
       "<pre>recommendations finished on 47000/68614 queries. users per second: 152172</pre>"
      ],
      "text/plain": [
       "recommendations finished on 47000/68614 queries. users per second: 152172"
      ]
     },
     "metadata": {},
     "output_type": "display_data"
    },
    {
     "data": {
      "text/html": [
       "<pre>recommendations finished on 48000/68614 queries. users per second: 150594</pre>"
      ],
      "text/plain": [
       "recommendations finished on 48000/68614 queries. users per second: 150594"
      ]
     },
     "metadata": {},
     "output_type": "display_data"
    },
    {
     "data": {
      "text/html": [
       "<pre>recommendations finished on 49000/68614 queries. users per second: 149336</pre>"
      ],
      "text/plain": [
       "recommendations finished on 49000/68614 queries. users per second: 149336"
      ]
     },
     "metadata": {},
     "output_type": "display_data"
    },
    {
     "data": {
      "text/html": [
       "<pre>recommendations finished on 50000/68614 queries. users per second: 150431</pre>"
      ],
      "text/plain": [
       "recommendations finished on 50000/68614 queries. users per second: 150431"
      ]
     },
     "metadata": {},
     "output_type": "display_data"
    },
    {
     "data": {
      "text/html": [
       "<pre>recommendations finished on 51000/68614 queries. users per second: 148278</pre>"
      ],
      "text/plain": [
       "recommendations finished on 51000/68614 queries. users per second: 148278"
      ]
     },
     "metadata": {},
     "output_type": "display_data"
    },
    {
     "data": {
      "text/html": [
       "<pre>recommendations finished on 52000/68614 queries. users per second: 147870</pre>"
      ],
      "text/plain": [
       "recommendations finished on 52000/68614 queries. users per second: 147870"
      ]
     },
     "metadata": {},
     "output_type": "display_data"
    },
    {
     "data": {
      "text/html": [
       "<pre>recommendations finished on 53000/68614 queries. users per second: 147069</pre>"
      ],
      "text/plain": [
       "recommendations finished on 53000/68614 queries. users per second: 147069"
      ]
     },
     "metadata": {},
     "output_type": "display_data"
    },
    {
     "data": {
      "text/html": [
       "<pre>recommendations finished on 54000/68614 queries. users per second: 143304</pre>"
      ],
      "text/plain": [
       "recommendations finished on 54000/68614 queries. users per second: 143304"
      ]
     },
     "metadata": {},
     "output_type": "display_data"
    },
    {
     "data": {
      "text/html": [
       "<pre>recommendations finished on 55000/68614 queries. users per second: 143689</pre>"
      ],
      "text/plain": [
       "recommendations finished on 55000/68614 queries. users per second: 143689"
      ]
     },
     "metadata": {},
     "output_type": "display_data"
    },
    {
     "data": {
      "text/html": [
       "<pre>recommendations finished on 56000/68614 queries. users per second: 144531</pre>"
      ],
      "text/plain": [
       "recommendations finished on 56000/68614 queries. users per second: 144531"
      ]
     },
     "metadata": {},
     "output_type": "display_data"
    },
    {
     "data": {
      "text/html": [
       "<pre>recommendations finished on 57000/68614 queries. users per second: 145258</pre>"
      ],
      "text/plain": [
       "recommendations finished on 57000/68614 queries. users per second: 145258"
      ]
     },
     "metadata": {},
     "output_type": "display_data"
    },
    {
     "data": {
      "text/html": [
       "<pre>recommendations finished on 58000/68614 queries. users per second: 145882</pre>"
      ],
      "text/plain": [
       "recommendations finished on 58000/68614 queries. users per second: 145882"
      ]
     },
     "metadata": {},
     "output_type": "display_data"
    },
    {
     "data": {
      "text/html": [
       "<pre>recommendations finished on 59000/68614 queries. users per second: 146145</pre>"
      ],
      "text/plain": [
       "recommendations finished on 59000/68614 queries. users per second: 146145"
      ]
     },
     "metadata": {},
     "output_type": "display_data"
    },
    {
     "data": {
      "text/html": [
       "<pre>recommendations finished on 60000/68614 queries. users per second: 146710</pre>"
      ],
      "text/plain": [
       "recommendations finished on 60000/68614 queries. users per second: 146710"
      ]
     },
     "metadata": {},
     "output_type": "display_data"
    },
    {
     "data": {
      "text/html": [
       "<pre>recommendations finished on 61000/68614 queries. users per second: 147458</pre>"
      ],
      "text/plain": [
       "recommendations finished on 61000/68614 queries. users per second: 147458"
      ]
     },
     "metadata": {},
     "output_type": "display_data"
    },
    {
     "data": {
      "text/html": [
       "<pre>recommendations finished on 62000/68614 queries. users per second: 147172</pre>"
      ],
      "text/plain": [
       "recommendations finished on 62000/68614 queries. users per second: 147172"
      ]
     },
     "metadata": {},
     "output_type": "display_data"
    },
    {
     "data": {
      "text/html": [
       "<pre>recommendations finished on 63000/68614 queries. users per second: 147314</pre>"
      ],
      "text/plain": [
       "recommendations finished on 63000/68614 queries. users per second: 147314"
      ]
     },
     "metadata": {},
     "output_type": "display_data"
    },
    {
     "data": {
      "text/html": [
       "<pre>recommendations finished on 64000/68614 queries. users per second: 147677</pre>"
      ],
      "text/plain": [
       "recommendations finished on 64000/68614 queries. users per second: 147677"
      ]
     },
     "metadata": {},
     "output_type": "display_data"
    },
    {
     "data": {
      "text/html": [
       "<pre>recommendations finished on 65000/68614 queries. users per second: 147178</pre>"
      ],
      "text/plain": [
       "recommendations finished on 65000/68614 queries. users per second: 147178"
      ]
     },
     "metadata": {},
     "output_type": "display_data"
    },
    {
     "data": {
      "text/html": [
       "<pre>recommendations finished on 66000/68614 queries. users per second: 147782</pre>"
      ],
      "text/plain": [
       "recommendations finished on 66000/68614 queries. users per second: 147782"
      ]
     },
     "metadata": {},
     "output_type": "display_data"
    },
    {
     "data": {
      "text/html": [
       "<pre>recommendations finished on 67000/68614 queries. users per second: 147658</pre>"
      ],
      "text/plain": [
       "recommendations finished on 67000/68614 queries. users per second: 147658"
      ]
     },
     "metadata": {},
     "output_type": "display_data"
    },
    {
     "data": {
      "text/html": [
       "<pre>recommendations finished on 68000/68614 queries. users per second: 147496</pre>"
      ],
      "text/plain": [
       "recommendations finished on 68000/68614 queries. users per second: 147496"
      ]
     },
     "metadata": {},
     "output_type": "display_data"
    },
    {
     "name": "stdout",
     "output_type": "stream",
     "text": [
      "+--------+----------+-------+------+\n",
      "| custno | prodcat2 | score | rank |\n",
      "+--------+----------+-------+------+\n",
      "| 67913  |    62    |  1.0  |  1   |\n",
      "| 67913  |    89    |  1.0  |  2   |\n",
      "| 67913  |    3     |  1.0  |  3   |\n",
      "| 67913  |    11    |  1.0  |  4   |\n",
      "| 67913  |    38    |  1.0  |  5   |\n",
      "| 67913  |    13    |  1.0  |  6   |\n",
      "| 67913  |    16    |  1.0  |  7   |\n",
      "| 67913  |    43    |  1.0  |  8   |\n",
      "| 67913  |   169    |  1.0  |  9   |\n",
      "| 67913  |    25    |  1.0  |  10  |\n",
      "| 67913  |    4     |  1.0  |  11  |\n",
      "| 67913  |   131    |  1.0  |  12  |\n",
      "| 67913  |    75    |  1.0  |  13  |\n",
      "| 67913  |   110    |  1.0  |  14  |\n",
      "| 67913  |    27    |  1.0  |  15  |\n",
      "| 10880  |    62    |  1.0  |  1   |\n",
      "| 10880  |    89    |  1.0  |  2   |\n",
      "| 10880  |    11    |  1.0  |  3   |\n",
      "| 10880  |    38    |  1.0  |  4   |\n",
      "| 10880  |    13    |  1.0  |  5   |\n",
      "+--------+----------+-------+------+\n",
      "[1029210 rows x 4 columns]\n",
      "\n"
     ]
    }
   ],
   "source": [
    "name = 'popularity'\n",
    "target = 'purchase_dummy'\n",
    "pop_dummy = model(train_dummy, name, user_id, item_id, target, users_to_recommend, n_rec, n_display)"
   ]
  },
  {
   "cell_type": "markdown",
   "metadata": {},
   "source": [
    "### Using scaled count normalised data (Data 3)"
   ]
  },
  {
   "cell_type": "code",
   "execution_count": 238,
   "metadata": {},
   "outputs": [
    {
     "data": {
      "text/html": [
       "<pre>Preparing data set.</pre>"
      ],
      "text/plain": [
       "Preparing data set."
      ]
     },
     "metadata": {},
     "output_type": "display_data"
    },
    {
     "data": {
      "text/html": [
       "<pre>    Data has 162287 observations with 65693 users and 205 items.</pre>"
      ],
      "text/plain": [
       "    Data has 162287 observations with 65693 users and 205 items."
      ]
     },
     "metadata": {},
     "output_type": "display_data"
    },
    {
     "data": {
      "text/html": [
       "<pre>    Data prepared in: 0.399964s</pre>"
      ],
      "text/plain": [
       "    Data prepared in: 0.399964s"
      ]
     },
     "metadata": {},
     "output_type": "display_data"
    },
    {
     "data": {
      "text/html": [
       "<pre>162287 observations to process; with 205 unique items.</pre>"
      ],
      "text/plain": [
       "162287 observations to process; with 205 unique items."
      ]
     },
     "metadata": {},
     "output_type": "display_data"
    },
    {
     "data": {
      "text/html": [
       "<pre>recommendations finished on 1000/68614 queries. users per second: 23458.8</pre>"
      ],
      "text/plain": [
       "recommendations finished on 1000/68614 queries. users per second: 23458.8"
      ]
     },
     "metadata": {},
     "output_type": "display_data"
    },
    {
     "data": {
      "text/html": [
       "<pre>recommendations finished on 2000/68614 queries. users per second: 42039.8</pre>"
      ],
      "text/plain": [
       "recommendations finished on 2000/68614 queries. users per second: 42039.8"
      ]
     },
     "metadata": {},
     "output_type": "display_data"
    },
    {
     "data": {
      "text/html": [
       "<pre>recommendations finished on 3000/68614 queries. users per second: 55398.6</pre>"
      ],
      "text/plain": [
       "recommendations finished on 3000/68614 queries. users per second: 55398.6"
      ]
     },
     "metadata": {},
     "output_type": "display_data"
    },
    {
     "data": {
      "text/html": [
       "<pre>recommendations finished on 4000/68614 queries. users per second: 66033.8</pre>"
      ],
      "text/plain": [
       "recommendations finished on 4000/68614 queries. users per second: 66033.8"
      ]
     },
     "metadata": {},
     "output_type": "display_data"
    },
    {
     "data": {
      "text/html": [
       "<pre>recommendations finished on 5000/68614 queries. users per second: 75723.2</pre>"
      ],
      "text/plain": [
       "recommendations finished on 5000/68614 queries. users per second: 75723.2"
      ]
     },
     "metadata": {},
     "output_type": "display_data"
    },
    {
     "data": {
      "text/html": [
       "<pre>recommendations finished on 6000/68614 queries. users per second: 84676.4</pre>"
      ],
      "text/plain": [
       "recommendations finished on 6000/68614 queries. users per second: 84676.4"
      ]
     },
     "metadata": {},
     "output_type": "display_data"
    },
    {
     "data": {
      "text/html": [
       "<pre>recommendations finished on 7000/68614 queries. users per second: 91835.8</pre>"
      ],
      "text/plain": [
       "recommendations finished on 7000/68614 queries. users per second: 91835.8"
      ]
     },
     "metadata": {},
     "output_type": "display_data"
    },
    {
     "data": {
      "text/html": [
       "<pre>recommendations finished on 8000/68614 queries. users per second: 95479.1</pre>"
      ],
      "text/plain": [
       "recommendations finished on 8000/68614 queries. users per second: 95479.1"
      ]
     },
     "metadata": {},
     "output_type": "display_data"
    },
    {
     "data": {
      "text/html": [
       "<pre>recommendations finished on 9000/68614 queries. users per second: 101017</pre>"
      ],
      "text/plain": [
       "recommendations finished on 9000/68614 queries. users per second: 101017"
      ]
     },
     "metadata": {},
     "output_type": "display_data"
    },
    {
     "data": {
      "text/html": [
       "<pre>recommendations finished on 10000/68614 queries. users per second: 106768</pre>"
      ],
      "text/plain": [
       "recommendations finished on 10000/68614 queries. users per second: 106768"
      ]
     },
     "metadata": {},
     "output_type": "display_data"
    },
    {
     "data": {
      "text/html": [
       "<pre>recommendations finished on 11000/68614 queries. users per second: 111544</pre>"
      ],
      "text/plain": [
       "recommendations finished on 11000/68614 queries. users per second: 111544"
      ]
     },
     "metadata": {},
     "output_type": "display_data"
    },
    {
     "data": {
      "text/html": [
       "<pre>recommendations finished on 12000/68614 queries. users per second: 114884</pre>"
      ],
      "text/plain": [
       "recommendations finished on 12000/68614 queries. users per second: 114884"
      ]
     },
     "metadata": {},
     "output_type": "display_data"
    },
    {
     "data": {
      "text/html": [
       "<pre>recommendations finished on 13000/68614 queries. users per second: 111734</pre>"
      ],
      "text/plain": [
       "recommendations finished on 13000/68614 queries. users per second: 111734"
      ]
     },
     "metadata": {},
     "output_type": "display_data"
    },
    {
     "data": {
      "text/html": [
       "<pre>recommendations finished on 14000/68614 queries. users per second: 114388</pre>"
      ],
      "text/plain": [
       "recommendations finished on 14000/68614 queries. users per second: 114388"
      ]
     },
     "metadata": {},
     "output_type": "display_data"
    },
    {
     "data": {
      "text/html": [
       "<pre>recommendations finished on 15000/68614 queries. users per second: 117718</pre>"
      ],
      "text/plain": [
       "recommendations finished on 15000/68614 queries. users per second: 117718"
      ]
     },
     "metadata": {},
     "output_type": "display_data"
    },
    {
     "data": {
      "text/html": [
       "<pre>recommendations finished on 16000/68614 queries. users per second: 119414</pre>"
      ],
      "text/plain": [
       "recommendations finished on 16000/68614 queries. users per second: 119414"
      ]
     },
     "metadata": {},
     "output_type": "display_data"
    },
    {
     "data": {
      "text/html": [
       "<pre>recommendations finished on 17000/68614 queries. users per second: 117985</pre>"
      ],
      "text/plain": [
       "recommendations finished on 17000/68614 queries. users per second: 117985"
      ]
     },
     "metadata": {},
     "output_type": "display_data"
    },
    {
     "data": {
      "text/html": [
       "<pre>recommendations finished on 18000/68614 queries. users per second: 120909</pre>"
      ],
      "text/plain": [
       "recommendations finished on 18000/68614 queries. users per second: 120909"
      ]
     },
     "metadata": {},
     "output_type": "display_data"
    },
    {
     "data": {
      "text/html": [
       "<pre>recommendations finished on 19000/68614 queries. users per second: 122775</pre>"
      ],
      "text/plain": [
       "recommendations finished on 19000/68614 queries. users per second: 122775"
      ]
     },
     "metadata": {},
     "output_type": "display_data"
    },
    {
     "data": {
      "text/html": [
       "<pre>recommendations finished on 20000/68614 queries. users per second: 124994</pre>"
      ],
      "text/plain": [
       "recommendations finished on 20000/68614 queries. users per second: 124994"
      ]
     },
     "metadata": {},
     "output_type": "display_data"
    },
    {
     "data": {
      "text/html": [
       "<pre>recommendations finished on 21000/68614 queries. users per second: 123426</pre>"
      ],
      "text/plain": [
       "recommendations finished on 21000/68614 queries. users per second: 123426"
      ]
     },
     "metadata": {},
     "output_type": "display_data"
    },
    {
     "data": {
      "text/html": [
       "<pre>recommendations finished on 22000/68614 queries. users per second: 125497</pre>"
      ],
      "text/plain": [
       "recommendations finished on 22000/68614 queries. users per second: 125497"
      ]
     },
     "metadata": {},
     "output_type": "display_data"
    },
    {
     "data": {
      "text/html": [
       "<pre>recommendations finished on 23000/68614 queries. users per second: 128360</pre>"
      ],
      "text/plain": [
       "recommendations finished on 23000/68614 queries. users per second: 128360"
      ]
     },
     "metadata": {},
     "output_type": "display_data"
    },
    {
     "data": {
      "text/html": [
       "<pre>recommendations finished on 24000/68614 queries. users per second: 131458</pre>"
      ],
      "text/plain": [
       "recommendations finished on 24000/68614 queries. users per second: 131458"
      ]
     },
     "metadata": {},
     "output_type": "display_data"
    },
    {
     "data": {
      "text/html": [
       "<pre>recommendations finished on 25000/68614 queries. users per second: 133484</pre>"
      ],
      "text/plain": [
       "recommendations finished on 25000/68614 queries. users per second: 133484"
      ]
     },
     "metadata": {},
     "output_type": "display_data"
    },
    {
     "data": {
      "text/html": [
       "<pre>recommendations finished on 26000/68614 queries. users per second: 136285</pre>"
      ],
      "text/plain": [
       "recommendations finished on 26000/68614 queries. users per second: 136285"
      ]
     },
     "metadata": {},
     "output_type": "display_data"
    },
    {
     "data": {
      "text/html": [
       "<pre>recommendations finished on 27000/68614 queries. users per second: 138759</pre>"
      ],
      "text/plain": [
       "recommendations finished on 27000/68614 queries. users per second: 138759"
      ]
     },
     "metadata": {},
     "output_type": "display_data"
    },
    {
     "data": {
      "text/html": [
       "<pre>recommendations finished on 28000/68614 queries. users per second: 141283</pre>"
      ],
      "text/plain": [
       "recommendations finished on 28000/68614 queries. users per second: 141283"
      ]
     },
     "metadata": {},
     "output_type": "display_data"
    },
    {
     "data": {
      "text/html": [
       "<pre>recommendations finished on 29000/68614 queries. users per second: 138402</pre>"
      ],
      "text/plain": [
       "recommendations finished on 29000/68614 queries. users per second: 138402"
      ]
     },
     "metadata": {},
     "output_type": "display_data"
    },
    {
     "data": {
      "text/html": [
       "<pre>recommendations finished on 30000/68614 queries. users per second: 139787</pre>"
      ],
      "text/plain": [
       "recommendations finished on 30000/68614 queries. users per second: 139787"
      ]
     },
     "metadata": {},
     "output_type": "display_data"
    },
    {
     "data": {
      "text/html": [
       "<pre>recommendations finished on 31000/68614 queries. users per second: 139407</pre>"
      ],
      "text/plain": [
       "recommendations finished on 31000/68614 queries. users per second: 139407"
      ]
     },
     "metadata": {},
     "output_type": "display_data"
    },
    {
     "data": {
      "text/html": [
       "<pre>recommendations finished on 32000/68614 queries. users per second: 138613</pre>"
      ],
      "text/plain": [
       "recommendations finished on 32000/68614 queries. users per second: 138613"
      ]
     },
     "metadata": {},
     "output_type": "display_data"
    },
    {
     "data": {
      "text/html": [
       "<pre>recommendations finished on 33000/68614 queries. users per second: 137817</pre>"
      ],
      "text/plain": [
       "recommendations finished on 33000/68614 queries. users per second: 137817"
      ]
     },
     "metadata": {},
     "output_type": "display_data"
    },
    {
     "data": {
      "text/html": [
       "<pre>recommendations finished on 34000/68614 queries. users per second: 138852</pre>"
      ],
      "text/plain": [
       "recommendations finished on 34000/68614 queries. users per second: 138852"
      ]
     },
     "metadata": {},
     "output_type": "display_data"
    },
    {
     "data": {
      "text/html": [
       "<pre>recommendations finished on 35000/68614 queries. users per second: 137133</pre>"
      ],
      "text/plain": [
       "recommendations finished on 35000/68614 queries. users per second: 137133"
      ]
     },
     "metadata": {},
     "output_type": "display_data"
    },
    {
     "data": {
      "text/html": [
       "<pre>recommendations finished on 36000/68614 queries. users per second: 138609</pre>"
      ],
      "text/plain": [
       "recommendations finished on 36000/68614 queries. users per second: 138609"
      ]
     },
     "metadata": {},
     "output_type": "display_data"
    },
    {
     "data": {
      "text/html": [
       "<pre>recommendations finished on 37000/68614 queries. users per second: 139532</pre>"
      ],
      "text/plain": [
       "recommendations finished on 37000/68614 queries. users per second: 139532"
      ]
     },
     "metadata": {},
     "output_type": "display_data"
    },
    {
     "data": {
      "text/html": [
       "<pre>recommendations finished on 38000/68614 queries. users per second: 140428</pre>"
      ],
      "text/plain": [
       "recommendations finished on 38000/68614 queries. users per second: 140428"
      ]
     },
     "metadata": {},
     "output_type": "display_data"
    },
    {
     "data": {
      "text/html": [
       "<pre>recommendations finished on 39000/68614 queries. users per second: 139891</pre>"
      ],
      "text/plain": [
       "recommendations finished on 39000/68614 queries. users per second: 139891"
      ]
     },
     "metadata": {},
     "output_type": "display_data"
    },
    {
     "data": {
      "text/html": [
       "<pre>recommendations finished on 40000/68614 queries. users per second: 139735</pre>"
      ],
      "text/plain": [
       "recommendations finished on 40000/68614 queries. users per second: 139735"
      ]
     },
     "metadata": {},
     "output_type": "display_data"
    },
    {
     "data": {
      "text/html": [
       "<pre>recommendations finished on 41000/68614 queries. users per second: 140814</pre>"
      ],
      "text/plain": [
       "recommendations finished on 41000/68614 queries. users per second: 140814"
      ]
     },
     "metadata": {},
     "output_type": "display_data"
    },
    {
     "data": {
      "text/html": [
       "<pre>recommendations finished on 42000/68614 queries. users per second: 140604</pre>"
      ],
      "text/plain": [
       "recommendations finished on 42000/68614 queries. users per second: 140604"
      ]
     },
     "metadata": {},
     "output_type": "display_data"
    },
    {
     "data": {
      "text/html": [
       "<pre>recommendations finished on 43000/68614 queries. users per second: 141053</pre>"
      ],
      "text/plain": [
       "recommendations finished on 43000/68614 queries. users per second: 141053"
      ]
     },
     "metadata": {},
     "output_type": "display_data"
    },
    {
     "data": {
      "text/html": [
       "<pre>recommendations finished on 44000/68614 queries. users per second: 142278</pre>"
      ],
      "text/plain": [
       "recommendations finished on 44000/68614 queries. users per second: 142278"
      ]
     },
     "metadata": {},
     "output_type": "display_data"
    },
    {
     "data": {
      "text/html": [
       "<pre>recommendations finished on 45000/68614 queries. users per second: 142638</pre>"
      ],
      "text/plain": [
       "recommendations finished on 45000/68614 queries. users per second: 142638"
      ]
     },
     "metadata": {},
     "output_type": "display_data"
    },
    {
     "data": {
      "text/html": [
       "<pre>recommendations finished on 46000/68614 queries. users per second: 142625</pre>"
      ],
      "text/plain": [
       "recommendations finished on 46000/68614 queries. users per second: 142625"
      ]
     },
     "metadata": {},
     "output_type": "display_data"
    },
    {
     "data": {
      "text/html": [
       "<pre>recommendations finished on 47000/68614 queries. users per second: 143086</pre>"
      ],
      "text/plain": [
       "recommendations finished on 47000/68614 queries. users per second: 143086"
      ]
     },
     "metadata": {},
     "output_type": "display_data"
    },
    {
     "data": {
      "text/html": [
       "<pre>recommendations finished on 48000/68614 queries. users per second: 143514</pre>"
      ],
      "text/plain": [
       "recommendations finished on 48000/68614 queries. users per second: 143514"
      ]
     },
     "metadata": {},
     "output_type": "display_data"
    },
    {
     "data": {
      "text/html": [
       "<pre>recommendations finished on 49000/68614 queries. users per second: 144435</pre>"
      ],
      "text/plain": [
       "recommendations finished on 49000/68614 queries. users per second: 144435"
      ]
     },
     "metadata": {},
     "output_type": "display_data"
    },
    {
     "data": {
      "text/html": [
       "<pre>recommendations finished on 50000/68614 queries. users per second: 145301</pre>"
      ],
      "text/plain": [
       "recommendations finished on 50000/68614 queries. users per second: 145301"
      ]
     },
     "metadata": {},
     "output_type": "display_data"
    },
    {
     "data": {
      "text/html": [
       "<pre>recommendations finished on 51000/68614 queries. users per second: 146208</pre>"
      ],
      "text/plain": [
       "recommendations finished on 51000/68614 queries. users per second: 146208"
      ]
     },
     "metadata": {},
     "output_type": "display_data"
    },
    {
     "data": {
      "text/html": [
       "<pre>recommendations finished on 52000/68614 queries. users per second: 145845</pre>"
      ],
      "text/plain": [
       "recommendations finished on 52000/68614 queries. users per second: 145845"
      ]
     },
     "metadata": {},
     "output_type": "display_data"
    },
    {
     "data": {
      "text/html": [
       "<pre>recommendations finished on 53000/68614 queries. users per second: 145554</pre>"
      ],
      "text/plain": [
       "recommendations finished on 53000/68614 queries. users per second: 145554"
      ]
     },
     "metadata": {},
     "output_type": "display_data"
    },
    {
     "data": {
      "text/html": [
       "<pre>recommendations finished on 54000/68614 queries. users per second: 145775</pre>"
      ],
      "text/plain": [
       "recommendations finished on 54000/68614 queries. users per second: 145775"
      ]
     },
     "metadata": {},
     "output_type": "display_data"
    },
    {
     "data": {
      "text/html": [
       "<pre>recommendations finished on 55000/68614 queries. users per second: 146486</pre>"
      ],
      "text/plain": [
       "recommendations finished on 55000/68614 queries. users per second: 146486"
      ]
     },
     "metadata": {},
     "output_type": "display_data"
    },
    {
     "data": {
      "text/html": [
       "<pre>recommendations finished on 56000/68614 queries. users per second: 146171</pre>"
      ],
      "text/plain": [
       "recommendations finished on 56000/68614 queries. users per second: 146171"
      ]
     },
     "metadata": {},
     "output_type": "display_data"
    },
    {
     "data": {
      "text/html": [
       "<pre>recommendations finished on 57000/68614 queries. users per second: 146088</pre>"
      ],
      "text/plain": [
       "recommendations finished on 57000/68614 queries. users per second: 146088"
      ]
     },
     "metadata": {},
     "output_type": "display_data"
    },
    {
     "data": {
      "text/html": [
       "<pre>recommendations finished on 58000/68614 queries. users per second: 146366</pre>"
      ],
      "text/plain": [
       "recommendations finished on 58000/68614 queries. users per second: 146366"
      ]
     },
     "metadata": {},
     "output_type": "display_data"
    },
    {
     "data": {
      "text/html": [
       "<pre>recommendations finished on 59000/68614 queries. users per second: 146141</pre>"
      ],
      "text/plain": [
       "recommendations finished on 59000/68614 queries. users per second: 146141"
      ]
     },
     "metadata": {},
     "output_type": "display_data"
    },
    {
     "data": {
      "text/html": [
       "<pre>recommendations finished on 60000/68614 queries. users per second: 146005</pre>"
      ],
      "text/plain": [
       "recommendations finished on 60000/68614 queries. users per second: 146005"
      ]
     },
     "metadata": {},
     "output_type": "display_data"
    },
    {
     "data": {
      "text/html": [
       "<pre>recommendations finished on 61000/68614 queries. users per second: 146714</pre>"
      ],
      "text/plain": [
       "recommendations finished on 61000/68614 queries. users per second: 146714"
      ]
     },
     "metadata": {},
     "output_type": "display_data"
    },
    {
     "data": {
      "text/html": [
       "<pre>recommendations finished on 62000/68614 queries. users per second: 147809</pre>"
      ],
      "text/plain": [
       "recommendations finished on 62000/68614 queries. users per second: 147809"
      ]
     },
     "metadata": {},
     "output_type": "display_data"
    },
    {
     "data": {
      "text/html": [
       "<pre>recommendations finished on 63000/68614 queries. users per second: 148877</pre>"
      ],
      "text/plain": [
       "recommendations finished on 63000/68614 queries. users per second: 148877"
      ]
     },
     "metadata": {},
     "output_type": "display_data"
    },
    {
     "data": {
      "text/html": [
       "<pre>recommendations finished on 64000/68614 queries. users per second: 149332</pre>"
      ],
      "text/plain": [
       "recommendations finished on 64000/68614 queries. users per second: 149332"
      ]
     },
     "metadata": {},
     "output_type": "display_data"
    },
    {
     "data": {
      "text/html": [
       "<pre>recommendations finished on 65000/68614 queries. users per second: 149275</pre>"
      ],
      "text/plain": [
       "recommendations finished on 65000/68614 queries. users per second: 149275"
      ]
     },
     "metadata": {},
     "output_type": "display_data"
    },
    {
     "data": {
      "text/html": [
       "<pre>recommendations finished on 66000/68614 queries. users per second: 149746</pre>"
      ],
      "text/plain": [
       "recommendations finished on 66000/68614 queries. users per second: 149746"
      ]
     },
     "metadata": {},
     "output_type": "display_data"
    },
    {
     "data": {
      "text/html": [
       "<pre>recommendations finished on 67000/68614 queries. users per second: 150186</pre>"
      ],
      "text/plain": [
       "recommendations finished on 67000/68614 queries. users per second: 150186"
      ]
     },
     "metadata": {},
     "output_type": "display_data"
    },
    {
     "data": {
      "text/html": [
       "<pre>recommendations finished on 68000/68614 queries. users per second: 150286</pre>"
      ],
      "text/plain": [
       "recommendations finished on 68000/68614 queries. users per second: 150286"
      ]
     },
     "metadata": {},
     "output_type": "display_data"
    },
    {
     "name": "stdout",
     "output_type": "stream",
     "text": [
      "+--------+----------+---------------------+------+\n",
      "| custno | prodcat2 |        score        | rank |\n",
      "+--------+----------+---------------------+------+\n",
      "| 67913  |   192    |         0.5         |  1   |\n",
      "| 67913  |   189    |         0.5         |  2   |\n",
      "| 67913  |   237    |  0.3333333333333333 |  3   |\n",
      "| 67913  |   142    |  0.3333333333333333 |  4   |\n",
      "| 67913  |   236    |         0.3         |  5   |\n",
      "| 67913  |   232    |  0.2857142857142857 |  6   |\n",
      "| 67913  |   229    |         0.25        |  7   |\n",
      "| 67913  |   235    |         0.24        |  8   |\n",
      "| 67913  |   240    |         0.2         |  9   |\n",
      "| 67913  |   218    |         0.2         |  10  |\n",
      "| 67913  |   117    | 0.16666666666666666 |  11  |\n",
      "| 67913  |   222    | 0.16666666666666666 |  12  |\n",
      "| 67913  |   143    | 0.16666666666666666 |  13  |\n",
      "| 67913  |   212    | 0.14285714285714285 |  14  |\n",
      "| 67913  |    88    |  0.1388888888888889 |  15  |\n",
      "| 10880  |   192    |         0.5         |  1   |\n",
      "| 10880  |   189    |         0.5         |  2   |\n",
      "| 10880  |   142    |  0.3333333333333333 |  3   |\n",
      "| 10880  |   237    |  0.3333333333333333 |  4   |\n",
      "| 10880  |   236    |         0.3         |  5   |\n",
      "+--------+----------+---------------------+------+\n",
      "[1029210 rows x 4 columns]\n",
      "\n"
     ]
    }
   ],
   "source": [
    "name = 'popularity'\n",
    "target = 'prodcat2_scaled_count'\n",
    "pop_norm = model(train_norm, name, user_id, item_id, target, users_to_recommend, n_rec, n_display)"
   ]
  },
  {
   "cell_type": "markdown",
   "metadata": {},
   "source": [
    "**Baseline Summary:**\n",
    "- Items were recommended based on scores by popularity\n",
    "- Different models gave different recommendations but recommendations were same across the users"
   ]
  },
  {
   "cell_type": "markdown",
   "metadata": {},
   "source": [
    "## Collaborative Filtering Model 1: (Based on Cosine Similarity)"
   ]
  },
  {
   "cell_type": "markdown",
   "metadata": {},
   "source": [
    "### Using purchase count data (Data 1)"
   ]
  },
  {
   "cell_type": "code",
   "execution_count": 239,
   "metadata": {},
   "outputs": [
    {
     "data": {
      "text/html": [
       "<pre>Preparing data set.</pre>"
      ],
      "text/plain": [
       "Preparing data set."
      ]
     },
     "metadata": {},
     "output_type": "display_data"
    },
    {
     "data": {
      "text/html": [
       "<pre>    Data has 162627 observations with 65740 users and 249 items.</pre>"
      ],
      "text/plain": [
       "    Data has 162627 observations with 65740 users and 249 items."
      ]
     },
     "metadata": {},
     "output_type": "display_data"
    },
    {
     "data": {
      "text/html": [
       "<pre>    Data prepared in: 0.266563s</pre>"
      ],
      "text/plain": [
       "    Data prepared in: 0.266563s"
      ]
     },
     "metadata": {},
     "output_type": "display_data"
    },
    {
     "data": {
      "text/html": [
       "<pre>Training model from provided data.</pre>"
      ],
      "text/plain": [
       "Training model from provided data."
      ]
     },
     "metadata": {},
     "output_type": "display_data"
    },
    {
     "data": {
      "text/html": [
       "<pre>Gathering per-item and per-user statistics.</pre>"
      ],
      "text/plain": [
       "Gathering per-item and per-user statistics."
      ]
     },
     "metadata": {},
     "output_type": "display_data"
    },
    {
     "data": {
      "text/html": [
       "<pre>+--------------------------------+------------+</pre>"
      ],
      "text/plain": [
       "+--------------------------------+------------+"
      ]
     },
     "metadata": {},
     "output_type": "display_data"
    },
    {
     "data": {
      "text/html": [
       "<pre>| Elapsed Time (Item Statistics) | % Complete |</pre>"
      ],
      "text/plain": [
       "| Elapsed Time (Item Statistics) | % Complete |"
      ]
     },
     "metadata": {},
     "output_type": "display_data"
    },
    {
     "data": {
      "text/html": [
       "<pre>+--------------------------------+------------+</pre>"
      ],
      "text/plain": [
       "+--------------------------------+------------+"
      ]
     },
     "metadata": {},
     "output_type": "display_data"
    },
    {
     "data": {
      "text/html": [
       "<pre>| 2.657ms                        | 1.5        |</pre>"
      ],
      "text/plain": [
       "| 2.657ms                        | 1.5        |"
      ]
     },
     "metadata": {},
     "output_type": "display_data"
    },
    {
     "data": {
      "text/html": [
       "<pre>| 25.563ms                       | 100        |</pre>"
      ],
      "text/plain": [
       "| 25.563ms                       | 100        |"
      ]
     },
     "metadata": {},
     "output_type": "display_data"
    },
    {
     "data": {
      "text/html": [
       "<pre>+--------------------------------+------------+</pre>"
      ],
      "text/plain": [
       "+--------------------------------+------------+"
      ]
     },
     "metadata": {},
     "output_type": "display_data"
    },
    {
     "data": {
      "text/html": [
       "<pre>Setting up lookup tables.</pre>"
      ],
      "text/plain": [
       "Setting up lookup tables."
      ]
     },
     "metadata": {},
     "output_type": "display_data"
    },
    {
     "data": {
      "text/html": [
       "<pre>Processing data in one pass using dense lookup tables.</pre>"
      ],
      "text/plain": [
       "Processing data in one pass using dense lookup tables."
      ]
     },
     "metadata": {},
     "output_type": "display_data"
    },
    {
     "data": {
      "text/html": [
       "<pre>+-------------------------------------+------------------+-----------------+</pre>"
      ],
      "text/plain": [
       "+-------------------------------------+------------------+-----------------+"
      ]
     },
     "metadata": {},
     "output_type": "display_data"
    },
    {
     "data": {
      "text/html": [
       "<pre>| Elapsed Time (Constructing Lookups) | Total % Complete | Items Processed |</pre>"
      ],
      "text/plain": [
       "| Elapsed Time (Constructing Lookups) | Total % Complete | Items Processed |"
      ]
     },
     "metadata": {},
     "output_type": "display_data"
    },
    {
     "data": {
      "text/html": [
       "<pre>+-------------------------------------+------------------+-----------------+</pre>"
      ],
      "text/plain": [
       "+-------------------------------------+------------------+-----------------+"
      ]
     },
     "metadata": {},
     "output_type": "display_data"
    },
    {
     "data": {
      "text/html": [
       "<pre>| 26.527ms                            | 0                | 0               |</pre>"
      ],
      "text/plain": [
       "| 26.527ms                            | 0                | 0               |"
      ]
     },
     "metadata": {},
     "output_type": "display_data"
    },
    {
     "data": {
      "text/html": [
       "<pre>| 58.377ms                            | 100              | 249             |</pre>"
      ],
      "text/plain": [
       "| 58.377ms                            | 100              | 249             |"
      ]
     },
     "metadata": {},
     "output_type": "display_data"
    },
    {
     "data": {
      "text/html": [
       "<pre>+-------------------------------------+------------------+-----------------+</pre>"
      ],
      "text/plain": [
       "+-------------------------------------+------------------+-----------------+"
      ]
     },
     "metadata": {},
     "output_type": "display_data"
    },
    {
     "data": {
      "text/html": [
       "<pre>Finalizing lookup tables.</pre>"
      ],
      "text/plain": [
       "Finalizing lookup tables."
      ]
     },
     "metadata": {},
     "output_type": "display_data"
    },
    {
     "data": {
      "text/html": [
       "<pre>Generating candidate set for working with new users.</pre>"
      ],
      "text/plain": [
       "Generating candidate set for working with new users."
      ]
     },
     "metadata": {},
     "output_type": "display_data"
    },
    {
     "data": {
      "text/html": [
       "<pre>Finished training in 0.075776s</pre>"
      ],
      "text/plain": [
       "Finished training in 0.075776s"
      ]
     },
     "metadata": {},
     "output_type": "display_data"
    },
    {
     "data": {
      "text/html": [
       "<pre>recommendations finished on 1000/68614 queries. users per second: 32833.2</pre>"
      ],
      "text/plain": [
       "recommendations finished on 1000/68614 queries. users per second: 32833.2"
      ]
     },
     "metadata": {},
     "output_type": "display_data"
    },
    {
     "data": {
      "text/html": [
       "<pre>recommendations finished on 2000/68614 queries. users per second: 55814.5</pre>"
      ],
      "text/plain": [
       "recommendations finished on 2000/68614 queries. users per second: 55814.5"
      ]
     },
     "metadata": {},
     "output_type": "display_data"
    },
    {
     "data": {
      "text/html": [
       "<pre>recommendations finished on 3000/68614 queries. users per second: 72212.6</pre>"
      ],
      "text/plain": [
       "recommendations finished on 3000/68614 queries. users per second: 72212.6"
      ]
     },
     "metadata": {},
     "output_type": "display_data"
    },
    {
     "data": {
      "text/html": [
       "<pre>recommendations finished on 4000/68614 queries. users per second: 83408.1</pre>"
      ],
      "text/plain": [
       "recommendations finished on 4000/68614 queries. users per second: 83408.1"
      ]
     },
     "metadata": {},
     "output_type": "display_data"
    },
    {
     "data": {
      "text/html": [
       "<pre>recommendations finished on 5000/68614 queries. users per second: 95739.6</pre>"
      ],
      "text/plain": [
       "recommendations finished on 5000/68614 queries. users per second: 95739.6"
      ]
     },
     "metadata": {},
     "output_type": "display_data"
    },
    {
     "data": {
      "text/html": [
       "<pre>recommendations finished on 6000/68614 queries. users per second: 99931.7</pre>"
      ],
      "text/plain": [
       "recommendations finished on 6000/68614 queries. users per second: 99931.7"
      ]
     },
     "metadata": {},
     "output_type": "display_data"
    },
    {
     "data": {
      "text/html": [
       "<pre>recommendations finished on 7000/68614 queries. users per second: 107155</pre>"
      ],
      "text/plain": [
       "recommendations finished on 7000/68614 queries. users per second: 107155"
      ]
     },
     "metadata": {},
     "output_type": "display_data"
    },
    {
     "data": {
      "text/html": [
       "<pre>recommendations finished on 8000/68614 queries. users per second: 109676</pre>"
      ],
      "text/plain": [
       "recommendations finished on 8000/68614 queries. users per second: 109676"
      ]
     },
     "metadata": {},
     "output_type": "display_data"
    },
    {
     "data": {
      "text/html": [
       "<pre>recommendations finished on 9000/68614 queries. users per second: 112772</pre>"
      ],
      "text/plain": [
       "recommendations finished on 9000/68614 queries. users per second: 112772"
      ]
     },
     "metadata": {},
     "output_type": "display_data"
    },
    {
     "data": {
      "text/html": [
       "<pre>recommendations finished on 10000/68614 queries. users per second: 114811</pre>"
      ],
      "text/plain": [
       "recommendations finished on 10000/68614 queries. users per second: 114811"
      ]
     },
     "metadata": {},
     "output_type": "display_data"
    },
    {
     "data": {
      "text/html": [
       "<pre>recommendations finished on 11000/68614 queries. users per second: 116747</pre>"
      ],
      "text/plain": [
       "recommendations finished on 11000/68614 queries. users per second: 116747"
      ]
     },
     "metadata": {},
     "output_type": "display_data"
    },
    {
     "data": {
      "text/html": [
       "<pre>recommendations finished on 12000/68614 queries. users per second: 117087</pre>"
      ],
      "text/plain": [
       "recommendations finished on 12000/68614 queries. users per second: 117087"
      ]
     },
     "metadata": {},
     "output_type": "display_data"
    },
    {
     "data": {
      "text/html": [
       "<pre>recommendations finished on 13000/68614 queries. users per second: 117393</pre>"
      ],
      "text/plain": [
       "recommendations finished on 13000/68614 queries. users per second: 117393"
      ]
     },
     "metadata": {},
     "output_type": "display_data"
    },
    {
     "data": {
      "text/html": [
       "<pre>recommendations finished on 14000/68614 queries. users per second: 116820</pre>"
      ],
      "text/plain": [
       "recommendations finished on 14000/68614 queries. users per second: 116820"
      ]
     },
     "metadata": {},
     "output_type": "display_data"
    },
    {
     "data": {
      "text/html": [
       "<pre>recommendations finished on 15000/68614 queries. users per second: 117821</pre>"
      ],
      "text/plain": [
       "recommendations finished on 15000/68614 queries. users per second: 117821"
      ]
     },
     "metadata": {},
     "output_type": "display_data"
    },
    {
     "data": {
      "text/html": [
       "<pre>recommendations finished on 16000/68614 queries. users per second: 119274</pre>"
      ],
      "text/plain": [
       "recommendations finished on 16000/68614 queries. users per second: 119274"
      ]
     },
     "metadata": {},
     "output_type": "display_data"
    },
    {
     "data": {
      "text/html": [
       "<pre>recommendations finished on 17000/68614 queries. users per second: 118384</pre>"
      ],
      "text/plain": [
       "recommendations finished on 17000/68614 queries. users per second: 118384"
      ]
     },
     "metadata": {},
     "output_type": "display_data"
    },
    {
     "data": {
      "text/html": [
       "<pre>recommendations finished on 18000/68614 queries. users per second: 116305</pre>"
      ],
      "text/plain": [
       "recommendations finished on 18000/68614 queries. users per second: 116305"
      ]
     },
     "metadata": {},
     "output_type": "display_data"
    },
    {
     "data": {
      "text/html": [
       "<pre>recommendations finished on 19000/68614 queries. users per second: 111213</pre>"
      ],
      "text/plain": [
       "recommendations finished on 19000/68614 queries. users per second: 111213"
      ]
     },
     "metadata": {},
     "output_type": "display_data"
    },
    {
     "data": {
      "text/html": [
       "<pre>recommendations finished on 20000/68614 queries. users per second: 110042</pre>"
      ],
      "text/plain": [
       "recommendations finished on 20000/68614 queries. users per second: 110042"
      ]
     },
     "metadata": {},
     "output_type": "display_data"
    },
    {
     "data": {
      "text/html": [
       "<pre>recommendations finished on 21000/68614 queries. users per second: 109472</pre>"
      ],
      "text/plain": [
       "recommendations finished on 21000/68614 queries. users per second: 109472"
      ]
     },
     "metadata": {},
     "output_type": "display_data"
    },
    {
     "data": {
      "text/html": [
       "<pre>recommendations finished on 22000/68614 queries. users per second: 110360</pre>"
      ],
      "text/plain": [
       "recommendations finished on 22000/68614 queries. users per second: 110360"
      ]
     },
     "metadata": {},
     "output_type": "display_data"
    },
    {
     "data": {
      "text/html": [
       "<pre>recommendations finished on 23000/68614 queries. users per second: 109229</pre>"
      ],
      "text/plain": [
       "recommendations finished on 23000/68614 queries. users per second: 109229"
      ]
     },
     "metadata": {},
     "output_type": "display_data"
    },
    {
     "data": {
      "text/html": [
       "<pre>recommendations finished on 24000/68614 queries. users per second: 110698</pre>"
      ],
      "text/plain": [
       "recommendations finished on 24000/68614 queries. users per second: 110698"
      ]
     },
     "metadata": {},
     "output_type": "display_data"
    },
    {
     "data": {
      "text/html": [
       "<pre>recommendations finished on 25000/68614 queries. users per second: 111065</pre>"
      ],
      "text/plain": [
       "recommendations finished on 25000/68614 queries. users per second: 111065"
      ]
     },
     "metadata": {},
     "output_type": "display_data"
    },
    {
     "data": {
      "text/html": [
       "<pre>recommendations finished on 26000/68614 queries. users per second: 111918</pre>"
      ],
      "text/plain": [
       "recommendations finished on 26000/68614 queries. users per second: 111918"
      ]
     },
     "metadata": {},
     "output_type": "display_data"
    },
    {
     "data": {
      "text/html": [
       "<pre>recommendations finished on 27000/68614 queries. users per second: 111207</pre>"
      ],
      "text/plain": [
       "recommendations finished on 27000/68614 queries. users per second: 111207"
      ]
     },
     "metadata": {},
     "output_type": "display_data"
    },
    {
     "data": {
      "text/html": [
       "<pre>recommendations finished on 28000/68614 queries. users per second: 111509</pre>"
      ],
      "text/plain": [
       "recommendations finished on 28000/68614 queries. users per second: 111509"
      ]
     },
     "metadata": {},
     "output_type": "display_data"
    },
    {
     "data": {
      "text/html": [
       "<pre>recommendations finished on 29000/68614 queries. users per second: 110888</pre>"
      ],
      "text/plain": [
       "recommendations finished on 29000/68614 queries. users per second: 110888"
      ]
     },
     "metadata": {},
     "output_type": "display_data"
    },
    {
     "data": {
      "text/html": [
       "<pre>recommendations finished on 30000/68614 queries. users per second: 110525</pre>"
      ],
      "text/plain": [
       "recommendations finished on 30000/68614 queries. users per second: 110525"
      ]
     },
     "metadata": {},
     "output_type": "display_data"
    },
    {
     "data": {
      "text/html": [
       "<pre>recommendations finished on 31000/68614 queries. users per second: 110526</pre>"
      ],
      "text/plain": [
       "recommendations finished on 31000/68614 queries. users per second: 110526"
      ]
     },
     "metadata": {},
     "output_type": "display_data"
    },
    {
     "data": {
      "text/html": [
       "<pre>recommendations finished on 32000/68614 queries. users per second: 110648</pre>"
      ],
      "text/plain": [
       "recommendations finished on 32000/68614 queries. users per second: 110648"
      ]
     },
     "metadata": {},
     "output_type": "display_data"
    },
    {
     "data": {
      "text/html": [
       "<pre>recommendations finished on 33000/68614 queries. users per second: 111687</pre>"
      ],
      "text/plain": [
       "recommendations finished on 33000/68614 queries. users per second: 111687"
      ]
     },
     "metadata": {},
     "output_type": "display_data"
    },
    {
     "data": {
      "text/html": [
       "<pre>recommendations finished on 34000/68614 queries. users per second: 112036</pre>"
      ],
      "text/plain": [
       "recommendations finished on 34000/68614 queries. users per second: 112036"
      ]
     },
     "metadata": {},
     "output_type": "display_data"
    },
    {
     "data": {
      "text/html": [
       "<pre>recommendations finished on 35000/68614 queries. users per second: 112295</pre>"
      ],
      "text/plain": [
       "recommendations finished on 35000/68614 queries. users per second: 112295"
      ]
     },
     "metadata": {},
     "output_type": "display_data"
    },
    {
     "data": {
      "text/html": [
       "<pre>recommendations finished on 36000/68614 queries. users per second: 111795</pre>"
      ],
      "text/plain": [
       "recommendations finished on 36000/68614 queries. users per second: 111795"
      ]
     },
     "metadata": {},
     "output_type": "display_data"
    },
    {
     "data": {
      "text/html": [
       "<pre>recommendations finished on 37000/68614 queries. users per second: 112556</pre>"
      ],
      "text/plain": [
       "recommendations finished on 37000/68614 queries. users per second: 112556"
      ]
     },
     "metadata": {},
     "output_type": "display_data"
    },
    {
     "data": {
      "text/html": [
       "<pre>recommendations finished on 38000/68614 queries. users per second: 111151</pre>"
      ],
      "text/plain": [
       "recommendations finished on 38000/68614 queries. users per second: 111151"
      ]
     },
     "metadata": {},
     "output_type": "display_data"
    },
    {
     "data": {
      "text/html": [
       "<pre>recommendations finished on 39000/68614 queries. users per second: 111001</pre>"
      ],
      "text/plain": [
       "recommendations finished on 39000/68614 queries. users per second: 111001"
      ]
     },
     "metadata": {},
     "output_type": "display_data"
    },
    {
     "data": {
      "text/html": [
       "<pre>recommendations finished on 40000/68614 queries. users per second: 110954</pre>"
      ],
      "text/plain": [
       "recommendations finished on 40000/68614 queries. users per second: 110954"
      ]
     },
     "metadata": {},
     "output_type": "display_data"
    },
    {
     "data": {
      "text/html": [
       "<pre>recommendations finished on 41000/68614 queries. users per second: 111384</pre>"
      ],
      "text/plain": [
       "recommendations finished on 41000/68614 queries. users per second: 111384"
      ]
     },
     "metadata": {},
     "output_type": "display_data"
    },
    {
     "data": {
      "text/html": [
       "<pre>recommendations finished on 42000/68614 queries. users per second: 111320</pre>"
      ],
      "text/plain": [
       "recommendations finished on 42000/68614 queries. users per second: 111320"
      ]
     },
     "metadata": {},
     "output_type": "display_data"
    },
    {
     "data": {
      "text/html": [
       "<pre>recommendations finished on 43000/68614 queries. users per second: 110326</pre>"
      ],
      "text/plain": [
       "recommendations finished on 43000/68614 queries. users per second: 110326"
      ]
     },
     "metadata": {},
     "output_type": "display_data"
    },
    {
     "data": {
      "text/html": [
       "<pre>recommendations finished on 44000/68614 queries. users per second: 111476</pre>"
      ],
      "text/plain": [
       "recommendations finished on 44000/68614 queries. users per second: 111476"
      ]
     },
     "metadata": {},
     "output_type": "display_data"
    },
    {
     "data": {
      "text/html": [
       "<pre>recommendations finished on 45000/68614 queries. users per second: 111628</pre>"
      ],
      "text/plain": [
       "recommendations finished on 45000/68614 queries. users per second: 111628"
      ]
     },
     "metadata": {},
     "output_type": "display_data"
    },
    {
     "data": {
      "text/html": [
       "<pre>recommendations finished on 46000/68614 queries. users per second: 111456</pre>"
      ],
      "text/plain": [
       "recommendations finished on 46000/68614 queries. users per second: 111456"
      ]
     },
     "metadata": {},
     "output_type": "display_data"
    },
    {
     "data": {
      "text/html": [
       "<pre>recommendations finished on 47000/68614 queries. users per second: 111740</pre>"
      ],
      "text/plain": [
       "recommendations finished on 47000/68614 queries. users per second: 111740"
      ]
     },
     "metadata": {},
     "output_type": "display_data"
    },
    {
     "data": {
      "text/html": [
       "<pre>recommendations finished on 48000/68614 queries. users per second: 112176</pre>"
      ],
      "text/plain": [
       "recommendations finished on 48000/68614 queries. users per second: 112176"
      ]
     },
     "metadata": {},
     "output_type": "display_data"
    },
    {
     "data": {
      "text/html": [
       "<pre>recommendations finished on 49000/68614 queries. users per second: 112908</pre>"
      ],
      "text/plain": [
       "recommendations finished on 49000/68614 queries. users per second: 112908"
      ]
     },
     "metadata": {},
     "output_type": "display_data"
    },
    {
     "data": {
      "text/html": [
       "<pre>recommendations finished on 50000/68614 queries. users per second: 113071</pre>"
      ],
      "text/plain": [
       "recommendations finished on 50000/68614 queries. users per second: 113071"
      ]
     },
     "metadata": {},
     "output_type": "display_data"
    },
    {
     "data": {
      "text/html": [
       "<pre>recommendations finished on 51000/68614 queries. users per second: 112879</pre>"
      ],
      "text/plain": [
       "recommendations finished on 51000/68614 queries. users per second: 112879"
      ]
     },
     "metadata": {},
     "output_type": "display_data"
    },
    {
     "data": {
      "text/html": [
       "<pre>recommendations finished on 52000/68614 queries. users per second: 112953</pre>"
      ],
      "text/plain": [
       "recommendations finished on 52000/68614 queries. users per second: 112953"
      ]
     },
     "metadata": {},
     "output_type": "display_data"
    },
    {
     "data": {
      "text/html": [
       "<pre>recommendations finished on 53000/68614 queries. users per second: 113458</pre>"
      ],
      "text/plain": [
       "recommendations finished on 53000/68614 queries. users per second: 113458"
      ]
     },
     "metadata": {},
     "output_type": "display_data"
    },
    {
     "data": {
      "text/html": [
       "<pre>recommendations finished on 54000/68614 queries. users per second: 113493</pre>"
      ],
      "text/plain": [
       "recommendations finished on 54000/68614 queries. users per second: 113493"
      ]
     },
     "metadata": {},
     "output_type": "display_data"
    },
    {
     "data": {
      "text/html": [
       "<pre>recommendations finished on 55000/68614 queries. users per second: 113828</pre>"
      ],
      "text/plain": [
       "recommendations finished on 55000/68614 queries. users per second: 113828"
      ]
     },
     "metadata": {},
     "output_type": "display_data"
    },
    {
     "data": {
      "text/html": [
       "<pre>recommendations finished on 56000/68614 queries. users per second: 113091</pre>"
      ],
      "text/plain": [
       "recommendations finished on 56000/68614 queries. users per second: 113091"
      ]
     },
     "metadata": {},
     "output_type": "display_data"
    },
    {
     "data": {
      "text/html": [
       "<pre>recommendations finished on 57000/68614 queries. users per second: 112755</pre>"
      ],
      "text/plain": [
       "recommendations finished on 57000/68614 queries. users per second: 112755"
      ]
     },
     "metadata": {},
     "output_type": "display_data"
    },
    {
     "data": {
      "text/html": [
       "<pre>recommendations finished on 58000/68614 queries. users per second: 112487</pre>"
      ],
      "text/plain": [
       "recommendations finished on 58000/68614 queries. users per second: 112487"
      ]
     },
     "metadata": {},
     "output_type": "display_data"
    },
    {
     "data": {
      "text/html": [
       "<pre>recommendations finished on 59000/68614 queries. users per second: 112965</pre>"
      ],
      "text/plain": [
       "recommendations finished on 59000/68614 queries. users per second: 112965"
      ]
     },
     "metadata": {},
     "output_type": "display_data"
    },
    {
     "data": {
      "text/html": [
       "<pre>recommendations finished on 60000/68614 queries. users per second: 112311</pre>"
      ],
      "text/plain": [
       "recommendations finished on 60000/68614 queries. users per second: 112311"
      ]
     },
     "metadata": {},
     "output_type": "display_data"
    },
    {
     "data": {
      "text/html": [
       "<pre>recommendations finished on 61000/68614 queries. users per second: 112528</pre>"
      ],
      "text/plain": [
       "recommendations finished on 61000/68614 queries. users per second: 112528"
      ]
     },
     "metadata": {},
     "output_type": "display_data"
    },
    {
     "data": {
      "text/html": [
       "<pre>recommendations finished on 62000/68614 queries. users per second: 112408</pre>"
      ],
      "text/plain": [
       "recommendations finished on 62000/68614 queries. users per second: 112408"
      ]
     },
     "metadata": {},
     "output_type": "display_data"
    },
    {
     "data": {
      "text/html": [
       "<pre>recommendations finished on 63000/68614 queries. users per second: 112730</pre>"
      ],
      "text/plain": [
       "recommendations finished on 63000/68614 queries. users per second: 112730"
      ]
     },
     "metadata": {},
     "output_type": "display_data"
    },
    {
     "data": {
      "text/html": [
       "<pre>recommendations finished on 64000/68614 queries. users per second: 113075</pre>"
      ],
      "text/plain": [
       "recommendations finished on 64000/68614 queries. users per second: 113075"
      ]
     },
     "metadata": {},
     "output_type": "display_data"
    },
    {
     "data": {
      "text/html": [
       "<pre>recommendations finished on 65000/68614 queries. users per second: 113106</pre>"
      ],
      "text/plain": [
       "recommendations finished on 65000/68614 queries. users per second: 113106"
      ]
     },
     "metadata": {},
     "output_type": "display_data"
    },
    {
     "data": {
      "text/html": [
       "<pre>recommendations finished on 66000/68614 queries. users per second: 112557</pre>"
      ],
      "text/plain": [
       "recommendations finished on 66000/68614 queries. users per second: 112557"
      ]
     },
     "metadata": {},
     "output_type": "display_data"
    },
    {
     "data": {
      "text/html": [
       "<pre>recommendations finished on 67000/68614 queries. users per second: 111607</pre>"
      ],
      "text/plain": [
       "recommendations finished on 67000/68614 queries. users per second: 111607"
      ]
     },
     "metadata": {},
     "output_type": "display_data"
    },
    {
     "data": {
      "text/html": [
       "<pre>recommendations finished on 68000/68614 queries. users per second: 111332</pre>"
      ],
      "text/plain": [
       "recommendations finished on 68000/68614 queries. users per second: 111332"
      ]
     },
     "metadata": {},
     "output_type": "display_data"
    },
    {
     "name": "stdout",
     "output_type": "stream",
     "text": [
      "+--------+----------+---------------------+------+\n",
      "| custno | prodcat2 |        score        | rank |\n",
      "+--------+----------+---------------------+------+\n",
      "| 67913  |    9     | 0.42581379413604736 |  1   |\n",
      "| 67913  |    20    |  0.3952309489250183 |  2   |\n",
      "| 67913  |    3     |  0.3804561495780945 |  3   |\n",
      "| 67913  |    96    | 0.37409311532974243 |  4   |\n",
      "| 67913  |   119    |  0.3487284183502197 |  5   |\n",
      "| 67913  |    13    | 0.34813356399536133 |  6   |\n",
      "| 67913  |    28    |  0.3454933762550354 |  7   |\n",
      "| 67913  |    6     |  0.341760516166687  |  8   |\n",
      "| 67913  |    30    |  0.3374464511871338 |  9   |\n",
      "| 67913  |    25    |  0.3001577854156494 |  10  |\n",
      "| 67913  |    89    |  0.2938729524612427 |  11  |\n",
      "| 67913  |    11    |  0.2926061749458313 |  12  |\n",
      "| 67913  |    43    |  0.2887408137321472 |  13  |\n",
      "| 67913  |    50    | 0.28586047887802124 |  14  |\n",
      "| 67913  |    5     |  0.2843816876411438 |  15  |\n",
      "| 10880  |    5     | 0.42241689562797546 |  1   |\n",
      "| 10880  |    9     | 0.32201381027698517 |  2   |\n",
      "| 10880  |    96    |  0.2990291863679886 |  3   |\n",
      "| 10880  |    89    | 0.27668139338493347 |  4   |\n",
      "| 10880  |    25    |  0.2689065784215927 |  5   |\n",
      "+--------+----------+---------------------+------+\n",
      "[1029210 rows x 4 columns]\n",
      "\n"
     ]
    }
   ],
   "source": [
    "name = 'cosine'\n",
    "target = 'prodcat2_count'\n",
    "cos = model(train_count, name, user_id, item_id, target, users_to_recommend, n_rec, n_display)"
   ]
  },
  {
   "cell_type": "markdown",
   "metadata": {},
   "source": [
    "### Using dummy data (Data 2)"
   ]
  },
  {
   "cell_type": "code",
   "execution_count": 240,
   "metadata": {},
   "outputs": [
    {
     "data": {
      "text/html": [
       "<pre>Warning: Ignoring columns prodcat2_count;</pre>"
      ],
      "text/plain": [
       "Warning: Ignoring columns prodcat2_count;"
      ]
     },
     "metadata": {},
     "output_type": "display_data"
    },
    {
     "data": {
      "text/html": [
       "<pre>    To use these columns in scoring predictions, use a model that allows the use of additional features.</pre>"
      ],
      "text/plain": [
       "    To use these columns in scoring predictions, use a model that allows the use of additional features."
      ]
     },
     "metadata": {},
     "output_type": "display_data"
    },
    {
     "data": {
      "text/html": [
       "<pre>Preparing data set.</pre>"
      ],
      "text/plain": [
       "Preparing data set."
      ]
     },
     "metadata": {},
     "output_type": "display_data"
    },
    {
     "data": {
      "text/html": [
       "<pre>    Data has 162627 observations with 65735 users and 250 items.</pre>"
      ],
      "text/plain": [
       "    Data has 162627 observations with 65735 users and 250 items."
      ]
     },
     "metadata": {},
     "output_type": "display_data"
    },
    {
     "data": {
      "text/html": [
       "<pre>    Data prepared in: 0.405934s</pre>"
      ],
      "text/plain": [
       "    Data prepared in: 0.405934s"
      ]
     },
     "metadata": {},
     "output_type": "display_data"
    },
    {
     "data": {
      "text/html": [
       "<pre>Training model from provided data.</pre>"
      ],
      "text/plain": [
       "Training model from provided data."
      ]
     },
     "metadata": {},
     "output_type": "display_data"
    },
    {
     "data": {
      "text/html": [
       "<pre>Gathering per-item and per-user statistics.</pre>"
      ],
      "text/plain": [
       "Gathering per-item and per-user statistics."
      ]
     },
     "metadata": {},
     "output_type": "display_data"
    },
    {
     "data": {
      "text/html": [
       "<pre>+--------------------------------+------------+</pre>"
      ],
      "text/plain": [
       "+--------------------------------+------------+"
      ]
     },
     "metadata": {},
     "output_type": "display_data"
    },
    {
     "data": {
      "text/html": [
       "<pre>| Elapsed Time (Item Statistics) | % Complete |</pre>"
      ],
      "text/plain": [
       "| Elapsed Time (Item Statistics) | % Complete |"
      ]
     },
     "metadata": {},
     "output_type": "display_data"
    },
    {
     "data": {
      "text/html": [
       "<pre>+--------------------------------+------------+</pre>"
      ],
      "text/plain": [
       "+--------------------------------+------------+"
      ]
     },
     "metadata": {},
     "output_type": "display_data"
    },
    {
     "data": {
      "text/html": [
       "<pre>| 1.168ms                        | 1.5        |</pre>"
      ],
      "text/plain": [
       "| 1.168ms                        | 1.5        |"
      ]
     },
     "metadata": {},
     "output_type": "display_data"
    },
    {
     "data": {
      "text/html": [
       "<pre>| 27.642ms                       | 100        |</pre>"
      ],
      "text/plain": [
       "| 27.642ms                       | 100        |"
      ]
     },
     "metadata": {},
     "output_type": "display_data"
    },
    {
     "data": {
      "text/html": [
       "<pre>+--------------------------------+------------+</pre>"
      ],
      "text/plain": [
       "+--------------------------------+------------+"
      ]
     },
     "metadata": {},
     "output_type": "display_data"
    },
    {
     "data": {
      "text/html": [
       "<pre>Setting up lookup tables.</pre>"
      ],
      "text/plain": [
       "Setting up lookup tables."
      ]
     },
     "metadata": {},
     "output_type": "display_data"
    },
    {
     "data": {
      "text/html": [
       "<pre>Processing data in one pass using dense lookup tables.</pre>"
      ],
      "text/plain": [
       "Processing data in one pass using dense lookup tables."
      ]
     },
     "metadata": {},
     "output_type": "display_data"
    },
    {
     "data": {
      "text/html": [
       "<pre>+-------------------------------------+------------------+-----------------+</pre>"
      ],
      "text/plain": [
       "+-------------------------------------+------------------+-----------------+"
      ]
     },
     "metadata": {},
     "output_type": "display_data"
    },
    {
     "data": {
      "text/html": [
       "<pre>| Elapsed Time (Constructing Lookups) | Total % Complete | Items Processed |</pre>"
      ],
      "text/plain": [
       "| Elapsed Time (Constructing Lookups) | Total % Complete | Items Processed |"
      ]
     },
     "metadata": {},
     "output_type": "display_data"
    },
    {
     "data": {
      "text/html": [
       "<pre>+-------------------------------------+------------------+-----------------+</pre>"
      ],
      "text/plain": [
       "+-------------------------------------+------------------+-----------------+"
      ]
     },
     "metadata": {},
     "output_type": "display_data"
    },
    {
     "data": {
      "text/html": [
       "<pre>| 28.959ms                            | 0                | 0               |</pre>"
      ],
      "text/plain": [
       "| 28.959ms                            | 0                | 0               |"
      ]
     },
     "metadata": {},
     "output_type": "display_data"
    },
    {
     "data": {
      "text/html": [
       "<pre>| 58.744ms                            | 100              | 250             |</pre>"
      ],
      "text/plain": [
       "| 58.744ms                            | 100              | 250             |"
      ]
     },
     "metadata": {},
     "output_type": "display_data"
    },
    {
     "data": {
      "text/html": [
       "<pre>+-------------------------------------+------------------+-----------------+</pre>"
      ],
      "text/plain": [
       "+-------------------------------------+------------------+-----------------+"
      ]
     },
     "metadata": {},
     "output_type": "display_data"
    },
    {
     "data": {
      "text/html": [
       "<pre>Finalizing lookup tables.</pre>"
      ],
      "text/plain": [
       "Finalizing lookup tables."
      ]
     },
     "metadata": {},
     "output_type": "display_data"
    },
    {
     "data": {
      "text/html": [
       "<pre>Generating candidate set for working with new users.</pre>"
      ],
      "text/plain": [
       "Generating candidate set for working with new users."
      ]
     },
     "metadata": {},
     "output_type": "display_data"
    },
    {
     "data": {
      "text/html": [
       "<pre>Finished training in 0.076506s</pre>"
      ],
      "text/plain": [
       "Finished training in 0.076506s"
      ]
     },
     "metadata": {},
     "output_type": "display_data"
    },
    {
     "data": {
      "text/html": [
       "<pre>recommendations finished on 1000/68614 queries. users per second: 13571.1</pre>"
      ],
      "text/plain": [
       "recommendations finished on 1000/68614 queries. users per second: 13571.1"
      ]
     },
     "metadata": {},
     "output_type": "display_data"
    },
    {
     "data": {
      "text/html": [
       "<pre>recommendations finished on 2000/68614 queries. users per second: 24696.5</pre>"
      ],
      "text/plain": [
       "recommendations finished on 2000/68614 queries. users per second: 24696.5"
      ]
     },
     "metadata": {},
     "output_type": "display_data"
    },
    {
     "data": {
      "text/html": [
       "<pre>recommendations finished on 3000/68614 queries. users per second: 33049.5</pre>"
      ],
      "text/plain": [
       "recommendations finished on 3000/68614 queries. users per second: 33049.5"
      ]
     },
     "metadata": {},
     "output_type": "display_data"
    },
    {
     "data": {
      "text/html": [
       "<pre>recommendations finished on 4000/68614 queries. users per second: 39085.8</pre>"
      ],
      "text/plain": [
       "recommendations finished on 4000/68614 queries. users per second: 39085.8"
      ]
     },
     "metadata": {},
     "output_type": "display_data"
    },
    {
     "data": {
      "text/html": [
       "<pre>recommendations finished on 5000/68614 queries. users per second: 44880.9</pre>"
      ],
      "text/plain": [
       "recommendations finished on 5000/68614 queries. users per second: 44880.9"
      ]
     },
     "metadata": {},
     "output_type": "display_data"
    },
    {
     "data": {
      "text/html": [
       "<pre>recommendations finished on 6000/68614 queries. users per second: 49792.1</pre>"
      ],
      "text/plain": [
       "recommendations finished on 6000/68614 queries. users per second: 49792.1"
      ]
     },
     "metadata": {},
     "output_type": "display_data"
    },
    {
     "data": {
      "text/html": [
       "<pre>recommendations finished on 7000/68614 queries. users per second: 53849.1</pre>"
      ],
      "text/plain": [
       "recommendations finished on 7000/68614 queries. users per second: 53849.1"
      ]
     },
     "metadata": {},
     "output_type": "display_data"
    },
    {
     "data": {
      "text/html": [
       "<pre>recommendations finished on 8000/68614 queries. users per second: 57390.9</pre>"
      ],
      "text/plain": [
       "recommendations finished on 8000/68614 queries. users per second: 57390.9"
      ]
     },
     "metadata": {},
     "output_type": "display_data"
    },
    {
     "data": {
      "text/html": [
       "<pre>recommendations finished on 9000/68614 queries. users per second: 60634.2</pre>"
      ],
      "text/plain": [
       "recommendations finished on 9000/68614 queries. users per second: 60634.2"
      ]
     },
     "metadata": {},
     "output_type": "display_data"
    },
    {
     "data": {
      "text/html": [
       "<pre>recommendations finished on 10000/68614 queries. users per second: 64239.3</pre>"
      ],
      "text/plain": [
       "recommendations finished on 10000/68614 queries. users per second: 64239.3"
      ]
     },
     "metadata": {},
     "output_type": "display_data"
    },
    {
     "data": {
      "text/html": [
       "<pre>recommendations finished on 11000/68614 queries. users per second: 67287.8</pre>"
      ],
      "text/plain": [
       "recommendations finished on 11000/68614 queries. users per second: 67287.8"
      ]
     },
     "metadata": {},
     "output_type": "display_data"
    },
    {
     "data": {
      "text/html": [
       "<pre>recommendations finished on 12000/68614 queries. users per second: 70428.3</pre>"
      ],
      "text/plain": [
       "recommendations finished on 12000/68614 queries. users per second: 70428.3"
      ]
     },
     "metadata": {},
     "output_type": "display_data"
    },
    {
     "data": {
      "text/html": [
       "<pre>recommendations finished on 13000/68614 queries. users per second: 72468.2</pre>"
      ],
      "text/plain": [
       "recommendations finished on 13000/68614 queries. users per second: 72468.2"
      ]
     },
     "metadata": {},
     "output_type": "display_data"
    },
    {
     "data": {
      "text/html": [
       "<pre>recommendations finished on 14000/68614 queries. users per second: 72960</pre>"
      ],
      "text/plain": [
       "recommendations finished on 14000/68614 queries. users per second: 72960"
      ]
     },
     "metadata": {},
     "output_type": "display_data"
    },
    {
     "data": {
      "text/html": [
       "<pre>recommendations finished on 15000/68614 queries. users per second: 74401.4</pre>"
      ],
      "text/plain": [
       "recommendations finished on 15000/68614 queries. users per second: 74401.4"
      ]
     },
     "metadata": {},
     "output_type": "display_data"
    },
    {
     "data": {
      "text/html": [
       "<pre>recommendations finished on 16000/68614 queries. users per second: 76023.9</pre>"
      ],
      "text/plain": [
       "recommendations finished on 16000/68614 queries. users per second: 76023.9"
      ]
     },
     "metadata": {},
     "output_type": "display_data"
    },
    {
     "data": {
      "text/html": [
       "<pre>recommendations finished on 17000/68614 queries. users per second: 77017.9</pre>"
      ],
      "text/plain": [
       "recommendations finished on 17000/68614 queries. users per second: 77017.9"
      ]
     },
     "metadata": {},
     "output_type": "display_data"
    },
    {
     "data": {
      "text/html": [
       "<pre>recommendations finished on 18000/68614 queries. users per second: 77013.3</pre>"
      ],
      "text/plain": [
       "recommendations finished on 18000/68614 queries. users per second: 77013.3"
      ]
     },
     "metadata": {},
     "output_type": "display_data"
    },
    {
     "data": {
      "text/html": [
       "<pre>recommendations finished on 19000/68614 queries. users per second: 76775.4</pre>"
      ],
      "text/plain": [
       "recommendations finished on 19000/68614 queries. users per second: 76775.4"
      ]
     },
     "metadata": {},
     "output_type": "display_data"
    },
    {
     "data": {
      "text/html": [
       "<pre>recommendations finished on 20000/68614 queries. users per second: 77504.7</pre>"
      ],
      "text/plain": [
       "recommendations finished on 20000/68614 queries. users per second: 77504.7"
      ]
     },
     "metadata": {},
     "output_type": "display_data"
    },
    {
     "data": {
      "text/html": [
       "<pre>recommendations finished on 21000/68614 queries. users per second: 78648.2</pre>"
      ],
      "text/plain": [
       "recommendations finished on 21000/68614 queries. users per second: 78648.2"
      ]
     },
     "metadata": {},
     "output_type": "display_data"
    },
    {
     "data": {
      "text/html": [
       "<pre>recommendations finished on 22000/68614 queries. users per second: 79971.5</pre>"
      ],
      "text/plain": [
       "recommendations finished on 22000/68614 queries. users per second: 79971.5"
      ]
     },
     "metadata": {},
     "output_type": "display_data"
    },
    {
     "data": {
      "text/html": [
       "<pre>recommendations finished on 23000/68614 queries. users per second: 79254.9</pre>"
      ],
      "text/plain": [
       "recommendations finished on 23000/68614 queries. users per second: 79254.9"
      ]
     },
     "metadata": {},
     "output_type": "display_data"
    },
    {
     "data": {
      "text/html": [
       "<pre>recommendations finished on 24000/68614 queries. users per second: 79187.8</pre>"
      ],
      "text/plain": [
       "recommendations finished on 24000/68614 queries. users per second: 79187.8"
      ]
     },
     "metadata": {},
     "output_type": "display_data"
    },
    {
     "data": {
      "text/html": [
       "<pre>recommendations finished on 25000/68614 queries. users per second: 80718.3</pre>"
      ],
      "text/plain": [
       "recommendations finished on 25000/68614 queries. users per second: 80718.3"
      ]
     },
     "metadata": {},
     "output_type": "display_data"
    },
    {
     "data": {
      "text/html": [
       "<pre>recommendations finished on 26000/68614 queries. users per second: 81669.6</pre>"
      ],
      "text/plain": [
       "recommendations finished on 26000/68614 queries. users per second: 81669.6"
      ]
     },
     "metadata": {},
     "output_type": "display_data"
    },
    {
     "data": {
      "text/html": [
       "<pre>recommendations finished on 27000/68614 queries. users per second: 82520.1</pre>"
      ],
      "text/plain": [
       "recommendations finished on 27000/68614 queries. users per second: 82520.1"
      ]
     },
     "metadata": {},
     "output_type": "display_data"
    },
    {
     "data": {
      "text/html": [
       "<pre>recommendations finished on 28000/68614 queries. users per second: 83888.6</pre>"
      ],
      "text/plain": [
       "recommendations finished on 28000/68614 queries. users per second: 83888.6"
      ]
     },
     "metadata": {},
     "output_type": "display_data"
    },
    {
     "data": {
      "text/html": [
       "<pre>recommendations finished on 29000/68614 queries. users per second: 84649.3</pre>"
      ],
      "text/plain": [
       "recommendations finished on 29000/68614 queries. users per second: 84649.3"
      ]
     },
     "metadata": {},
     "output_type": "display_data"
    },
    {
     "data": {
      "text/html": [
       "<pre>recommendations finished on 30000/68614 queries. users per second: 85079.4</pre>"
      ],
      "text/plain": [
       "recommendations finished on 30000/68614 queries. users per second: 85079.4"
      ]
     },
     "metadata": {},
     "output_type": "display_data"
    },
    {
     "data": {
      "text/html": [
       "<pre>recommendations finished on 31000/68614 queries. users per second: 86037.5</pre>"
      ],
      "text/plain": [
       "recommendations finished on 31000/68614 queries. users per second: 86037.5"
      ]
     },
     "metadata": {},
     "output_type": "display_data"
    },
    {
     "data": {
      "text/html": [
       "<pre>recommendations finished on 32000/68614 queries. users per second: 86829.3</pre>"
      ],
      "text/plain": [
       "recommendations finished on 32000/68614 queries. users per second: 86829.3"
      ]
     },
     "metadata": {},
     "output_type": "display_data"
    },
    {
     "data": {
      "text/html": [
       "<pre>recommendations finished on 33000/68614 queries. users per second: 87961.8</pre>"
      ],
      "text/plain": [
       "recommendations finished on 33000/68614 queries. users per second: 87961.8"
      ]
     },
     "metadata": {},
     "output_type": "display_data"
    },
    {
     "data": {
      "text/html": [
       "<pre>recommendations finished on 34000/68614 queries. users per second: 88973.3</pre>"
      ],
      "text/plain": [
       "recommendations finished on 34000/68614 queries. users per second: 88973.3"
      ]
     },
     "metadata": {},
     "output_type": "display_data"
    },
    {
     "data": {
      "text/html": [
       "<pre>recommendations finished on 35000/68614 queries. users per second: 90320</pre>"
      ],
      "text/plain": [
       "recommendations finished on 35000/68614 queries. users per second: 90320"
      ]
     },
     "metadata": {},
     "output_type": "display_data"
    },
    {
     "data": {
      "text/html": [
       "<pre>recommendations finished on 36000/68614 queries. users per second: 90714.1</pre>"
      ],
      "text/plain": [
       "recommendations finished on 36000/68614 queries. users per second: 90714.1"
      ]
     },
     "metadata": {},
     "output_type": "display_data"
    },
    {
     "data": {
      "text/html": [
       "<pre>recommendations finished on 37000/68614 queries. users per second: 91296.5</pre>"
      ],
      "text/plain": [
       "recommendations finished on 37000/68614 queries. users per second: 91296.5"
      ]
     },
     "metadata": {},
     "output_type": "display_data"
    },
    {
     "data": {
      "text/html": [
       "<pre>recommendations finished on 38000/68614 queries. users per second: 90829.3</pre>"
      ],
      "text/plain": [
       "recommendations finished on 38000/68614 queries. users per second: 90829.3"
      ]
     },
     "metadata": {},
     "output_type": "display_data"
    },
    {
     "data": {
      "text/html": [
       "<pre>recommendations finished on 39000/68614 queries. users per second: 91511.1</pre>"
      ],
      "text/plain": [
       "recommendations finished on 39000/68614 queries. users per second: 91511.1"
      ]
     },
     "metadata": {},
     "output_type": "display_data"
    },
    {
     "data": {
      "text/html": [
       "<pre>recommendations finished on 40000/68614 queries. users per second: 91985.1</pre>"
      ],
      "text/plain": [
       "recommendations finished on 40000/68614 queries. users per second: 91985.1"
      ]
     },
     "metadata": {},
     "output_type": "display_data"
    },
    {
     "data": {
      "text/html": [
       "<pre>recommendations finished on 41000/68614 queries. users per second: 91995.3</pre>"
      ],
      "text/plain": [
       "recommendations finished on 41000/68614 queries. users per second: 91995.3"
      ]
     },
     "metadata": {},
     "output_type": "display_data"
    },
    {
     "data": {
      "text/html": [
       "<pre>recommendations finished on 42000/68614 queries. users per second: 92114.6</pre>"
      ],
      "text/plain": [
       "recommendations finished on 42000/68614 queries. users per second: 92114.6"
      ]
     },
     "metadata": {},
     "output_type": "display_data"
    },
    {
     "data": {
      "text/html": [
       "<pre>recommendations finished on 43000/68614 queries. users per second: 91872.1</pre>"
      ],
      "text/plain": [
       "recommendations finished on 43000/68614 queries. users per second: 91872.1"
      ]
     },
     "metadata": {},
     "output_type": "display_data"
    },
    {
     "data": {
      "text/html": [
       "<pre>recommendations finished on 44000/68614 queries. users per second: 89751</pre>"
      ],
      "text/plain": [
       "recommendations finished on 44000/68614 queries. users per second: 89751"
      ]
     },
     "metadata": {},
     "output_type": "display_data"
    },
    {
     "data": {
      "text/html": [
       "<pre>recommendations finished on 45000/68614 queries. users per second: 88523.6</pre>"
      ],
      "text/plain": [
       "recommendations finished on 45000/68614 queries. users per second: 88523.6"
      ]
     },
     "metadata": {},
     "output_type": "display_data"
    },
    {
     "data": {
      "text/html": [
       "<pre>recommendations finished on 46000/68614 queries. users per second: 88499.5</pre>"
      ],
      "text/plain": [
       "recommendations finished on 46000/68614 queries. users per second: 88499.5"
      ]
     },
     "metadata": {},
     "output_type": "display_data"
    },
    {
     "data": {
      "text/html": [
       "<pre>recommendations finished on 47000/68614 queries. users per second: 88407.7</pre>"
      ],
      "text/plain": [
       "recommendations finished on 47000/68614 queries. users per second: 88407.7"
      ]
     },
     "metadata": {},
     "output_type": "display_data"
    },
    {
     "data": {
      "text/html": [
       "<pre>recommendations finished on 48000/68614 queries. users per second: 88891.2</pre>"
      ],
      "text/plain": [
       "recommendations finished on 48000/68614 queries. users per second: 88891.2"
      ]
     },
     "metadata": {},
     "output_type": "display_data"
    },
    {
     "data": {
      "text/html": [
       "<pre>recommendations finished on 49000/68614 queries. users per second: 89151.5</pre>"
      ],
      "text/plain": [
       "recommendations finished on 49000/68614 queries. users per second: 89151.5"
      ]
     },
     "metadata": {},
     "output_type": "display_data"
    },
    {
     "data": {
      "text/html": [
       "<pre>recommendations finished on 50000/68614 queries. users per second: 89749.2</pre>"
      ],
      "text/plain": [
       "recommendations finished on 50000/68614 queries. users per second: 89749.2"
      ]
     },
     "metadata": {},
     "output_type": "display_data"
    },
    {
     "data": {
      "text/html": [
       "<pre>recommendations finished on 51000/68614 queries. users per second: 90228.4</pre>"
      ],
      "text/plain": [
       "recommendations finished on 51000/68614 queries. users per second: 90228.4"
      ]
     },
     "metadata": {},
     "output_type": "display_data"
    },
    {
     "data": {
      "text/html": [
       "<pre>recommendations finished on 52000/68614 queries. users per second: 90418.4</pre>"
      ],
      "text/plain": [
       "recommendations finished on 52000/68614 queries. users per second: 90418.4"
      ]
     },
     "metadata": {},
     "output_type": "display_data"
    },
    {
     "data": {
      "text/html": [
       "<pre>recommendations finished on 53000/68614 queries. users per second: 90913</pre>"
      ],
      "text/plain": [
       "recommendations finished on 53000/68614 queries. users per second: 90913"
      ]
     },
     "metadata": {},
     "output_type": "display_data"
    },
    {
     "data": {
      "text/html": [
       "<pre>recommendations finished on 54000/68614 queries. users per second: 90544.5</pre>"
      ],
      "text/plain": [
       "recommendations finished on 54000/68614 queries. users per second: 90544.5"
      ]
     },
     "metadata": {},
     "output_type": "display_data"
    },
    {
     "data": {
      "text/html": [
       "<pre>recommendations finished on 55000/68614 queries. users per second: 90619.9</pre>"
      ],
      "text/plain": [
       "recommendations finished on 55000/68614 queries. users per second: 90619.9"
      ]
     },
     "metadata": {},
     "output_type": "display_data"
    },
    {
     "data": {
      "text/html": [
       "<pre>recommendations finished on 56000/68614 queries. users per second: 90472.3</pre>"
      ],
      "text/plain": [
       "recommendations finished on 56000/68614 queries. users per second: 90472.3"
      ]
     },
     "metadata": {},
     "output_type": "display_data"
    },
    {
     "data": {
      "text/html": [
       "<pre>recommendations finished on 57000/68614 queries. users per second: 90656.9</pre>"
      ],
      "text/plain": [
       "recommendations finished on 57000/68614 queries. users per second: 90656.9"
      ]
     },
     "metadata": {},
     "output_type": "display_data"
    },
    {
     "data": {
      "text/html": [
       "<pre>recommendations finished on 58000/68614 queries. users per second: 90929.8</pre>"
      ],
      "text/plain": [
       "recommendations finished on 58000/68614 queries. users per second: 90929.8"
      ]
     },
     "metadata": {},
     "output_type": "display_data"
    },
    {
     "data": {
      "text/html": [
       "<pre>recommendations finished on 59000/68614 queries. users per second: 90972.6</pre>"
      ],
      "text/plain": [
       "recommendations finished on 59000/68614 queries. users per second: 90972.6"
      ]
     },
     "metadata": {},
     "output_type": "display_data"
    },
    {
     "data": {
      "text/html": [
       "<pre>recommendations finished on 60000/68614 queries. users per second: 91435.7</pre>"
      ],
      "text/plain": [
       "recommendations finished on 60000/68614 queries. users per second: 91435.7"
      ]
     },
     "metadata": {},
     "output_type": "display_data"
    },
    {
     "data": {
      "text/html": [
       "<pre>recommendations finished on 61000/68614 queries. users per second: 91974.7</pre>"
      ],
      "text/plain": [
       "recommendations finished on 61000/68614 queries. users per second: 91974.7"
      ]
     },
     "metadata": {},
     "output_type": "display_data"
    },
    {
     "data": {
      "text/html": [
       "<pre>recommendations finished on 62000/68614 queries. users per second: 92708.2</pre>"
      ],
      "text/plain": [
       "recommendations finished on 62000/68614 queries. users per second: 92708.2"
      ]
     },
     "metadata": {},
     "output_type": "display_data"
    },
    {
     "data": {
      "text/html": [
       "<pre>recommendations finished on 63000/68614 queries. users per second: 93077.1</pre>"
      ],
      "text/plain": [
       "recommendations finished on 63000/68614 queries. users per second: 93077.1"
      ]
     },
     "metadata": {},
     "output_type": "display_data"
    },
    {
     "data": {
      "text/html": [
       "<pre>recommendations finished on 64000/68614 queries. users per second: 93268.5</pre>"
      ],
      "text/plain": [
       "recommendations finished on 64000/68614 queries. users per second: 93268.5"
      ]
     },
     "metadata": {},
     "output_type": "display_data"
    },
    {
     "data": {
      "text/html": [
       "<pre>recommendations finished on 65000/68614 queries. users per second: 93716.9</pre>"
      ],
      "text/plain": [
       "recommendations finished on 65000/68614 queries. users per second: 93716.9"
      ]
     },
     "metadata": {},
     "output_type": "display_data"
    },
    {
     "data": {
      "text/html": [
       "<pre>recommendations finished on 66000/68614 queries. users per second: 93918.1</pre>"
      ],
      "text/plain": [
       "recommendations finished on 66000/68614 queries. users per second: 93918.1"
      ]
     },
     "metadata": {},
     "output_type": "display_data"
    },
    {
     "data": {
      "text/html": [
       "<pre>recommendations finished on 67000/68614 queries. users per second: 93938.2</pre>"
      ],
      "text/plain": [
       "recommendations finished on 67000/68614 queries. users per second: 93938.2"
      ]
     },
     "metadata": {},
     "output_type": "display_data"
    },
    {
     "data": {
      "text/html": [
       "<pre>recommendations finished on 68000/68614 queries. users per second: 93887.9</pre>"
      ],
      "text/plain": [
       "recommendations finished on 68000/68614 queries. users per second: 93887.9"
      ]
     },
     "metadata": {},
     "output_type": "display_data"
    },
    {
     "name": "stdout",
     "output_type": "stream",
     "text": [
      "+--------+----------+---------------------+------+\n",
      "| custno | prodcat2 |        score        | rank |\n",
      "+--------+----------+---------------------+------+\n",
      "| 67913  |    62    |         0.0         |  1   |\n",
      "| 67913  |    89    |         0.0         |  2   |\n",
      "| 67913  |    3     |         0.0         |  3   |\n",
      "| 67913  |    11    |         0.0         |  4   |\n",
      "| 67913  |    38    |         0.0         |  5   |\n",
      "| 67913  |    13    |         0.0         |  6   |\n",
      "| 67913  |    16    |         0.0         |  7   |\n",
      "| 67913  |    43    |         0.0         |  8   |\n",
      "| 67913  |   169    |         0.0         |  9   |\n",
      "| 67913  |    25    |         0.0         |  10  |\n",
      "| 67913  |    4     |         0.0         |  11  |\n",
      "| 67913  |   131    |         0.0         |  12  |\n",
      "| 67913  |    75    |         0.0         |  13  |\n",
      "| 67913  |   110    |         0.0         |  14  |\n",
      "| 67913  |    27    |         0.0         |  15  |\n",
      "| 10880  |    5     | 0.33735108375549316 |  1   |\n",
      "| 10880  |    2     | 0.19526026646296182 |  2   |\n",
      "| 10880  |    7     | 0.16833986838658652 |  3   |\n",
      "| 10880  |    9     | 0.16711509227752686 |  4   |\n",
      "| 10880  |    96    | 0.16008031368255615 |  5   |\n",
      "+--------+----------+---------------------+------+\n",
      "[1029210 rows x 4 columns]\n",
      "\n"
     ]
    }
   ],
   "source": [
    "name = 'cosine'\n",
    "target = 'purchase_dummy'\n",
    "cos_dummy = model(train_dummy, name, user_id, item_id, target, users_to_recommend, n_rec, n_display)"
   ]
  },
  {
   "cell_type": "markdown",
   "metadata": {},
   "source": [
    "### Using scaled count normalised data (Data 3)"
   ]
  },
  {
   "cell_type": "code",
   "execution_count": 241,
   "metadata": {},
   "outputs": [
    {
     "data": {
      "text/html": [
       "<pre>Preparing data set.</pre>"
      ],
      "text/plain": [
       "Preparing data set."
      ]
     },
     "metadata": {},
     "output_type": "display_data"
    },
    {
     "data": {
      "text/html": [
       "<pre>    Data has 162287 observations with 65693 users and 205 items.</pre>"
      ],
      "text/plain": [
       "    Data has 162287 observations with 65693 users and 205 items."
      ]
     },
     "metadata": {},
     "output_type": "display_data"
    },
    {
     "data": {
      "text/html": [
       "<pre>    Data prepared in: 0.358111s</pre>"
      ],
      "text/plain": [
       "    Data prepared in: 0.358111s"
      ]
     },
     "metadata": {},
     "output_type": "display_data"
    },
    {
     "data": {
      "text/html": [
       "<pre>Training model from provided data.</pre>"
      ],
      "text/plain": [
       "Training model from provided data."
      ]
     },
     "metadata": {},
     "output_type": "display_data"
    },
    {
     "data": {
      "text/html": [
       "<pre>Gathering per-item and per-user statistics.</pre>"
      ],
      "text/plain": [
       "Gathering per-item and per-user statistics."
      ]
     },
     "metadata": {},
     "output_type": "display_data"
    },
    {
     "data": {
      "text/html": [
       "<pre>+--------------------------------+------------+</pre>"
      ],
      "text/plain": [
       "+--------------------------------+------------+"
      ]
     },
     "metadata": {},
     "output_type": "display_data"
    },
    {
     "data": {
      "text/html": [
       "<pre>| Elapsed Time (Item Statistics) | % Complete |</pre>"
      ],
      "text/plain": [
       "| Elapsed Time (Item Statistics) | % Complete |"
      ]
     },
     "metadata": {},
     "output_type": "display_data"
    },
    {
     "data": {
      "text/html": [
       "<pre>+--------------------------------+------------+</pre>"
      ],
      "text/plain": [
       "+--------------------------------+------------+"
      ]
     },
     "metadata": {},
     "output_type": "display_data"
    },
    {
     "data": {
      "text/html": [
       "<pre>| 2.715ms                        | 1.5        |</pre>"
      ],
      "text/plain": [
       "| 2.715ms                        | 1.5        |"
      ]
     },
     "metadata": {},
     "output_type": "display_data"
    },
    {
     "data": {
      "text/html": [
       "<pre>| 31.582ms                       | 100        |</pre>"
      ],
      "text/plain": [
       "| 31.582ms                       | 100        |"
      ]
     },
     "metadata": {},
     "output_type": "display_data"
    },
    {
     "data": {
      "text/html": [
       "<pre>+--------------------------------+------------+</pre>"
      ],
      "text/plain": [
       "+--------------------------------+------------+"
      ]
     },
     "metadata": {},
     "output_type": "display_data"
    },
    {
     "data": {
      "text/html": [
       "<pre>Setting up lookup tables.</pre>"
      ],
      "text/plain": [
       "Setting up lookup tables."
      ]
     },
     "metadata": {},
     "output_type": "display_data"
    },
    {
     "data": {
      "text/html": [
       "<pre>Processing data in one pass using dense lookup tables.</pre>"
      ],
      "text/plain": [
       "Processing data in one pass using dense lookup tables."
      ]
     },
     "metadata": {},
     "output_type": "display_data"
    },
    {
     "data": {
      "text/html": [
       "<pre>+-------------------------------------+------------------+-----------------+</pre>"
      ],
      "text/plain": [
       "+-------------------------------------+------------------+-----------------+"
      ]
     },
     "metadata": {},
     "output_type": "display_data"
    },
    {
     "data": {
      "text/html": [
       "<pre>| Elapsed Time (Constructing Lookups) | Total % Complete | Items Processed |</pre>"
      ],
      "text/plain": [
       "| Elapsed Time (Constructing Lookups) | Total % Complete | Items Processed |"
      ]
     },
     "metadata": {},
     "output_type": "display_data"
    },
    {
     "data": {
      "text/html": [
       "<pre>+-------------------------------------+------------------+-----------------+</pre>"
      ],
      "text/plain": [
       "+-------------------------------------+------------------+-----------------+"
      ]
     },
     "metadata": {},
     "output_type": "display_data"
    },
    {
     "data": {
      "text/html": [
       "<pre>| 37.296ms                            | 0                | 0               |</pre>"
      ],
      "text/plain": [
       "| 37.296ms                            | 0                | 0               |"
      ]
     },
     "metadata": {},
     "output_type": "display_data"
    },
    {
     "data": {
      "text/html": [
       "<pre>| 78.67ms                             | 100              | 205             |</pre>"
      ],
      "text/plain": [
       "| 78.67ms                             | 100              | 205             |"
      ]
     },
     "metadata": {},
     "output_type": "display_data"
    },
    {
     "data": {
      "text/html": [
       "<pre>+-------------------------------------+------------------+-----------------+</pre>"
      ],
      "text/plain": [
       "+-------------------------------------+------------------+-----------------+"
      ]
     },
     "metadata": {},
     "output_type": "display_data"
    },
    {
     "data": {
      "text/html": [
       "<pre>Finalizing lookup tables.</pre>"
      ],
      "text/plain": [
       "Finalizing lookup tables."
      ]
     },
     "metadata": {},
     "output_type": "display_data"
    },
    {
     "data": {
      "text/html": [
       "<pre>Generating candidate set for working with new users.</pre>"
      ],
      "text/plain": [
       "Generating candidate set for working with new users."
      ]
     },
     "metadata": {},
     "output_type": "display_data"
    },
    {
     "data": {
      "text/html": [
       "<pre>Finished training in 0.100937s</pre>"
      ],
      "text/plain": [
       "Finished training in 0.100937s"
      ]
     },
     "metadata": {},
     "output_type": "display_data"
    },
    {
     "data": {
      "text/html": [
       "<pre>recommendations finished on 1000/68614 queries. users per second: 46343.5</pre>"
      ],
      "text/plain": [
       "recommendations finished on 1000/68614 queries. users per second: 46343.5"
      ]
     },
     "metadata": {},
     "output_type": "display_data"
    },
    {
     "data": {
      "text/html": [
       "<pre>recommendations finished on 2000/68614 queries. users per second: 69803.2</pre>"
      ],
      "text/plain": [
       "recommendations finished on 2000/68614 queries. users per second: 69803.2"
      ]
     },
     "metadata": {},
     "output_type": "display_data"
    },
    {
     "data": {
      "text/html": [
       "<pre>recommendations finished on 3000/68614 queries. users per second: 84364.5</pre>"
      ],
      "text/plain": [
       "recommendations finished on 3000/68614 queries. users per second: 84364.5"
      ]
     },
     "metadata": {},
     "output_type": "display_data"
    },
    {
     "data": {
      "text/html": [
       "<pre>recommendations finished on 4000/68614 queries. users per second: 96634.7</pre>"
      ],
      "text/plain": [
       "recommendations finished on 4000/68614 queries. users per second: 96634.7"
      ]
     },
     "metadata": {},
     "output_type": "display_data"
    },
    {
     "data": {
      "text/html": [
       "<pre>recommendations finished on 5000/68614 queries. users per second: 99370</pre>"
      ],
      "text/plain": [
       "recommendations finished on 5000/68614 queries. users per second: 99370"
      ]
     },
     "metadata": {},
     "output_type": "display_data"
    },
    {
     "data": {
      "text/html": [
       "<pre>recommendations finished on 6000/68614 queries. users per second: 105904</pre>"
      ],
      "text/plain": [
       "recommendations finished on 6000/68614 queries. users per second: 105904"
      ]
     },
     "metadata": {},
     "output_type": "display_data"
    },
    {
     "data": {
      "text/html": [
       "<pre>recommendations finished on 7000/68614 queries. users per second: 112491</pre>"
      ],
      "text/plain": [
       "recommendations finished on 7000/68614 queries. users per second: 112491"
      ]
     },
     "metadata": {},
     "output_type": "display_data"
    },
    {
     "data": {
      "text/html": [
       "<pre>recommendations finished on 8000/68614 queries. users per second: 117448</pre>"
      ],
      "text/plain": [
       "recommendations finished on 8000/68614 queries. users per second: 117448"
      ]
     },
     "metadata": {},
     "output_type": "display_data"
    },
    {
     "data": {
      "text/html": [
       "<pre>recommendations finished on 9000/68614 queries. users per second: 119032</pre>"
      ],
      "text/plain": [
       "recommendations finished on 9000/68614 queries. users per second: 119032"
      ]
     },
     "metadata": {},
     "output_type": "display_data"
    },
    {
     "data": {
      "text/html": [
       "<pre>recommendations finished on 10000/68614 queries. users per second: 124134</pre>"
      ],
      "text/plain": [
       "recommendations finished on 10000/68614 queries. users per second: 124134"
      ]
     },
     "metadata": {},
     "output_type": "display_data"
    },
    {
     "data": {
      "text/html": [
       "<pre>recommendations finished on 11000/68614 queries. users per second: 125632</pre>"
      ],
      "text/plain": [
       "recommendations finished on 11000/68614 queries. users per second: 125632"
      ]
     },
     "metadata": {},
     "output_type": "display_data"
    },
    {
     "data": {
      "text/html": [
       "<pre>recommendations finished on 12000/68614 queries. users per second: 128695</pre>"
      ],
      "text/plain": [
       "recommendations finished on 12000/68614 queries. users per second: 128695"
      ]
     },
     "metadata": {},
     "output_type": "display_data"
    },
    {
     "data": {
      "text/html": [
       "<pre>recommendations finished on 13000/68614 queries. users per second: 130643</pre>"
      ],
      "text/plain": [
       "recommendations finished on 13000/68614 queries. users per second: 130643"
      ]
     },
     "metadata": {},
     "output_type": "display_data"
    },
    {
     "data": {
      "text/html": [
       "<pre>recommendations finished on 14000/68614 queries. users per second: 128953</pre>"
      ],
      "text/plain": [
       "recommendations finished on 14000/68614 queries. users per second: 128953"
      ]
     },
     "metadata": {},
     "output_type": "display_data"
    },
    {
     "data": {
      "text/html": [
       "<pre>recommendations finished on 15000/68614 queries. users per second: 122645</pre>"
      ],
      "text/plain": [
       "recommendations finished on 15000/68614 queries. users per second: 122645"
      ]
     },
     "metadata": {},
     "output_type": "display_data"
    },
    {
     "data": {
      "text/html": [
       "<pre>recommendations finished on 16000/68614 queries. users per second: 123584</pre>"
      ],
      "text/plain": [
       "recommendations finished on 16000/68614 queries. users per second: 123584"
      ]
     },
     "metadata": {},
     "output_type": "display_data"
    },
    {
     "data": {
      "text/html": [
       "<pre>recommendations finished on 17000/68614 queries. users per second: 122872</pre>"
      ],
      "text/plain": [
       "recommendations finished on 17000/68614 queries. users per second: 122872"
      ]
     },
     "metadata": {},
     "output_type": "display_data"
    },
    {
     "data": {
      "text/html": [
       "<pre>recommendations finished on 18000/68614 queries. users per second: 123711</pre>"
      ],
      "text/plain": [
       "recommendations finished on 18000/68614 queries. users per second: 123711"
      ]
     },
     "metadata": {},
     "output_type": "display_data"
    },
    {
     "data": {
      "text/html": [
       "<pre>recommendations finished on 19000/68614 queries. users per second: 122746</pre>"
      ],
      "text/plain": [
       "recommendations finished on 19000/68614 queries. users per second: 122746"
      ]
     },
     "metadata": {},
     "output_type": "display_data"
    },
    {
     "data": {
      "text/html": [
       "<pre>recommendations finished on 20000/68614 queries. users per second: 120986</pre>"
      ],
      "text/plain": [
       "recommendations finished on 20000/68614 queries. users per second: 120986"
      ]
     },
     "metadata": {},
     "output_type": "display_data"
    },
    {
     "data": {
      "text/html": [
       "<pre>recommendations finished on 21000/68614 queries. users per second: 121092</pre>"
      ],
      "text/plain": [
       "recommendations finished on 21000/68614 queries. users per second: 121092"
      ]
     },
     "metadata": {},
     "output_type": "display_data"
    },
    {
     "data": {
      "text/html": [
       "<pre>recommendations finished on 22000/68614 queries. users per second: 115773</pre>"
      ],
      "text/plain": [
       "recommendations finished on 22000/68614 queries. users per second: 115773"
      ]
     },
     "metadata": {},
     "output_type": "display_data"
    },
    {
     "data": {
      "text/html": [
       "<pre>recommendations finished on 23000/68614 queries. users per second: 113468</pre>"
      ],
      "text/plain": [
       "recommendations finished on 23000/68614 queries. users per second: 113468"
      ]
     },
     "metadata": {},
     "output_type": "display_data"
    },
    {
     "data": {
      "text/html": [
       "<pre>recommendations finished on 24000/68614 queries. users per second: 112871</pre>"
      ],
      "text/plain": [
       "recommendations finished on 24000/68614 queries. users per second: 112871"
      ]
     },
     "metadata": {},
     "output_type": "display_data"
    },
    {
     "data": {
      "text/html": [
       "<pre>recommendations finished on 25000/68614 queries. users per second: 109428</pre>"
      ],
      "text/plain": [
       "recommendations finished on 25000/68614 queries. users per second: 109428"
      ]
     },
     "metadata": {},
     "output_type": "display_data"
    },
    {
     "data": {
      "text/html": [
       "<pre>recommendations finished on 26000/68614 queries. users per second: 110588</pre>"
      ],
      "text/plain": [
       "recommendations finished on 26000/68614 queries. users per second: 110588"
      ]
     },
     "metadata": {},
     "output_type": "display_data"
    },
    {
     "data": {
      "text/html": [
       "<pre>recommendations finished on 27000/68614 queries. users per second: 110875</pre>"
      ],
      "text/plain": [
       "recommendations finished on 27000/68614 queries. users per second: 110875"
      ]
     },
     "metadata": {},
     "output_type": "display_data"
    },
    {
     "data": {
      "text/html": [
       "<pre>recommendations finished on 28000/68614 queries. users per second: 111250</pre>"
      ],
      "text/plain": [
       "recommendations finished on 28000/68614 queries. users per second: 111250"
      ]
     },
     "metadata": {},
     "output_type": "display_data"
    },
    {
     "data": {
      "text/html": [
       "<pre>recommendations finished on 29000/68614 queries. users per second: 107614</pre>"
      ],
      "text/plain": [
       "recommendations finished on 29000/68614 queries. users per second: 107614"
      ]
     },
     "metadata": {},
     "output_type": "display_data"
    },
    {
     "data": {
      "text/html": [
       "<pre>recommendations finished on 30000/68614 queries. users per second: 108021</pre>"
      ],
      "text/plain": [
       "recommendations finished on 30000/68614 queries. users per second: 108021"
      ]
     },
     "metadata": {},
     "output_type": "display_data"
    },
    {
     "data": {
      "text/html": [
       "<pre>recommendations finished on 31000/68614 queries. users per second: 107644</pre>"
      ],
      "text/plain": [
       "recommendations finished on 31000/68614 queries. users per second: 107644"
      ]
     },
     "metadata": {},
     "output_type": "display_data"
    },
    {
     "data": {
      "text/html": [
       "<pre>recommendations finished on 32000/68614 queries. users per second: 108035</pre>"
      ],
      "text/plain": [
       "recommendations finished on 32000/68614 queries. users per second: 108035"
      ]
     },
     "metadata": {},
     "output_type": "display_data"
    },
    {
     "data": {
      "text/html": [
       "<pre>recommendations finished on 33000/68614 queries. users per second: 108601</pre>"
      ],
      "text/plain": [
       "recommendations finished on 33000/68614 queries. users per second: 108601"
      ]
     },
     "metadata": {},
     "output_type": "display_data"
    },
    {
     "data": {
      "text/html": [
       "<pre>recommendations finished on 34000/68614 queries. users per second: 109426</pre>"
      ],
      "text/plain": [
       "recommendations finished on 34000/68614 queries. users per second: 109426"
      ]
     },
     "metadata": {},
     "output_type": "display_data"
    },
    {
     "data": {
      "text/html": [
       "<pre>recommendations finished on 35000/68614 queries. users per second: 110400</pre>"
      ],
      "text/plain": [
       "recommendations finished on 35000/68614 queries. users per second: 110400"
      ]
     },
     "metadata": {},
     "output_type": "display_data"
    },
    {
     "data": {
      "text/html": [
       "<pre>recommendations finished on 36000/68614 queries. users per second: 111439</pre>"
      ],
      "text/plain": [
       "recommendations finished on 36000/68614 queries. users per second: 111439"
      ]
     },
     "metadata": {},
     "output_type": "display_data"
    },
    {
     "data": {
      "text/html": [
       "<pre>recommendations finished on 37000/68614 queries. users per second: 112366</pre>"
      ],
      "text/plain": [
       "recommendations finished on 37000/68614 queries. users per second: 112366"
      ]
     },
     "metadata": {},
     "output_type": "display_data"
    },
    {
     "data": {
      "text/html": [
       "<pre>recommendations finished on 38000/68614 queries. users per second: 113439</pre>"
      ],
      "text/plain": [
       "recommendations finished on 38000/68614 queries. users per second: 113439"
      ]
     },
     "metadata": {},
     "output_type": "display_data"
    },
    {
     "data": {
      "text/html": [
       "<pre>recommendations finished on 39000/68614 queries. users per second: 114291</pre>"
      ],
      "text/plain": [
       "recommendations finished on 39000/68614 queries. users per second: 114291"
      ]
     },
     "metadata": {},
     "output_type": "display_data"
    },
    {
     "data": {
      "text/html": [
       "<pre>recommendations finished on 40000/68614 queries. users per second: 114884</pre>"
      ],
      "text/plain": [
       "recommendations finished on 40000/68614 queries. users per second: 114884"
      ]
     },
     "metadata": {},
     "output_type": "display_data"
    },
    {
     "data": {
      "text/html": [
       "<pre>recommendations finished on 41000/68614 queries. users per second: 114959</pre>"
      ],
      "text/plain": [
       "recommendations finished on 41000/68614 queries. users per second: 114959"
      ]
     },
     "metadata": {},
     "output_type": "display_data"
    },
    {
     "data": {
      "text/html": [
       "<pre>recommendations finished on 42000/68614 queries. users per second: 113435</pre>"
      ],
      "text/plain": [
       "recommendations finished on 42000/68614 queries. users per second: 113435"
      ]
     },
     "metadata": {},
     "output_type": "display_data"
    },
    {
     "data": {
      "text/html": [
       "<pre>recommendations finished on 43000/68614 queries. users per second: 111832</pre>"
      ],
      "text/plain": [
       "recommendations finished on 43000/68614 queries. users per second: 111832"
      ]
     },
     "metadata": {},
     "output_type": "display_data"
    },
    {
     "data": {
      "text/html": [
       "<pre>recommendations finished on 44000/68614 queries. users per second: 112095</pre>"
      ],
      "text/plain": [
       "recommendations finished on 44000/68614 queries. users per second: 112095"
      ]
     },
     "metadata": {},
     "output_type": "display_data"
    },
    {
     "data": {
      "text/html": [
       "<pre>recommendations finished on 45000/68614 queries. users per second: 112393</pre>"
      ],
      "text/plain": [
       "recommendations finished on 45000/68614 queries. users per second: 112393"
      ]
     },
     "metadata": {},
     "output_type": "display_data"
    },
    {
     "data": {
      "text/html": [
       "<pre>recommendations finished on 46000/68614 queries. users per second: 113234</pre>"
      ],
      "text/plain": [
       "recommendations finished on 46000/68614 queries. users per second: 113234"
      ]
     },
     "metadata": {},
     "output_type": "display_data"
    },
    {
     "data": {
      "text/html": [
       "<pre>recommendations finished on 47000/68614 queries. users per second: 114012</pre>"
      ],
      "text/plain": [
       "recommendations finished on 47000/68614 queries. users per second: 114012"
      ]
     },
     "metadata": {},
     "output_type": "display_data"
    },
    {
     "data": {
      "text/html": [
       "<pre>recommendations finished on 48000/68614 queries. users per second: 113807</pre>"
      ],
      "text/plain": [
       "recommendations finished on 48000/68614 queries. users per second: 113807"
      ]
     },
     "metadata": {},
     "output_type": "display_data"
    },
    {
     "data": {
      "text/html": [
       "<pre>recommendations finished on 49000/68614 queries. users per second: 107711</pre>"
      ],
      "text/plain": [
       "recommendations finished on 49000/68614 queries. users per second: 107711"
      ]
     },
     "metadata": {},
     "output_type": "display_data"
    },
    {
     "data": {
      "text/html": [
       "<pre>recommendations finished on 50000/68614 queries. users per second: 105550</pre>"
      ],
      "text/plain": [
       "recommendations finished on 50000/68614 queries. users per second: 105550"
      ]
     },
     "metadata": {},
     "output_type": "display_data"
    },
    {
     "data": {
      "text/html": [
       "<pre>recommendations finished on 51000/68614 queries. users per second: 106066</pre>"
      ],
      "text/plain": [
       "recommendations finished on 51000/68614 queries. users per second: 106066"
      ]
     },
     "metadata": {},
     "output_type": "display_data"
    },
    {
     "data": {
      "text/html": [
       "<pre>recommendations finished on 52000/68614 queries. users per second: 106761</pre>"
      ],
      "text/plain": [
       "recommendations finished on 52000/68614 queries. users per second: 106761"
      ]
     },
     "metadata": {},
     "output_type": "display_data"
    },
    {
     "data": {
      "text/html": [
       "<pre>recommendations finished on 53000/68614 queries. users per second: 107362</pre>"
      ],
      "text/plain": [
       "recommendations finished on 53000/68614 queries. users per second: 107362"
      ]
     },
     "metadata": {},
     "output_type": "display_data"
    },
    {
     "data": {
      "text/html": [
       "<pre>recommendations finished on 54000/68614 queries. users per second: 106650</pre>"
      ],
      "text/plain": [
       "recommendations finished on 54000/68614 queries. users per second: 106650"
      ]
     },
     "metadata": {},
     "output_type": "display_data"
    },
    {
     "data": {
      "text/html": [
       "<pre>recommendations finished on 55000/68614 queries. users per second: 106140</pre>"
      ],
      "text/plain": [
       "recommendations finished on 55000/68614 queries. users per second: 106140"
      ]
     },
     "metadata": {},
     "output_type": "display_data"
    },
    {
     "data": {
      "text/html": [
       "<pre>recommendations finished on 56000/68614 queries. users per second: 104297</pre>"
      ],
      "text/plain": [
       "recommendations finished on 56000/68614 queries. users per second: 104297"
      ]
     },
     "metadata": {},
     "output_type": "display_data"
    },
    {
     "data": {
      "text/html": [
       "<pre>recommendations finished on 58000/68614 queries. users per second: 105475</pre>"
      ],
      "text/plain": [
       "recommendations finished on 58000/68614 queries. users per second: 105475"
      ]
     },
     "metadata": {},
     "output_type": "display_data"
    },
    {
     "data": {
      "text/html": [
       "<pre>recommendations finished on 57000/68614 queries. users per second: 105153</pre>"
      ],
      "text/plain": [
       "recommendations finished on 57000/68614 queries. users per second: 105153"
      ]
     },
     "metadata": {},
     "output_type": "display_data"
    },
    {
     "data": {
      "text/html": [
       "<pre>recommendations finished on 59000/68614 queries. users per second: 103935</pre>"
      ],
      "text/plain": [
       "recommendations finished on 59000/68614 queries. users per second: 103935"
      ]
     },
     "metadata": {},
     "output_type": "display_data"
    },
    {
     "data": {
      "text/html": [
       "<pre>recommendations finished on 60000/68614 queries. users per second: 104290</pre>"
      ],
      "text/plain": [
       "recommendations finished on 60000/68614 queries. users per second: 104290"
      ]
     },
     "metadata": {},
     "output_type": "display_data"
    },
    {
     "data": {
      "text/html": [
       "<pre>recommendations finished on 61000/68614 queries. users per second: 105188</pre>"
      ],
      "text/plain": [
       "recommendations finished on 61000/68614 queries. users per second: 105188"
      ]
     },
     "metadata": {},
     "output_type": "display_data"
    },
    {
     "data": {
      "text/html": [
       "<pre>recommendations finished on 62000/68614 queries. users per second: 105972</pre>"
      ],
      "text/plain": [
       "recommendations finished on 62000/68614 queries. users per second: 105972"
      ]
     },
     "metadata": {},
     "output_type": "display_data"
    },
    {
     "data": {
      "text/html": [
       "<pre>recommendations finished on 63000/68614 queries. users per second: 106600</pre>"
      ],
      "text/plain": [
       "recommendations finished on 63000/68614 queries. users per second: 106600"
      ]
     },
     "metadata": {},
     "output_type": "display_data"
    },
    {
     "data": {
      "text/html": [
       "<pre>recommendations finished on 64000/68614 queries. users per second: 106956</pre>"
      ],
      "text/plain": [
       "recommendations finished on 64000/68614 queries. users per second: 106956"
      ]
     },
     "metadata": {},
     "output_type": "display_data"
    },
    {
     "data": {
      "text/html": [
       "<pre>recommendations finished on 65000/68614 queries. users per second: 107470</pre>"
      ],
      "text/plain": [
       "recommendations finished on 65000/68614 queries. users per second: 107470"
      ]
     },
     "metadata": {},
     "output_type": "display_data"
    },
    {
     "data": {
      "text/html": [
       "<pre>recommendations finished on 66000/68614 queries. users per second: 107658</pre>"
      ],
      "text/plain": [
       "recommendations finished on 66000/68614 queries. users per second: 107658"
      ]
     },
     "metadata": {},
     "output_type": "display_data"
    },
    {
     "data": {
      "text/html": [
       "<pre>recommendations finished on 67000/68614 queries. users per second: 108160</pre>"
      ],
      "text/plain": [
       "recommendations finished on 67000/68614 queries. users per second: 108160"
      ]
     },
     "metadata": {},
     "output_type": "display_data"
    },
    {
     "data": {
      "text/html": [
       "<pre>recommendations finished on 68000/68614 queries. users per second: 108544</pre>"
      ],
      "text/plain": [
       "recommendations finished on 68000/68614 queries. users per second: 108544"
      ]
     },
     "metadata": {},
     "output_type": "display_data"
    },
    {
     "name": "stdout",
     "output_type": "stream",
     "text": [
      "+--------+----------+-------+------+\n",
      "| custno | prodcat2 | score | rank |\n",
      "+--------+----------+-------+------+\n",
      "| 67913  |    96    |  0.0  |  1   |\n",
      "| 67913  |    50    |  0.0  |  2   |\n",
      "| 67913  |    27    |  0.0  |  3   |\n",
      "| 67913  |    3     |  0.0  |  4   |\n",
      "| 67913  |    28    |  0.0  |  5   |\n",
      "| 67913  |    48    |  0.0  |  6   |\n",
      "| 67913  |    25    |  0.0  |  7   |\n",
      "| 67913  |    78    |  0.0  |  8   |\n",
      "| 67913  |    7     |  0.0  |  9   |\n",
      "| 67913  |    39    |  0.0  |  10  |\n",
      "| 67913  |    13    |  0.0  |  11  |\n",
      "| 67913  |   169    |  0.0  |  12  |\n",
      "| 67913  |    16    |  0.0  |  13  |\n",
      "| 67913  |    9     |  0.0  |  14  |\n",
      "| 67913  |    4     |  0.0  |  15  |\n",
      "| 10880  |    96    |  0.0  |  1   |\n",
      "| 10880  |    50    |  0.0  |  2   |\n",
      "| 10880  |    27    |  0.0  |  3   |\n",
      "| 10880  |    28    |  0.0  |  4   |\n",
      "| 10880  |    48    |  0.0  |  5   |\n",
      "+--------+----------+-------+------+\n",
      "[1029210 rows x 4 columns]\n",
      "\n"
     ]
    }
   ],
   "source": [
    "name = 'cosine' \n",
    "target = 'prodcat2_scaled_count' \n",
    "cos_norm = model(train_norm, name, user_id, item_id, target, users_to_recommend, n_rec, n_display)"
   ]
  },
  {
   "cell_type": "markdown",
   "metadata": {},
   "source": [
    "## Collaborative Filtering Model 2: (Based on Pearson Similarity)\n"
   ]
  },
  {
   "cell_type": "markdown",
   "metadata": {},
   "source": [
    "### Using purchase count data (Data 1)"
   ]
  },
  {
   "cell_type": "code",
   "execution_count": 242,
   "metadata": {},
   "outputs": [
    {
     "data": {
      "text/html": [
       "<pre>Preparing data set.</pre>"
      ],
      "text/plain": [
       "Preparing data set."
      ]
     },
     "metadata": {},
     "output_type": "display_data"
    },
    {
     "data": {
      "text/html": [
       "<pre>    Data has 162627 observations with 65740 users and 249 items.</pre>"
      ],
      "text/plain": [
       "    Data has 162627 observations with 65740 users and 249 items."
      ]
     },
     "metadata": {},
     "output_type": "display_data"
    },
    {
     "data": {
      "text/html": [
       "<pre>    Data prepared in: 0.449728s</pre>"
      ],
      "text/plain": [
       "    Data prepared in: 0.449728s"
      ]
     },
     "metadata": {},
     "output_type": "display_data"
    },
    {
     "data": {
      "text/html": [
       "<pre>Training model from provided data.</pre>"
      ],
      "text/plain": [
       "Training model from provided data."
      ]
     },
     "metadata": {},
     "output_type": "display_data"
    },
    {
     "data": {
      "text/html": [
       "<pre>Gathering per-item and per-user statistics.</pre>"
      ],
      "text/plain": [
       "Gathering per-item and per-user statistics."
      ]
     },
     "metadata": {},
     "output_type": "display_data"
    },
    {
     "data": {
      "text/html": [
       "<pre>+--------------------------------+------------+</pre>"
      ],
      "text/plain": [
       "+--------------------------------+------------+"
      ]
     },
     "metadata": {},
     "output_type": "display_data"
    },
    {
     "data": {
      "text/html": [
       "<pre>| Elapsed Time (Item Statistics) | % Complete |</pre>"
      ],
      "text/plain": [
       "| Elapsed Time (Item Statistics) | % Complete |"
      ]
     },
     "metadata": {},
     "output_type": "display_data"
    },
    {
     "data": {
      "text/html": [
       "<pre>+--------------------------------+------------+</pre>"
      ],
      "text/plain": [
       "+--------------------------------+------------+"
      ]
     },
     "metadata": {},
     "output_type": "display_data"
    },
    {
     "data": {
      "text/html": [
       "<pre>| 2.903ms                        | 1.5        |</pre>"
      ],
      "text/plain": [
       "| 2.903ms                        | 1.5        |"
      ]
     },
     "metadata": {},
     "output_type": "display_data"
    },
    {
     "data": {
      "text/html": [
       "<pre>| 40.956ms                       | 100        |</pre>"
      ],
      "text/plain": [
       "| 40.956ms                       | 100        |"
      ]
     },
     "metadata": {},
     "output_type": "display_data"
    },
    {
     "data": {
      "text/html": [
       "<pre>+--------------------------------+------------+</pre>"
      ],
      "text/plain": [
       "+--------------------------------+------------+"
      ]
     },
     "metadata": {},
     "output_type": "display_data"
    },
    {
     "data": {
      "text/html": [
       "<pre>Setting up lookup tables.</pre>"
      ],
      "text/plain": [
       "Setting up lookup tables."
      ]
     },
     "metadata": {},
     "output_type": "display_data"
    },
    {
     "data": {
      "text/html": [
       "<pre>Processing data in one pass using dense lookup tables.</pre>"
      ],
      "text/plain": [
       "Processing data in one pass using dense lookup tables."
      ]
     },
     "metadata": {},
     "output_type": "display_data"
    },
    {
     "data": {
      "text/html": [
       "<pre>+-------------------------------------+------------------+-----------------+</pre>"
      ],
      "text/plain": [
       "+-------------------------------------+------------------+-----------------+"
      ]
     },
     "metadata": {},
     "output_type": "display_data"
    },
    {
     "data": {
      "text/html": [
       "<pre>| Elapsed Time (Constructing Lookups) | Total % Complete | Items Processed |</pre>"
      ],
      "text/plain": [
       "| Elapsed Time (Constructing Lookups) | Total % Complete | Items Processed |"
      ]
     },
     "metadata": {},
     "output_type": "display_data"
    },
    {
     "data": {
      "text/html": [
       "<pre>+-------------------------------------+------------------+-----------------+</pre>"
      ],
      "text/plain": [
       "+-------------------------------------+------------------+-----------------+"
      ]
     },
     "metadata": {},
     "output_type": "display_data"
    },
    {
     "data": {
      "text/html": [
       "<pre>| 42.162ms                            | 0                | 0               |</pre>"
      ],
      "text/plain": [
       "| 42.162ms                            | 0                | 0               |"
      ]
     },
     "metadata": {},
     "output_type": "display_data"
    },
    {
     "data": {
      "text/html": [
       "<pre>| 81.496ms                            | 100              | 249             |</pre>"
      ],
      "text/plain": [
       "| 81.496ms                            | 100              | 249             |"
      ]
     },
     "metadata": {},
     "output_type": "display_data"
    },
    {
     "data": {
      "text/html": [
       "<pre>+-------------------------------------+------------------+-----------------+</pre>"
      ],
      "text/plain": [
       "+-------------------------------------+------------------+-----------------+"
      ]
     },
     "metadata": {},
     "output_type": "display_data"
    },
    {
     "data": {
      "text/html": [
       "<pre>Finalizing lookup tables.</pre>"
      ],
      "text/plain": [
       "Finalizing lookup tables."
      ]
     },
     "metadata": {},
     "output_type": "display_data"
    },
    {
     "data": {
      "text/html": [
       "<pre>Generating candidate set for working with new users.</pre>"
      ],
      "text/plain": [
       "Generating candidate set for working with new users."
      ]
     },
     "metadata": {},
     "output_type": "display_data"
    },
    {
     "data": {
      "text/html": [
       "<pre>Finished training in 0.097526s</pre>"
      ],
      "text/plain": [
       "Finished training in 0.097526s"
      ]
     },
     "metadata": {},
     "output_type": "display_data"
    },
    {
     "data": {
      "text/html": [
       "<pre>recommendations finished on 1000/68614 queries. users per second: 30034.5</pre>"
      ],
      "text/plain": [
       "recommendations finished on 1000/68614 queries. users per second: 30034.5"
      ]
     },
     "metadata": {},
     "output_type": "display_data"
    },
    {
     "data": {
      "text/html": [
       "<pre>recommendations finished on 2000/68614 queries. users per second: 50815.6</pre>"
      ],
      "text/plain": [
       "recommendations finished on 2000/68614 queries. users per second: 50815.6"
      ]
     },
     "metadata": {},
     "output_type": "display_data"
    },
    {
     "data": {
      "text/html": [
       "<pre>recommendations finished on 3000/68614 queries. users per second: 66082.2</pre>"
      ],
      "text/plain": [
       "recommendations finished on 3000/68614 queries. users per second: 66082.2"
      ]
     },
     "metadata": {},
     "output_type": "display_data"
    },
    {
     "data": {
      "text/html": [
       "<pre>recommendations finished on 4000/68614 queries. users per second: 77205.2</pre>"
      ],
      "text/plain": [
       "recommendations finished on 4000/68614 queries. users per second: 77205.2"
      ]
     },
     "metadata": {},
     "output_type": "display_data"
    },
    {
     "data": {
      "text/html": [
       "<pre>recommendations finished on 5000/68614 queries. users per second: 78314.7</pre>"
      ],
      "text/plain": [
       "recommendations finished on 5000/68614 queries. users per second: 78314.7"
      ]
     },
     "metadata": {},
     "output_type": "display_data"
    },
    {
     "data": {
      "text/html": [
       "<pre>recommendations finished on 6000/68614 queries. users per second: 81494.1</pre>"
      ],
      "text/plain": [
       "recommendations finished on 6000/68614 queries. users per second: 81494.1"
      ]
     },
     "metadata": {},
     "output_type": "display_data"
    },
    {
     "data": {
      "text/html": [
       "<pre>recommendations finished on 7000/68614 queries. users per second: 86510.5</pre>"
      ],
      "text/plain": [
       "recommendations finished on 7000/68614 queries. users per second: 86510.5"
      ]
     },
     "metadata": {},
     "output_type": "display_data"
    },
    {
     "data": {
      "text/html": [
       "<pre>recommendations finished on 8000/68614 queries. users per second: 84720.6</pre>"
      ],
      "text/plain": [
       "recommendations finished on 8000/68614 queries. users per second: 84720.6"
      ]
     },
     "metadata": {},
     "output_type": "display_data"
    },
    {
     "data": {
      "text/html": [
       "<pre>recommendations finished on 9000/68614 queries. users per second: 87538.4</pre>"
      ],
      "text/plain": [
       "recommendations finished on 9000/68614 queries. users per second: 87538.4"
      ]
     },
     "metadata": {},
     "output_type": "display_data"
    },
    {
     "data": {
      "text/html": [
       "<pre>recommendations finished on 10000/68614 queries. users per second: 87374.4</pre>"
      ],
      "text/plain": [
       "recommendations finished on 10000/68614 queries. users per second: 87374.4"
      ]
     },
     "metadata": {},
     "output_type": "display_data"
    },
    {
     "data": {
      "text/html": [
       "<pre>recommendations finished on 11000/68614 queries. users per second: 82420.5</pre>"
      ],
      "text/plain": [
       "recommendations finished on 11000/68614 queries. users per second: 82420.5"
      ]
     },
     "metadata": {},
     "output_type": "display_data"
    },
    {
     "data": {
      "text/html": [
       "<pre>recommendations finished on 12000/68614 queries. users per second: 82631.5</pre>"
      ],
      "text/plain": [
       "recommendations finished on 12000/68614 queries. users per second: 82631.5"
      ]
     },
     "metadata": {},
     "output_type": "display_data"
    },
    {
     "data": {
      "text/html": [
       "<pre>recommendations finished on 13000/68614 queries. users per second: 84224.2</pre>"
      ],
      "text/plain": [
       "recommendations finished on 13000/68614 queries. users per second: 84224.2"
      ]
     },
     "metadata": {},
     "output_type": "display_data"
    },
    {
     "data": {
      "text/html": [
       "<pre>recommendations finished on 14000/68614 queries. users per second: 86499.3</pre>"
      ],
      "text/plain": [
       "recommendations finished on 14000/68614 queries. users per second: 86499.3"
      ]
     },
     "metadata": {},
     "output_type": "display_data"
    },
    {
     "data": {
      "text/html": [
       "<pre>recommendations finished on 15000/68614 queries. users per second: 87296.1</pre>"
      ],
      "text/plain": [
       "recommendations finished on 15000/68614 queries. users per second: 87296.1"
      ]
     },
     "metadata": {},
     "output_type": "display_data"
    },
    {
     "data": {
      "text/html": [
       "<pre>recommendations finished on 16000/68614 queries. users per second: 88249.1</pre>"
      ],
      "text/plain": [
       "recommendations finished on 16000/68614 queries. users per second: 88249.1"
      ]
     },
     "metadata": {},
     "output_type": "display_data"
    },
    {
     "data": {
      "text/html": [
       "<pre>recommendations finished on 17000/68614 queries. users per second: 89447.8</pre>"
      ],
      "text/plain": [
       "recommendations finished on 17000/68614 queries. users per second: 89447.8"
      ]
     },
     "metadata": {},
     "output_type": "display_data"
    },
    {
     "data": {
      "text/html": [
       "<pre>recommendations finished on 18000/68614 queries. users per second: 89286.2</pre>"
      ],
      "text/plain": [
       "recommendations finished on 18000/68614 queries. users per second: 89286.2"
      ]
     },
     "metadata": {},
     "output_type": "display_data"
    },
    {
     "data": {
      "text/html": [
       "<pre>recommendations finished on 19000/68614 queries. users per second: 90032.9</pre>"
      ],
      "text/plain": [
       "recommendations finished on 19000/68614 queries. users per second: 90032.9"
      ]
     },
     "metadata": {},
     "output_type": "display_data"
    },
    {
     "data": {
      "text/html": [
       "<pre>recommendations finished on 20000/68614 queries. users per second: 89730.4</pre>"
      ],
      "text/plain": [
       "recommendations finished on 20000/68614 queries. users per second: 89730.4"
      ]
     },
     "metadata": {},
     "output_type": "display_data"
    },
    {
     "data": {
      "text/html": [
       "<pre>recommendations finished on 21000/68614 queries. users per second: 89640.5</pre>"
      ],
      "text/plain": [
       "recommendations finished on 21000/68614 queries. users per second: 89640.5"
      ]
     },
     "metadata": {},
     "output_type": "display_data"
    },
    {
     "data": {
      "text/html": [
       "<pre>recommendations finished on 22000/68614 queries. users per second: 90470.9</pre>"
      ],
      "text/plain": [
       "recommendations finished on 22000/68614 queries. users per second: 90470.9"
      ]
     },
     "metadata": {},
     "output_type": "display_data"
    },
    {
     "data": {
      "text/html": [
       "<pre>recommendations finished on 23000/68614 queries. users per second: 89173.9</pre>"
      ],
      "text/plain": [
       "recommendations finished on 23000/68614 queries. users per second: 89173.9"
      ]
     },
     "metadata": {},
     "output_type": "display_data"
    },
    {
     "data": {
      "text/html": [
       "<pre>recommendations finished on 24000/68614 queries. users per second: 89500.8</pre>"
      ],
      "text/plain": [
       "recommendations finished on 24000/68614 queries. users per second: 89500.8"
      ]
     },
     "metadata": {},
     "output_type": "display_data"
    },
    {
     "data": {
      "text/html": [
       "<pre>recommendations finished on 25000/68614 queries. users per second: 88792.3</pre>"
      ],
      "text/plain": [
       "recommendations finished on 25000/68614 queries. users per second: 88792.3"
      ]
     },
     "metadata": {},
     "output_type": "display_data"
    },
    {
     "data": {
      "text/html": [
       "<pre>recommendations finished on 26000/68614 queries. users per second: 90443.3</pre>"
      ],
      "text/plain": [
       "recommendations finished on 26000/68614 queries. users per second: 90443.3"
      ]
     },
     "metadata": {},
     "output_type": "display_data"
    },
    {
     "data": {
      "text/html": [
       "<pre>recommendations finished on 27000/68614 queries. users per second: 91200.2</pre>"
      ],
      "text/plain": [
       "recommendations finished on 27000/68614 queries. users per second: 91200.2"
      ]
     },
     "metadata": {},
     "output_type": "display_data"
    },
    {
     "data": {
      "text/html": [
       "<pre>recommendations finished on 28000/68614 queries. users per second: 90146.1</pre>"
      ],
      "text/plain": [
       "recommendations finished on 28000/68614 queries. users per second: 90146.1"
      ]
     },
     "metadata": {},
     "output_type": "display_data"
    },
    {
     "data": {
      "text/html": [
       "<pre>recommendations finished on 29000/68614 queries. users per second: 89042.8</pre>"
      ],
      "text/plain": [
       "recommendations finished on 29000/68614 queries. users per second: 89042.8"
      ]
     },
     "metadata": {},
     "output_type": "display_data"
    },
    {
     "data": {
      "text/html": [
       "<pre>recommendations finished on 30000/68614 queries. users per second: 88793.4</pre>"
      ],
      "text/plain": [
       "recommendations finished on 30000/68614 queries. users per second: 88793.4"
      ]
     },
     "metadata": {},
     "output_type": "display_data"
    },
    {
     "data": {
      "text/html": [
       "<pre>recommendations finished on 31000/68614 queries. users per second: 89008.1</pre>"
      ],
      "text/plain": [
       "recommendations finished on 31000/68614 queries. users per second: 89008.1"
      ]
     },
     "metadata": {},
     "output_type": "display_data"
    },
    {
     "data": {
      "text/html": [
       "<pre>recommendations finished on 32000/68614 queries. users per second: 88153.8</pre>"
      ],
      "text/plain": [
       "recommendations finished on 32000/68614 queries. users per second: 88153.8"
      ]
     },
     "metadata": {},
     "output_type": "display_data"
    },
    {
     "data": {
      "text/html": [
       "<pre>recommendations finished on 33000/68614 queries. users per second: 88251.1</pre>"
      ],
      "text/plain": [
       "recommendations finished on 33000/68614 queries. users per second: 88251.1"
      ]
     },
     "metadata": {},
     "output_type": "display_data"
    },
    {
     "data": {
      "text/html": [
       "<pre>recommendations finished on 34000/68614 queries. users per second: 89027.6</pre>"
      ],
      "text/plain": [
       "recommendations finished on 34000/68614 queries. users per second: 89027.6"
      ]
     },
     "metadata": {},
     "output_type": "display_data"
    },
    {
     "data": {
      "text/html": [
       "<pre>recommendations finished on 35000/68614 queries. users per second: 89636.7</pre>"
      ],
      "text/plain": [
       "recommendations finished on 35000/68614 queries. users per second: 89636.7"
      ]
     },
     "metadata": {},
     "output_type": "display_data"
    },
    {
     "data": {
      "text/html": [
       "<pre>recommendations finished on 36000/68614 queries. users per second: 89060.6</pre>"
      ],
      "text/plain": [
       "recommendations finished on 36000/68614 queries. users per second: 89060.6"
      ]
     },
     "metadata": {},
     "output_type": "display_data"
    },
    {
     "data": {
      "text/html": [
       "<pre>recommendations finished on 37000/68614 queries. users per second: 86396.5</pre>"
      ],
      "text/plain": [
       "recommendations finished on 37000/68614 queries. users per second: 86396.5"
      ]
     },
     "metadata": {},
     "output_type": "display_data"
    },
    {
     "data": {
      "text/html": [
       "<pre>recommendations finished on 38000/68614 queries. users per second: 86068.3</pre>"
      ],
      "text/plain": [
       "recommendations finished on 38000/68614 queries. users per second: 86068.3"
      ]
     },
     "metadata": {},
     "output_type": "display_data"
    },
    {
     "data": {
      "text/html": [
       "<pre>recommendations finished on 39000/68614 queries. users per second: 85377.8</pre>"
      ],
      "text/plain": [
       "recommendations finished on 39000/68614 queries. users per second: 85377.8"
      ]
     },
     "metadata": {},
     "output_type": "display_data"
    },
    {
     "data": {
      "text/html": [
       "<pre>recommendations finished on 40000/68614 queries. users per second: 84612</pre>"
      ],
      "text/plain": [
       "recommendations finished on 40000/68614 queries. users per second: 84612"
      ]
     },
     "metadata": {},
     "output_type": "display_data"
    },
    {
     "data": {
      "text/html": [
       "<pre>recommendations finished on 41000/68614 queries. users per second: 85122.5</pre>"
      ],
      "text/plain": [
       "recommendations finished on 41000/68614 queries. users per second: 85122.5"
      ]
     },
     "metadata": {},
     "output_type": "display_data"
    },
    {
     "data": {
      "text/html": [
       "<pre>recommendations finished on 42000/68614 queries. users per second: 84869.7</pre>"
      ],
      "text/plain": [
       "recommendations finished on 42000/68614 queries. users per second: 84869.7"
      ]
     },
     "metadata": {},
     "output_type": "display_data"
    },
    {
     "data": {
      "text/html": [
       "<pre>recommendations finished on 43000/68614 queries. users per second: 85315.1</pre>"
      ],
      "text/plain": [
       "recommendations finished on 43000/68614 queries. users per second: 85315.1"
      ]
     },
     "metadata": {},
     "output_type": "display_data"
    },
    {
     "data": {
      "text/html": [
       "<pre>recommendations finished on 44000/68614 queries. users per second: 85615.8</pre>"
      ],
      "text/plain": [
       "recommendations finished on 44000/68614 queries. users per second: 85615.8"
      ]
     },
     "metadata": {},
     "output_type": "display_data"
    },
    {
     "data": {
      "text/html": [
       "<pre>recommendations finished on 45000/68614 queries. users per second: 86125.2</pre>"
      ],
      "text/plain": [
       "recommendations finished on 45000/68614 queries. users per second: 86125.2"
      ]
     },
     "metadata": {},
     "output_type": "display_data"
    },
    {
     "data": {
      "text/html": [
       "<pre>recommendations finished on 46000/68614 queries. users per second: 86189.3</pre>"
      ],
      "text/plain": [
       "recommendations finished on 46000/68614 queries. users per second: 86189.3"
      ]
     },
     "metadata": {},
     "output_type": "display_data"
    },
    {
     "data": {
      "text/html": [
       "<pre>recommendations finished on 47000/68614 queries. users per second: 86639.3</pre>"
      ],
      "text/plain": [
       "recommendations finished on 47000/68614 queries. users per second: 86639.3"
      ]
     },
     "metadata": {},
     "output_type": "display_data"
    },
    {
     "data": {
      "text/html": [
       "<pre>recommendations finished on 48000/68614 queries. users per second: 87580.2</pre>"
      ],
      "text/plain": [
       "recommendations finished on 48000/68614 queries. users per second: 87580.2"
      ]
     },
     "metadata": {},
     "output_type": "display_data"
    },
    {
     "data": {
      "text/html": [
       "<pre>recommendations finished on 49000/68614 queries. users per second: 88131.9</pre>"
      ],
      "text/plain": [
       "recommendations finished on 49000/68614 queries. users per second: 88131.9"
      ]
     },
     "metadata": {},
     "output_type": "display_data"
    },
    {
     "data": {
      "text/html": [
       "<pre>recommendations finished on 50000/68614 queries. users per second: 88583.5</pre>"
      ],
      "text/plain": [
       "recommendations finished on 50000/68614 queries. users per second: 88583.5"
      ]
     },
     "metadata": {},
     "output_type": "display_data"
    },
    {
     "data": {
      "text/html": [
       "<pre>recommendations finished on 51000/68614 queries. users per second: 88650</pre>"
      ],
      "text/plain": [
       "recommendations finished on 51000/68614 queries. users per second: 88650"
      ]
     },
     "metadata": {},
     "output_type": "display_data"
    },
    {
     "data": {
      "text/html": [
       "<pre>recommendations finished on 52000/68614 queries. users per second: 89111.1</pre>"
      ],
      "text/plain": [
       "recommendations finished on 52000/68614 queries. users per second: 89111.1"
      ]
     },
     "metadata": {},
     "output_type": "display_data"
    },
    {
     "data": {
      "text/html": [
       "<pre>recommendations finished on 53000/68614 queries. users per second: 89458.1</pre>"
      ],
      "text/plain": [
       "recommendations finished on 53000/68614 queries. users per second: 89458.1"
      ]
     },
     "metadata": {},
     "output_type": "display_data"
    },
    {
     "data": {
      "text/html": [
       "<pre>recommendations finished on 54000/68614 queries. users per second: 89609.3</pre>"
      ],
      "text/plain": [
       "recommendations finished on 54000/68614 queries. users per second: 89609.3"
      ]
     },
     "metadata": {},
     "output_type": "display_data"
    },
    {
     "data": {
      "text/html": [
       "<pre>recommendations finished on 55000/68614 queries. users per second: 89781.4</pre>"
      ],
      "text/plain": [
       "recommendations finished on 55000/68614 queries. users per second: 89781.4"
      ]
     },
     "metadata": {},
     "output_type": "display_data"
    },
    {
     "data": {
      "text/html": [
       "<pre>recommendations finished on 56000/68614 queries. users per second: 89831</pre>"
      ],
      "text/plain": [
       "recommendations finished on 56000/68614 queries. users per second: 89831"
      ]
     },
     "metadata": {},
     "output_type": "display_data"
    },
    {
     "data": {
      "text/html": [
       "<pre>recommendations finished on 57000/68614 queries. users per second: 90062</pre>"
      ],
      "text/plain": [
       "recommendations finished on 57000/68614 queries. users per second: 90062"
      ]
     },
     "metadata": {},
     "output_type": "display_data"
    },
    {
     "data": {
      "text/html": [
       "<pre>recommendations finished on 58000/68614 queries. users per second: 89621.8</pre>"
      ],
      "text/plain": [
       "recommendations finished on 58000/68614 queries. users per second: 89621.8"
      ]
     },
     "metadata": {},
     "output_type": "display_data"
    },
    {
     "data": {
      "text/html": [
       "<pre>recommendations finished on 59000/68614 queries. users per second: 90157.7</pre>"
      ],
      "text/plain": [
       "recommendations finished on 59000/68614 queries. users per second: 90157.7"
      ]
     },
     "metadata": {},
     "output_type": "display_data"
    },
    {
     "data": {
      "text/html": [
       "<pre>recommendations finished on 60000/68614 queries. users per second: 89868.4</pre>"
      ],
      "text/plain": [
       "recommendations finished on 60000/68614 queries. users per second: 89868.4"
      ]
     },
     "metadata": {},
     "output_type": "display_data"
    },
    {
     "data": {
      "text/html": [
       "<pre>recommendations finished on 61000/68614 queries. users per second: 89284.8</pre>"
      ],
      "text/plain": [
       "recommendations finished on 61000/68614 queries. users per second: 89284.8"
      ]
     },
     "metadata": {},
     "output_type": "display_data"
    },
    {
     "data": {
      "text/html": [
       "<pre>recommendations finished on 62000/68614 queries. users per second: 89466.2</pre>"
      ],
      "text/plain": [
       "recommendations finished on 62000/68614 queries. users per second: 89466.2"
      ]
     },
     "metadata": {},
     "output_type": "display_data"
    },
    {
     "data": {
      "text/html": [
       "<pre>recommendations finished on 63000/68614 queries. users per second: 89566.4</pre>"
      ],
      "text/plain": [
       "recommendations finished on 63000/68614 queries. users per second: 89566.4"
      ]
     },
     "metadata": {},
     "output_type": "display_data"
    },
    {
     "data": {
      "text/html": [
       "<pre>recommendations finished on 64000/68614 queries. users per second: 89882.3</pre>"
      ],
      "text/plain": [
       "recommendations finished on 64000/68614 queries. users per second: 89882.3"
      ]
     },
     "metadata": {},
     "output_type": "display_data"
    },
    {
     "data": {
      "text/html": [
       "<pre>recommendations finished on 65000/68614 queries. users per second: 89819.6</pre>"
      ],
      "text/plain": [
       "recommendations finished on 65000/68614 queries. users per second: 89819.6"
      ]
     },
     "metadata": {},
     "output_type": "display_data"
    },
    {
     "data": {
      "text/html": [
       "<pre>recommendations finished on 66000/68614 queries. users per second: 89680.7</pre>"
      ],
      "text/plain": [
       "recommendations finished on 66000/68614 queries. users per second: 89680.7"
      ]
     },
     "metadata": {},
     "output_type": "display_data"
    },
    {
     "data": {
      "text/html": [
       "<pre>recommendations finished on 67000/68614 queries. users per second: 89900.9</pre>"
      ],
      "text/plain": [
       "recommendations finished on 67000/68614 queries. users per second: 89900.9"
      ]
     },
     "metadata": {},
     "output_type": "display_data"
    },
    {
     "data": {
      "text/html": [
       "<pre>recommendations finished on 68000/68614 queries. users per second: 89933.1</pre>"
      ],
      "text/plain": [
       "recommendations finished on 68000/68614 queries. users per second: 89933.1"
      ]
     },
     "metadata": {},
     "output_type": "display_data"
    },
    {
     "name": "stdout",
     "output_type": "stream",
     "text": [
      "+--------+----------+--------------------+------+\n",
      "| custno | prodcat2 |       score        | rank |\n",
      "+--------+----------+--------------------+------+\n",
      "| 67913  |   217    | 3.0000000000000004 |  1   |\n",
      "| 67913  |   237    |        3.0         |  2   |\n",
      "| 67913  |   235    |        2.5         |  3   |\n",
      "| 67913  |    96    | 1.8977791758684002 |  4   |\n",
      "| 67913  |    14    | 1.6134513201920868 |  5   |\n",
      "| 67913  |    39    | 1.591948457546356  |  6   |\n",
      "| 67913  |    88    | 1.5882352941176467 |  7   |\n",
      "| 67913  |    86    | 1.5714285714285714 |  8   |\n",
      "| 67913  |   214    | 1.5636363636363642 |  9   |\n",
      "| 67913  |    9     | 1.561314018309235  |  10  |\n",
      "| 67913  |   116    | 1.5518394648829426 |  11  |\n",
      "| 67913  |    3     | 1.5442789038396465 |  12  |\n",
      "| 67913  |    75    | 1.5264976958525351 |  13  |\n",
      "| 67913  |    28    | 1.5247038012152292 |  14  |\n",
      "| 67913  |   213    | 1.5194552529182883 |  15  |\n",
      "| 10880  |   217    | 3.0000000000000004 |  1   |\n",
      "| 10880  |   237    |        3.0         |  2   |\n",
      "| 10880  |   235    | 2.493815004825592  |  3   |\n",
      "| 10880  |    96    | 1.9731817784217678 |  4   |\n",
      "| 10880  |    38    | 1.9255110146425016 |  5   |\n",
      "+--------+----------+--------------------+------+\n",
      "[1029210 rows x 4 columns]\n",
      "\n"
     ]
    }
   ],
   "source": [
    "name = 'pearson'\n",
    "target = 'prodcat2_count'\n",
    "pear = model(train_count, name, user_id, item_id, target, users_to_recommend, n_rec, n_display)"
   ]
  },
  {
   "cell_type": "markdown",
   "metadata": {},
   "source": [
    "### Using dummy data (Data 2)"
   ]
  },
  {
   "cell_type": "code",
   "execution_count": 243,
   "metadata": {},
   "outputs": [
    {
     "data": {
      "text/html": [
       "<pre>Warning: Ignoring columns prodcat2_count;</pre>"
      ],
      "text/plain": [
       "Warning: Ignoring columns prodcat2_count;"
      ]
     },
     "metadata": {},
     "output_type": "display_data"
    },
    {
     "data": {
      "text/html": [
       "<pre>    To use these columns in scoring predictions, use a model that allows the use of additional features.</pre>"
      ],
      "text/plain": [
       "    To use these columns in scoring predictions, use a model that allows the use of additional features."
      ]
     },
     "metadata": {},
     "output_type": "display_data"
    },
    {
     "data": {
      "text/html": [
       "<pre>Preparing data set.</pre>"
      ],
      "text/plain": [
       "Preparing data set."
      ]
     },
     "metadata": {},
     "output_type": "display_data"
    },
    {
     "data": {
      "text/html": [
       "<pre>    Data has 162627 observations with 65735 users and 250 items.</pre>"
      ],
      "text/plain": [
       "    Data has 162627 observations with 65735 users and 250 items."
      ]
     },
     "metadata": {},
     "output_type": "display_data"
    },
    {
     "data": {
      "text/html": [
       "<pre>    Data prepared in: 0.424415s</pre>"
      ],
      "text/plain": [
       "    Data prepared in: 0.424415s"
      ]
     },
     "metadata": {},
     "output_type": "display_data"
    },
    {
     "data": {
      "text/html": [
       "<pre>Training model from provided data.</pre>"
      ],
      "text/plain": [
       "Training model from provided data."
      ]
     },
     "metadata": {},
     "output_type": "display_data"
    },
    {
     "data": {
      "text/html": [
       "<pre>Gathering per-item and per-user statistics.</pre>"
      ],
      "text/plain": [
       "Gathering per-item and per-user statistics."
      ]
     },
     "metadata": {},
     "output_type": "display_data"
    },
    {
     "data": {
      "text/html": [
       "<pre>+--------------------------------+------------+</pre>"
      ],
      "text/plain": [
       "+--------------------------------+------------+"
      ]
     },
     "metadata": {},
     "output_type": "display_data"
    },
    {
     "data": {
      "text/html": [
       "<pre>| Elapsed Time (Item Statistics) | % Complete |</pre>"
      ],
      "text/plain": [
       "| Elapsed Time (Item Statistics) | % Complete |"
      ]
     },
     "metadata": {},
     "output_type": "display_data"
    },
    {
     "data": {
      "text/html": [
       "<pre>+--------------------------------+------------+</pre>"
      ],
      "text/plain": [
       "+--------------------------------+------------+"
      ]
     },
     "metadata": {},
     "output_type": "display_data"
    },
    {
     "data": {
      "text/html": [
       "<pre>| 3.127ms                        | 1.5        |</pre>"
      ],
      "text/plain": [
       "| 3.127ms                        | 1.5        |"
      ]
     },
     "metadata": {},
     "output_type": "display_data"
    },
    {
     "data": {
      "text/html": [
       "<pre>| 30.593ms                       | 100        |</pre>"
      ],
      "text/plain": [
       "| 30.593ms                       | 100        |"
      ]
     },
     "metadata": {},
     "output_type": "display_data"
    },
    {
     "data": {
      "text/html": [
       "<pre>+--------------------------------+------------+</pre>"
      ],
      "text/plain": [
       "+--------------------------------+------------+"
      ]
     },
     "metadata": {},
     "output_type": "display_data"
    },
    {
     "data": {
      "text/html": [
       "<pre>Setting up lookup tables.</pre>"
      ],
      "text/plain": [
       "Setting up lookup tables."
      ]
     },
     "metadata": {},
     "output_type": "display_data"
    },
    {
     "data": {
      "text/html": [
       "<pre>Processing data in one pass using dense lookup tables.</pre>"
      ],
      "text/plain": [
       "Processing data in one pass using dense lookup tables."
      ]
     },
     "metadata": {},
     "output_type": "display_data"
    },
    {
     "data": {
      "text/html": [
       "<pre>+-------------------------------------+------------------+-----------------+</pre>"
      ],
      "text/plain": [
       "+-------------------------------------+------------------+-----------------+"
      ]
     },
     "metadata": {},
     "output_type": "display_data"
    },
    {
     "data": {
      "text/html": [
       "<pre>| Elapsed Time (Constructing Lookups) | Total % Complete | Items Processed |</pre>"
      ],
      "text/plain": [
       "| Elapsed Time (Constructing Lookups) | Total % Complete | Items Processed |"
      ]
     },
     "metadata": {},
     "output_type": "display_data"
    },
    {
     "data": {
      "text/html": [
       "<pre>+-------------------------------------+------------------+-----------------+</pre>"
      ],
      "text/plain": [
       "+-------------------------------------+------------------+-----------------+"
      ]
     },
     "metadata": {},
     "output_type": "display_data"
    },
    {
     "data": {
      "text/html": [
       "<pre>| 31.979ms                            | 0                | 0               |</pre>"
      ],
      "text/plain": [
       "| 31.979ms                            | 0                | 0               |"
      ]
     },
     "metadata": {},
     "output_type": "display_data"
    },
    {
     "data": {
      "text/html": [
       "<pre>| 74.547ms                            | 100              | 250             |</pre>"
      ],
      "text/plain": [
       "| 74.547ms                            | 100              | 250             |"
      ]
     },
     "metadata": {},
     "output_type": "display_data"
    },
    {
     "data": {
      "text/html": [
       "<pre>+-------------------------------------+------------------+-----------------+</pre>"
      ],
      "text/plain": [
       "+-------------------------------------+------------------+-----------------+"
      ]
     },
     "metadata": {},
     "output_type": "display_data"
    },
    {
     "data": {
      "text/html": [
       "<pre>Finalizing lookup tables.</pre>"
      ],
      "text/plain": [
       "Finalizing lookup tables."
      ]
     },
     "metadata": {},
     "output_type": "display_data"
    },
    {
     "data": {
      "text/html": [
       "<pre>Generating candidate set for working with new users.</pre>"
      ],
      "text/plain": [
       "Generating candidate set for working with new users."
      ]
     },
     "metadata": {},
     "output_type": "display_data"
    },
    {
     "data": {
      "text/html": [
       "<pre>Finished training in 0.095092s</pre>"
      ],
      "text/plain": [
       "Finished training in 0.095092s"
      ]
     },
     "metadata": {},
     "output_type": "display_data"
    },
    {
     "data": {
      "text/html": [
       "<pre>recommendations finished on 1000/68614 queries. users per second: 40144.5</pre>"
      ],
      "text/plain": [
       "recommendations finished on 1000/68614 queries. users per second: 40144.5"
      ]
     },
     "metadata": {},
     "output_type": "display_data"
    },
    {
     "data": {
      "text/html": [
       "<pre>recommendations finished on 2000/68614 queries. users per second: 64597.4</pre>"
      ],
      "text/plain": [
       "recommendations finished on 2000/68614 queries. users per second: 64597.4"
      ]
     },
     "metadata": {},
     "output_type": "display_data"
    },
    {
     "data": {
      "text/html": [
       "<pre>recommendations finished on 3000/68614 queries. users per second: 81714.9</pre>"
      ],
      "text/plain": [
       "recommendations finished on 3000/68614 queries. users per second: 81714.9"
      ]
     },
     "metadata": {},
     "output_type": "display_data"
    },
    {
     "data": {
      "text/html": [
       "<pre>recommendations finished on 4000/68614 queries. users per second: 94077.8</pre>"
      ],
      "text/plain": [
       "recommendations finished on 4000/68614 queries. users per second: 94077.8"
      ]
     },
     "metadata": {},
     "output_type": "display_data"
    },
    {
     "data": {
      "text/html": [
       "<pre>recommendations finished on 5000/68614 queries. users per second: 97830.1</pre>"
      ],
      "text/plain": [
       "recommendations finished on 5000/68614 queries. users per second: 97830.1"
      ]
     },
     "metadata": {},
     "output_type": "display_data"
    },
    {
     "data": {
      "text/html": [
       "<pre>recommendations finished on 6000/68614 queries. users per second: 108017</pre>"
      ],
      "text/plain": [
       "recommendations finished on 6000/68614 queries. users per second: 108017"
      ]
     },
     "metadata": {},
     "output_type": "display_data"
    },
    {
     "data": {
      "text/html": [
       "<pre>recommendations finished on 7000/68614 queries. users per second: 115848</pre>"
      ],
      "text/plain": [
       "recommendations finished on 7000/68614 queries. users per second: 115848"
      ]
     },
     "metadata": {},
     "output_type": "display_data"
    },
    {
     "data": {
      "text/html": [
       "<pre>recommendations finished on 8000/68614 queries. users per second: 124152</pre>"
      ],
      "text/plain": [
       "recommendations finished on 8000/68614 queries. users per second: 124152"
      ]
     },
     "metadata": {},
     "output_type": "display_data"
    },
    {
     "data": {
      "text/html": [
       "<pre>recommendations finished on 9000/68614 queries. users per second: 123112</pre>"
      ],
      "text/plain": [
       "recommendations finished on 9000/68614 queries. users per second: 123112"
      ]
     },
     "metadata": {},
     "output_type": "display_data"
    },
    {
     "data": {
      "text/html": [
       "<pre>recommendations finished on 10000/68614 queries. users per second: 125911</pre>"
      ],
      "text/plain": [
       "recommendations finished on 10000/68614 queries. users per second: 125911"
      ]
     },
     "metadata": {},
     "output_type": "display_data"
    },
    {
     "data": {
      "text/html": [
       "<pre>recommendations finished on 11000/68614 queries. users per second: 127453</pre>"
      ],
      "text/plain": [
       "recommendations finished on 11000/68614 queries. users per second: 127453"
      ]
     },
     "metadata": {},
     "output_type": "display_data"
    },
    {
     "data": {
      "text/html": [
       "<pre>recommendations finished on 12000/68614 queries. users per second: 126632</pre>"
      ],
      "text/plain": [
       "recommendations finished on 12000/68614 queries. users per second: 126632"
      ]
     },
     "metadata": {},
     "output_type": "display_data"
    },
    {
     "data": {
      "text/html": [
       "<pre>recommendations finished on 13000/68614 queries. users per second: 128769</pre>"
      ],
      "text/plain": [
       "recommendations finished on 13000/68614 queries. users per second: 128769"
      ]
     },
     "metadata": {},
     "output_type": "display_data"
    },
    {
     "data": {
      "text/html": [
       "<pre>recommendations finished on 14000/68614 queries. users per second: 128493</pre>"
      ],
      "text/plain": [
       "recommendations finished on 14000/68614 queries. users per second: 128493"
      ]
     },
     "metadata": {},
     "output_type": "display_data"
    },
    {
     "data": {
      "text/html": [
       "<pre>recommendations finished on 15000/68614 queries. users per second: 126828</pre>"
      ],
      "text/plain": [
       "recommendations finished on 15000/68614 queries. users per second: 126828"
      ]
     },
     "metadata": {},
     "output_type": "display_data"
    },
    {
     "data": {
      "text/html": [
       "<pre>recommendations finished on 16000/68614 queries. users per second: 120747</pre>"
      ],
      "text/plain": [
       "recommendations finished on 16000/68614 queries. users per second: 120747"
      ]
     },
     "metadata": {},
     "output_type": "display_data"
    },
    {
     "data": {
      "text/html": [
       "<pre>recommendations finished on 17000/68614 queries. users per second: 122661</pre>"
      ],
      "text/plain": [
       "recommendations finished on 17000/68614 queries. users per second: 122661"
      ]
     },
     "metadata": {},
     "output_type": "display_data"
    },
    {
     "data": {
      "text/html": [
       "<pre>recommendations finished on 18000/68614 queries. users per second: 119152</pre>"
      ],
      "text/plain": [
       "recommendations finished on 18000/68614 queries. users per second: 119152"
      ]
     },
     "metadata": {},
     "output_type": "display_data"
    },
    {
     "data": {
      "text/html": [
       "<pre>recommendations finished on 19000/68614 queries. users per second: 120632</pre>"
      ],
      "text/plain": [
       "recommendations finished on 19000/68614 queries. users per second: 120632"
      ]
     },
     "metadata": {},
     "output_type": "display_data"
    },
    {
     "data": {
      "text/html": [
       "<pre>recommendations finished on 20000/68614 queries. users per second: 120731</pre>"
      ],
      "text/plain": [
       "recommendations finished on 20000/68614 queries. users per second: 120731"
      ]
     },
     "metadata": {},
     "output_type": "display_data"
    },
    {
     "data": {
      "text/html": [
       "<pre>recommendations finished on 21000/68614 queries. users per second: 120348</pre>"
      ],
      "text/plain": [
       "recommendations finished on 21000/68614 queries. users per second: 120348"
      ]
     },
     "metadata": {},
     "output_type": "display_data"
    },
    {
     "data": {
      "text/html": [
       "<pre>recommendations finished on 22000/68614 queries. users per second: 121811</pre>"
      ],
      "text/plain": [
       "recommendations finished on 22000/68614 queries. users per second: 121811"
      ]
     },
     "metadata": {},
     "output_type": "display_data"
    },
    {
     "data": {
      "text/html": [
       "<pre>recommendations finished on 23000/68614 queries. users per second: 122911</pre>"
      ],
      "text/plain": [
       "recommendations finished on 23000/68614 queries. users per second: 122911"
      ]
     },
     "metadata": {},
     "output_type": "display_data"
    },
    {
     "data": {
      "text/html": [
       "<pre>recommendations finished on 24000/68614 queries. users per second: 123762</pre>"
      ],
      "text/plain": [
       "recommendations finished on 24000/68614 queries. users per second: 123762"
      ]
     },
     "metadata": {},
     "output_type": "display_data"
    },
    {
     "data": {
      "text/html": [
       "<pre>recommendations finished on 25000/68614 queries. users per second: 124113</pre>"
      ],
      "text/plain": [
       "recommendations finished on 25000/68614 queries. users per second: 124113"
      ]
     },
     "metadata": {},
     "output_type": "display_data"
    },
    {
     "data": {
      "text/html": [
       "<pre>recommendations finished on 26000/68614 queries. users per second: 122952</pre>"
      ],
      "text/plain": [
       "recommendations finished on 26000/68614 queries. users per second: 122952"
      ]
     },
     "metadata": {},
     "output_type": "display_data"
    },
    {
     "data": {
      "text/html": [
       "<pre>recommendations finished on 27000/68614 queries. users per second: 119813</pre>"
      ],
      "text/plain": [
       "recommendations finished on 27000/68614 queries. users per second: 119813"
      ]
     },
     "metadata": {},
     "output_type": "display_data"
    },
    {
     "data": {
      "text/html": [
       "<pre>recommendations finished on 28000/68614 queries. users per second: 120735</pre>"
      ],
      "text/plain": [
       "recommendations finished on 28000/68614 queries. users per second: 120735"
      ]
     },
     "metadata": {},
     "output_type": "display_data"
    },
    {
     "data": {
      "text/html": [
       "<pre>recommendations finished on 29000/68614 queries. users per second: 118817</pre>"
      ],
      "text/plain": [
       "recommendations finished on 29000/68614 queries. users per second: 118817"
      ]
     },
     "metadata": {},
     "output_type": "display_data"
    },
    {
     "data": {
      "text/html": [
       "<pre>recommendations finished on 30000/68614 queries. users per second: 118943</pre>"
      ],
      "text/plain": [
       "recommendations finished on 30000/68614 queries. users per second: 118943"
      ]
     },
     "metadata": {},
     "output_type": "display_data"
    },
    {
     "data": {
      "text/html": [
       "<pre>recommendations finished on 31000/68614 queries. users per second: 118207</pre>"
      ],
      "text/plain": [
       "recommendations finished on 31000/68614 queries. users per second: 118207"
      ]
     },
     "metadata": {},
     "output_type": "display_data"
    },
    {
     "data": {
      "text/html": [
       "<pre>recommendations finished on 32000/68614 queries. users per second: 116675</pre>"
      ],
      "text/plain": [
       "recommendations finished on 32000/68614 queries. users per second: 116675"
      ]
     },
     "metadata": {},
     "output_type": "display_data"
    },
    {
     "data": {
      "text/html": [
       "<pre>recommendations finished on 33000/68614 queries. users per second: 116230</pre>"
      ],
      "text/plain": [
       "recommendations finished on 33000/68614 queries. users per second: 116230"
      ]
     },
     "metadata": {},
     "output_type": "display_data"
    },
    {
     "data": {
      "text/html": [
       "<pre>recommendations finished on 34000/68614 queries. users per second: 115748</pre>"
      ],
      "text/plain": [
       "recommendations finished on 34000/68614 queries. users per second: 115748"
      ]
     },
     "metadata": {},
     "output_type": "display_data"
    },
    {
     "data": {
      "text/html": [
       "<pre>recommendations finished on 35000/68614 queries. users per second: 116782</pre>"
      ],
      "text/plain": [
       "recommendations finished on 35000/68614 queries. users per second: 116782"
      ]
     },
     "metadata": {},
     "output_type": "display_data"
    },
    {
     "data": {
      "text/html": [
       "<pre>recommendations finished on 36000/68614 queries. users per second: 117285</pre>"
      ],
      "text/plain": [
       "recommendations finished on 36000/68614 queries. users per second: 117285"
      ]
     },
     "metadata": {},
     "output_type": "display_data"
    },
    {
     "data": {
      "text/html": [
       "<pre>recommendations finished on 37000/68614 queries. users per second: 116783</pre>"
      ],
      "text/plain": [
       "recommendations finished on 37000/68614 queries. users per second: 116783"
      ]
     },
     "metadata": {},
     "output_type": "display_data"
    },
    {
     "data": {
      "text/html": [
       "<pre>recommendations finished on 38000/68614 queries. users per second: 117055</pre>"
      ],
      "text/plain": [
       "recommendations finished on 38000/68614 queries. users per second: 117055"
      ]
     },
     "metadata": {},
     "output_type": "display_data"
    },
    {
     "data": {
      "text/html": [
       "<pre>recommendations finished on 39000/68614 queries. users per second: 117571</pre>"
      ],
      "text/plain": [
       "recommendations finished on 39000/68614 queries. users per second: 117571"
      ]
     },
     "metadata": {},
     "output_type": "display_data"
    },
    {
     "data": {
      "text/html": [
       "<pre>recommendations finished on 40000/68614 queries. users per second: 116554</pre>"
      ],
      "text/plain": [
       "recommendations finished on 40000/68614 queries. users per second: 116554"
      ]
     },
     "metadata": {},
     "output_type": "display_data"
    },
    {
     "data": {
      "text/html": [
       "<pre>recommendations finished on 41000/68614 queries. users per second: 117022</pre>"
      ],
      "text/plain": [
       "recommendations finished on 41000/68614 queries. users per second: 117022"
      ]
     },
     "metadata": {},
     "output_type": "display_data"
    },
    {
     "data": {
      "text/html": [
       "<pre>recommendations finished on 42000/68614 queries. users per second: 114922</pre>"
      ],
      "text/plain": [
       "recommendations finished on 42000/68614 queries. users per second: 114922"
      ]
     },
     "metadata": {},
     "output_type": "display_data"
    },
    {
     "data": {
      "text/html": [
       "<pre>recommendations finished on 43000/68614 queries. users per second: 115264</pre>"
      ],
      "text/plain": [
       "recommendations finished on 43000/68614 queries. users per second: 115264"
      ]
     },
     "metadata": {},
     "output_type": "display_data"
    },
    {
     "data": {
      "text/html": [
       "<pre>recommendations finished on 44000/68614 queries. users per second: 115635</pre>"
      ],
      "text/plain": [
       "recommendations finished on 44000/68614 queries. users per second: 115635"
      ]
     },
     "metadata": {},
     "output_type": "display_data"
    },
    {
     "data": {
      "text/html": [
       "<pre>recommendations finished on 45000/68614 queries. users per second: 115300</pre>"
      ],
      "text/plain": [
       "recommendations finished on 45000/68614 queries. users per second: 115300"
      ]
     },
     "metadata": {},
     "output_type": "display_data"
    },
    {
     "data": {
      "text/html": [
       "<pre>recommendations finished on 46000/68614 queries. users per second: 115034</pre>"
      ],
      "text/plain": [
       "recommendations finished on 46000/68614 queries. users per second: 115034"
      ]
     },
     "metadata": {},
     "output_type": "display_data"
    },
    {
     "data": {
      "text/html": [
       "<pre>recommendations finished on 47000/68614 queries. users per second: 115218</pre>"
      ],
      "text/plain": [
       "recommendations finished on 47000/68614 queries. users per second: 115218"
      ]
     },
     "metadata": {},
     "output_type": "display_data"
    },
    {
     "data": {
      "text/html": [
       "<pre>recommendations finished on 48000/68614 queries. users per second: 115565</pre>"
      ],
      "text/plain": [
       "recommendations finished on 48000/68614 queries. users per second: 115565"
      ]
     },
     "metadata": {},
     "output_type": "display_data"
    },
    {
     "data": {
      "text/html": [
       "<pre>recommendations finished on 49000/68614 queries. users per second: 114245</pre>"
      ],
      "text/plain": [
       "recommendations finished on 49000/68614 queries. users per second: 114245"
      ]
     },
     "metadata": {},
     "output_type": "display_data"
    },
    {
     "data": {
      "text/html": [
       "<pre>recommendations finished on 50000/68614 queries. users per second: 111471</pre>"
      ],
      "text/plain": [
       "recommendations finished on 50000/68614 queries. users per second: 111471"
      ]
     },
     "metadata": {},
     "output_type": "display_data"
    },
    {
     "data": {
      "text/html": [
       "<pre>recommendations finished on 51000/68614 queries. users per second: 110735</pre>"
      ],
      "text/plain": [
       "recommendations finished on 51000/68614 queries. users per second: 110735"
      ]
     },
     "metadata": {},
     "output_type": "display_data"
    },
    {
     "data": {
      "text/html": [
       "<pre>recommendations finished on 52000/68614 queries. users per second: 111348</pre>"
      ],
      "text/plain": [
       "recommendations finished on 52000/68614 queries. users per second: 111348"
      ]
     },
     "metadata": {},
     "output_type": "display_data"
    },
    {
     "data": {
      "text/html": [
       "<pre>recommendations finished on 53000/68614 queries. users per second: 111622</pre>"
      ],
      "text/plain": [
       "recommendations finished on 53000/68614 queries. users per second: 111622"
      ]
     },
     "metadata": {},
     "output_type": "display_data"
    },
    {
     "data": {
      "text/html": [
       "<pre>recommendations finished on 54000/68614 queries. users per second: 111278</pre>"
      ],
      "text/plain": [
       "recommendations finished on 54000/68614 queries. users per second: 111278"
      ]
     },
     "metadata": {},
     "output_type": "display_data"
    },
    {
     "data": {
      "text/html": [
       "<pre>recommendations finished on 55000/68614 queries. users per second: 111390</pre>"
      ],
      "text/plain": [
       "recommendations finished on 55000/68614 queries. users per second: 111390"
      ]
     },
     "metadata": {},
     "output_type": "display_data"
    },
    {
     "data": {
      "text/html": [
       "<pre>recommendations finished on 56000/68614 queries. users per second: 111007</pre>"
      ],
      "text/plain": [
       "recommendations finished on 56000/68614 queries. users per second: 111007"
      ]
     },
     "metadata": {},
     "output_type": "display_data"
    },
    {
     "data": {
      "text/html": [
       "<pre>recommendations finished on 57000/68614 queries. users per second: 110375</pre>"
      ],
      "text/plain": [
       "recommendations finished on 57000/68614 queries. users per second: 110375"
      ]
     },
     "metadata": {},
     "output_type": "display_data"
    },
    {
     "data": {
      "text/html": [
       "<pre>recommendations finished on 58000/68614 queries. users per second: 106485</pre>"
      ],
      "text/plain": [
       "recommendations finished on 58000/68614 queries. users per second: 106485"
      ]
     },
     "metadata": {},
     "output_type": "display_data"
    },
    {
     "data": {
      "text/html": [
       "<pre>recommendations finished on 59000/68614 queries. users per second: 106715</pre>"
      ],
      "text/plain": [
       "recommendations finished on 59000/68614 queries. users per second: 106715"
      ]
     },
     "metadata": {},
     "output_type": "display_data"
    },
    {
     "data": {
      "text/html": [
       "<pre>recommendations finished on 60000/68614 queries. users per second: 106914</pre>"
      ],
      "text/plain": [
       "recommendations finished on 60000/68614 queries. users per second: 106914"
      ]
     },
     "metadata": {},
     "output_type": "display_data"
    },
    {
     "data": {
      "text/html": [
       "<pre>recommendations finished on 61000/68614 queries. users per second: 107509</pre>"
      ],
      "text/plain": [
       "recommendations finished on 61000/68614 queries. users per second: 107509"
      ]
     },
     "metadata": {},
     "output_type": "display_data"
    },
    {
     "data": {
      "text/html": [
       "<pre>recommendations finished on 62000/68614 queries. users per second: 107926</pre>"
      ],
      "text/plain": [
       "recommendations finished on 62000/68614 queries. users per second: 107926"
      ]
     },
     "metadata": {},
     "output_type": "display_data"
    },
    {
     "data": {
      "text/html": [
       "<pre>recommendations finished on 63000/68614 queries. users per second: 108424</pre>"
      ],
      "text/plain": [
       "recommendations finished on 63000/68614 queries. users per second: 108424"
      ]
     },
     "metadata": {},
     "output_type": "display_data"
    },
    {
     "data": {
      "text/html": [
       "<pre>recommendations finished on 64000/68614 queries. users per second: 108785</pre>"
      ],
      "text/plain": [
       "recommendations finished on 64000/68614 queries. users per second: 108785"
      ]
     },
     "metadata": {},
     "output_type": "display_data"
    },
    {
     "data": {
      "text/html": [
       "<pre>recommendations finished on 65000/68614 queries. users per second: 109376</pre>"
      ],
      "text/plain": [
       "recommendations finished on 65000/68614 queries. users per second: 109376"
      ]
     },
     "metadata": {},
     "output_type": "display_data"
    },
    {
     "data": {
      "text/html": [
       "<pre>recommendations finished on 66000/68614 queries. users per second: 109996</pre>"
      ],
      "text/plain": [
       "recommendations finished on 66000/68614 queries. users per second: 109996"
      ]
     },
     "metadata": {},
     "output_type": "display_data"
    },
    {
     "data": {
      "text/html": [
       "<pre>recommendations finished on 67000/68614 queries. users per second: 110480</pre>"
      ],
      "text/plain": [
       "recommendations finished on 67000/68614 queries. users per second: 110480"
      ]
     },
     "metadata": {},
     "output_type": "display_data"
    },
    {
     "data": {
      "text/html": [
       "<pre>recommendations finished on 68000/68614 queries. users per second: 110697</pre>"
      ],
      "text/plain": [
       "recommendations finished on 68000/68614 queries. users per second: 110697"
      ]
     },
     "metadata": {},
     "output_type": "display_data"
    },
    {
     "name": "stdout",
     "output_type": "stream",
     "text": [
      "+--------+----------+-------+------+\n",
      "| custno | prodcat2 | score | rank |\n",
      "+--------+----------+-------+------+\n",
      "| 67913  |    62    |  0.0  |  1   |\n",
      "| 67913  |    89    |  0.0  |  2   |\n",
      "| 67913  |    3     |  0.0  |  3   |\n",
      "| 67913  |    11    |  0.0  |  4   |\n",
      "| 67913  |    38    |  0.0  |  5   |\n",
      "| 67913  |    13    |  0.0  |  6   |\n",
      "| 67913  |    16    |  0.0  |  7   |\n",
      "| 67913  |    43    |  0.0  |  8   |\n",
      "| 67913  |   169    |  0.0  |  9   |\n",
      "| 67913  |    25    |  0.0  |  10  |\n",
      "| 67913  |    4     |  0.0  |  11  |\n",
      "| 67913  |   131    |  0.0  |  12  |\n",
      "| 67913  |    75    |  0.0  |  13  |\n",
      "| 67913  |   110    |  0.0  |  14  |\n",
      "| 67913  |    27    |  0.0  |  15  |\n",
      "| 10880  |    62    |  0.0  |  1   |\n",
      "| 10880  |    89    |  0.0  |  2   |\n",
      "| 10880  |    11    |  0.0  |  3   |\n",
      "| 10880  |    38    |  0.0  |  4   |\n",
      "| 10880  |    13    |  0.0  |  5   |\n",
      "+--------+----------+-------+------+\n",
      "[1029210 rows x 4 columns]\n",
      "\n"
     ]
    }
   ],
   "source": [
    "name = 'pearson'\n",
    "target = 'purchase_dummy'\n",
    "pear_dummy = model(train_dummy, name, user_id, item_id, target, users_to_recommend, n_rec, n_display)"
   ]
  },
  {
   "cell_type": "markdown",
   "metadata": {},
   "source": [
    "### Using scaled count normalised data (Data 3)"
   ]
  },
  {
   "cell_type": "code",
   "execution_count": 244,
   "metadata": {},
   "outputs": [
    {
     "data": {
      "text/html": [
       "<pre>Preparing data set.</pre>"
      ],
      "text/plain": [
       "Preparing data set."
      ]
     },
     "metadata": {},
     "output_type": "display_data"
    },
    {
     "data": {
      "text/html": [
       "<pre>    Data has 162287 observations with 65693 users and 205 items.</pre>"
      ],
      "text/plain": [
       "    Data has 162287 observations with 65693 users and 205 items."
      ]
     },
     "metadata": {},
     "output_type": "display_data"
    },
    {
     "data": {
      "text/html": [
       "<pre>    Data prepared in: 0.439637s</pre>"
      ],
      "text/plain": [
       "    Data prepared in: 0.439637s"
      ]
     },
     "metadata": {},
     "output_type": "display_data"
    },
    {
     "data": {
      "text/html": [
       "<pre>Training model from provided data.</pre>"
      ],
      "text/plain": [
       "Training model from provided data."
      ]
     },
     "metadata": {},
     "output_type": "display_data"
    },
    {
     "data": {
      "text/html": [
       "<pre>Gathering per-item and per-user statistics.</pre>"
      ],
      "text/plain": [
       "Gathering per-item and per-user statistics."
      ]
     },
     "metadata": {},
     "output_type": "display_data"
    },
    {
     "data": {
      "text/html": [
       "<pre>+--------------------------------+------------+</pre>"
      ],
      "text/plain": [
       "+--------------------------------+------------+"
      ]
     },
     "metadata": {},
     "output_type": "display_data"
    },
    {
     "data": {
      "text/html": [
       "<pre>| Elapsed Time (Item Statistics) | % Complete |</pre>"
      ],
      "text/plain": [
       "| Elapsed Time (Item Statistics) | % Complete |"
      ]
     },
     "metadata": {},
     "output_type": "display_data"
    },
    {
     "data": {
      "text/html": [
       "<pre>+--------------------------------+------------+</pre>"
      ],
      "text/plain": [
       "+--------------------------------+------------+"
      ]
     },
     "metadata": {},
     "output_type": "display_data"
    },
    {
     "data": {
      "text/html": [
       "<pre>| 3.591ms                        | 1.5        |</pre>"
      ],
      "text/plain": [
       "| 3.591ms                        | 1.5        |"
      ]
     },
     "metadata": {},
     "output_type": "display_data"
    },
    {
     "data": {
      "text/html": [
       "<pre>| 36.102ms                       | 100        |</pre>"
      ],
      "text/plain": [
       "| 36.102ms                       | 100        |"
      ]
     },
     "metadata": {},
     "output_type": "display_data"
    },
    {
     "data": {
      "text/html": [
       "<pre>+--------------------------------+------------+</pre>"
      ],
      "text/plain": [
       "+--------------------------------+------------+"
      ]
     },
     "metadata": {},
     "output_type": "display_data"
    },
    {
     "data": {
      "text/html": [
       "<pre>Setting up lookup tables.</pre>"
      ],
      "text/plain": [
       "Setting up lookup tables."
      ]
     },
     "metadata": {},
     "output_type": "display_data"
    },
    {
     "data": {
      "text/html": [
       "<pre>Processing data in one pass using dense lookup tables.</pre>"
      ],
      "text/plain": [
       "Processing data in one pass using dense lookup tables."
      ]
     },
     "metadata": {},
     "output_type": "display_data"
    },
    {
     "data": {
      "text/html": [
       "<pre>+-------------------------------------+------------------+-----------------+</pre>"
      ],
      "text/plain": [
       "+-------------------------------------+------------------+-----------------+"
      ]
     },
     "metadata": {},
     "output_type": "display_data"
    },
    {
     "data": {
      "text/html": [
       "<pre>| Elapsed Time (Constructing Lookups) | Total % Complete | Items Processed |</pre>"
      ],
      "text/plain": [
       "| Elapsed Time (Constructing Lookups) | Total % Complete | Items Processed |"
      ]
     },
     "metadata": {},
     "output_type": "display_data"
    },
    {
     "data": {
      "text/html": [
       "<pre>+-------------------------------------+------------------+-----------------+</pre>"
      ],
      "text/plain": [
       "+-------------------------------------+------------------+-----------------+"
      ]
     },
     "metadata": {},
     "output_type": "display_data"
    },
    {
     "data": {
      "text/html": [
       "<pre>| 49.706ms                            | 0                | 0               |</pre>"
      ],
      "text/plain": [
       "| 49.706ms                            | 0                | 0               |"
      ]
     },
     "metadata": {},
     "output_type": "display_data"
    },
    {
     "data": {
      "text/html": [
       "<pre>| 88.276ms                            | 100              | 205             |</pre>"
      ],
      "text/plain": [
       "| 88.276ms                            | 100              | 205             |"
      ]
     },
     "metadata": {},
     "output_type": "display_data"
    },
    {
     "data": {
      "text/html": [
       "<pre>+-------------------------------------+------------------+-----------------+</pre>"
      ],
      "text/plain": [
       "+-------------------------------------+------------------+-----------------+"
      ]
     },
     "metadata": {},
     "output_type": "display_data"
    },
    {
     "data": {
      "text/html": [
       "<pre>Finalizing lookup tables.</pre>"
      ],
      "text/plain": [
       "Finalizing lookup tables."
      ]
     },
     "metadata": {},
     "output_type": "display_data"
    },
    {
     "data": {
      "text/html": [
       "<pre>Generating candidate set for working with new users.</pre>"
      ],
      "text/plain": [
       "Generating candidate set for working with new users."
      ]
     },
     "metadata": {},
     "output_type": "display_data"
    },
    {
     "data": {
      "text/html": [
       "<pre>Finished training in 0.129436s</pre>"
      ],
      "text/plain": [
       "Finished training in 0.129436s"
      ]
     },
     "metadata": {},
     "output_type": "display_data"
    },
    {
     "data": {
      "text/html": [
       "<pre>recommendations finished on 1000/68614 queries. users per second: 39004.6</pre>"
      ],
      "text/plain": [
       "recommendations finished on 1000/68614 queries. users per second: 39004.6"
      ]
     },
     "metadata": {},
     "output_type": "display_data"
    },
    {
     "data": {
      "text/html": [
       "<pre>recommendations finished on 2000/68614 queries. users per second: 59393</pre>"
      ],
      "text/plain": [
       "recommendations finished on 2000/68614 queries. users per second: 59393"
      ]
     },
     "metadata": {},
     "output_type": "display_data"
    },
    {
     "data": {
      "text/html": [
       "<pre>recommendations finished on 3000/68614 queries. users per second: 68989.3</pre>"
      ],
      "text/plain": [
       "recommendations finished on 3000/68614 queries. users per second: 68989.3"
      ]
     },
     "metadata": {},
     "output_type": "display_data"
    },
    {
     "data": {
      "text/html": [
       "<pre>recommendations finished on 4000/68614 queries. users per second: 59662.3</pre>"
      ],
      "text/plain": [
       "recommendations finished on 4000/68614 queries. users per second: 59662.3"
      ]
     },
     "metadata": {},
     "output_type": "display_data"
    },
    {
     "data": {
      "text/html": [
       "<pre>recommendations finished on 5000/68614 queries. users per second: 60429.5</pre>"
      ],
      "text/plain": [
       "recommendations finished on 5000/68614 queries. users per second: 60429.5"
      ]
     },
     "metadata": {},
     "output_type": "display_data"
    },
    {
     "data": {
      "text/html": [
       "<pre>recommendations finished on 6000/68614 queries. users per second: 64873.3</pre>"
      ],
      "text/plain": [
       "recommendations finished on 6000/68614 queries. users per second: 64873.3"
      ]
     },
     "metadata": {},
     "output_type": "display_data"
    },
    {
     "data": {
      "text/html": [
       "<pre>recommendations finished on 7000/68614 queries. users per second: 67977</pre>"
      ],
      "text/plain": [
       "recommendations finished on 7000/68614 queries. users per second: 67977"
      ]
     },
     "metadata": {},
     "output_type": "display_data"
    },
    {
     "data": {
      "text/html": [
       "<pre>recommendations finished on 8000/68614 queries. users per second: 70551.7</pre>"
      ],
      "text/plain": [
       "recommendations finished on 8000/68614 queries. users per second: 70551.7"
      ]
     },
     "metadata": {},
     "output_type": "display_data"
    },
    {
     "data": {
      "text/html": [
       "<pre>recommendations finished on 9000/68614 queries. users per second: 75016.9</pre>"
      ],
      "text/plain": [
       "recommendations finished on 9000/68614 queries. users per second: 75016.9"
      ]
     },
     "metadata": {},
     "output_type": "display_data"
    },
    {
     "data": {
      "text/html": [
       "<pre>recommendations finished on 10000/68614 queries. users per second: 77938.7</pre>"
      ],
      "text/plain": [
       "recommendations finished on 10000/68614 queries. users per second: 77938.7"
      ]
     },
     "metadata": {},
     "output_type": "display_data"
    },
    {
     "data": {
      "text/html": [
       "<pre>recommendations finished on 11000/68614 queries. users per second: 79033.2</pre>"
      ],
      "text/plain": [
       "recommendations finished on 11000/68614 queries. users per second: 79033.2"
      ]
     },
     "metadata": {},
     "output_type": "display_data"
    },
    {
     "data": {
      "text/html": [
       "<pre>recommendations finished on 12000/68614 queries. users per second: 83049.6</pre>"
      ],
      "text/plain": [
       "recommendations finished on 12000/68614 queries. users per second: 83049.6"
      ]
     },
     "metadata": {},
     "output_type": "display_data"
    },
    {
     "data": {
      "text/html": [
       "<pre>recommendations finished on 13000/68614 queries. users per second: 85141.5</pre>"
      ],
      "text/plain": [
       "recommendations finished on 13000/68614 queries. users per second: 85141.5"
      ]
     },
     "metadata": {},
     "output_type": "display_data"
    },
    {
     "data": {
      "text/html": [
       "<pre>recommendations finished on 14000/68614 queries. users per second: 86690.5</pre>"
      ],
      "text/plain": [
       "recommendations finished on 14000/68614 queries. users per second: 86690.5"
      ]
     },
     "metadata": {},
     "output_type": "display_data"
    },
    {
     "data": {
      "text/html": [
       "<pre>recommendations finished on 15000/68614 queries. users per second: 88885.2</pre>"
      ],
      "text/plain": [
       "recommendations finished on 15000/68614 queries. users per second: 88885.2"
      ]
     },
     "metadata": {},
     "output_type": "display_data"
    },
    {
     "data": {
      "text/html": [
       "<pre>recommendations finished on 16000/68614 queries. users per second: 89570.1</pre>"
      ],
      "text/plain": [
       "recommendations finished on 16000/68614 queries. users per second: 89570.1"
      ]
     },
     "metadata": {},
     "output_type": "display_data"
    },
    {
     "data": {
      "text/html": [
       "<pre>recommendations finished on 17000/68614 queries. users per second: 91177.7</pre>"
      ],
      "text/plain": [
       "recommendations finished on 17000/68614 queries. users per second: 91177.7"
      ]
     },
     "metadata": {},
     "output_type": "display_data"
    },
    {
     "data": {
      "text/html": [
       "<pre>recommendations finished on 18000/68614 queries. users per second: 91934.3</pre>"
      ],
      "text/plain": [
       "recommendations finished on 18000/68614 queries. users per second: 91934.3"
      ]
     },
     "metadata": {},
     "output_type": "display_data"
    },
    {
     "data": {
      "text/html": [
       "<pre>recommendations finished on 19000/68614 queries. users per second: 91495.7</pre>"
      ],
      "text/plain": [
       "recommendations finished on 19000/68614 queries. users per second: 91495.7"
      ]
     },
     "metadata": {},
     "output_type": "display_data"
    },
    {
     "data": {
      "text/html": [
       "<pre>recommendations finished on 20000/68614 queries. users per second: 90087.7</pre>"
      ],
      "text/plain": [
       "recommendations finished on 20000/68614 queries. users per second: 90087.7"
      ]
     },
     "metadata": {},
     "output_type": "display_data"
    },
    {
     "data": {
      "text/html": [
       "<pre>recommendations finished on 21000/68614 queries. users per second: 88059.2</pre>"
      ],
      "text/plain": [
       "recommendations finished on 21000/68614 queries. users per second: 88059.2"
      ]
     },
     "metadata": {},
     "output_type": "display_data"
    },
    {
     "data": {
      "text/html": [
       "<pre>recommendations finished on 22000/68614 queries. users per second: 89663.8</pre>"
      ],
      "text/plain": [
       "recommendations finished on 22000/68614 queries. users per second: 89663.8"
      ]
     },
     "metadata": {},
     "output_type": "display_data"
    },
    {
     "data": {
      "text/html": [
       "<pre>recommendations finished on 23000/68614 queries. users per second: 91066</pre>"
      ],
      "text/plain": [
       "recommendations finished on 23000/68614 queries. users per second: 91066"
      ]
     },
     "metadata": {},
     "output_type": "display_data"
    },
    {
     "data": {
      "text/html": [
       "<pre>recommendations finished on 24000/68614 queries. users per second: 90697.8</pre>"
      ],
      "text/plain": [
       "recommendations finished on 24000/68614 queries. users per second: 90697.8"
      ]
     },
     "metadata": {},
     "output_type": "display_data"
    },
    {
     "data": {
      "text/html": [
       "<pre>recommendations finished on 25000/68614 queries. users per second: 91738.1</pre>"
      ],
      "text/plain": [
       "recommendations finished on 25000/68614 queries. users per second: 91738.1"
      ]
     },
     "metadata": {},
     "output_type": "display_data"
    },
    {
     "data": {
      "text/html": [
       "<pre>recommendations finished on 26000/68614 queries. users per second: 93083.9</pre>"
      ],
      "text/plain": [
       "recommendations finished on 26000/68614 queries. users per second: 93083.9"
      ]
     },
     "metadata": {},
     "output_type": "display_data"
    },
    {
     "data": {
      "text/html": [
       "<pre>recommendations finished on 27000/68614 queries. users per second: 92708.3</pre>"
      ],
      "text/plain": [
       "recommendations finished on 27000/68614 queries. users per second: 92708.3"
      ]
     },
     "metadata": {},
     "output_type": "display_data"
    },
    {
     "data": {
      "text/html": [
       "<pre>recommendations finished on 28000/68614 queries. users per second: 94015.9</pre>"
      ],
      "text/plain": [
       "recommendations finished on 28000/68614 queries. users per second: 94015.9"
      ]
     },
     "metadata": {},
     "output_type": "display_data"
    },
    {
     "data": {
      "text/html": [
       "<pre>recommendations finished on 29000/68614 queries. users per second: 93678.3</pre>"
      ],
      "text/plain": [
       "recommendations finished on 29000/68614 queries. users per second: 93678.3"
      ]
     },
     "metadata": {},
     "output_type": "display_data"
    },
    {
     "data": {
      "text/html": [
       "<pre>recommendations finished on 30000/68614 queries. users per second: 91123.6</pre>"
      ],
      "text/plain": [
       "recommendations finished on 30000/68614 queries. users per second: 91123.6"
      ]
     },
     "metadata": {},
     "output_type": "display_data"
    },
    {
     "data": {
      "text/html": [
       "<pre>recommendations finished on 31000/68614 queries. users per second: 92375.7</pre>"
      ],
      "text/plain": [
       "recommendations finished on 31000/68614 queries. users per second: 92375.7"
      ]
     },
     "metadata": {},
     "output_type": "display_data"
    },
    {
     "data": {
      "text/html": [
       "<pre>recommendations finished on 32000/68614 queries. users per second: 92649.4</pre>"
      ],
      "text/plain": [
       "recommendations finished on 32000/68614 queries. users per second: 92649.4"
      ]
     },
     "metadata": {},
     "output_type": "display_data"
    },
    {
     "data": {
      "text/html": [
       "<pre>recommendations finished on 33000/68614 queries. users per second: 93469.1</pre>"
      ],
      "text/plain": [
       "recommendations finished on 33000/68614 queries. users per second: 93469.1"
      ]
     },
     "metadata": {},
     "output_type": "display_data"
    },
    {
     "data": {
      "text/html": [
       "<pre>recommendations finished on 34000/68614 queries. users per second: 94218.3</pre>"
      ],
      "text/plain": [
       "recommendations finished on 34000/68614 queries. users per second: 94218.3"
      ]
     },
     "metadata": {},
     "output_type": "display_data"
    },
    {
     "data": {
      "text/html": [
       "<pre>recommendations finished on 35000/68614 queries. users per second: 94653.2</pre>"
      ],
      "text/plain": [
       "recommendations finished on 35000/68614 queries. users per second: 94653.2"
      ]
     },
     "metadata": {},
     "output_type": "display_data"
    },
    {
     "data": {
      "text/html": [
       "<pre>recommendations finished on 36000/68614 queries. users per second: 94687</pre>"
      ],
      "text/plain": [
       "recommendations finished on 36000/68614 queries. users per second: 94687"
      ]
     },
     "metadata": {},
     "output_type": "display_data"
    },
    {
     "data": {
      "text/html": [
       "<pre>recommendations finished on 37000/68614 queries. users per second: 94993.1</pre>"
      ],
      "text/plain": [
       "recommendations finished on 37000/68614 queries. users per second: 94993.1"
      ]
     },
     "metadata": {},
     "output_type": "display_data"
    },
    {
     "data": {
      "text/html": [
       "<pre>recommendations finished on 38000/68614 queries. users per second: 95779.4</pre>"
      ],
      "text/plain": [
       "recommendations finished on 38000/68614 queries. users per second: 95779.4"
      ]
     },
     "metadata": {},
     "output_type": "display_data"
    },
    {
     "data": {
      "text/html": [
       "<pre>recommendations finished on 39000/68614 queries. users per second: 96469.5</pre>"
      ],
      "text/plain": [
       "recommendations finished on 39000/68614 queries. users per second: 96469.5"
      ]
     },
     "metadata": {},
     "output_type": "display_data"
    },
    {
     "data": {
      "text/html": [
       "<pre>recommendations finished on 40000/68614 queries. users per second: 97114.3</pre>"
      ],
      "text/plain": [
       "recommendations finished on 40000/68614 queries. users per second: 97114.3"
      ]
     },
     "metadata": {},
     "output_type": "display_data"
    },
    {
     "data": {
      "text/html": [
       "<pre>recommendations finished on 41000/68614 queries. users per second: 98085</pre>"
      ],
      "text/plain": [
       "recommendations finished on 41000/68614 queries. users per second: 98085"
      ]
     },
     "metadata": {},
     "output_type": "display_data"
    },
    {
     "data": {
      "text/html": [
       "<pre>recommendations finished on 42000/68614 queries. users per second: 99223.5</pre>"
      ],
      "text/plain": [
       "recommendations finished on 42000/68614 queries. users per second: 99223.5"
      ]
     },
     "metadata": {},
     "output_type": "display_data"
    },
    {
     "data": {
      "text/html": [
       "<pre>recommendations finished on 43000/68614 queries. users per second: 100001</pre>"
      ],
      "text/plain": [
       "recommendations finished on 43000/68614 queries. users per second: 100001"
      ]
     },
     "metadata": {},
     "output_type": "display_data"
    },
    {
     "data": {
      "text/html": [
       "<pre>recommendations finished on 44000/68614 queries. users per second: 100692</pre>"
      ],
      "text/plain": [
       "recommendations finished on 44000/68614 queries. users per second: 100692"
      ]
     },
     "metadata": {},
     "output_type": "display_data"
    },
    {
     "data": {
      "text/html": [
       "<pre>recommendations finished on 45000/68614 queries. users per second: 101375</pre>"
      ],
      "text/plain": [
       "recommendations finished on 45000/68614 queries. users per second: 101375"
      ]
     },
     "metadata": {},
     "output_type": "display_data"
    },
    {
     "data": {
      "text/html": [
       "<pre>recommendations finished on 46000/68614 queries. users per second: 101934</pre>"
      ],
      "text/plain": [
       "recommendations finished on 46000/68614 queries. users per second: 101934"
      ]
     },
     "metadata": {},
     "output_type": "display_data"
    },
    {
     "data": {
      "text/html": [
       "<pre>recommendations finished on 47000/68614 queries. users per second: 100770</pre>"
      ],
      "text/plain": [
       "recommendations finished on 47000/68614 queries. users per second: 100770"
      ]
     },
     "metadata": {},
     "output_type": "display_data"
    },
    {
     "data": {
      "text/html": [
       "<pre>recommendations finished on 48000/68614 queries. users per second: 98953.8</pre>"
      ],
      "text/plain": [
       "recommendations finished on 48000/68614 queries. users per second: 98953.8"
      ]
     },
     "metadata": {},
     "output_type": "display_data"
    },
    {
     "data": {
      "text/html": [
       "<pre>recommendations finished on 49000/68614 queries. users per second: 98367.5</pre>"
      ],
      "text/plain": [
       "recommendations finished on 49000/68614 queries. users per second: 98367.5"
      ]
     },
     "metadata": {},
     "output_type": "display_data"
    },
    {
     "data": {
      "text/html": [
       "<pre>recommendations finished on 50000/68614 queries. users per second: 98340.2</pre>"
      ],
      "text/plain": [
       "recommendations finished on 50000/68614 queries. users per second: 98340.2"
      ]
     },
     "metadata": {},
     "output_type": "display_data"
    },
    {
     "data": {
      "text/html": [
       "<pre>recommendations finished on 51000/68614 queries. users per second: 97498.7</pre>"
      ],
      "text/plain": [
       "recommendations finished on 51000/68614 queries. users per second: 97498.7"
      ]
     },
     "metadata": {},
     "output_type": "display_data"
    },
    {
     "data": {
      "text/html": [
       "<pre>recommendations finished on 52000/68614 queries. users per second: 96038.8</pre>"
      ],
      "text/plain": [
       "recommendations finished on 52000/68614 queries. users per second: 96038.8"
      ]
     },
     "metadata": {},
     "output_type": "display_data"
    },
    {
     "data": {
      "text/html": [
       "<pre>recommendations finished on 53000/68614 queries. users per second: 96591.8</pre>"
      ],
      "text/plain": [
       "recommendations finished on 53000/68614 queries. users per second: 96591.8"
      ]
     },
     "metadata": {},
     "output_type": "display_data"
    },
    {
     "data": {
      "text/html": [
       "<pre>recommendations finished on 54000/68614 queries. users per second: 96927.9</pre>"
      ],
      "text/plain": [
       "recommendations finished on 54000/68614 queries. users per second: 96927.9"
      ]
     },
     "metadata": {},
     "output_type": "display_data"
    },
    {
     "data": {
      "text/html": [
       "<pre>recommendations finished on 55000/68614 queries. users per second: 97098.3</pre>"
      ],
      "text/plain": [
       "recommendations finished on 55000/68614 queries. users per second: 97098.3"
      ]
     },
     "metadata": {},
     "output_type": "display_data"
    },
    {
     "data": {
      "text/html": [
       "<pre>recommendations finished on 56000/68614 queries. users per second: 96416.9</pre>"
      ],
      "text/plain": [
       "recommendations finished on 56000/68614 queries. users per second: 96416.9"
      ]
     },
     "metadata": {},
     "output_type": "display_data"
    },
    {
     "data": {
      "text/html": [
       "<pre>recommendations finished on 57000/68614 queries. users per second: 96234.4</pre>"
      ],
      "text/plain": [
       "recommendations finished on 57000/68614 queries. users per second: 96234.4"
      ]
     },
     "metadata": {},
     "output_type": "display_data"
    },
    {
     "data": {
      "text/html": [
       "<pre>recommendations finished on 58000/68614 queries. users per second: 95084.9</pre>"
      ],
      "text/plain": [
       "recommendations finished on 58000/68614 queries. users per second: 95084.9"
      ]
     },
     "metadata": {},
     "output_type": "display_data"
    },
    {
     "data": {
      "text/html": [
       "<pre>recommendations finished on 59000/68614 queries. users per second: 94966.5</pre>"
      ],
      "text/plain": [
       "recommendations finished on 59000/68614 queries. users per second: 94966.5"
      ]
     },
     "metadata": {},
     "output_type": "display_data"
    },
    {
     "data": {
      "text/html": [
       "<pre>recommendations finished on 60000/68614 queries. users per second: 94696.4</pre>"
      ],
      "text/plain": [
       "recommendations finished on 60000/68614 queries. users per second: 94696.4"
      ]
     },
     "metadata": {},
     "output_type": "display_data"
    },
    {
     "data": {
      "text/html": [
       "<pre>recommendations finished on 61000/68614 queries. users per second: 94760.5</pre>"
      ],
      "text/plain": [
       "recommendations finished on 61000/68614 queries. users per second: 94760.5"
      ]
     },
     "metadata": {},
     "output_type": "display_data"
    },
    {
     "data": {
      "text/html": [
       "<pre>recommendations finished on 62000/68614 queries. users per second: 95390.5</pre>"
      ],
      "text/plain": [
       "recommendations finished on 62000/68614 queries. users per second: 95390.5"
      ]
     },
     "metadata": {},
     "output_type": "display_data"
    },
    {
     "data": {
      "text/html": [
       "<pre>recommendations finished on 63000/68614 queries. users per second: 95894.8</pre>"
      ],
      "text/plain": [
       "recommendations finished on 63000/68614 queries. users per second: 95894.8"
      ]
     },
     "metadata": {},
     "output_type": "display_data"
    },
    {
     "data": {
      "text/html": [
       "<pre>recommendations finished on 64000/68614 queries. users per second: 96335.1</pre>"
      ],
      "text/plain": [
       "recommendations finished on 64000/68614 queries. users per second: 96335.1"
      ]
     },
     "metadata": {},
     "output_type": "display_data"
    },
    {
     "data": {
      "text/html": [
       "<pre>recommendations finished on 65000/68614 queries. users per second: 96405.8</pre>"
      ],
      "text/plain": [
       "recommendations finished on 65000/68614 queries. users per second: 96405.8"
      ]
     },
     "metadata": {},
     "output_type": "display_data"
    },
    {
     "data": {
      "text/html": [
       "<pre>recommendations finished on 66000/68614 queries. users per second: 96656.4</pre>"
      ],
      "text/plain": [
       "recommendations finished on 66000/68614 queries. users per second: 96656.4"
      ]
     },
     "metadata": {},
     "output_type": "display_data"
    },
    {
     "data": {
      "text/html": [
       "<pre>recommendations finished on 67000/68614 queries. users per second: 96732</pre>"
      ],
      "text/plain": [
       "recommendations finished on 67000/68614 queries. users per second: 96732"
      ]
     },
     "metadata": {},
     "output_type": "display_data"
    },
    {
     "data": {
      "text/html": [
       "<pre>recommendations finished on 68000/68614 queries. users per second: 96588.9</pre>"
      ],
      "text/plain": [
       "recommendations finished on 68000/68614 queries. users per second: 96588.9"
      ]
     },
     "metadata": {},
     "output_type": "display_data"
    },
    {
     "name": "stdout",
     "output_type": "stream",
     "text": [
      "+--------+----------+---------------------+------+\n",
      "| custno | prodcat2 |        score        | rank |\n",
      "+--------+----------+---------------------+------+\n",
      "| 67913  |   189    |         0.5         |  1   |\n",
      "| 67913  |   192    |         0.5         |  2   |\n",
      "| 67913  |   237    | 0.33333333333333337 |  3   |\n",
      "| 67913  |   142    | 0.33333333333333337 |  4   |\n",
      "| 67913  |   236    |         0.3         |  5   |\n",
      "| 67913  |   232    | 0.28571428571428575 |  6   |\n",
      "| 67913  |   229    |         0.25        |  7   |\n",
      "| 67913  |   235    | 0.23933010339736943 |  8   |\n",
      "| 67913  |   240    |         0.2         |  9   |\n",
      "| 67913  |   218    |         0.2         |  10  |\n",
      "| 67913  |   117    | 0.16666666666666669 |  11  |\n",
      "| 67913  |   222    | 0.16666666666666669 |  12  |\n",
      "| 67913  |   143    | 0.16666666666666669 |  13  |\n",
      "| 67913  |   212    | 0.14285714285714288 |  14  |\n",
      "| 67913  |    88    |  0.1388888888888889 |  15  |\n",
      "| 10880  |   189    |         0.5         |  1   |\n",
      "| 10880  |   192    |         0.5         |  2   |\n",
      "| 10880  |   142    | 0.33333333333333337 |  3   |\n",
      "| 10880  |   237    | 0.33333333333333337 |  4   |\n",
      "| 10880  |   236    |         0.3         |  5   |\n",
      "+--------+----------+---------------------+------+\n",
      "[1029210 rows x 4 columns]\n",
      "\n"
     ]
    }
   ],
   "source": [
    "name = 'pearson'\n",
    "target = 'prodcat2_scaled_count'\n",
    "pear_norm = model(train_norm, name, user_id, item_id, target, users_to_recommend, n_rec, n_display)"
   ]
  },
  {
   "cell_type": "markdown",
   "metadata": {},
   "source": [
    "# Model Evaluation"
   ]
  },
  {
   "cell_type": "code",
   "execution_count": 245,
   "metadata": {
    "scrolled": true
   },
   "outputs": [
    {
     "name": "stdout",
     "output_type": "stream",
     "text": [
      "PROGRESS: Evaluate model Popularity Model on Purchase Counts\n"
     ]
    },
    {
     "data": {
      "text/html": [
       "<pre>recommendations finished on 1000/14649 queries. users per second: 34922.3</pre>"
      ],
      "text/plain": [
       "recommendations finished on 1000/14649 queries. users per second: 34922.3"
      ]
     },
     "metadata": {},
     "output_type": "display_data"
    },
    {
     "data": {
      "text/html": [
       "<pre>recommendations finished on 2000/14649 queries. users per second: 53875</pre>"
      ],
      "text/plain": [
       "recommendations finished on 2000/14649 queries. users per second: 53875"
      ]
     },
     "metadata": {},
     "output_type": "display_data"
    },
    {
     "data": {
      "text/html": [
       "<pre>recommendations finished on 3000/14649 queries. users per second: 62339</pre>"
      ],
      "text/plain": [
       "recommendations finished on 3000/14649 queries. users per second: 62339"
      ]
     },
     "metadata": {},
     "output_type": "display_data"
    },
    {
     "data": {
      "text/html": [
       "<pre>recommendations finished on 4000/14649 queries. users per second: 69601.5</pre>"
      ],
      "text/plain": [
       "recommendations finished on 4000/14649 queries. users per second: 69601.5"
      ]
     },
     "metadata": {},
     "output_type": "display_data"
    },
    {
     "data": {
      "text/html": [
       "<pre>recommendations finished on 5000/14649 queries. users per second: 73499.1</pre>"
      ],
      "text/plain": [
       "recommendations finished on 5000/14649 queries. users per second: 73499.1"
      ]
     },
     "metadata": {},
     "output_type": "display_data"
    },
    {
     "data": {
      "text/html": [
       "<pre>recommendations finished on 6000/14649 queries. users per second: 68563.6</pre>"
      ],
      "text/plain": [
       "recommendations finished on 6000/14649 queries. users per second: 68563.6"
      ]
     },
     "metadata": {},
     "output_type": "display_data"
    },
    {
     "data": {
      "text/html": [
       "<pre>recommendations finished on 7000/14649 queries. users per second: 64494.1</pre>"
      ],
      "text/plain": [
       "recommendations finished on 7000/14649 queries. users per second: 64494.1"
      ]
     },
     "metadata": {},
     "output_type": "display_data"
    },
    {
     "data": {
      "text/html": [
       "<pre>recommendations finished on 8000/14649 queries. users per second: 67942.3</pre>"
      ],
      "text/plain": [
       "recommendations finished on 8000/14649 queries. users per second: 67942.3"
      ]
     },
     "metadata": {},
     "output_type": "display_data"
    },
    {
     "data": {
      "text/html": [
       "<pre>recommendations finished on 9000/14649 queries. users per second: 69944.2</pre>"
      ],
      "text/plain": [
       "recommendations finished on 9000/14649 queries. users per second: 69944.2"
      ]
     },
     "metadata": {},
     "output_type": "display_data"
    },
    {
     "data": {
      "text/html": [
       "<pre>recommendations finished on 10000/14649 queries. users per second: 68060.5</pre>"
      ],
      "text/plain": [
       "recommendations finished on 10000/14649 queries. users per second: 68060.5"
      ]
     },
     "metadata": {},
     "output_type": "display_data"
    },
    {
     "data": {
      "text/html": [
       "<pre>recommendations finished on 11000/14649 queries. users per second: 67774.1</pre>"
      ],
      "text/plain": [
       "recommendations finished on 11000/14649 queries. users per second: 67774.1"
      ]
     },
     "metadata": {},
     "output_type": "display_data"
    },
    {
     "data": {
      "text/html": [
       "<pre>recommendations finished on 12000/14649 queries. users per second: 63288.5</pre>"
      ],
      "text/plain": [
       "recommendations finished on 12000/14649 queries. users per second: 63288.5"
      ]
     },
     "metadata": {},
     "output_type": "display_data"
    },
    {
     "data": {
      "text/html": [
       "<pre>recommendations finished on 13000/14649 queries. users per second: 59563.6</pre>"
      ],
      "text/plain": [
       "recommendations finished on 13000/14649 queries. users per second: 59563.6"
      ]
     },
     "metadata": {},
     "output_type": "display_data"
    },
    {
     "data": {
      "text/html": [
       "<pre>recommendations finished on 14000/14649 queries. users per second: 60844.2</pre>"
      ],
      "text/plain": [
       "recommendations finished on 14000/14649 queries. users per second: 60844.2"
      ]
     },
     "metadata": {},
     "output_type": "display_data"
    },
    {
     "name": "stdout",
     "output_type": "stream",
     "text": [
      "\n",
      "Precision and recall summary statistics by cutoff\n",
      "+--------+------------------------+-----------------------+\n",
      "| cutoff |     mean_precision     |      mean_recall      |\n",
      "+--------+------------------------+-----------------------+\n",
      "|   1    | 0.0002730561813093036  | 0.0001706601133183154 |\n",
      "|   2    | 0.00017066011331831501 | 0.0001843129223837804 |\n",
      "|   3    | 0.00015928277243042684 | 0.0002623289741864385 |\n",
      "|   4    |  0.005512321660181568  |  0.012250608441474665 |\n",
      "|   5    |  0.00985732814526584   |  0.03228816450196747  |\n",
      "|   6    |  0.01704325665005573   |  0.07633562101614556  |\n",
      "|   7    |  0.020050125313283148  |  0.10653937293810303  |\n",
      "|   8    |  0.03577035975151858   |  0.23786008421990462  |\n",
      "|   9    |  0.03363141966459607   |   0.2510261327177151  |\n",
      "|   10   |   0.0315584681548228   |  0.26110938234632824  |\n",
      "+--------+------------------------+-----------------------+\n",
      "[10 rows x 3 columns]\n",
      "\n",
      "\n",
      "Overall RMSE: 1.9310859399982263\n",
      "\n",
      "Per User RMSE (best)\n",
      "+--------+------+-------+\n",
      "| custno | rmse | count |\n",
      "+--------+------+-------+\n",
      "| 19438  | 0.0  |   1   |\n",
      "+--------+------+-------+\n",
      "[1 rows x 3 columns]\n",
      "\n",
      "\n",
      "Per User RMSE (worst)\n",
      "+--------+-------------------+-------+\n",
      "| custno |        rmse       | count |\n",
      "+--------+-------------------+-------+\n",
      "|  7120  | 64.48054474708171 |   1   |\n",
      "+--------+-------------------+-------+\n",
      "[1 rows x 3 columns]\n",
      "\n",
      "\n",
      "Per Item RMSE (best)\n",
      "+----------+------+-------+\n",
      "| prodcat2 | rmse | count |\n",
      "+----------+------+-------+\n",
      "|   219    | 0.0  |   3   |\n",
      "+----------+------+-------+\n",
      "[1 rows x 3 columns]\n",
      "\n",
      "\n",
      "Per Item RMSE (worst)\n",
      "+----------+-------------------+-------+\n",
      "| prodcat2 |        rmse       | count |\n",
      "+----------+-------------------+-------+\n",
      "|   213    | 8.453992668544736 |   59  |\n",
      "+----------+-------------------+-------+\n",
      "[1 rows x 3 columns]\n",
      "\n",
      "PROGRESS: Evaluate model Cosine Similarity on Purchase Counts\n"
     ]
    },
    {
     "data": {
      "text/html": [
       "<pre>recommendations finished on 1000/14649 queries. users per second: 23092</pre>"
      ],
      "text/plain": [
       "recommendations finished on 1000/14649 queries. users per second: 23092"
      ]
     },
     "metadata": {},
     "output_type": "display_data"
    },
    {
     "data": {
      "text/html": [
       "<pre>recommendations finished on 2000/14649 queries. users per second: 28481.9</pre>"
      ],
      "text/plain": [
       "recommendations finished on 2000/14649 queries. users per second: 28481.9"
      ]
     },
     "metadata": {},
     "output_type": "display_data"
    },
    {
     "data": {
      "text/html": [
       "<pre>recommendations finished on 3000/14649 queries. users per second: 32353.7</pre>"
      ],
      "text/plain": [
       "recommendations finished on 3000/14649 queries. users per second: 32353.7"
      ]
     },
     "metadata": {},
     "output_type": "display_data"
    },
    {
     "data": {
      "text/html": [
       "<pre>recommendations finished on 4000/14649 queries. users per second: 36964.8</pre>"
      ],
      "text/plain": [
       "recommendations finished on 4000/14649 queries. users per second: 36964.8"
      ]
     },
     "metadata": {},
     "output_type": "display_data"
    },
    {
     "data": {
      "text/html": [
       "<pre>recommendations finished on 5000/14649 queries. users per second: 37244.2</pre>"
      ],
      "text/plain": [
       "recommendations finished on 5000/14649 queries. users per second: 37244.2"
      ]
     },
     "metadata": {},
     "output_type": "display_data"
    },
    {
     "data": {
      "text/html": [
       "<pre>recommendations finished on 6000/14649 queries. users per second: 35470.4</pre>"
      ],
      "text/plain": [
       "recommendations finished on 6000/14649 queries. users per second: 35470.4"
      ]
     },
     "metadata": {},
     "output_type": "display_data"
    },
    {
     "data": {
      "text/html": [
       "<pre>recommendations finished on 7000/14649 queries. users per second: 37288.6</pre>"
      ],
      "text/plain": [
       "recommendations finished on 7000/14649 queries. users per second: 37288.6"
      ]
     },
     "metadata": {},
     "output_type": "display_data"
    },
    {
     "data": {
      "text/html": [
       "<pre>recommendations finished on 8000/14649 queries. users per second: 39562.2</pre>"
      ],
      "text/plain": [
       "recommendations finished on 8000/14649 queries. users per second: 39562.2"
      ]
     },
     "metadata": {},
     "output_type": "display_data"
    },
    {
     "data": {
      "text/html": [
       "<pre>recommendations finished on 9000/14649 queries. users per second: 39025.7</pre>"
      ],
      "text/plain": [
       "recommendations finished on 9000/14649 queries. users per second: 39025.7"
      ]
     },
     "metadata": {},
     "output_type": "display_data"
    },
    {
     "data": {
      "text/html": [
       "<pre>recommendations finished on 10000/14649 queries. users per second: 38349.3</pre>"
      ],
      "text/plain": [
       "recommendations finished on 10000/14649 queries. users per second: 38349.3"
      ]
     },
     "metadata": {},
     "output_type": "display_data"
    },
    {
     "data": {
      "text/html": [
       "<pre>recommendations finished on 11000/14649 queries. users per second: 39034.5</pre>"
      ],
      "text/plain": [
       "recommendations finished on 11000/14649 queries. users per second: 39034.5"
      ]
     },
     "metadata": {},
     "output_type": "display_data"
    },
    {
     "data": {
      "text/html": [
       "<pre>recommendations finished on 12000/14649 queries. users per second: 38725.7</pre>"
      ],
      "text/plain": [
       "recommendations finished on 12000/14649 queries. users per second: 38725.7"
      ]
     },
     "metadata": {},
     "output_type": "display_data"
    },
    {
     "data": {
      "text/html": [
       "<pre>recommendations finished on 13000/14649 queries. users per second: 40068.2</pre>"
      ],
      "text/plain": [
       "recommendations finished on 13000/14649 queries. users per second: 40068.2"
      ]
     },
     "metadata": {},
     "output_type": "display_data"
    },
    {
     "data": {
      "text/html": [
       "<pre>recommendations finished on 14000/14649 queries. users per second: 41175.5</pre>"
      ],
      "text/plain": [
       "recommendations finished on 14000/14649 queries. users per second: 41175.5"
      ]
     },
     "metadata": {},
     "output_type": "display_data"
    },
    {
     "name": "stdout",
     "output_type": "stream",
     "text": [
      "\n",
      "Precision and recall summary statistics by cutoff\n",
      "+--------+---------------------+---------------------+\n",
      "| cutoff |    mean_precision   |     mean_recall     |\n",
      "+--------+---------------------+---------------------+\n",
      "|   1    | 0.31462898491364694 | 0.27885925066961176 |\n",
      "|   2    | 0.23807085807905023 |  0.4180920086050129 |\n",
      "|   3    |  0.1778050833959094 | 0.46193372733409566 |\n",
      "|   4    | 0.14613625503447264 |  0.5012099605024034 |\n",
      "|   5    | 0.12542835688442963 |  0.5349282296650706 |\n",
      "|   6    |  0.1101212824538651 |  0.5612333731983543 |\n",
      "|   7    | 0.09831972928430015 |  0.5825063459458301 |\n",
      "|   8    | 0.08963922452044526 |  0.6047328753042477 |\n",
      "|   9    | 0.08221266525587648 |  0.6214860393131916 |\n",
      "|   10   | 0.07753430268277714 |  0.6511761313829754 |\n",
      "+--------+---------------------+---------------------+\n",
      "[10 rows x 3 columns]\n",
      "\n",
      "\n",
      "Overall RMSE: 2.0898145051448216\n",
      "\n",
      "Per User RMSE (best)\n",
      "+--------+-----------------------+-------+\n",
      "| custno |          rmse         | count |\n",
      "+--------+-----------------------+-------+\n",
      "|  544   | 0.0010455080441066356 |   1   |\n",
      "+--------+-----------------------+-------+\n",
      "[1 rows x 3 columns]\n",
      "\n",
      "\n",
      "Per User RMSE (worst)\n",
      "+--------+-------------------+-------+\n",
      "| custno |        rmse       | count |\n",
      "+--------+-------------------+-------+\n",
      "|  2735  | 64.26881189644337 |   1   |\n",
      "+--------+-------------------+-------+\n",
      "[1 rows x 3 columns]\n",
      "\n",
      "\n",
      "Per Item RMSE (best)\n",
      "+----------+---------------------+-------+\n",
      "| prodcat2 |         rmse        | count |\n",
      "+----------+---------------------+-------+\n",
      "|   186    | 0.47646344906075844 |   2   |\n",
      "+----------+---------------------+-------+\n",
      "[1 rows x 3 columns]\n",
      "\n",
      "\n",
      "Per Item RMSE (worst)\n",
      "+----------+-------------------+-------+\n",
      "| prodcat2 |        rmse       | count |\n",
      "+----------+-------------------+-------+\n",
      "|   213    | 7.822247125743723 |   59  |\n",
      "+----------+-------------------+-------+\n",
      "[1 rows x 3 columns]\n",
      "\n",
      "PROGRESS: Evaluate model Pearson Similarity on Purchase Counts\n"
     ]
    },
    {
     "data": {
      "text/html": [
       "<pre>recommendations finished on 1000/14649 queries. users per second: 31871.5</pre>"
      ],
      "text/plain": [
       "recommendations finished on 1000/14649 queries. users per second: 31871.5"
      ]
     },
     "metadata": {},
     "output_type": "display_data"
    },
    {
     "data": {
      "text/html": [
       "<pre>recommendations finished on 2000/14649 queries. users per second: 40131.6</pre>"
      ],
      "text/plain": [
       "recommendations finished on 2000/14649 queries. users per second: 40131.6"
      ]
     },
     "metadata": {},
     "output_type": "display_data"
    },
    {
     "data": {
      "text/html": [
       "<pre>recommendations finished on 3000/14649 queries. users per second: 44401.7</pre>"
      ],
      "text/plain": [
       "recommendations finished on 3000/14649 queries. users per second: 44401.7"
      ]
     },
     "metadata": {},
     "output_type": "display_data"
    },
    {
     "data": {
      "text/html": [
       "<pre>recommendations finished on 4000/14649 queries. users per second: 42442.6</pre>"
      ],
      "text/plain": [
       "recommendations finished on 4000/14649 queries. users per second: 42442.6"
      ]
     },
     "metadata": {},
     "output_type": "display_data"
    },
    {
     "data": {
      "text/html": [
       "<pre>recommendations finished on 5000/14649 queries. users per second: 41159</pre>"
      ],
      "text/plain": [
       "recommendations finished on 5000/14649 queries. users per second: 41159"
      ]
     },
     "metadata": {},
     "output_type": "display_data"
    },
    {
     "data": {
      "text/html": [
       "<pre>recommendations finished on 6000/14649 queries. users per second: 36973.4</pre>"
      ],
      "text/plain": [
       "recommendations finished on 6000/14649 queries. users per second: 36973.4"
      ]
     },
     "metadata": {},
     "output_type": "display_data"
    },
    {
     "data": {
      "text/html": [
       "<pre>recommendations finished on 7000/14649 queries. users per second: 34959.8</pre>"
      ],
      "text/plain": [
       "recommendations finished on 7000/14649 queries. users per second: 34959.8"
      ]
     },
     "metadata": {},
     "output_type": "display_data"
    },
    {
     "data": {
      "text/html": [
       "<pre>recommendations finished on 8000/14649 queries. users per second: 35226</pre>"
      ],
      "text/plain": [
       "recommendations finished on 8000/14649 queries. users per second: 35226"
      ]
     },
     "metadata": {},
     "output_type": "display_data"
    },
    {
     "data": {
      "text/html": [
       "<pre>recommendations finished on 9000/14649 queries. users per second: 35750</pre>"
      ],
      "text/plain": [
       "recommendations finished on 9000/14649 queries. users per second: 35750"
      ]
     },
     "metadata": {},
     "output_type": "display_data"
    },
    {
     "data": {
      "text/html": [
       "<pre>recommendations finished on 10000/14649 queries. users per second: 36565.9</pre>"
      ],
      "text/plain": [
       "recommendations finished on 10000/14649 queries. users per second: 36565.9"
      ]
     },
     "metadata": {},
     "output_type": "display_data"
    },
    {
     "data": {
      "text/html": [
       "<pre>recommendations finished on 11000/14649 queries. users per second: 36996.1</pre>"
      ],
      "text/plain": [
       "recommendations finished on 11000/14649 queries. users per second: 36996.1"
      ]
     },
     "metadata": {},
     "output_type": "display_data"
    },
    {
     "data": {
      "text/html": [
       "<pre>recommendations finished on 12000/14649 queries. users per second: 35173.7</pre>"
      ],
      "text/plain": [
       "recommendations finished on 12000/14649 queries. users per second: 35173.7"
      ]
     },
     "metadata": {},
     "output_type": "display_data"
    },
    {
     "data": {
      "text/html": [
       "<pre>recommendations finished on 13000/14649 queries. users per second: 36033.5</pre>"
      ],
      "text/plain": [
       "recommendations finished on 13000/14649 queries. users per second: 36033.5"
      ]
     },
     "metadata": {},
     "output_type": "display_data"
    },
    {
     "data": {
      "text/html": [
       "<pre>recommendations finished on 14000/14649 queries. users per second: 36655.6</pre>"
      ],
      "text/plain": [
       "recommendations finished on 14000/14649 queries. users per second: 36655.6"
      ]
     },
     "metadata": {},
     "output_type": "display_data"
    },
    {
     "name": "stdout",
     "output_type": "stream",
     "text": [
      "\n",
      "Precision and recall summary statistics by cutoff\n",
      "+--------+-----------------------+-----------------------+\n",
      "| cutoff |     mean_precision    |      mean_recall      |\n",
      "+--------+-----------------------+-----------------------+\n",
      "|   1    | 0.0015018089972011807 | 0.0010637813730174966 |\n",
      "|   2    | 0.0009556966345825721 | 0.0012310282840694562 |\n",
      "|   3    | 0.0015245636789769455 | 0.0027601724509363364 |\n",
      "|   4    |  0.007594375042665036 |  0.017099173079103473 |\n",
      "|   5    |  0.012751723667144542 |  0.038970867308979106 |\n",
      "|   6    |  0.015848635856827355 |  0.06038370254528341  |\n",
      "|   7    |  0.01800220395346343  |  0.08239739436237499  |\n",
      "|   8    |  0.021921291555737552 |  0.12169492187411526  |\n",
      "|   9    |  0.027927579432801615 |  0.18980393738739026  |\n",
      "|   10   |  0.02721687487200494  |   0.2048393642598025  |\n",
      "+--------+-----------------------+-----------------------+\n",
      "[10 rows x 3 columns]\n",
      "\n",
      "\n",
      "Overall RMSE: 1.8235564925134924\n",
      "\n",
      "Per User RMSE (best)\n",
      "+--------+------+-------+\n",
      "| custno | rmse | count |\n",
      "+--------+------+-------+\n",
      "| 19438  | 0.0  |   1   |\n",
      "+--------+------+-------+\n",
      "[1 rows x 3 columns]\n",
      "\n",
      "\n",
      "Per User RMSE (worst)\n",
      "+--------+-------------------+-------+\n",
      "| custno |        rmse       | count |\n",
      "+--------+-------------------+-------+\n",
      "|  2735  | 63.05496524546457 |   1   |\n",
      "+--------+-------------------+-------+\n",
      "[1 rows x 3 columns]\n",
      "\n",
      "\n",
      "Per Item RMSE (best)\n",
      "+----------+------+-------+\n",
      "| prodcat2 | rmse | count |\n",
      "+----------+------+-------+\n",
      "|   219    | 0.0  |   3   |\n",
      "+----------+------+-------+\n",
      "[1 rows x 3 columns]\n",
      "\n",
      "\n",
      "Per Item RMSE (worst)\n",
      "+----------+------------------+-------+\n",
      "| prodcat2 |       rmse       | count |\n",
      "+----------+------------------+-------+\n",
      "|   213    | 7.20871896746153 |   59  |\n",
      "+----------+------------------+-------+\n",
      "[1 rows x 3 columns]\n",
      "\n",
      "PROGRESS: Evaluate model Popularity Model on Purchase Dummy\n"
     ]
    },
    {
     "data": {
      "text/html": [
       "<pre>recommendations finished on 1000/14742 queries. users per second: 30792</pre>"
      ],
      "text/plain": [
       "recommendations finished on 1000/14742 queries. users per second: 30792"
      ]
     },
     "metadata": {},
     "output_type": "display_data"
    },
    {
     "data": {
      "text/html": [
       "<pre>recommendations finished on 2000/14742 queries. users per second: 46676.6</pre>"
      ],
      "text/plain": [
       "recommendations finished on 2000/14742 queries. users per second: 46676.6"
      ]
     },
     "metadata": {},
     "output_type": "display_data"
    },
    {
     "data": {
      "text/html": [
       "<pre>recommendations finished on 3000/14742 queries. users per second: 57495.5</pre>"
      ],
      "text/plain": [
       "recommendations finished on 3000/14742 queries. users per second: 57495.5"
      ]
     },
     "metadata": {},
     "output_type": "display_data"
    },
    {
     "data": {
      "text/html": [
       "<pre>recommendations finished on 4000/14742 queries. users per second: 64529.7</pre>"
      ],
      "text/plain": [
       "recommendations finished on 4000/14742 queries. users per second: 64529.7"
      ]
     },
     "metadata": {},
     "output_type": "display_data"
    },
    {
     "data": {
      "text/html": [
       "<pre>recommendations finished on 5000/14742 queries. users per second: 67779.1</pre>"
      ],
      "text/plain": [
       "recommendations finished on 5000/14742 queries. users per second: 67779.1"
      ]
     },
     "metadata": {},
     "output_type": "display_data"
    },
    {
     "data": {
      "text/html": [
       "<pre>recommendations finished on 6000/14742 queries. users per second: 73617.8</pre>"
      ],
      "text/plain": [
       "recommendations finished on 6000/14742 queries. users per second: 73617.8"
      ]
     },
     "metadata": {},
     "output_type": "display_data"
    },
    {
     "data": {
      "text/html": [
       "<pre>recommendations finished on 7000/14742 queries. users per second: 70801.5</pre>"
      ],
      "text/plain": [
       "recommendations finished on 7000/14742 queries. users per second: 70801.5"
      ]
     },
     "metadata": {},
     "output_type": "display_data"
    },
    {
     "data": {
      "text/html": [
       "<pre>recommendations finished on 8000/14742 queries. users per second: 74312.1</pre>"
      ],
      "text/plain": [
       "recommendations finished on 8000/14742 queries. users per second: 74312.1"
      ]
     },
     "metadata": {},
     "output_type": "display_data"
    },
    {
     "data": {
      "text/html": [
       "<pre>recommendations finished on 9000/14742 queries. users per second: 76137.6</pre>"
      ],
      "text/plain": [
       "recommendations finished on 9000/14742 queries. users per second: 76137.6"
      ]
     },
     "metadata": {},
     "output_type": "display_data"
    },
    {
     "data": {
      "text/html": [
       "<pre>recommendations finished on 10000/14742 queries. users per second: 76939.6</pre>"
      ],
      "text/plain": [
       "recommendations finished on 10000/14742 queries. users per second: 76939.6"
      ]
     },
     "metadata": {},
     "output_type": "display_data"
    },
    {
     "data": {
      "text/html": [
       "<pre>recommendations finished on 11000/14742 queries. users per second: 79029.2</pre>"
      ],
      "text/plain": [
       "recommendations finished on 11000/14742 queries. users per second: 79029.2"
      ]
     },
     "metadata": {},
     "output_type": "display_data"
    },
    {
     "data": {
      "text/html": [
       "<pre>recommendations finished on 12000/14742 queries. users per second: 79593.5</pre>"
      ],
      "text/plain": [
       "recommendations finished on 12000/14742 queries. users per second: 79593.5"
      ]
     },
     "metadata": {},
     "output_type": "display_data"
    },
    {
     "data": {
      "text/html": [
       "<pre>recommendations finished on 13000/14742 queries. users per second: 72881.4</pre>"
      ],
      "text/plain": [
       "recommendations finished on 13000/14742 queries. users per second: 72881.4"
      ]
     },
     "metadata": {},
     "output_type": "display_data"
    },
    {
     "data": {
      "text/html": [
       "<pre>recommendations finished on 14000/14742 queries. users per second: 67643.6</pre>"
      ],
      "text/plain": [
       "recommendations finished on 14000/14742 queries. users per second: 67643.6"
      ]
     },
     "metadata": {},
     "output_type": "display_data"
    },
    {
     "name": "stdout",
     "output_type": "stream",
     "text": [
      "\n",
      "Precision and recall summary statistics by cutoff\n",
      "+--------+----------------------+-----------------------+\n",
      "| cutoff |    mean_precision    |      mean_recall      |\n",
      "+--------+----------------------+-----------------------+\n",
      "|   1    | 0.002984669651336319 | 0.0020548675310580085 |\n",
      "|   2    | 0.04490571157237839  |   0.0701234783245366  |\n",
      "|   3    |  0.0935648713426494  |  0.24039285229761517  |\n",
      "|   4    | 0.07890720390720385  |   0.2661663953330625  |\n",
      "|   5    | 0.06914936914936957  |   0.2902589351663431  |\n",
      "|   6    | 0.06943879166101379  |   0.3531361104112421  |\n",
      "|   7    | 0.06563366087175654  |   0.387578708279766   |\n",
      "|   8    | 0.05967643467643458  |  0.40064990858641847  |\n",
      "|   9    | 0.05535959239662923  |   0.4151536857224688  |\n",
      "|   10   | 0.05583367250033917  |   0.4660742280451278  |\n",
      "+--------+----------------------+-----------------------+\n",
      "[10 rows x 3 columns]\n",
      "\n",
      "\n",
      "Overall RMSE: 0.0\n",
      "\n",
      "Per User RMSE (best)\n",
      "+--------+------+-------+\n",
      "| custno | rmse | count |\n",
      "+--------+------+-------+\n",
      "| 19555  | 0.0  |   1   |\n",
      "+--------+------+-------+\n",
      "[1 rows x 3 columns]\n",
      "\n",
      "\n",
      "Per User RMSE (worst)\n",
      "+--------+------+-------+\n",
      "| custno | rmse | count |\n",
      "+--------+------+-------+\n",
      "| 18653  | 0.0  |   1   |\n",
      "+--------+------+-------+\n",
      "[1 rows x 3 columns]\n",
      "\n",
      "\n",
      "Per Item RMSE (best)\n",
      "+----------+------+-------+\n",
      "| prodcat2 | rmse | count |\n",
      "+----------+------+-------+\n",
      "|    10    | 0.0  |   36  |\n",
      "+----------+------+-------+\n",
      "[1 rows x 3 columns]\n",
      "\n",
      "\n",
      "Per Item RMSE (worst)\n",
      "+----------+------+-------+\n",
      "| prodcat2 | rmse | count |\n",
      "+----------+------+-------+\n",
      "|   144    | 0.0  |   11  |\n",
      "+----------+------+-------+\n",
      "[1 rows x 3 columns]\n",
      "\n",
      "PROGRESS: Evaluate model Cosine Similarity on Purchase Dummy\n"
     ]
    },
    {
     "data": {
      "text/html": [
       "<pre>recommendations finished on 1000/14742 queries. users per second: 27965</pre>"
      ],
      "text/plain": [
       "recommendations finished on 1000/14742 queries. users per second: 27965"
      ]
     },
     "metadata": {},
     "output_type": "display_data"
    },
    {
     "data": {
      "text/html": [
       "<pre>recommendations finished on 2000/14742 queries. users per second: 30637.7</pre>"
      ],
      "text/plain": [
       "recommendations finished on 2000/14742 queries. users per second: 30637.7"
      ]
     },
     "metadata": {},
     "output_type": "display_data"
    },
    {
     "data": {
      "text/html": [
       "<pre>recommendations finished on 3000/14742 queries. users per second: 32173</pre>"
      ],
      "text/plain": [
       "recommendations finished on 3000/14742 queries. users per second: 32173"
      ]
     },
     "metadata": {},
     "output_type": "display_data"
    },
    {
     "data": {
      "text/html": [
       "<pre>recommendations finished on 4000/14742 queries. users per second: 32990</pre>"
      ],
      "text/plain": [
       "recommendations finished on 4000/14742 queries. users per second: 32990"
      ]
     },
     "metadata": {},
     "output_type": "display_data"
    },
    {
     "data": {
      "text/html": [
       "<pre>recommendations finished on 5000/14742 queries. users per second: 35812.5</pre>"
      ],
      "text/plain": [
       "recommendations finished on 5000/14742 queries. users per second: 35812.5"
      ]
     },
     "metadata": {},
     "output_type": "display_data"
    },
    {
     "data": {
      "text/html": [
       "<pre>recommendations finished on 6000/14742 queries. users per second: 36307.7</pre>"
      ],
      "text/plain": [
       "recommendations finished on 6000/14742 queries. users per second: 36307.7"
      ]
     },
     "metadata": {},
     "output_type": "display_data"
    },
    {
     "data": {
      "text/html": [
       "<pre>recommendations finished on 7000/14742 queries. users per second: 35614</pre>"
      ],
      "text/plain": [
       "recommendations finished on 7000/14742 queries. users per second: 35614"
      ]
     },
     "metadata": {},
     "output_type": "display_data"
    },
    {
     "data": {
      "text/html": [
       "<pre>recommendations finished on 8000/14742 queries. users per second: 35530.6</pre>"
      ],
      "text/plain": [
       "recommendations finished on 8000/14742 queries. users per second: 35530.6"
      ]
     },
     "metadata": {},
     "output_type": "display_data"
    },
    {
     "data": {
      "text/html": [
       "<pre>recommendations finished on 9000/14742 queries. users per second: 37471.6</pre>"
      ],
      "text/plain": [
       "recommendations finished on 9000/14742 queries. users per second: 37471.6"
      ]
     },
     "metadata": {},
     "output_type": "display_data"
    },
    {
     "data": {
      "text/html": [
       "<pre>recommendations finished on 10000/14742 queries. users per second: 37760.8</pre>"
      ],
      "text/plain": [
       "recommendations finished on 10000/14742 queries. users per second: 37760.8"
      ]
     },
     "metadata": {},
     "output_type": "display_data"
    },
    {
     "data": {
      "text/html": [
       "<pre>recommendations finished on 11000/14742 queries. users per second: 38371.2</pre>"
      ],
      "text/plain": [
       "recommendations finished on 11000/14742 queries. users per second: 38371.2"
      ]
     },
     "metadata": {},
     "output_type": "display_data"
    },
    {
     "data": {
      "text/html": [
       "<pre>recommendations finished on 12000/14742 queries. users per second: 37537.5</pre>"
      ],
      "text/plain": [
       "recommendations finished on 12000/14742 queries. users per second: 37537.5"
      ]
     },
     "metadata": {},
     "output_type": "display_data"
    },
    {
     "data": {
      "text/html": [
       "<pre>recommendations finished on 13000/14742 queries. users per second: 38574.4</pre>"
      ],
      "text/plain": [
       "recommendations finished on 13000/14742 queries. users per second: 38574.4"
      ]
     },
     "metadata": {},
     "output_type": "display_data"
    },
    {
     "data": {
      "text/html": [
       "<pre>recommendations finished on 14000/14742 queries. users per second: 38262.7</pre>"
      ],
      "text/plain": [
       "recommendations finished on 14000/14742 queries. users per second: 38262.7"
      ]
     },
     "metadata": {},
     "output_type": "display_data"
    },
    {
     "name": "stdout",
     "output_type": "stream",
     "text": [
      "\n",
      "Precision and recall summary statistics by cutoff\n",
      "+--------+---------------------+---------------------+\n",
      "| cutoff |    mean_precision   |     mean_recall     |\n",
      "+--------+---------------------+---------------------+\n",
      "|   1    | 0.29995929995930126 | 0.26568133267868743 |\n",
      "|   2    | 0.22510514177180785 |  0.3904055306833078 |\n",
      "|   3    | 0.19043096820874642 |  0.4939600547404766 |\n",
      "|   4    | 0.15761090761090749 |  0.5399116658375954 |\n",
      "|   5    | 0.13580246913580205 |  0.5794323205698872 |\n",
      "|   6    | 0.12147831592276033 |  0.6198709065772562 |\n",
      "|   7    | 0.10805860805860806 |  0.6389107732361703 |\n",
      "|   8    | 0.09745115995115995 |  0.6563633652258004 |\n",
      "|   9    | 0.08872608872608881 |  0.6701759146203604 |\n",
      "|   10   | 0.08194274860941576 |  0.6853551993763648 |\n",
      "+--------+---------------------+---------------------+\n",
      "[10 rows x 3 columns]\n",
      "\n",
      "\n",
      "Overall RMSE: 0.8502180374490728\n",
      "\n",
      "Per User RMSE (best)\n",
      "+--------+--------------------+-------+\n",
      "| custno |        rmse        | count |\n",
      "+--------+--------------------+-------+\n",
      "| 35404  | 0.3827933669090271 |   1   |\n",
      "+--------+--------------------+-------+\n",
      "[1 rows x 3 columns]\n",
      "\n",
      "\n",
      "Per User RMSE (worst)\n",
      "+--------+------+-------+\n",
      "| custno | rmse | count |\n",
      "+--------+------+-------+\n",
      "| 46583  | 1.0  |   1   |\n",
      "+--------+------+-------+\n",
      "[1 rows x 3 columns]\n",
      "\n",
      "\n",
      "Per Item RMSE (best)\n",
      "+----------+--------------------+-------+\n",
      "| prodcat2 |        rmse        | count |\n",
      "+----------+--------------------+-------+\n",
      "|   186    | 0.5020820628154979 |   2   |\n",
      "+----------+--------------------+-------+\n",
      "[1 rows x 3 columns]\n",
      "\n",
      "\n",
      "Per Item RMSE (worst)\n",
      "+----------+------+-------+\n",
      "| prodcat2 | rmse | count |\n",
      "+----------+------+-------+\n",
      "|   263    | 1.0  |   1   |\n",
      "+----------+------+-------+\n",
      "[1 rows x 3 columns]\n",
      "\n",
      "PROGRESS: Evaluate model Pearson Similarity on Purchase Dummy\n"
     ]
    },
    {
     "data": {
      "text/html": [
       "<pre>recommendations finished on 1000/14742 queries. users per second: 32342.6</pre>"
      ],
      "text/plain": [
       "recommendations finished on 1000/14742 queries. users per second: 32342.6"
      ]
     },
     "metadata": {},
     "output_type": "display_data"
    },
    {
     "data": {
      "text/html": [
       "<pre>recommendations finished on 2000/14742 queries. users per second: 44905.5</pre>"
      ],
      "text/plain": [
       "recommendations finished on 2000/14742 queries. users per second: 44905.5"
      ]
     },
     "metadata": {},
     "output_type": "display_data"
    },
    {
     "data": {
      "text/html": [
       "<pre>recommendations finished on 3000/14742 queries. users per second: 50410.8</pre>"
      ],
      "text/plain": [
       "recommendations finished on 3000/14742 queries. users per second: 50410.8"
      ]
     },
     "metadata": {},
     "output_type": "display_data"
    },
    {
     "data": {
      "text/html": [
       "<pre>recommendations finished on 4000/14742 queries. users per second: 50121.5</pre>"
      ],
      "text/plain": [
       "recommendations finished on 4000/14742 queries. users per second: 50121.5"
      ]
     },
     "metadata": {},
     "output_type": "display_data"
    },
    {
     "data": {
      "text/html": [
       "<pre>recommendations finished on 5000/14742 queries. users per second: 50083.6</pre>"
      ],
      "text/plain": [
       "recommendations finished on 5000/14742 queries. users per second: 50083.6"
      ]
     },
     "metadata": {},
     "output_type": "display_data"
    },
    {
     "data": {
      "text/html": [
       "<pre>recommendations finished on 6000/14742 queries. users per second: 50270.6</pre>"
      ],
      "text/plain": [
       "recommendations finished on 6000/14742 queries. users per second: 50270.6"
      ]
     },
     "metadata": {},
     "output_type": "display_data"
    },
    {
     "data": {
      "text/html": [
       "<pre>recommendations finished on 7000/14742 queries. users per second: 52360.7</pre>"
      ],
      "text/plain": [
       "recommendations finished on 7000/14742 queries. users per second: 52360.7"
      ]
     },
     "metadata": {},
     "output_type": "display_data"
    },
    {
     "data": {
      "text/html": [
       "<pre>recommendations finished on 8000/14742 queries. users per second: 54371.5</pre>"
      ],
      "text/plain": [
       "recommendations finished on 8000/14742 queries. users per second: 54371.5"
      ]
     },
     "metadata": {},
     "output_type": "display_data"
    },
    {
     "data": {
      "text/html": [
       "<pre>recommendations finished on 9000/14742 queries. users per second: 56187.8</pre>"
      ],
      "text/plain": [
       "recommendations finished on 9000/14742 queries. users per second: 56187.8"
      ]
     },
     "metadata": {},
     "output_type": "display_data"
    },
    {
     "data": {
      "text/html": [
       "<pre>recommendations finished on 10000/14742 queries. users per second: 56568.4</pre>"
      ],
      "text/plain": [
       "recommendations finished on 10000/14742 queries. users per second: 56568.4"
      ]
     },
     "metadata": {},
     "output_type": "display_data"
    },
    {
     "data": {
      "text/html": [
       "<pre>recommendations finished on 11000/14742 queries. users per second: 57391.5</pre>"
      ],
      "text/plain": [
       "recommendations finished on 11000/14742 queries. users per second: 57391.5"
      ]
     },
     "metadata": {},
     "output_type": "display_data"
    },
    {
     "data": {
      "text/html": [
       "<pre>recommendations finished on 12000/14742 queries. users per second: 50900.9</pre>"
      ],
      "text/plain": [
       "recommendations finished on 12000/14742 queries. users per second: 50900.9"
      ]
     },
     "metadata": {},
     "output_type": "display_data"
    },
    {
     "data": {
      "text/html": [
       "<pre>recommendations finished on 13000/14742 queries. users per second: 48650.5</pre>"
      ],
      "text/plain": [
       "recommendations finished on 13000/14742 queries. users per second: 48650.5"
      ]
     },
     "metadata": {},
     "output_type": "display_data"
    },
    {
     "data": {
      "text/html": [
       "<pre>recommendations finished on 14000/14742 queries. users per second: 49139</pre>"
      ],
      "text/plain": [
       "recommendations finished on 14000/14742 queries. users per second: 49139"
      ]
     },
     "metadata": {},
     "output_type": "display_data"
    },
    {
     "name": "stdout",
     "output_type": "stream",
     "text": [
      "\n",
      "Precision and recall summary statistics by cutoff\n",
      "+--------+-----------------------+-----------------------+\n",
      "| cutoff |     mean_precision    |      mean_recall      |\n",
      "+--------+-----------------------+-----------------------+\n",
      "|   1    | 0.0029846696513363058 | 0.0020548675310580007 |\n",
      "|   2    |  0.04490571157237817  |  0.07012347832453644  |\n",
      "|   3    |  0.09356487134264924  |  0.24039285229761512  |\n",
      "|   4    |   0.078907203907204   |   0.2661663953330629  |\n",
      "|   5    |  0.06914936914936881  |   0.2902589351663432  |\n",
      "|   6    |   0.0694387916610139  |   0.3531361104112438  |\n",
      "|   7    |  0.06563366087175591  |  0.38757870827976765  |\n",
      "|   8    |  0.05967643467643487  |   0.4006499085864186  |\n",
      "|   9    |  0.05535959239662941  |   0.4151536857224695  |\n",
      "|   10   |  0.05583367250033924  |   0.4660742280451274  |\n",
      "+--------+-----------------------+-----------------------+\n",
      "[10 rows x 3 columns]\n",
      "\n",
      "\n",
      "Overall RMSE: 1.0\n",
      "\n",
      "Per User RMSE (best)\n",
      "+--------+------+-------+\n",
      "| custno | rmse | count |\n",
      "+--------+------+-------+\n",
      "| 19555  | 1.0  |   1   |\n",
      "+--------+------+-------+\n",
      "[1 rows x 3 columns]\n",
      "\n",
      "\n",
      "Per User RMSE (worst)\n",
      "+--------+------+-------+\n",
      "| custno | rmse | count |\n",
      "+--------+------+-------+\n",
      "| 18653  | 1.0  |   1   |\n",
      "+--------+------+-------+\n",
      "[1 rows x 3 columns]\n",
      "\n",
      "\n",
      "Per Item RMSE (best)\n",
      "+----------+------+-------+\n",
      "| prodcat2 | rmse | count |\n",
      "+----------+------+-------+\n",
      "|    10    | 1.0  |   36  |\n",
      "+----------+------+-------+\n",
      "[1 rows x 3 columns]\n",
      "\n",
      "\n",
      "Per Item RMSE (worst)\n",
      "+----------+------+-------+\n",
      "| prodcat2 | rmse | count |\n",
      "+----------+------+-------+\n",
      "|   144    | 1.0  |   11  |\n",
      "+----------+------+-------+\n",
      "[1 rows x 3 columns]\n",
      "\n",
      "PROGRESS: Evaluate model Popularity Model on Scaled Purchase Counts\n"
     ]
    },
    {
     "data": {
      "text/html": [
       "<pre>recommendations finished on 1000/14646 queries. users per second: 27185</pre>"
      ],
      "text/plain": [
       "recommendations finished on 1000/14646 queries. users per second: 27185"
      ]
     },
     "metadata": {},
     "output_type": "display_data"
    },
    {
     "data": {
      "text/html": [
       "<pre>recommendations finished on 2000/14646 queries. users per second: 38635.4</pre>"
      ],
      "text/plain": [
       "recommendations finished on 2000/14646 queries. users per second: 38635.4"
      ]
     },
     "metadata": {},
     "output_type": "display_data"
    },
    {
     "data": {
      "text/html": [
       "<pre>recommendations finished on 3000/14646 queries. users per second: 44482.7</pre>"
      ],
      "text/plain": [
       "recommendations finished on 3000/14646 queries. users per second: 44482.7"
      ]
     },
     "metadata": {},
     "output_type": "display_data"
    },
    {
     "data": {
      "text/html": [
       "<pre>recommendations finished on 4000/14646 queries. users per second: 44686.2</pre>"
      ],
      "text/plain": [
       "recommendations finished on 4000/14646 queries. users per second: 44686.2"
      ]
     },
     "metadata": {},
     "output_type": "display_data"
    },
    {
     "data": {
      "text/html": [
       "<pre>recommendations finished on 5000/14646 queries. users per second: 42068.8</pre>"
      ],
      "text/plain": [
       "recommendations finished on 5000/14646 queries. users per second: 42068.8"
      ]
     },
     "metadata": {},
     "output_type": "display_data"
    },
    {
     "data": {
      "text/html": [
       "<pre>recommendations finished on 6000/14646 queries. users per second: 43428.9</pre>"
      ],
      "text/plain": [
       "recommendations finished on 6000/14646 queries. users per second: 43428.9"
      ]
     },
     "metadata": {},
     "output_type": "display_data"
    },
    {
     "data": {
      "text/html": [
       "<pre>recommendations finished on 7000/14646 queries. users per second: 45942</pre>"
      ],
      "text/plain": [
       "recommendations finished on 7000/14646 queries. users per second: 45942"
      ]
     },
     "metadata": {},
     "output_type": "display_data"
    },
    {
     "data": {
      "text/html": [
       "<pre>recommendations finished on 8000/14646 queries. users per second: 44014.3</pre>"
      ],
      "text/plain": [
       "recommendations finished on 8000/14646 queries. users per second: 44014.3"
      ]
     },
     "metadata": {},
     "output_type": "display_data"
    },
    {
     "data": {
      "text/html": [
       "<pre>recommendations finished on 9000/14646 queries. users per second: 46244.4</pre>"
      ],
      "text/plain": [
       "recommendations finished on 9000/14646 queries. users per second: 46244.4"
      ]
     },
     "metadata": {},
     "output_type": "display_data"
    },
    {
     "data": {
      "text/html": [
       "<pre>recommendations finished on 10000/14646 queries. users per second: 48641.9</pre>"
      ],
      "text/plain": [
       "recommendations finished on 10000/14646 queries. users per second: 48641.9"
      ]
     },
     "metadata": {},
     "output_type": "display_data"
    },
    {
     "data": {
      "text/html": [
       "<pre>recommendations finished on 11000/14646 queries. users per second: 48668.3</pre>"
      ],
      "text/plain": [
       "recommendations finished on 11000/14646 queries. users per second: 48668.3"
      ]
     },
     "metadata": {},
     "output_type": "display_data"
    },
    {
     "data": {
      "text/html": [
       "<pre>recommendations finished on 12000/14646 queries. users per second: 47353.3</pre>"
      ],
      "text/plain": [
       "recommendations finished on 12000/14646 queries. users per second: 47353.3"
      ]
     },
     "metadata": {},
     "output_type": "display_data"
    },
    {
     "data": {
      "text/html": [
       "<pre>recommendations finished on 13000/14646 queries. users per second: 47511.3</pre>"
      ],
      "text/plain": [
       "recommendations finished on 13000/14646 queries. users per second: 47511.3"
      ]
     },
     "metadata": {},
     "output_type": "display_data"
    },
    {
     "data": {
      "text/html": [
       "<pre>recommendations finished on 14000/14646 queries. users per second: 47037.3</pre>"
      ],
      "text/plain": [
       "recommendations finished on 14000/14646 queries. users per second: 47037.3"
      ]
     },
     "metadata": {},
     "output_type": "display_data"
    },
    {
     "name": "stdout",
     "output_type": "stream",
     "text": [
      "\n",
      "Precision and recall summary statistics by cutoff\n",
      "+--------+------------------------+------------------------+\n",
      "| cutoff |     mean_precision     |      mean_recall       |\n",
      "+--------+------------------------+------------------------+\n",
      "|   1    | 6.827802813054738e-05  | 6.827802813054738e-05  |\n",
      "|   2    | 3.413901406527369e-05  | 6.827802813054738e-05  |\n",
      "|   3    | 2.2759342710182312e-05 | 6.827802813054738e-05  |\n",
      "|   4    | 1.7069507032636846e-05 | 6.827802813054738e-05  |\n",
      "|   5    | 2.7311211252219077e-05 | 9.103737084072959e-05  |\n",
      "|   6    | 3.413901406527368e-05  | 0.00015931539897127747 |\n",
      "|   7    | 2.9262012055949174e-05 | 0.00015931539897127747 |\n",
      "|   8    | 2.5604260548955367e-05 | 0.00015931539897127747 |\n",
      "|   9    | 4.5518685420364895e-05 | 0.0003186307979425551  |\n",
      "|   10   |  4.09668168783287e-05  | 0.0003186307979425552  |\n",
      "+--------+------------------------+------------------------+\n",
      "[10 rows x 3 columns]\n",
      "\n",
      "\n",
      "Overall RMSE: 0.06511601938700533\n",
      "\n",
      "Per User RMSE (best)\n",
      "+--------+------+-------+\n",
      "| custno | rmse | count |\n",
      "+--------+------+-------+\n",
      "|  9315  | 0.0  |   1   |\n",
      "+--------+------+-------+\n",
      "[1 rows x 3 columns]\n",
      "\n",
      "\n",
      "Per User RMSE (worst)\n",
      "+--------+------+-------+\n",
      "| custno | rmse | count |\n",
      "+--------+------+-------+\n",
      "|  1109  | 1.0  |   1   |\n",
      "+--------+------+-------+\n",
      "[1 rows x 3 columns]\n",
      "\n",
      "\n",
      "Per Item RMSE (best)\n",
      "+----------+---------------------+-------+\n",
      "| prodcat2 |         rmse        | count |\n",
      "+----------+---------------------+-------+\n",
      "|    3     | 0.00832797657930756 |  2416 |\n",
      "+----------+---------------------+-------+\n",
      "[1 rows x 3 columns]\n",
      "\n",
      "\n",
      "Per Item RMSE (worst)\n",
      "+----------+------+-------+\n",
      "| prodcat2 | rmse | count |\n",
      "+----------+------+-------+\n",
      "|   221    | 1.0  |   1   |\n",
      "+----------+------+-------+\n",
      "[1 rows x 3 columns]\n",
      "\n",
      "PROGRESS: Evaluate model Cosine Similarity on Scaled Purchase Counts\n"
     ]
    },
    {
     "data": {
      "text/html": [
       "<pre>recommendations finished on 1000/14646 queries. users per second: 24974.4</pre>"
      ],
      "text/plain": [
       "recommendations finished on 1000/14646 queries. users per second: 24974.4"
      ]
     },
     "metadata": {},
     "output_type": "display_data"
    },
    {
     "data": {
      "text/html": [
       "<pre>recommendations finished on 2000/14646 queries. users per second: 34878.4</pre>"
      ],
      "text/plain": [
       "recommendations finished on 2000/14646 queries. users per second: 34878.4"
      ]
     },
     "metadata": {},
     "output_type": "display_data"
    },
    {
     "data": {
      "text/html": [
       "<pre>recommendations finished on 3000/14646 queries. users per second: 41895.9</pre>"
      ],
      "text/plain": [
       "recommendations finished on 3000/14646 queries. users per second: 41895.9"
      ]
     },
     "metadata": {},
     "output_type": "display_data"
    },
    {
     "data": {
      "text/html": [
       "<pre>recommendations finished on 4000/14646 queries. users per second: 46244.9</pre>"
      ],
      "text/plain": [
       "recommendations finished on 4000/14646 queries. users per second: 46244.9"
      ]
     },
     "metadata": {},
     "output_type": "display_data"
    },
    {
     "data": {
      "text/html": [
       "<pre>recommendations finished on 5000/14646 queries. users per second: 48989.8</pre>"
      ],
      "text/plain": [
       "recommendations finished on 5000/14646 queries. users per second: 48989.8"
      ]
     },
     "metadata": {},
     "output_type": "display_data"
    },
    {
     "data": {
      "text/html": [
       "<pre>recommendations finished on 6000/14646 queries. users per second: 51569.4</pre>"
      ],
      "text/plain": [
       "recommendations finished on 6000/14646 queries. users per second: 51569.4"
      ]
     },
     "metadata": {},
     "output_type": "display_data"
    },
    {
     "data": {
      "text/html": [
       "<pre>recommendations finished on 7000/14646 queries. users per second: 51883.4</pre>"
      ],
      "text/plain": [
       "recommendations finished on 7000/14646 queries. users per second: 51883.4"
      ]
     },
     "metadata": {},
     "output_type": "display_data"
    },
    {
     "data": {
      "text/html": [
       "<pre>recommendations finished on 8000/14646 queries. users per second: 48273</pre>"
      ],
      "text/plain": [
       "recommendations finished on 8000/14646 queries. users per second: 48273"
      ]
     },
     "metadata": {},
     "output_type": "display_data"
    },
    {
     "data": {
      "text/html": [
       "<pre>recommendations finished on 9000/14646 queries. users per second: 44637.3</pre>"
      ],
      "text/plain": [
       "recommendations finished on 9000/14646 queries. users per second: 44637.3"
      ]
     },
     "metadata": {},
     "output_type": "display_data"
    },
    {
     "data": {
      "text/html": [
       "<pre>recommendations finished on 10000/14646 queries. users per second: 46057.9</pre>"
      ],
      "text/plain": [
       "recommendations finished on 10000/14646 queries. users per second: 46057.9"
      ]
     },
     "metadata": {},
     "output_type": "display_data"
    },
    {
     "data": {
      "text/html": [
       "<pre>recommendations finished on 11000/14646 queries. users per second: 47406.6</pre>"
      ],
      "text/plain": [
       "recommendations finished on 11000/14646 queries. users per second: 47406.6"
      ]
     },
     "metadata": {},
     "output_type": "display_data"
    },
    {
     "data": {
      "text/html": [
       "<pre>recommendations finished on 12000/14646 queries. users per second: 44436.4</pre>"
      ],
      "text/plain": [
       "recommendations finished on 12000/14646 queries. users per second: 44436.4"
      ]
     },
     "metadata": {},
     "output_type": "display_data"
    },
    {
     "data": {
      "text/html": [
       "<pre>recommendations finished on 13000/14646 queries. users per second: 45214.7</pre>"
      ],
      "text/plain": [
       "recommendations finished on 13000/14646 queries. users per second: 45214.7"
      ]
     },
     "metadata": {},
     "output_type": "display_data"
    },
    {
     "data": {
      "text/html": [
       "<pre>recommendations finished on 14000/14646 queries. users per second: 46274.9</pre>"
      ],
      "text/plain": [
       "recommendations finished on 14000/14646 queries. users per second: 46274.9"
      ]
     },
     "metadata": {},
     "output_type": "display_data"
    },
    {
     "name": "stdout",
     "output_type": "stream",
     "text": [
      "\n",
      "Precision and recall summary statistics by cutoff\n",
      "+--------+----------------------+---------------------+\n",
      "| cutoff |    mean_precision    |     mean_recall     |\n",
      "+--------+----------------------+---------------------+\n",
      "|   1    | 0.05400792025126306  | 0.03497479673739399 |\n",
      "|   2    | 0.04834084391642743  | 0.06470516355297176 |\n",
      "|   3    | 0.04183167190131541  |  0.0845638551291969 |\n",
      "|   4    | 0.061160043697937545 | 0.18901999895957278 |\n",
      "|   5    | 0.05327051754745349  | 0.20280422196645048 |\n",
      "|   6    | 0.04813600983203584  | 0.21862947031423108 |\n",
      "|   7    | 0.04438071828485579  | 0.23441600068494695 |\n",
      "|   8    | 0.043467499658609556 |  0.2651590227788529 |\n",
      "|   9    | 0.04090612529776813  | 0.28003054628925195 |\n",
      "|   10   | 0.03969684555510034  | 0.30359128880738806 |\n",
      "+--------+----------------------+---------------------+\n",
      "[10 rows x 3 columns]\n",
      "\n",
      "\n",
      "Overall RMSE: 0.06509654507704958\n",
      "\n",
      "Per User RMSE (best)\n",
      "+--------+------+-------+\n",
      "| custno | rmse | count |\n",
      "+--------+------+-------+\n",
      "| 19555  | 0.0  |   1   |\n",
      "+--------+------+-------+\n",
      "[1 rows x 3 columns]\n",
      "\n",
      "\n",
      "Per User RMSE (worst)\n",
      "+--------+------+-------+\n",
      "| custno | rmse | count |\n",
      "+--------+------+-------+\n",
      "|  8280  | 1.0  |   1   |\n",
      "+--------+------+-------+\n",
      "[1 rows x 3 columns]\n",
      "\n",
      "\n",
      "Per Item RMSE (best)\n",
      "+----------+------+-------+\n",
      "| prodcat2 | rmse | count |\n",
      "+----------+------+-------+\n",
      "|   189    | 0.0  |   1   |\n",
      "+----------+------+-------+\n",
      "[1 rows x 3 columns]\n",
      "\n",
      "\n",
      "Per Item RMSE (worst)\n",
      "+----------+------+-------+\n",
      "| prodcat2 | rmse | count |\n",
      "+----------+------+-------+\n",
      "|   221    | 1.0  |   1   |\n",
      "+----------+------+-------+\n",
      "[1 rows x 3 columns]\n",
      "\n",
      "PROGRESS: Evaluate model Pearson Similarity on Scaled Purchase Counts\n"
     ]
    },
    {
     "data": {
      "text/html": [
       "<pre>recommendations finished on 1000/14646 queries. users per second: 20325.2</pre>"
      ],
      "text/plain": [
       "recommendations finished on 1000/14646 queries. users per second: 20325.2"
      ]
     },
     "metadata": {},
     "output_type": "display_data"
    },
    {
     "data": {
      "text/html": [
       "<pre>recommendations finished on 2000/14646 queries. users per second: 24893.9</pre>"
      ],
      "text/plain": [
       "recommendations finished on 2000/14646 queries. users per second: 24893.9"
      ]
     },
     "metadata": {},
     "output_type": "display_data"
    },
    {
     "data": {
      "text/html": [
       "<pre>recommendations finished on 3000/14646 queries. users per second: 24467.2</pre>"
      ],
      "text/plain": [
       "recommendations finished on 3000/14646 queries. users per second: 24467.2"
      ]
     },
     "metadata": {},
     "output_type": "display_data"
    },
    {
     "data": {
      "text/html": [
       "<pre>recommendations finished on 4000/14646 queries. users per second: 26026.2</pre>"
      ],
      "text/plain": [
       "recommendations finished on 4000/14646 queries. users per second: 26026.2"
      ]
     },
     "metadata": {},
     "output_type": "display_data"
    },
    {
     "data": {
      "text/html": [
       "<pre>recommendations finished on 5000/14646 queries. users per second: 28726.4</pre>"
      ],
      "text/plain": [
       "recommendations finished on 5000/14646 queries. users per second: 28726.4"
      ]
     },
     "metadata": {},
     "output_type": "display_data"
    },
    {
     "data": {
      "text/html": [
       "<pre>recommendations finished on 6000/14646 queries. users per second: 28309.9</pre>"
      ],
      "text/plain": [
       "recommendations finished on 6000/14646 queries. users per second: 28309.9"
      ]
     },
     "metadata": {},
     "output_type": "display_data"
    },
    {
     "data": {
      "text/html": [
       "<pre>recommendations finished on 7000/14646 queries. users per second: 28354</pre>"
      ],
      "text/plain": [
       "recommendations finished on 7000/14646 queries. users per second: 28354"
      ]
     },
     "metadata": {},
     "output_type": "display_data"
    },
    {
     "data": {
      "text/html": [
       "<pre>recommendations finished on 8000/14646 queries. users per second: 30088.2</pre>"
      ],
      "text/plain": [
       "recommendations finished on 8000/14646 queries. users per second: 30088.2"
      ]
     },
     "metadata": {},
     "output_type": "display_data"
    },
    {
     "data": {
      "text/html": [
       "<pre>recommendations finished on 9000/14646 queries. users per second: 31058.7</pre>"
      ],
      "text/plain": [
       "recommendations finished on 9000/14646 queries. users per second: 31058.7"
      ]
     },
     "metadata": {},
     "output_type": "display_data"
    },
    {
     "data": {
      "text/html": [
       "<pre>recommendations finished on 10000/14646 queries. users per second: 32122.5</pre>"
      ],
      "text/plain": [
       "recommendations finished on 10000/14646 queries. users per second: 32122.5"
      ]
     },
     "metadata": {},
     "output_type": "display_data"
    },
    {
     "data": {
      "text/html": [
       "<pre>recommendations finished on 11000/14646 queries. users per second: 33444.3</pre>"
      ],
      "text/plain": [
       "recommendations finished on 11000/14646 queries. users per second: 33444.3"
      ]
     },
     "metadata": {},
     "output_type": "display_data"
    },
    {
     "data": {
      "text/html": [
       "<pre>recommendations finished on 12000/14646 queries. users per second: 32798.8</pre>"
      ],
      "text/plain": [
       "recommendations finished on 12000/14646 queries. users per second: 32798.8"
      ]
     },
     "metadata": {},
     "output_type": "display_data"
    },
    {
     "data": {
      "text/html": [
       "<pre>recommendations finished on 13000/14646 queries. users per second: 33908.9</pre>"
      ],
      "text/plain": [
       "recommendations finished on 13000/14646 queries. users per second: 33908.9"
      ]
     },
     "metadata": {},
     "output_type": "display_data"
    },
    {
     "data": {
      "text/html": [
       "<pre>recommendations finished on 14000/14646 queries. users per second: 33927.6</pre>"
      ],
      "text/plain": [
       "recommendations finished on 14000/14646 queries. users per second: 33927.6"
      ]
     },
     "metadata": {},
     "output_type": "display_data"
    },
    {
     "name": "stdout",
     "output_type": "stream",
     "text": [
      "\n",
      "Precision and recall summary statistics by cutoff\n",
      "+--------+------------------------+------------------------+\n",
      "| cutoff |     mean_precision     |      mean_recall       |\n",
      "+--------+------------------------+------------------------+\n",
      "|   1    | 6.827802813054765e-05  | 6.827802813054765e-05  |\n",
      "|   2    | 3.413901406527383e-05  | 6.827802813054765e-05  |\n",
      "|   3    | 2.2759342710182305e-05 | 6.827802813054765e-05  |\n",
      "|   4    | 1.7069507032636914e-05 | 6.827802813054765e-05  |\n",
      "|   5    | 2.731121125221913e-05  | 9.103737084072922e-05  |\n",
      "|   6    | 3.413901406527384e-05  | 0.00015931539897127883 |\n",
      "|   7    | 2.9262012055949187e-05 | 0.00015931539897127883 |\n",
      "|   8    | 2.5604260548955347e-05 | 0.00015931539897127883 |\n",
      "|   9    | 3.034579028024331e-05  |  0.000227593427101825  |\n",
      "|   10   | 4.0966816878328734e-05 | 0.00031863079794255733 |\n",
      "+--------+------------------------+------------------------+\n",
      "[10 rows x 3 columns]\n",
      "\n",
      "\n",
      "Overall RMSE: 0.06368751036707736\n",
      "\n",
      "Per User RMSE (best)\n",
      "+--------+------+-------+\n",
      "| custno | rmse | count |\n",
      "+--------+------+-------+\n",
      "|  9315  | 0.0  |   1   |\n",
      "+--------+------+-------+\n",
      "[1 rows x 3 columns]\n",
      "\n",
      "\n",
      "Per User RMSE (worst)\n",
      "+--------+------+-------+\n",
      "| custno | rmse | count |\n",
      "+--------+------+-------+\n",
      "|  1109  | 1.0  |   1   |\n",
      "+--------+------+-------+\n",
      "[1 rows x 3 columns]\n",
      "\n",
      "\n",
      "Per Item RMSE (best)\n",
      "+----------+-----------------------+-------+\n",
      "| prodcat2 |          rmse         | count |\n",
      "+----------+-----------------------+-------+\n",
      "|    3     | 0.0071036077899210796 |  2416 |\n",
      "+----------+-----------------------+-------+\n",
      "[1 rows x 3 columns]\n",
      "\n",
      "\n",
      "Per Item RMSE (worst)\n",
      "+----------+------+-------+\n",
      "| prodcat2 | rmse | count |\n",
      "+----------+------+-------+\n",
      "|   221    | 1.0  |   1   |\n",
      "+----------+------+-------+\n",
      "[1 rows x 3 columns]\n",
      "\n"
     ]
    }
   ],
   "source": [
    "models_w_counts = [popularity, cos, pear]\n",
    "models_w_dummy = [pop_dummy, cos_dummy, pear_dummy]\n",
    "models_w_norm = [pop_norm, cos_norm, pear_norm]\n",
    "names_w_counts = ['Popularity Model on Purchase Counts', 'Cosine Similarity on Purchase Counts', 'Pearson Similarity on Purchase Counts']\n",
    "names_w_dummy = ['Popularity Model on Purchase Dummy', 'Cosine Similarity on Purchase Dummy', 'Pearson Similarity on Purchase Dummy']\n",
    "names_w_norm = ['Popularity Model on Scaled Purchase Counts', 'Cosine Similarity on Scaled Purchase Counts', 'Pearson Similarity on Scaled Purchase Counts']\n",
    "\n",
    "eval_counts = tc.recommender.util.compare_models(test_count, models_w_counts, model_names=names_w_counts)\n",
    "eval_dummy = tc.recommender.util.compare_models(test_dummy, models_w_dummy, model_names=names_w_dummy)\n",
    "eval_norm = tc.recommender.util.compare_models(test_norm, models_w_norm, model_names=names_w_norm)"
   ]
  },
  {
   "cell_type": "code",
   "execution_count": null,
   "metadata": {},
   "outputs": [],
   "source": []
  },
  {
   "cell_type": "markdown",
   "metadata": {},
   "source": [
    "# Final Output"
   ]
  },
  {
   "cell_type": "code",
   "execution_count": 249,
   "metadata": {
    "scrolled": true
   },
   "outputs": [
    {
     "data": {
      "text/html": [
       "<pre>Warning: Ignoring columns prodcat2_count;</pre>"
      ],
      "text/plain": [
       "Warning: Ignoring columns prodcat2_count;"
      ]
     },
     "metadata": {},
     "output_type": "display_data"
    },
    {
     "data": {
      "text/html": [
       "<pre>    To use these columns in scoring predictions, use a model that allows the use of additional features.</pre>"
      ],
      "text/plain": [
       "    To use these columns in scoring predictions, use a model that allows the use of additional features."
      ]
     },
     "metadata": {},
     "output_type": "display_data"
    },
    {
     "data": {
      "text/html": [
       "<pre>Preparing data set.</pre>"
      ],
      "text/plain": [
       "Preparing data set."
      ]
     },
     "metadata": {},
     "output_type": "display_data"
    },
    {
     "data": {
      "text/html": [
       "<pre>    Data has 180697 observations with 68614 users and 251 items.</pre>"
      ],
      "text/plain": [
       "    Data has 180697 observations with 68614 users and 251 items."
      ]
     },
     "metadata": {},
     "output_type": "display_data"
    },
    {
     "data": {
      "text/html": [
       "<pre>    Data prepared in: 0.380379s</pre>"
      ],
      "text/plain": [
       "    Data prepared in: 0.380379s"
      ]
     },
     "metadata": {},
     "output_type": "display_data"
    },
    {
     "data": {
      "text/html": [
       "<pre>Training model from provided data.</pre>"
      ],
      "text/plain": [
       "Training model from provided data."
      ]
     },
     "metadata": {},
     "output_type": "display_data"
    },
    {
     "data": {
      "text/html": [
       "<pre>Gathering per-item and per-user statistics.</pre>"
      ],
      "text/plain": [
       "Gathering per-item and per-user statistics."
      ]
     },
     "metadata": {},
     "output_type": "display_data"
    },
    {
     "data": {
      "text/html": [
       "<pre>+--------------------------------+------------+</pre>"
      ],
      "text/plain": [
       "+--------------------------------+------------+"
      ]
     },
     "metadata": {},
     "output_type": "display_data"
    },
    {
     "data": {
      "text/html": [
       "<pre>| Elapsed Time (Item Statistics) | % Complete |</pre>"
      ],
      "text/plain": [
       "| Elapsed Time (Item Statistics) | % Complete |"
      ]
     },
     "metadata": {},
     "output_type": "display_data"
    },
    {
     "data": {
      "text/html": [
       "<pre>+--------------------------------+------------+</pre>"
      ],
      "text/plain": [
       "+--------------------------------+------------+"
      ]
     },
     "metadata": {},
     "output_type": "display_data"
    },
    {
     "data": {
      "text/html": [
       "<pre>| 2.45ms                         | 1.25       |</pre>"
      ],
      "text/plain": [
       "| 2.45ms                         | 1.25       |"
      ]
     },
     "metadata": {},
     "output_type": "display_data"
    },
    {
     "data": {
      "text/html": [
       "<pre>| 35.473ms                       | 100        |</pre>"
      ],
      "text/plain": [
       "| 35.473ms                       | 100        |"
      ]
     },
     "metadata": {},
     "output_type": "display_data"
    },
    {
     "data": {
      "text/html": [
       "<pre>+--------------------------------+------------+</pre>"
      ],
      "text/plain": [
       "+--------------------------------+------------+"
      ]
     },
     "metadata": {},
     "output_type": "display_data"
    },
    {
     "data": {
      "text/html": [
       "<pre>Setting up lookup tables.</pre>"
      ],
      "text/plain": [
       "Setting up lookup tables."
      ]
     },
     "metadata": {},
     "output_type": "display_data"
    },
    {
     "data": {
      "text/html": [
       "<pre>Processing data in one pass using dense lookup tables.</pre>"
      ],
      "text/plain": [
       "Processing data in one pass using dense lookup tables."
      ]
     },
     "metadata": {},
     "output_type": "display_data"
    },
    {
     "data": {
      "text/html": [
       "<pre>+-------------------------------------+------------------+-----------------+</pre>"
      ],
      "text/plain": [
       "+-------------------------------------+------------------+-----------------+"
      ]
     },
     "metadata": {},
     "output_type": "display_data"
    },
    {
     "data": {
      "text/html": [
       "<pre>| Elapsed Time (Constructing Lookups) | Total % Complete | Items Processed |</pre>"
      ],
      "text/plain": [
       "| Elapsed Time (Constructing Lookups) | Total % Complete | Items Processed |"
      ]
     },
     "metadata": {},
     "output_type": "display_data"
    },
    {
     "data": {
      "text/html": [
       "<pre>+-------------------------------------+------------------+-----------------+</pre>"
      ],
      "text/plain": [
       "+-------------------------------------+------------------+-----------------+"
      ]
     },
     "metadata": {},
     "output_type": "display_data"
    },
    {
     "data": {
      "text/html": [
       "<pre>| 36.738ms                            | 0                | 0               |</pre>"
      ],
      "text/plain": [
       "| 36.738ms                            | 0                | 0               |"
      ]
     },
     "metadata": {},
     "output_type": "display_data"
    },
    {
     "data": {
      "text/html": [
       "<pre>| 73.842ms                            | 100              | 251             |</pre>"
      ],
      "text/plain": [
       "| 73.842ms                            | 100              | 251             |"
      ]
     },
     "metadata": {},
     "output_type": "display_data"
    },
    {
     "data": {
      "text/html": [
       "<pre>+-------------------------------------+------------------+-----------------+</pre>"
      ],
      "text/plain": [
       "+-------------------------------------+------------------+-----------------+"
      ]
     },
     "metadata": {},
     "output_type": "display_data"
    },
    {
     "data": {
      "text/html": [
       "<pre>Finalizing lookup tables.</pre>"
      ],
      "text/plain": [
       "Finalizing lookup tables."
      ]
     },
     "metadata": {},
     "output_type": "display_data"
    },
    {
     "data": {
      "text/html": [
       "<pre>Generating candidate set for working with new users.</pre>"
      ],
      "text/plain": [
       "Generating candidate set for working with new users."
      ]
     },
     "metadata": {},
     "output_type": "display_data"
    },
    {
     "data": {
      "text/html": [
       "<pre>Finished training in 0.102359s</pre>"
      ],
      "text/plain": [
       "Finished training in 0.102359s"
      ]
     },
     "metadata": {},
     "output_type": "display_data"
    },
    {
     "data": {
      "text/html": [
       "<pre>recommendations finished on 1000/68614 queries. users per second: 37359.4</pre>"
      ],
      "text/plain": [
       "recommendations finished on 1000/68614 queries. users per second: 37359.4"
      ]
     },
     "metadata": {},
     "output_type": "display_data"
    },
    {
     "data": {
      "text/html": [
       "<pre>recommendations finished on 2000/68614 queries. users per second: 61117.2</pre>"
      ],
      "text/plain": [
       "recommendations finished on 2000/68614 queries. users per second: 61117.2"
      ]
     },
     "metadata": {},
     "output_type": "display_data"
    },
    {
     "data": {
      "text/html": [
       "<pre>recommendations finished on 3000/68614 queries. users per second: 77120.8</pre>"
      ],
      "text/plain": [
       "recommendations finished on 3000/68614 queries. users per second: 77120.8"
      ]
     },
     "metadata": {},
     "output_type": "display_data"
    },
    {
     "data": {
      "text/html": [
       "<pre>recommendations finished on 4000/68614 queries. users per second: 90322</pre>"
      ],
      "text/plain": [
       "recommendations finished on 4000/68614 queries. users per second: 90322"
      ]
     },
     "metadata": {},
     "output_type": "display_data"
    },
    {
     "data": {
      "text/html": [
       "<pre>recommendations finished on 5000/68614 queries. users per second: 93859.7</pre>"
      ],
      "text/plain": [
       "recommendations finished on 5000/68614 queries. users per second: 93859.7"
      ]
     },
     "metadata": {},
     "output_type": "display_data"
    },
    {
     "data": {
      "text/html": [
       "<pre>recommendations finished on 6000/68614 queries. users per second: 99423.3</pre>"
      ],
      "text/plain": [
       "recommendations finished on 6000/68614 queries. users per second: 99423.3"
      ]
     },
     "metadata": {},
     "output_type": "display_data"
    },
    {
     "data": {
      "text/html": [
       "<pre>recommendations finished on 7000/68614 queries. users per second: 102054</pre>"
      ],
      "text/plain": [
       "recommendations finished on 7000/68614 queries. users per second: 102054"
      ]
     },
     "metadata": {},
     "output_type": "display_data"
    },
    {
     "data": {
      "text/html": [
       "<pre>recommendations finished on 8000/68614 queries. users per second: 105633</pre>"
      ],
      "text/plain": [
       "recommendations finished on 8000/68614 queries. users per second: 105633"
      ]
     },
     "metadata": {},
     "output_type": "display_data"
    },
    {
     "data": {
      "text/html": [
       "<pre>recommendations finished on 9000/68614 queries. users per second: 105375</pre>"
      ],
      "text/plain": [
       "recommendations finished on 9000/68614 queries. users per second: 105375"
      ]
     },
     "metadata": {},
     "output_type": "display_data"
    },
    {
     "data": {
      "text/html": [
       "<pre>recommendations finished on 10000/68614 queries. users per second: 108171</pre>"
      ],
      "text/plain": [
       "recommendations finished on 10000/68614 queries. users per second: 108171"
      ]
     },
     "metadata": {},
     "output_type": "display_data"
    },
    {
     "data": {
      "text/html": [
       "<pre>recommendations finished on 11000/68614 queries. users per second: 112245</pre>"
      ],
      "text/plain": [
       "recommendations finished on 11000/68614 queries. users per second: 112245"
      ]
     },
     "metadata": {},
     "output_type": "display_data"
    },
    {
     "data": {
      "text/html": [
       "<pre>recommendations finished on 12000/68614 queries. users per second: 111315</pre>"
      ],
      "text/plain": [
       "recommendations finished on 12000/68614 queries. users per second: 111315"
      ]
     },
     "metadata": {},
     "output_type": "display_data"
    },
    {
     "data": {
      "text/html": [
       "<pre>recommendations finished on 13000/68614 queries. users per second: 113681</pre>"
      ],
      "text/plain": [
       "recommendations finished on 13000/68614 queries. users per second: 113681"
      ]
     },
     "metadata": {},
     "output_type": "display_data"
    },
    {
     "data": {
      "text/html": [
       "<pre>recommendations finished on 14000/68614 queries. users per second: 111847</pre>"
      ],
      "text/plain": [
       "recommendations finished on 14000/68614 queries. users per second: 111847"
      ]
     },
     "metadata": {},
     "output_type": "display_data"
    },
    {
     "data": {
      "text/html": [
       "<pre>recommendations finished on 15000/68614 queries. users per second: 111707</pre>"
      ],
      "text/plain": [
       "recommendations finished on 15000/68614 queries. users per second: 111707"
      ]
     },
     "metadata": {},
     "output_type": "display_data"
    },
    {
     "data": {
      "text/html": [
       "<pre>recommendations finished on 16000/68614 queries. users per second: 110063</pre>"
      ],
      "text/plain": [
       "recommendations finished on 16000/68614 queries. users per second: 110063"
      ]
     },
     "metadata": {},
     "output_type": "display_data"
    },
    {
     "data": {
      "text/html": [
       "<pre>recommendations finished on 17000/68614 queries. users per second: 110566</pre>"
      ],
      "text/plain": [
       "recommendations finished on 17000/68614 queries. users per second: 110566"
      ]
     },
     "metadata": {},
     "output_type": "display_data"
    },
    {
     "data": {
      "text/html": [
       "<pre>recommendations finished on 18000/68614 queries. users per second: 108669</pre>"
      ],
      "text/plain": [
       "recommendations finished on 18000/68614 queries. users per second: 108669"
      ]
     },
     "metadata": {},
     "output_type": "display_data"
    },
    {
     "data": {
      "text/html": [
       "<pre>recommendations finished on 19000/68614 queries. users per second: 110181</pre>"
      ],
      "text/plain": [
       "recommendations finished on 19000/68614 queries. users per second: 110181"
      ]
     },
     "metadata": {},
     "output_type": "display_data"
    },
    {
     "data": {
      "text/html": [
       "<pre>recommendations finished on 20000/68614 queries. users per second: 111515</pre>"
      ],
      "text/plain": [
       "recommendations finished on 20000/68614 queries. users per second: 111515"
      ]
     },
     "metadata": {},
     "output_type": "display_data"
    },
    {
     "data": {
      "text/html": [
       "<pre>recommendations finished on 21000/68614 queries. users per second: 112792</pre>"
      ],
      "text/plain": [
       "recommendations finished on 21000/68614 queries. users per second: 112792"
      ]
     },
     "metadata": {},
     "output_type": "display_data"
    },
    {
     "data": {
      "text/html": [
       "<pre>recommendations finished on 22000/68614 queries. users per second: 111731</pre>"
      ],
      "text/plain": [
       "recommendations finished on 22000/68614 queries. users per second: 111731"
      ]
     },
     "metadata": {},
     "output_type": "display_data"
    },
    {
     "data": {
      "text/html": [
       "<pre>recommendations finished on 23000/68614 queries. users per second: 113435</pre>"
      ],
      "text/plain": [
       "recommendations finished on 23000/68614 queries. users per second: 113435"
      ]
     },
     "metadata": {},
     "output_type": "display_data"
    },
    {
     "data": {
      "text/html": [
       "<pre>recommendations finished on 24000/68614 queries. users per second: 113384</pre>"
      ],
      "text/plain": [
       "recommendations finished on 24000/68614 queries. users per second: 113384"
      ]
     },
     "metadata": {},
     "output_type": "display_data"
    },
    {
     "data": {
      "text/html": [
       "<pre>recommendations finished on 25000/68614 queries. users per second: 115268</pre>"
      ],
      "text/plain": [
       "recommendations finished on 25000/68614 queries. users per second: 115268"
      ]
     },
     "metadata": {},
     "output_type": "display_data"
    },
    {
     "data": {
      "text/html": [
       "<pre>recommendations finished on 26000/68614 queries. users per second: 116481</pre>"
      ],
      "text/plain": [
       "recommendations finished on 26000/68614 queries. users per second: 116481"
      ]
     },
     "metadata": {},
     "output_type": "display_data"
    },
    {
     "data": {
      "text/html": [
       "<pre>recommendations finished on 27000/68614 queries. users per second: 116264</pre>"
      ],
      "text/plain": [
       "recommendations finished on 27000/68614 queries. users per second: 116264"
      ]
     },
     "metadata": {},
     "output_type": "display_data"
    },
    {
     "data": {
      "text/html": [
       "<pre>recommendations finished on 28000/68614 queries. users per second: 114313</pre>"
      ],
      "text/plain": [
       "recommendations finished on 28000/68614 queries. users per second: 114313"
      ]
     },
     "metadata": {},
     "output_type": "display_data"
    },
    {
     "data": {
      "text/html": [
       "<pre>recommendations finished on 29000/68614 queries. users per second: 115416</pre>"
      ],
      "text/plain": [
       "recommendations finished on 29000/68614 queries. users per second: 115416"
      ]
     },
     "metadata": {},
     "output_type": "display_data"
    },
    {
     "data": {
      "text/html": [
       "<pre>recommendations finished on 30000/68614 queries. users per second: 115053</pre>"
      ],
      "text/plain": [
       "recommendations finished on 30000/68614 queries. users per second: 115053"
      ]
     },
     "metadata": {},
     "output_type": "display_data"
    },
    {
     "data": {
      "text/html": [
       "<pre>recommendations finished on 31000/68614 queries. users per second: 115985</pre>"
      ],
      "text/plain": [
       "recommendations finished on 31000/68614 queries. users per second: 115985"
      ]
     },
     "metadata": {},
     "output_type": "display_data"
    },
    {
     "data": {
      "text/html": [
       "<pre>recommendations finished on 32000/68614 queries. users per second: 116553</pre>"
      ],
      "text/plain": [
       "recommendations finished on 32000/68614 queries. users per second: 116553"
      ]
     },
     "metadata": {},
     "output_type": "display_data"
    },
    {
     "data": {
      "text/html": [
       "<pre>recommendations finished on 33000/68614 queries. users per second: 117949</pre>"
      ],
      "text/plain": [
       "recommendations finished on 33000/68614 queries. users per second: 117949"
      ]
     },
     "metadata": {},
     "output_type": "display_data"
    },
    {
     "data": {
      "text/html": [
       "<pre>recommendations finished on 34000/68614 queries. users per second: 118117</pre>"
      ],
      "text/plain": [
       "recommendations finished on 34000/68614 queries. users per second: 118117"
      ]
     },
     "metadata": {},
     "output_type": "display_data"
    },
    {
     "data": {
      "text/html": [
       "<pre>recommendations finished on 35000/68614 queries. users per second: 117387</pre>"
      ],
      "text/plain": [
       "recommendations finished on 35000/68614 queries. users per second: 117387"
      ]
     },
     "metadata": {},
     "output_type": "display_data"
    },
    {
     "data": {
      "text/html": [
       "<pre>recommendations finished on 36000/68614 queries. users per second: 117612</pre>"
      ],
      "text/plain": [
       "recommendations finished on 36000/68614 queries. users per second: 117612"
      ]
     },
     "metadata": {},
     "output_type": "display_data"
    },
    {
     "data": {
      "text/html": [
       "<pre>recommendations finished on 37000/68614 queries. users per second: 117858</pre>"
      ],
      "text/plain": [
       "recommendations finished on 37000/68614 queries. users per second: 117858"
      ]
     },
     "metadata": {},
     "output_type": "display_data"
    },
    {
     "data": {
      "text/html": [
       "<pre>recommendations finished on 38000/68614 queries. users per second: 118487</pre>"
      ],
      "text/plain": [
       "recommendations finished on 38000/68614 queries. users per second: 118487"
      ]
     },
     "metadata": {},
     "output_type": "display_data"
    },
    {
     "data": {
      "text/html": [
       "<pre>recommendations finished on 39000/68614 queries. users per second: 116648</pre>"
      ],
      "text/plain": [
       "recommendations finished on 39000/68614 queries. users per second: 116648"
      ]
     },
     "metadata": {},
     "output_type": "display_data"
    },
    {
     "data": {
      "text/html": [
       "<pre>recommendations finished on 40000/68614 queries. users per second: 117578</pre>"
      ],
      "text/plain": [
       "recommendations finished on 40000/68614 queries. users per second: 117578"
      ]
     },
     "metadata": {},
     "output_type": "display_data"
    },
    {
     "data": {
      "text/html": [
       "<pre>recommendations finished on 41000/68614 queries. users per second: 117760</pre>"
      ],
      "text/plain": [
       "recommendations finished on 41000/68614 queries. users per second: 117760"
      ]
     },
     "metadata": {},
     "output_type": "display_data"
    },
    {
     "data": {
      "text/html": [
       "<pre>recommendations finished on 42000/68614 queries. users per second: 118603</pre>"
      ],
      "text/plain": [
       "recommendations finished on 42000/68614 queries. users per second: 118603"
      ]
     },
     "metadata": {},
     "output_type": "display_data"
    },
    {
     "data": {
      "text/html": [
       "<pre>recommendations finished on 43000/68614 queries. users per second: 118116</pre>"
      ],
      "text/plain": [
       "recommendations finished on 43000/68614 queries. users per second: 118116"
      ]
     },
     "metadata": {},
     "output_type": "display_data"
    },
    {
     "data": {
      "text/html": [
       "<pre>recommendations finished on 44000/68614 queries. users per second: 119344</pre>"
      ],
      "text/plain": [
       "recommendations finished on 44000/68614 queries. users per second: 119344"
      ]
     },
     "metadata": {},
     "output_type": "display_data"
    },
    {
     "data": {
      "text/html": [
       "<pre>recommendations finished on 45000/68614 queries. users per second: 119868</pre>"
      ],
      "text/plain": [
       "recommendations finished on 45000/68614 queries. users per second: 119868"
      ]
     },
     "metadata": {},
     "output_type": "display_data"
    },
    {
     "data": {
      "text/html": [
       "<pre>recommendations finished on 46000/68614 queries. users per second: 121084</pre>"
      ],
      "text/plain": [
       "recommendations finished on 46000/68614 queries. users per second: 121084"
      ]
     },
     "metadata": {},
     "output_type": "display_data"
    },
    {
     "data": {
      "text/html": [
       "<pre>recommendations finished on 47000/68614 queries. users per second: 121594</pre>"
      ],
      "text/plain": [
       "recommendations finished on 47000/68614 queries. users per second: 121594"
      ]
     },
     "metadata": {},
     "output_type": "display_data"
    },
    {
     "data": {
      "text/html": [
       "<pre>recommendations finished on 48000/68614 queries. users per second: 122126</pre>"
      ],
      "text/plain": [
       "recommendations finished on 48000/68614 queries. users per second: 122126"
      ]
     },
     "metadata": {},
     "output_type": "display_data"
    },
    {
     "data": {
      "text/html": [
       "<pre>recommendations finished on 49000/68614 queries. users per second: 122939</pre>"
      ],
      "text/plain": [
       "recommendations finished on 49000/68614 queries. users per second: 122939"
      ]
     },
     "metadata": {},
     "output_type": "display_data"
    },
    {
     "data": {
      "text/html": [
       "<pre>recommendations finished on 50000/68614 queries. users per second: 124344</pre>"
      ],
      "text/plain": [
       "recommendations finished on 50000/68614 queries. users per second: 124344"
      ]
     },
     "metadata": {},
     "output_type": "display_data"
    },
    {
     "data": {
      "text/html": [
       "<pre>recommendations finished on 51000/68614 queries. users per second: 125137</pre>"
      ],
      "text/plain": [
       "recommendations finished on 51000/68614 queries. users per second: 125137"
      ]
     },
     "metadata": {},
     "output_type": "display_data"
    },
    {
     "data": {
      "text/html": [
       "<pre>recommendations finished on 52000/68614 queries. users per second: 124843</pre>"
      ],
      "text/plain": [
       "recommendations finished on 52000/68614 queries. users per second: 124843"
      ]
     },
     "metadata": {},
     "output_type": "display_data"
    },
    {
     "data": {
      "text/html": [
       "<pre>recommendations finished on 53000/68614 queries. users per second: 125145</pre>"
      ],
      "text/plain": [
       "recommendations finished on 53000/68614 queries. users per second: 125145"
      ]
     },
     "metadata": {},
     "output_type": "display_data"
    },
    {
     "data": {
      "text/html": [
       "<pre>recommendations finished on 54000/68614 queries. users per second: 125454</pre>"
      ],
      "text/plain": [
       "recommendations finished on 54000/68614 queries. users per second: 125454"
      ]
     },
     "metadata": {},
     "output_type": "display_data"
    },
    {
     "data": {
      "text/html": [
       "<pre>recommendations finished on 55000/68614 queries. users per second: 125012</pre>"
      ],
      "text/plain": [
       "recommendations finished on 55000/68614 queries. users per second: 125012"
      ]
     },
     "metadata": {},
     "output_type": "display_data"
    },
    {
     "data": {
      "text/html": [
       "<pre>recommendations finished on 56000/68614 queries. users per second: 123647</pre>"
      ],
      "text/plain": [
       "recommendations finished on 56000/68614 queries. users per second: 123647"
      ]
     },
     "metadata": {},
     "output_type": "display_data"
    },
    {
     "data": {
      "text/html": [
       "<pre>recommendations finished on 57000/68614 queries. users per second: 123738</pre>"
      ],
      "text/plain": [
       "recommendations finished on 57000/68614 queries. users per second: 123738"
      ]
     },
     "metadata": {},
     "output_type": "display_data"
    },
    {
     "data": {
      "text/html": [
       "<pre>recommendations finished on 58000/68614 queries. users per second: 122416</pre>"
      ],
      "text/plain": [
       "recommendations finished on 58000/68614 queries. users per second: 122416"
      ]
     },
     "metadata": {},
     "output_type": "display_data"
    },
    {
     "data": {
      "text/html": [
       "<pre>recommendations finished on 59000/68614 queries. users per second: 122784</pre>"
      ],
      "text/plain": [
       "recommendations finished on 59000/68614 queries. users per second: 122784"
      ]
     },
     "metadata": {},
     "output_type": "display_data"
    },
    {
     "data": {
      "text/html": [
       "<pre>recommendations finished on 60000/68614 queries. users per second: 123147</pre>"
      ],
      "text/plain": [
       "recommendations finished on 60000/68614 queries. users per second: 123147"
      ]
     },
     "metadata": {},
     "output_type": "display_data"
    },
    {
     "data": {
      "text/html": [
       "<pre>recommendations finished on 61000/68614 queries. users per second: 123698</pre>"
      ],
      "text/plain": [
       "recommendations finished on 61000/68614 queries. users per second: 123698"
      ]
     },
     "metadata": {},
     "output_type": "display_data"
    },
    {
     "data": {
      "text/html": [
       "<pre>recommendations finished on 62000/68614 queries. users per second: 124606</pre>"
      ],
      "text/plain": [
       "recommendations finished on 62000/68614 queries. users per second: 124606"
      ]
     },
     "metadata": {},
     "output_type": "display_data"
    },
    {
     "data": {
      "text/html": [
       "<pre>recommendations finished on 63000/68614 queries. users per second: 125110</pre>"
      ],
      "text/plain": [
       "recommendations finished on 63000/68614 queries. users per second: 125110"
      ]
     },
     "metadata": {},
     "output_type": "display_data"
    },
    {
     "data": {
      "text/html": [
       "<pre>recommendations finished on 64000/68614 queries. users per second: 125700</pre>"
      ],
      "text/plain": [
       "recommendations finished on 64000/68614 queries. users per second: 125700"
      ]
     },
     "metadata": {},
     "output_type": "display_data"
    },
    {
     "data": {
      "text/html": [
       "<pre>recommendations finished on 65000/68614 queries. users per second: 126387</pre>"
      ],
      "text/plain": [
       "recommendations finished on 65000/68614 queries. users per second: 126387"
      ]
     },
     "metadata": {},
     "output_type": "display_data"
    },
    {
     "data": {
      "text/html": [
       "<pre>recommendations finished on 66000/68614 queries. users per second: 126425</pre>"
      ],
      "text/plain": [
       "recommendations finished on 66000/68614 queries. users per second: 126425"
      ]
     },
     "metadata": {},
     "output_type": "display_data"
    },
    {
     "data": {
      "text/html": [
       "<pre>recommendations finished on 67000/68614 queries. users per second: 126711</pre>"
      ],
      "text/plain": [
       "recommendations finished on 67000/68614 queries. users per second: 126711"
      ]
     },
     "metadata": {},
     "output_type": "display_data"
    },
    {
     "data": {
      "text/html": [
       "<pre>recommendations finished on 68000/68614 queries. users per second: 126961</pre>"
      ],
      "text/plain": [
       "recommendations finished on 68000/68614 queries. users per second: 126961"
      ]
     },
     "metadata": {},
     "output_type": "display_data"
    },
    {
     "name": "stdout",
     "output_type": "stream",
     "text": [
      "+--------+----------+---------------------+------+\n",
      "| custno | prodcat2 |        score        | rank |\n",
      "+--------+----------+---------------------+------+\n",
      "| 67913  |    20    |  0.342897891998291  |  1   |\n",
      "| 67913  |    96    |  0.2847188711166382 |  2   |\n",
      "| 67913  |    9     | 0.19469118118286133 |  3   |\n",
      "| 67913  |    6     | 0.19293314218521118 |  4   |\n",
      "| 67913  |    39    |  0.1860530972480774 |  5   |\n",
      "| 67913  |   119    | 0.18227612972259521 |  6   |\n",
      "| 67913  |    27    | 0.18028682470321655 |  7   |\n",
      "| 67913  |    30    | 0.16972410678863525 |  8   |\n",
      "| 67913  |    45    | 0.16837674379348755 |  9   |\n",
      "| 67913  |    97    | 0.16720622777938843 |  10  |\n",
      "| 67913  |    25    | 0.16521817445755005 |  11  |\n",
      "| 67913  |    13    |  0.1650073528289795 |  12  |\n",
      "| 67913  |    28    | 0.15787804126739502 |  13  |\n",
      "| 67913  |    74    | 0.15575158596038818 |  14  |\n",
      "| 67913  |    89    | 0.15494000911712646 |  15  |\n",
      "| 10880  |    5     |  0.3061188906431198 |  1   |\n",
      "| 10880  |    2     | 0.17743141949176788 |  2   |\n",
      "| 10880  |    96    |  0.1758333444595337 |  3   |\n",
      "| 10880  |    9     | 0.16221123933792114 |  4   |\n",
      "| 10880  |    7     | 0.15464134514331818 |  5   |\n",
      "+--------+----------+---------------------+------+\n",
      "[1029210 rows x 4 columns]\n",
      "\n"
     ]
    }
   ],
   "source": [
    "final_model = tc.item_similarity_recommender.create(tc.SFrame(order_dummy), \n",
    "                                            user_id=user_id, \n",
    "                                            item_id=item_id, \n",
    "                                            target='purchase_dummy', similarity_type='cosine')\n",
    "recom = final_model.recommend(users=users_to_recommend, k=n_rec)\n",
    "recom.print_rows(n_display)"
   ]
  },
  {
   "cell_type": "code",
   "execution_count": 250,
   "metadata": {},
   "outputs": [
    {
     "name": "stdout",
     "output_type": "stream",
     "text": [
      "1029210\n",
      "1095419\n"
     ]
    }
   ],
   "source": [
    "# get recommendation in dataframe format\n",
    "df_recom = recom.to_dataframe()\n",
    "# map prodcat1 for prodcat2 categories\n",
    "# After merging, the count has increased because prodcat2 maps to two prodcat1 (i.e. 3 & 7). \n",
    "recom_1 = pd.merge(df_recom, prod_cat1_cat2, on = 'prodcat2', how = 'left')\n",
    "print (len(df_recom))\n",
    "print (len(recom_1))\n",
    "\n",
    "# get prodcat1 which occured majority of the times in recommendation and that will be the final recommendation\n",
    "result = recom_1.groupby(['custno', 'prodcat1']).prodcat1.count()\n",
    "result = result.reset_index(name = 'prodcat1_count')\n",
    "result_1 = result[result.groupby('custno')['prodcat1_count'].transform('max') == result['prodcat1_count']]"
   ]
  },
  {
   "cell_type": "code",
   "execution_count": 251,
   "metadata": {},
   "outputs": [
    {
     "name": "stdout",
     "output_type": "stream",
     "text": [
      "63914\n",
      "4700\n"
     ]
    }
   ],
   "source": [
    "recommendation = result_1.groupby(['custno']).agg({'prodcat1':'count'})\n",
    "recommendation.reset_index(inplace=True)\n",
    "recommendation.rename(columns={'prodcat1':'prodcat1_count'}, inplace=True)\n",
    "\n",
    "## Few users had same majority votes for more than one prodcat1\n",
    "recommendation_with_one_prodcat1 = recommendation[recommendation['prodcat1_count']==1]\n",
    "recommendation_more_prodcat1 = recommendation[recommendation['prodcat1_count']>1]\n",
    "\n",
    "print (len(recommendation_with_one_prodcat1))\n",
    "print (len(recommendation_more_prodcat1))"
   ]
  },
  {
   "cell_type": "code",
   "execution_count": 252,
   "metadata": {},
   "outputs": [],
   "source": [
    "# With customers more than one recommendation, get the prodcat1 with rank = 1\n",
    "\n",
    "df = recom_1[recom_1['custno'].isin(recommendation_more_prodcat1['custno'])]\n",
    "recommendation1 = df[['custno', 'prodcat1']][df['rank']==1]\n",
    "recommendation2 = result_1[['custno', 'prodcat1']][result_1['custno'].isin(recommendation_with_one_prodcat1['custno'])]"
   ]
  },
  {
   "cell_type": "code",
   "execution_count": 275,
   "metadata": {},
   "outputs": [
    {
     "data": {
      "text/html": [
       "<div>\n",
       "<style scoped>\n",
       "    .dataframe tbody tr th:only-of-type {\n",
       "        vertical-align: middle;\n",
       "    }\n",
       "\n",
       "    .dataframe tbody tr th {\n",
       "        vertical-align: top;\n",
       "    }\n",
       "\n",
       "    .dataframe thead th {\n",
       "        text-align: right;\n",
       "    }\n",
       "</style>\n",
       "<table border=\"1\" class=\"dataframe\">\n",
       "  <thead>\n",
       "    <tr style=\"text-align: right;\">\n",
       "      <th></th>\n",
       "      <th>custno</th>\n",
       "      <th>prodcat1</th>\n",
       "    </tr>\n",
       "  </thead>\n",
       "  <tbody>\n",
       "    <tr>\n",
       "      <th>335</th>\n",
       "      <td>27939</td>\n",
       "      <td>5</td>\n",
       "    </tr>\n",
       "    <tr>\n",
       "      <th>476</th>\n",
       "      <td>48358</td>\n",
       "      <td>5</td>\n",
       "    </tr>\n",
       "    <tr>\n",
       "      <th>555</th>\n",
       "      <td>30497</td>\n",
       "      <td>5</td>\n",
       "    </tr>\n",
       "    <tr>\n",
       "      <th>571</th>\n",
       "      <td>10702</td>\n",
       "      <td>3</td>\n",
       "    </tr>\n",
       "    <tr>\n",
       "      <th>572</th>\n",
       "      <td>10702</td>\n",
       "      <td>7</td>\n",
       "    </tr>\n",
       "  </tbody>\n",
       "</table>\n",
       "</div>"
      ],
      "text/plain": [
       "    custno  prodcat1\n",
       "335  27939         5\n",
       "476  48358         5\n",
       "555  30497         5\n",
       "571  10702         3\n",
       "572  10702         7"
      ]
     },
     "execution_count": 275,
     "metadata": {},
     "output_type": "execute_result"
    }
   ],
   "source": [
    "final_recommendation = recommendation1.append(recommendation2)\n",
    "final_recommendation.head()"
   ]
  },
  {
   "cell_type": "code",
   "execution_count": 276,
   "metadata": {},
   "outputs": [],
   "source": [
    "final_recommendation.to_csv('final_recommendation.csv', index = False)"
   ]
  },
  {
   "cell_type": "code",
   "execution_count": null,
   "metadata": {},
   "outputs": [],
   "source": []
  },
  {
   "cell_type": "code",
   "execution_count": null,
   "metadata": {},
   "outputs": [],
   "source": []
  },
  {
   "cell_type": "code",
   "execution_count": null,
   "metadata": {},
   "outputs": [],
   "source": []
  }
 ],
 "metadata": {
  "kernelspec": {
   "display_name": "Python 3",
   "language": "python",
   "name": "python3"
  },
  "language_info": {
   "codemirror_mode": {
    "name": "ipython",
    "version": 3
   },
   "file_extension": ".py",
   "mimetype": "text/x-python",
   "name": "python",
   "nbconvert_exporter": "python",
   "pygments_lexer": "ipython3",
   "version": "3.7.3"
  },
  "toc": {
   "base_numbering": 1,
   "nav_menu": {},
   "number_sections": true,
   "sideBar": true,
   "skip_h1_title": false,
   "title_cell": "Table of Contents",
   "title_sidebar": "Contents",
   "toc_cell": true,
   "toc_position": {},
   "toc_section_display": true,
   "toc_window_display": false
  }
 },
 "nbformat": 4,
 "nbformat_minor": 2
}
